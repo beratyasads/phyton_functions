{
  "nbformat": 4,
  "nbformat_minor": 0,
  "metadata": {
    "colab": {
      "name": "PHYTON Code Look Up.ipynb",
      "provenance": [],
      "collapsed_sections": [],
      "toc_visible": true,
      "include_colab_link": true
    },
    "kernelspec": {
      "display_name": "Python 3",
      "language": "python",
      "name": "python3"
    },
    "language_info": {
      "codemirror_mode": {
        "name": "ipython",
        "version": 3
      },
      "file_extension": ".py",
      "mimetype": "text/x-python",
      "name": "python",
      "nbconvert_exporter": "python",
      "pygments_lexer": "ipython3",
      "version": "3.7.6"
    }
  },
  "cells": [
    {
      "cell_type": "markdown",
      "metadata": {
        "id": "view-in-github",
        "colab_type": "text"
      },
      "source": [
        "<a href=\"https://colab.research.google.com/github/beratyasads/phyton_functions/blob/phyton/PHYTON_Code_Look_Up.ipynb\" target=\"_parent\"><img src=\"https://colab.research.google.com/assets/colab-badge.svg\" alt=\"Open In Colab\"/></a>"
      ]
    },
    {
      "cell_type": "code",
      "metadata": {
        "id": "wqg5l2Edoe_X"
      },
      "source": [
        "def sencron_colab():\n",
        "  from google.colab import drive\n",
        "  drive.mount('/content/gdrive')"
      ],
      "execution_count": null,
      "outputs": []
    },
    {
      "cell_type": "code",
      "metadata": {
        "id": "tGCWmhYjogbm",
        "colab": {
          "base_uri": "https://localhost:8080/"
        },
        "outputId": "0219d427-ec3f-421e-d951-d0a15894978e"
      },
      "source": [
        "sencron_colab()"
      ],
      "execution_count": null,
      "outputs": [
        {
          "output_type": "stream",
          "text": [
            "Mounted at /content/gdrive\n"
          ],
          "name": "stdout"
        }
      ]
    },
    {
      "cell_type": "code",
      "metadata": {
        "id": "H3F2mb4bmCX9"
      },
      "source": [
        "import numpy as np\n",
        "import pandas as pd"
      ],
      "execution_count": null,
      "outputs": []
    },
    {
      "cell_type": "markdown",
      "metadata": {
        "id": "Qw77rcWKmCYG"
      },
      "source": [
        "## MAP\n",
        "\n",
        "sadece series'lerle çalışır. bir fonksiyon ile o serinin değerini convert eder. df üzerinde çalışırken tek kolon (series) haline getirmek gerekir. "
      ]
    },
    {
      "cell_type": "code",
      "metadata": {
        "id": "u4mZmfYrmCYH"
      },
      "source": [
        "df[\"C\"]=df[\"A\"].map(lambda x:x+2)"
      ],
      "execution_count": null,
      "outputs": []
    },
    {
      "cell_type": "code",
      "metadata": {
        "id": "UOvjWMTpmCYL",
        "colab": {
          "base_uri": "https://localhost:8080/",
          "height": 142
        },
        "outputId": "44b98a49-56ca-4f88-e0e9-fc862fef3e04"
      },
      "source": [
        "df"
      ],
      "execution_count": null,
      "outputs": [
        {
          "output_type": "execute_result",
          "data": {
            "text/html": [
              "<div>\n",
              "<style scoped>\n",
              "    .dataframe tbody tr th:only-of-type {\n",
              "        vertical-align: middle;\n",
              "    }\n",
              "\n",
              "    .dataframe tbody tr th {\n",
              "        vertical-align: top;\n",
              "    }\n",
              "\n",
              "    .dataframe thead th {\n",
              "        text-align: right;\n",
              "    }\n",
              "</style>\n",
              "<table border=\"1\" class=\"dataframe\">\n",
              "  <thead>\n",
              "    <tr style=\"text-align: right;\">\n",
              "      <th></th>\n",
              "      <th>A</th>\n",
              "      <th>B</th>\n",
              "      <th>C</th>\n",
              "    </tr>\n",
              "  </thead>\n",
              "  <tbody>\n",
              "    <tr>\n",
              "      <th>0</th>\n",
              "      <td>1</td>\n",
              "      <td>2</td>\n",
              "      <td>3</td>\n",
              "    </tr>\n",
              "    <tr>\n",
              "      <th>1</th>\n",
              "      <td>6</td>\n",
              "      <td>7</td>\n",
              "      <td>8</td>\n",
              "    </tr>\n",
              "    <tr>\n",
              "      <th>2</th>\n",
              "      <td>4</td>\n",
              "      <td>2</td>\n",
              "      <td>6</td>\n",
              "    </tr>\n",
              "  </tbody>\n",
              "</table>\n",
              "</div>"
            ],
            "text/plain": [
              "   A  B  C\n",
              "0  1  2  3\n",
              "1  6  7  8\n",
              "2  4  2  6"
            ]
          },
          "metadata": {
            "tags": []
          },
          "execution_count": 4
        }
      ]
    },
    {
      "cell_type": "code",
      "metadata": {
        "id": "BiYyXRELmCYP"
      },
      "source": [
        "def sqr_value(x):\n",
        "    return x*x"
      ],
      "execution_count": null,
      "outputs": []
    },
    {
      "cell_type": "code",
      "metadata": {
        "id": "v8XtiSMamCYT"
      },
      "source": [
        "df[\"D\"]=df[\"A\"].map(sqr_value)"
      ],
      "execution_count": null,
      "outputs": []
    },
    {
      "cell_type": "code",
      "metadata": {
        "id": "my-5ESismCYW",
        "colab": {
          "base_uri": "https://localhost:8080/",
          "height": 142
        },
        "outputId": "aa573ce2-7257-4866-b1bc-dc0847f75ae3"
      },
      "source": [
        "df"
      ],
      "execution_count": null,
      "outputs": [
        {
          "output_type": "execute_result",
          "data": {
            "text/html": [
              "<div>\n",
              "<style scoped>\n",
              "    .dataframe tbody tr th:only-of-type {\n",
              "        vertical-align: middle;\n",
              "    }\n",
              "\n",
              "    .dataframe tbody tr th {\n",
              "        vertical-align: top;\n",
              "    }\n",
              "\n",
              "    .dataframe thead th {\n",
              "        text-align: right;\n",
              "    }\n",
              "</style>\n",
              "<table border=\"1\" class=\"dataframe\">\n",
              "  <thead>\n",
              "    <tr style=\"text-align: right;\">\n",
              "      <th></th>\n",
              "      <th>A</th>\n",
              "      <th>B</th>\n",
              "      <th>C</th>\n",
              "      <th>D</th>\n",
              "    </tr>\n",
              "  </thead>\n",
              "  <tbody>\n",
              "    <tr>\n",
              "      <th>0</th>\n",
              "      <td>1</td>\n",
              "      <td>2</td>\n",
              "      <td>3</td>\n",
              "      <td>1</td>\n",
              "    </tr>\n",
              "    <tr>\n",
              "      <th>1</th>\n",
              "      <td>6</td>\n",
              "      <td>7</td>\n",
              "      <td>8</td>\n",
              "      <td>36</td>\n",
              "    </tr>\n",
              "    <tr>\n",
              "      <th>2</th>\n",
              "      <td>4</td>\n",
              "      <td>2</td>\n",
              "      <td>6</td>\n",
              "      <td>16</td>\n",
              "    </tr>\n",
              "  </tbody>\n",
              "</table>\n",
              "</div>"
            ],
            "text/plain": [
              "   A  B  C   D\n",
              "0  1  2  3   1\n",
              "1  6  7  8  36\n",
              "2  4  2  6  16"
            ]
          },
          "metadata": {
            "tags": []
          },
          "execution_count": 7
        }
      ]
    },
    {
      "cell_type": "code",
      "metadata": {
        "id": "j9a0Lqwk7K1e",
        "colab": {
          "base_uri": "https://localhost:8080/"
        },
        "outputId": "7ed4a136-7c52-4376-f1b0-4fcc9c2a6db2"
      },
      "source": [
        "# map map functionın bunların yanında çok daha kullanışlı bir formu daha var. fonsiyonel programlama yapmamızı sağlar. \n",
        "#map function'ın ilk argumenti yapılacak işlemi, daha sonrakiler ise iterable olacak serileri ifade eder. aşağıdaki \n",
        "#örnekte 20 farklı list eklenebilirdi. \n",
        "\n",
        "store1 = [10.00, 11.00, 12.34, 2.34]\n",
        "store2 = [9.00, 11.10, 12.34, 2.01]\n",
        "cheapest = map(min, store1, store2)\n",
        "\n",
        "# veya aşağıdaki şekilde de kullanılabilir. bu örnekte lambda fonsuyonunu itarqatif bir şekilde uygulamış oldu\n",
        "\n",
        "list_2=[1,2,3,4]\n",
        "print(list(map(lambda x:x*2,list_2)))"
      ],
      "execution_count": null,
      "outputs": [
        {
          "output_type": "stream",
          "text": [
            "[2, 4, 6, 8]\n"
          ],
          "name": "stdout"
        }
      ]
    },
    {
      "cell_type": "code",
      "metadata": {
        "id": "74_ilbA__0V5",
        "colab": {
          "base_uri": "https://localhost:8080/"
        },
        "outputId": "48934c2b-f8aa-4035-96e7-a2649313c815"
      },
      "source": [
        "list(cheapest)"
      ],
      "execution_count": null,
      "outputs": [
        {
          "output_type": "execute_result",
          "data": {
            "text/plain": [
              "[9.0, 11.0, 12.34, 2.01]"
            ]
          },
          "metadata": {
            "tags": []
          },
          "execution_count": 29
        }
      ]
    },
    {
      "cell_type": "code",
      "metadata": {
        "id": "atNDyizkB-WS",
        "colab": {
          "base_uri": "https://localhost:8080/"
        },
        "outputId": "7151d6c7-d1d6-497c-b082-5b00fbe40dfc"
      },
      "source": [
        "people = ['Dr. Christopher Brooks', 'Dr. Kevyn Collins-Thompson', 'Dr. VG Vinod Vydiswaran', 'Dr. Daniel Romero']\n",
        "\n",
        "def split_title_and_name(person):\n",
        "    title = person.split()[0]\n",
        "    lastname = person.split()[-1]\n",
        "    return '{} {}'.format(title, lastname)\n",
        "\n",
        "list(map(split_title_and_name, people))"
      ],
      "execution_count": null,
      "outputs": [
        {
          "output_type": "execute_result",
          "data": {
            "text/plain": [
              "['Dr. Brooks', 'Dr. Collins-Thompson', 'Dr. Vydiswaran', 'Dr. Romero']"
            ]
          },
          "metadata": {
            "tags": []
          },
          "execution_count": 30
        }
      ]
    },
    {
      "cell_type": "code",
      "metadata": {
        "id": "OdtynkwsUvrh",
        "colab": {
          "base_uri": "https://localhost:8080/",
          "height": 142
        },
        "outputId": "bb880b13-70c5-4ffa-948e-d21bd3601009"
      },
      "source": [
        "#3 kolon içinde minimumu bulmak için de map kullanılabilir\n",
        "\n",
        "df=pd.DataFrame([[1,2,5],[6,7,1],[4,2,4]], columns=[\"A\",\"B\",\"C\"])\n",
        "\n",
        "df[\"D\"]=list(map(min,df[\"A\"],df[\"B\"],df[\"C\"]))\n",
        "\n",
        "df"
      ],
      "execution_count": null,
      "outputs": [
        {
          "output_type": "execute_result",
          "data": {
            "text/html": [
              "<div>\n",
              "<style scoped>\n",
              "    .dataframe tbody tr th:only-of-type {\n",
              "        vertical-align: middle;\n",
              "    }\n",
              "\n",
              "    .dataframe tbody tr th {\n",
              "        vertical-align: top;\n",
              "    }\n",
              "\n",
              "    .dataframe thead th {\n",
              "        text-align: right;\n",
              "    }\n",
              "</style>\n",
              "<table border=\"1\" class=\"dataframe\">\n",
              "  <thead>\n",
              "    <tr style=\"text-align: right;\">\n",
              "      <th></th>\n",
              "      <th>A</th>\n",
              "      <th>B</th>\n",
              "      <th>C</th>\n",
              "      <th>D</th>\n",
              "    </tr>\n",
              "  </thead>\n",
              "  <tbody>\n",
              "    <tr>\n",
              "      <th>0</th>\n",
              "      <td>1</td>\n",
              "      <td>2</td>\n",
              "      <td>5</td>\n",
              "      <td>1</td>\n",
              "    </tr>\n",
              "    <tr>\n",
              "      <th>1</th>\n",
              "      <td>6</td>\n",
              "      <td>7</td>\n",
              "      <td>1</td>\n",
              "      <td>1</td>\n",
              "    </tr>\n",
              "    <tr>\n",
              "      <th>2</th>\n",
              "      <td>4</td>\n",
              "      <td>2</td>\n",
              "      <td>4</td>\n",
              "      <td>2</td>\n",
              "    </tr>\n",
              "  </tbody>\n",
              "</table>\n",
              "</div>"
            ],
            "text/plain": [
              "   A  B  C  D\n",
              "0  1  2  5  1\n",
              "1  6  7  1  1\n",
              "2  4  2  4  2"
            ]
          },
          "metadata": {
            "tags": []
          },
          "execution_count": 53
        }
      ]
    },
    {
      "cell_type": "code",
      "metadata": {
        "id": "s2gcSCK5L_Mw"
      },
      "source": [
        "import pandas as pd\n",
        "def bigger(x,y):\n",
        "  if x>=y:\n",
        "    return x\n",
        "  else:\n",
        "    return y"
      ],
      "execution_count": null,
      "outputs": []
    },
    {
      "cell_type": "code",
      "metadata": {
        "id": "6wPllB_tPOD2"
      },
      "source": [
        "df=pd.DataFrame([[1,4,5],[4,2,9],[3,3,6]],columns=[\"value_1\",\"value_2\",\"value_3\"])"
      ],
      "execution_count": null,
      "outputs": []
    },
    {
      "cell_type": "code",
      "metadata": {
        "id": "6EAU-2p6PWXu"
      },
      "source": [
        "df[\"new_column\"]=list(map(bigger,df[\"value_2\"],df[\"value_3\"]))"
      ],
      "execution_count": null,
      "outputs": []
    },
    {
      "cell_type": "code",
      "metadata": {
        "id": "mluntbUKQAXE",
        "colab": {
          "base_uri": "https://localhost:8080/",
          "height": 142
        },
        "outputId": "fd76d10c-cc24-4173-e920-177a6a418cfe"
      },
      "source": [
        "df"
      ],
      "execution_count": null,
      "outputs": [
        {
          "output_type": "execute_result",
          "data": {
            "text/html": [
              "<div>\n",
              "<style scoped>\n",
              "    .dataframe tbody tr th:only-of-type {\n",
              "        vertical-align: middle;\n",
              "    }\n",
              "\n",
              "    .dataframe tbody tr th {\n",
              "        vertical-align: top;\n",
              "    }\n",
              "\n",
              "    .dataframe thead th {\n",
              "        text-align: right;\n",
              "    }\n",
              "</style>\n",
              "<table border=\"1\" class=\"dataframe\">\n",
              "  <thead>\n",
              "    <tr style=\"text-align: right;\">\n",
              "      <th></th>\n",
              "      <th>value_1</th>\n",
              "      <th>value_2</th>\n",
              "      <th>value_3</th>\n",
              "      <th>new_column</th>\n",
              "    </tr>\n",
              "  </thead>\n",
              "  <tbody>\n",
              "    <tr>\n",
              "      <th>0</th>\n",
              "      <td>1</td>\n",
              "      <td>4</td>\n",
              "      <td>5</td>\n",
              "      <td>5</td>\n",
              "    </tr>\n",
              "    <tr>\n",
              "      <th>1</th>\n",
              "      <td>4</td>\n",
              "      <td>2</td>\n",
              "      <td>9</td>\n",
              "      <td>9</td>\n",
              "    </tr>\n",
              "    <tr>\n",
              "      <th>2</th>\n",
              "      <td>3</td>\n",
              "      <td>3</td>\n",
              "      <td>6</td>\n",
              "      <td>6</td>\n",
              "    </tr>\n",
              "  </tbody>\n",
              "</table>\n",
              "</div>"
            ],
            "text/plain": [
              "   value_1  value_2  value_3  new_column\n",
              "0        1        4        5           5\n",
              "1        4        2        9           9\n",
              "2        3        3        6           6"
            ]
          },
          "metadata": {
            "tags": []
          },
          "execution_count": 52
        }
      ]
    },
    {
      "cell_type": "markdown",
      "metadata": {
        "id": "s3R2qyKVmCYa"
      },
      "source": [
        "## APPLY\n",
        "\n",
        "df üzerinde çalışır. birden fazla kolon ile conditional bir output üretilebilir. "
      ]
    },
    {
      "cell_type": "code",
      "metadata": {
        "id": "lF9fYTvimCYa"
      },
      "source": [
        "def final_column(col):\n",
        "    if col[\"A\"]==1:\n",
        "        return col[\"D\"]-8\n",
        "    else:\n",
        "        return col[\"B\"]*4\n",
        "    "
      ],
      "execution_count": null,
      "outputs": []
    },
    {
      "cell_type": "code",
      "metadata": {
        "id": "QzgYFNG-mCYd"
      },
      "source": [
        "df[\"E\"]=df.apply(final_column,axis=1)"
      ],
      "execution_count": null,
      "outputs": []
    },
    {
      "cell_type": "code",
      "metadata": {
        "id": "0xjtkLnmmCYg",
        "colab": {
          "base_uri": "https://localhost:8080/",
          "height": 142
        },
        "outputId": "b70e9c31-e9a0-4235-c8ef-ba67b89835ec"
      },
      "source": [
        "df"
      ],
      "execution_count": null,
      "outputs": [
        {
          "output_type": "execute_result",
          "data": {
            "text/html": [
              "<div>\n",
              "<style scoped>\n",
              "    .dataframe tbody tr th:only-of-type {\n",
              "        vertical-align: middle;\n",
              "    }\n",
              "\n",
              "    .dataframe tbody tr th {\n",
              "        vertical-align: top;\n",
              "    }\n",
              "\n",
              "    .dataframe thead th {\n",
              "        text-align: right;\n",
              "    }\n",
              "</style>\n",
              "<table border=\"1\" class=\"dataframe\">\n",
              "  <thead>\n",
              "    <tr style=\"text-align: right;\">\n",
              "      <th></th>\n",
              "      <th>A</th>\n",
              "      <th>B</th>\n",
              "      <th>C</th>\n",
              "      <th>D</th>\n",
              "      <th>E</th>\n",
              "    </tr>\n",
              "  </thead>\n",
              "  <tbody>\n",
              "    <tr>\n",
              "      <th>0</th>\n",
              "      <td>1</td>\n",
              "      <td>2</td>\n",
              "      <td>3</td>\n",
              "      <td>1</td>\n",
              "      <td>-7</td>\n",
              "    </tr>\n",
              "    <tr>\n",
              "      <th>1</th>\n",
              "      <td>6</td>\n",
              "      <td>7</td>\n",
              "      <td>8</td>\n",
              "      <td>36</td>\n",
              "      <td>28</td>\n",
              "    </tr>\n",
              "    <tr>\n",
              "      <th>2</th>\n",
              "      <td>4</td>\n",
              "      <td>2</td>\n",
              "      <td>6</td>\n",
              "      <td>16</td>\n",
              "      <td>8</td>\n",
              "    </tr>\n",
              "  </tbody>\n",
              "</table>\n",
              "</div>"
            ],
            "text/plain": [
              "   A  B  C   D   E\n",
              "0  1  2  3   1  -7\n",
              "1  6  7  8  36  28\n",
              "2  4  2  6  16   8"
            ]
          },
          "metadata": {
            "tags": []
          },
          "execution_count": 10
        }
      ]
    },
    {
      "cell_type": "code",
      "metadata": {
        "id": "GxsZ5Ej2vkpQ"
      },
      "source": [
        "#tek bir kolon değil de tüm df için de çalışılabilir. datayı indirmediğim için commentledim\n",
        "\n",
        "#def splitname(row):\n",
        "    # The row is a single Series object which is a single row indexed by column values\n",
        "    # Let's extract the firstname and create a new entry in the series\n",
        "#    row['First']=row['President'].split(\" \")[0]\n",
        "    # Let's do the same with the last word in the string\n",
        "#    row['Last']=row['President'].split(\" \")[-1]\n",
        "    # Now we just return the row and the pandas .apply() will take of merging them back into a DataFrame\n",
        "#    return row\n",
        "\n",
        "# Now if we apply this to the dataframe indicating we want to apply it across columns\n",
        "#df=df.apply(splitname, axis='columns')\n",
        "#df.head()"
      ],
      "execution_count": null,
      "outputs": []
    },
    {
      "cell_type": "markdown",
      "metadata": {
        "id": "wJhpWLk3mCYk"
      },
      "source": [
        "## APPLMAP\n",
        "\n",
        "Tüm df elementleri için çalışır. hepsini aynı fonsiyona göre transform eder"
      ]
    },
    {
      "cell_type": "code",
      "metadata": {
        "id": "1htN5bx3mCYk",
        "colab": {
          "base_uri": "https://localhost:8080/",
          "height": 142
        },
        "outputId": "a52a4316-e4ad-4281-c695-72f8ab87575a"
      },
      "source": [
        "df.applymap(lambda x:x*2)"
      ],
      "execution_count": null,
      "outputs": [
        {
          "output_type": "execute_result",
          "data": {
            "text/html": [
              "<div>\n",
              "<style scoped>\n",
              "    .dataframe tbody tr th:only-of-type {\n",
              "        vertical-align: middle;\n",
              "    }\n",
              "\n",
              "    .dataframe tbody tr th {\n",
              "        vertical-align: top;\n",
              "    }\n",
              "\n",
              "    .dataframe thead th {\n",
              "        text-align: right;\n",
              "    }\n",
              "</style>\n",
              "<table border=\"1\" class=\"dataframe\">\n",
              "  <thead>\n",
              "    <tr style=\"text-align: right;\">\n",
              "      <th></th>\n",
              "      <th>A</th>\n",
              "      <th>B</th>\n",
              "      <th>C</th>\n",
              "      <th>D</th>\n",
              "      <th>E</th>\n",
              "    </tr>\n",
              "  </thead>\n",
              "  <tbody>\n",
              "    <tr>\n",
              "      <th>0</th>\n",
              "      <td>2</td>\n",
              "      <td>4</td>\n",
              "      <td>6</td>\n",
              "      <td>2</td>\n",
              "      <td>-14</td>\n",
              "    </tr>\n",
              "    <tr>\n",
              "      <th>1</th>\n",
              "      <td>12</td>\n",
              "      <td>14</td>\n",
              "      <td>16</td>\n",
              "      <td>72</td>\n",
              "      <td>56</td>\n",
              "    </tr>\n",
              "    <tr>\n",
              "      <th>2</th>\n",
              "      <td>8</td>\n",
              "      <td>4</td>\n",
              "      <td>12</td>\n",
              "      <td>32</td>\n",
              "      <td>16</td>\n",
              "    </tr>\n",
              "  </tbody>\n",
              "</table>\n",
              "</div>"
            ],
            "text/plain": [
              "    A   B   C   D   E\n",
              "0   2   4   6   2 -14\n",
              "1  12  14  16  72  56\n",
              "2   8   4  12  32  16"
            ]
          },
          "metadata": {
            "tags": []
          },
          "execution_count": 11
        }
      ]
    },
    {
      "cell_type": "markdown",
      "metadata": {
        "id": "99V3SrUImCYn"
      },
      "source": [
        "## DATA TYPES"
      ]
    },
    {
      "cell_type": "code",
      "metadata": {
        "id": "zmiOT4uSmCYo"
      },
      "source": [
        "df[\"F\"]=[\"ab\",\"cd\",\"ef\"]"
      ],
      "execution_count": null,
      "outputs": []
    },
    {
      "cell_type": "code",
      "metadata": {
        "id": "LeewCagZmCYr"
      },
      "source": [
        "df[\"G\"]=[2.8,1.2,0.2]"
      ],
      "execution_count": null,
      "outputs": []
    },
    {
      "cell_type": "code",
      "metadata": {
        "id": "uYRvrpnUmCYv",
        "colab": {
          "base_uri": "https://localhost:8080/",
          "height": 142
        },
        "outputId": "06de2c4f-a6a8-440b-e124-e962163a4d74"
      },
      "source": [
        "df"
      ],
      "execution_count": null,
      "outputs": [
        {
          "output_type": "execute_result",
          "data": {
            "text/html": [
              "<div>\n",
              "<style scoped>\n",
              "    .dataframe tbody tr th:only-of-type {\n",
              "        vertical-align: middle;\n",
              "    }\n",
              "\n",
              "    .dataframe tbody tr th {\n",
              "        vertical-align: top;\n",
              "    }\n",
              "\n",
              "    .dataframe thead th {\n",
              "        text-align: right;\n",
              "    }\n",
              "</style>\n",
              "<table border=\"1\" class=\"dataframe\">\n",
              "  <thead>\n",
              "    <tr style=\"text-align: right;\">\n",
              "      <th></th>\n",
              "      <th>A</th>\n",
              "      <th>B</th>\n",
              "      <th>C</th>\n",
              "      <th>D</th>\n",
              "      <th>E</th>\n",
              "      <th>F</th>\n",
              "      <th>G</th>\n",
              "    </tr>\n",
              "  </thead>\n",
              "  <tbody>\n",
              "    <tr>\n",
              "      <th>0</th>\n",
              "      <td>1</td>\n",
              "      <td>2</td>\n",
              "      <td>3</td>\n",
              "      <td>1</td>\n",
              "      <td>-7</td>\n",
              "      <td>ab</td>\n",
              "      <td>2.8</td>\n",
              "    </tr>\n",
              "    <tr>\n",
              "      <th>1</th>\n",
              "      <td>6</td>\n",
              "      <td>7</td>\n",
              "      <td>8</td>\n",
              "      <td>36</td>\n",
              "      <td>28</td>\n",
              "      <td>cd</td>\n",
              "      <td>1.2</td>\n",
              "    </tr>\n",
              "    <tr>\n",
              "      <th>2</th>\n",
              "      <td>4</td>\n",
              "      <td>2</td>\n",
              "      <td>6</td>\n",
              "      <td>16</td>\n",
              "      <td>8</td>\n",
              "      <td>ef</td>\n",
              "      <td>0.2</td>\n",
              "    </tr>\n",
              "  </tbody>\n",
              "</table>\n",
              "</div>"
            ],
            "text/plain": [
              "   A  B  C   D   E   F    G\n",
              "0  1  2  3   1  -7  ab  2.8\n",
              "1  6  7  8  36  28  cd  1.2\n",
              "2  4  2  6  16   8  ef  0.2"
            ]
          },
          "metadata": {
            "tags": []
          },
          "execution_count": 14
        }
      ]
    },
    {
      "cell_type": "code",
      "metadata": {
        "id": "bDzgelTBmCYy",
        "colab": {
          "base_uri": "https://localhost:8080/",
          "height": 119
        },
        "outputId": "6be5562a-cd0a-46e0-a5f2-dfcc26685bb6"
      },
      "source": [
        "df.dtypes[df.dtypes==\"int64\"]"
      ],
      "execution_count": null,
      "outputs": [
        {
          "output_type": "execute_result",
          "data": {
            "text/plain": [
              "A    int64\n",
              "B    int64\n",
              "C    int64\n",
              "D    int64\n",
              "E    int64\n",
              "dtype: object"
            ]
          },
          "metadata": {
            "tags": []
          },
          "execution_count": 15
        }
      ]
    },
    {
      "cell_type": "code",
      "metadata": {
        "id": "LBgGEdFNmCY1",
        "colab": {
          "base_uri": "https://localhost:8080/",
          "height": 51
        },
        "outputId": "63d95004-8863-484c-cd79-8d555f1fa8fc"
      },
      "source": [
        "df.dtypes[df.dtypes==np.number]\n",
        "#dtypes'da np.number yazıldığında sadece flaotlar geliyor \n",
        "#fakat select_dtypes'ta tüm numberlar geliyor. bu yüzden dtypes'ta kullanılmamalı"
      ],
      "execution_count": null,
      "outputs": [
        {
          "output_type": "execute_result",
          "data": {
            "text/plain": [
              "G    float64\n",
              "dtype: object"
            ]
          },
          "metadata": {
            "tags": []
          },
          "execution_count": 16
        }
      ]
    },
    {
      "cell_type": "code",
      "metadata": {
        "id": "-giYklZ4mCY4",
        "colab": {
          "base_uri": "https://localhost:8080/",
          "height": 153
        },
        "outputId": "011410c8-a6a4-46ea-acd5-5371c1501d01"
      },
      "source": [
        "df.dtypes"
      ],
      "execution_count": null,
      "outputs": [
        {
          "output_type": "execute_result",
          "data": {
            "text/plain": [
              "A      int64\n",
              "B      int64\n",
              "C      int64\n",
              "D      int64\n",
              "E      int64\n",
              "F     object\n",
              "G    float64\n",
              "dtype: object"
            ]
          },
          "metadata": {
            "tags": []
          },
          "execution_count": 17
        }
      ]
    },
    {
      "cell_type": "code",
      "metadata": {
        "id": "nvSMZtu3mCY6",
        "colab": {
          "base_uri": "https://localhost:8080/",
          "height": 142
        },
        "outputId": "a9455a49-572d-44bc-80dc-4263c96af2f1"
      },
      "source": [
        "df.select_dtypes(include=[np.number])\n",
        "#seelct_dtypes ile istenilen data tipindeki kolonlar getiriliyor. \n",
        "#sadece dtype kullanıldığında kolon data tipleri geliyor değerler gelmiyor"
      ],
      "execution_count": null,
      "outputs": [
        {
          "output_type": "execute_result",
          "data": {
            "text/html": [
              "<div>\n",
              "<style scoped>\n",
              "    .dataframe tbody tr th:only-of-type {\n",
              "        vertical-align: middle;\n",
              "    }\n",
              "\n",
              "    .dataframe tbody tr th {\n",
              "        vertical-align: top;\n",
              "    }\n",
              "\n",
              "    .dataframe thead th {\n",
              "        text-align: right;\n",
              "    }\n",
              "</style>\n",
              "<table border=\"1\" class=\"dataframe\">\n",
              "  <thead>\n",
              "    <tr style=\"text-align: right;\">\n",
              "      <th></th>\n",
              "      <th>A</th>\n",
              "      <th>B</th>\n",
              "      <th>C</th>\n",
              "      <th>D</th>\n",
              "      <th>E</th>\n",
              "      <th>G</th>\n",
              "    </tr>\n",
              "  </thead>\n",
              "  <tbody>\n",
              "    <tr>\n",
              "      <th>0</th>\n",
              "      <td>1</td>\n",
              "      <td>2</td>\n",
              "      <td>3</td>\n",
              "      <td>1</td>\n",
              "      <td>-7</td>\n",
              "      <td>2.8</td>\n",
              "    </tr>\n",
              "    <tr>\n",
              "      <th>1</th>\n",
              "      <td>6</td>\n",
              "      <td>7</td>\n",
              "      <td>8</td>\n",
              "      <td>36</td>\n",
              "      <td>28</td>\n",
              "      <td>1.2</td>\n",
              "    </tr>\n",
              "    <tr>\n",
              "      <th>2</th>\n",
              "      <td>4</td>\n",
              "      <td>2</td>\n",
              "      <td>6</td>\n",
              "      <td>16</td>\n",
              "      <td>8</td>\n",
              "      <td>0.2</td>\n",
              "    </tr>\n",
              "  </tbody>\n",
              "</table>\n",
              "</div>"
            ],
            "text/plain": [
              "   A  B  C   D   E    G\n",
              "0  1  2  3   1  -7  2.8\n",
              "1  6  7  8  36  28  1.2\n",
              "2  4  2  6  16   8  0.2"
            ]
          },
          "metadata": {
            "tags": []
          },
          "execution_count": 18
        }
      ]
    },
    {
      "cell_type": "code",
      "metadata": {
        "id": "Sl9WrNTUmCY_",
        "colab": {
          "base_uri": "https://localhost:8080/",
          "height": 142
        },
        "outputId": "e570b6c9-a672-4f06-9d24-b7beef755ce1"
      },
      "source": [
        "df.select_dtypes(include=[\"int64\"])"
      ],
      "execution_count": null,
      "outputs": [
        {
          "output_type": "execute_result",
          "data": {
            "text/html": [
              "<div>\n",
              "<style scoped>\n",
              "    .dataframe tbody tr th:only-of-type {\n",
              "        vertical-align: middle;\n",
              "    }\n",
              "\n",
              "    .dataframe tbody tr th {\n",
              "        vertical-align: top;\n",
              "    }\n",
              "\n",
              "    .dataframe thead th {\n",
              "        text-align: right;\n",
              "    }\n",
              "</style>\n",
              "<table border=\"1\" class=\"dataframe\">\n",
              "  <thead>\n",
              "    <tr style=\"text-align: right;\">\n",
              "      <th></th>\n",
              "      <th>A</th>\n",
              "      <th>B</th>\n",
              "      <th>C</th>\n",
              "      <th>D</th>\n",
              "      <th>E</th>\n",
              "    </tr>\n",
              "  </thead>\n",
              "  <tbody>\n",
              "    <tr>\n",
              "      <th>0</th>\n",
              "      <td>1</td>\n",
              "      <td>2</td>\n",
              "      <td>3</td>\n",
              "      <td>1</td>\n",
              "      <td>-7</td>\n",
              "    </tr>\n",
              "    <tr>\n",
              "      <th>1</th>\n",
              "      <td>6</td>\n",
              "      <td>7</td>\n",
              "      <td>8</td>\n",
              "      <td>36</td>\n",
              "      <td>28</td>\n",
              "    </tr>\n",
              "    <tr>\n",
              "      <th>2</th>\n",
              "      <td>4</td>\n",
              "      <td>2</td>\n",
              "      <td>6</td>\n",
              "      <td>16</td>\n",
              "      <td>8</td>\n",
              "    </tr>\n",
              "  </tbody>\n",
              "</table>\n",
              "</div>"
            ],
            "text/plain": [
              "   A  B  C   D   E\n",
              "0  1  2  3   1  -7\n",
              "1  6  7  8  36  28\n",
              "2  4  2  6  16   8"
            ]
          },
          "metadata": {
            "tags": []
          },
          "execution_count": 19
        }
      ]
    },
    {
      "cell_type": "markdown",
      "metadata": {
        "id": "7JvkcZ_FmCZC"
      },
      "source": [
        "## To Numeric\n",
        "\n",
        "error ignore ile eğer kolonda tüm değerler numeric'e çevrilemiyorsa o kolona müdahale etmiyor ve o kolonda numeric'e çevrilebilecek str değerler de str kalıyor. eğer tüm değerler numerice çevrilebiliyorsa o kolonu numerice çeviriyor. eğer tüm değerler int'ye çeviriliyorsa kolon dtype'ı intye çevrilemiyorsa float varsa kolon dtype'ı float'a çeviriliyor. bu durumda 2 yerine 2.0 değeri float olarak yer alır"
      ]
    },
    {
      "cell_type": "code",
      "metadata": {
        "id": "ufMcHH9amCZC",
        "colab": {
          "base_uri": "https://localhost:8080/",
          "height": 142
        },
        "outputId": "a1bde770-e57f-43bd-ad2c-eb07c3b8cd45"
      },
      "source": [
        "df[\"H\"]=[\"1\",\"1.3\",\"tz\"]\n",
        "df"
      ],
      "execution_count": null,
      "outputs": [
        {
          "output_type": "execute_result",
          "data": {
            "text/html": [
              "<div>\n",
              "<style scoped>\n",
              "    .dataframe tbody tr th:only-of-type {\n",
              "        vertical-align: middle;\n",
              "    }\n",
              "\n",
              "    .dataframe tbody tr th {\n",
              "        vertical-align: top;\n",
              "    }\n",
              "\n",
              "    .dataframe thead th {\n",
              "        text-align: right;\n",
              "    }\n",
              "</style>\n",
              "<table border=\"1\" class=\"dataframe\">\n",
              "  <thead>\n",
              "    <tr style=\"text-align: right;\">\n",
              "      <th></th>\n",
              "      <th>A</th>\n",
              "      <th>B</th>\n",
              "      <th>C</th>\n",
              "      <th>D</th>\n",
              "      <th>E</th>\n",
              "      <th>F</th>\n",
              "      <th>G</th>\n",
              "      <th>H</th>\n",
              "    </tr>\n",
              "  </thead>\n",
              "  <tbody>\n",
              "    <tr>\n",
              "      <th>0</th>\n",
              "      <td>1</td>\n",
              "      <td>2</td>\n",
              "      <td>3</td>\n",
              "      <td>1</td>\n",
              "      <td>-7</td>\n",
              "      <td>ab</td>\n",
              "      <td>2.8</td>\n",
              "      <td>1</td>\n",
              "    </tr>\n",
              "    <tr>\n",
              "      <th>1</th>\n",
              "      <td>6</td>\n",
              "      <td>7</td>\n",
              "      <td>8</td>\n",
              "      <td>36</td>\n",
              "      <td>28</td>\n",
              "      <td>cd</td>\n",
              "      <td>1.2</td>\n",
              "      <td>1.3</td>\n",
              "    </tr>\n",
              "    <tr>\n",
              "      <th>2</th>\n",
              "      <td>4</td>\n",
              "      <td>2</td>\n",
              "      <td>6</td>\n",
              "      <td>16</td>\n",
              "      <td>8</td>\n",
              "      <td>ef</td>\n",
              "      <td>0.2</td>\n",
              "      <td>tz</td>\n",
              "    </tr>\n",
              "  </tbody>\n",
              "</table>\n",
              "</div>"
            ],
            "text/plain": [
              "   A  B  C   D   E   F    G    H\n",
              "0  1  2  3   1  -7  ab  2.8    1\n",
              "1  6  7  8  36  28  cd  1.2  1.3\n",
              "2  4  2  6  16   8  ef  0.2   tz"
            ]
          },
          "metadata": {
            "tags": []
          },
          "execution_count": 20
        }
      ]
    },
    {
      "cell_type": "code",
      "metadata": {
        "id": "NLtNTySImCZF",
        "colab": {
          "base_uri": "https://localhost:8080/",
          "height": 142
        },
        "outputId": "f1cb62c0-606b-431a-f071-ddf7a7ac2676"
      },
      "source": [
        "df=df.apply(pd.to_numeric, errors='ignore')\n",
        "df"
      ],
      "execution_count": null,
      "outputs": [
        {
          "output_type": "execute_result",
          "data": {
            "text/html": [
              "<div>\n",
              "<style scoped>\n",
              "    .dataframe tbody tr th:only-of-type {\n",
              "        vertical-align: middle;\n",
              "    }\n",
              "\n",
              "    .dataframe tbody tr th {\n",
              "        vertical-align: top;\n",
              "    }\n",
              "\n",
              "    .dataframe thead th {\n",
              "        text-align: right;\n",
              "    }\n",
              "</style>\n",
              "<table border=\"1\" class=\"dataframe\">\n",
              "  <thead>\n",
              "    <tr style=\"text-align: right;\">\n",
              "      <th></th>\n",
              "      <th>A</th>\n",
              "      <th>B</th>\n",
              "      <th>C</th>\n",
              "      <th>D</th>\n",
              "      <th>E</th>\n",
              "      <th>F</th>\n",
              "      <th>G</th>\n",
              "      <th>H</th>\n",
              "    </tr>\n",
              "  </thead>\n",
              "  <tbody>\n",
              "    <tr>\n",
              "      <th>0</th>\n",
              "      <td>1</td>\n",
              "      <td>2</td>\n",
              "      <td>3</td>\n",
              "      <td>1</td>\n",
              "      <td>-7</td>\n",
              "      <td>ab</td>\n",
              "      <td>2.8</td>\n",
              "      <td>1</td>\n",
              "    </tr>\n",
              "    <tr>\n",
              "      <th>1</th>\n",
              "      <td>6</td>\n",
              "      <td>7</td>\n",
              "      <td>8</td>\n",
              "      <td>36</td>\n",
              "      <td>28</td>\n",
              "      <td>cd</td>\n",
              "      <td>1.2</td>\n",
              "      <td>1.3</td>\n",
              "    </tr>\n",
              "    <tr>\n",
              "      <th>2</th>\n",
              "      <td>4</td>\n",
              "      <td>2</td>\n",
              "      <td>6</td>\n",
              "      <td>16</td>\n",
              "      <td>8</td>\n",
              "      <td>ef</td>\n",
              "      <td>0.2</td>\n",
              "      <td>tz</td>\n",
              "    </tr>\n",
              "  </tbody>\n",
              "</table>\n",
              "</div>"
            ],
            "text/plain": [
              "   A  B  C   D   E   F    G    H\n",
              "0  1  2  3   1  -7  ab  2.8    1\n",
              "1  6  7  8  36  28  cd  1.2  1.3\n",
              "2  4  2  6  16   8  ef  0.2   tz"
            ]
          },
          "metadata": {
            "tags": []
          },
          "execution_count": 21
        }
      ]
    },
    {
      "cell_type": "code",
      "metadata": {
        "id": "7bW-EzyKmCZH",
        "colab": {
          "base_uri": "https://localhost:8080/",
          "height": 170
        },
        "outputId": "916ed449-5d6c-4fc2-c89d-9f4835813c8b"
      },
      "source": [
        "df.dtypes"
      ],
      "execution_count": null,
      "outputs": [
        {
          "output_type": "execute_result",
          "data": {
            "text/plain": [
              "A      int64\n",
              "B      int64\n",
              "C      int64\n",
              "D      int64\n",
              "E      int64\n",
              "F     object\n",
              "G    float64\n",
              "H     object\n",
              "dtype: object"
            ]
          },
          "metadata": {
            "tags": []
          },
          "execution_count": 22
        }
      ]
    },
    {
      "cell_type": "code",
      "metadata": {
        "id": "07VZIGMimCZJ",
        "colab": {
          "base_uri": "https://localhost:8080/",
          "height": 34
        },
        "outputId": "5dcb15d8-28c9-4438-fb31-8778601d1ead"
      },
      "source": [
        "type(df.loc[1,\"H\"])"
      ],
      "execution_count": null,
      "outputs": [
        {
          "output_type": "execute_result",
          "data": {
            "text/plain": [
              "str"
            ]
          },
          "metadata": {
            "tags": []
          },
          "execution_count": 23
        }
      ]
    },
    {
      "cell_type": "code",
      "metadata": {
        "id": "cS_iULsXmCZM",
        "colab": {
          "base_uri": "https://localhost:8080/",
          "height": 187
        },
        "outputId": "64096cde-2ada-466e-fc5c-c6efa9f0bb58"
      },
      "source": [
        "df[\"K\"]=[\"1.2\",\"0.4\",\"2.1\"]\n",
        "df.dtypes"
      ],
      "execution_count": null,
      "outputs": [
        {
          "output_type": "execute_result",
          "data": {
            "text/plain": [
              "A      int64\n",
              "B      int64\n",
              "C      int64\n",
              "D      int64\n",
              "E      int64\n",
              "F     object\n",
              "G    float64\n",
              "H     object\n",
              "K     object\n",
              "dtype: object"
            ]
          },
          "metadata": {
            "tags": []
          },
          "execution_count": 24
        }
      ]
    },
    {
      "cell_type": "code",
      "metadata": {
        "id": "Depz6YEumCZO",
        "colab": {
          "base_uri": "https://localhost:8080/",
          "height": 187
        },
        "outputId": "1d246f5f-f2f3-4a70-9394-4a2f5a59c0a8"
      },
      "source": [
        "df=df.apply(pd.to_numeric, errors='ignore')\n",
        "df.dtypes"
      ],
      "execution_count": null,
      "outputs": [
        {
          "output_type": "execute_result",
          "data": {
            "text/plain": [
              "A      int64\n",
              "B      int64\n",
              "C      int64\n",
              "D      int64\n",
              "E      int64\n",
              "F     object\n",
              "G    float64\n",
              "H     object\n",
              "K    float64\n",
              "dtype: object"
            ]
          },
          "metadata": {
            "tags": []
          },
          "execution_count": 25
        }
      ]
    },
    {
      "cell_type": "code",
      "metadata": {
        "id": "LZb63S6zmCZQ",
        "colab": {
          "base_uri": "https://localhost:8080/",
          "height": 34
        },
        "outputId": "0c4b83f6-6de5-475c-b786-65dabacff66d"
      },
      "source": [
        "type(df.loc[1,\"K\"])"
      ],
      "execution_count": null,
      "outputs": [
        {
          "output_type": "execute_result",
          "data": {
            "text/plain": [
              "numpy.float64"
            ]
          },
          "metadata": {
            "tags": []
          },
          "execution_count": 26
        }
      ]
    },
    {
      "cell_type": "code",
      "metadata": {
        "id": "r7hWUs4emCZU"
      },
      "source": [
        "df[\"L\"]=[\"1.2\",\"2.3\",\"3.4\"]\n",
        "df[\"M\"]=[\"3.4\",\"2\",\"2.3\"]\n",
        "df[\"N\"]=[\"1\",\"2\",\"4\"]"
      ],
      "execution_count": null,
      "outputs": []
    },
    {
      "cell_type": "code",
      "metadata": {
        "id": "kQEx_taSmCZW",
        "scrolled": true,
        "colab": {
          "base_uri": "https://localhost:8080/",
          "height": 238
        },
        "outputId": "b27586ec-73e1-4c05-de9d-9bbb0cb7805c"
      },
      "source": [
        "df=df.apply(pd.to_numeric, errors='ignore')\n",
        "df.dtypes"
      ],
      "execution_count": null,
      "outputs": [
        {
          "output_type": "execute_result",
          "data": {
            "text/plain": [
              "A      int64\n",
              "B      int64\n",
              "C      int64\n",
              "D      int64\n",
              "E      int64\n",
              "F     object\n",
              "G    float64\n",
              "H     object\n",
              "K    float64\n",
              "L    float64\n",
              "M    float64\n",
              "N      int64\n",
              "dtype: object"
            ]
          },
          "metadata": {
            "tags": []
          },
          "execution_count": 28
        }
      ]
    },
    {
      "cell_type": "markdown",
      "metadata": {
        "id": "O3i4F5WHmCZY"
      },
      "source": [
        "#"
      ]
    },
    {
      "cell_type": "markdown",
      "metadata": {
        "id": "Yn6Ja-Pyk0a0"
      },
      "source": [
        "# LIST"
      ]
    },
    {
      "cell_type": "code",
      "metadata": {
        "id": "ZMJbZYsI6PlA"
      },
      "source": [
        "x=[\"a\",\"b\",\"c\"]"
      ],
      "execution_count": null,
      "outputs": []
    },
    {
      "cell_type": "code",
      "metadata": {
        "id": "EONRLVr2knJp"
      },
      "source": [
        "d,e,f=x"
      ],
      "execution_count": null,
      "outputs": []
    },
    {
      "cell_type": "code",
      "metadata": {
        "id": "mOOiq6ntkqLT",
        "colab": {
          "base_uri": "https://localhost:8080/",
          "height": 35
        },
        "outputId": "7652f3b3-70de-4b52-ae76-27d22ccb7fb1"
      },
      "source": [
        "d"
      ],
      "execution_count": null,
      "outputs": [
        {
          "output_type": "execute_result",
          "data": {
            "application/vnd.google.colaboratory.intrinsic+json": {
              "type": "string"
            },
            "text/plain": [
              "'a'"
            ]
          },
          "metadata": {
            "tags": []
          },
          "execution_count": 7
        }
      ]
    },
    {
      "cell_type": "markdown",
      "metadata": {
        "id": "RPlrOSD4wV-O"
      },
      "source": [
        "# PRINT"
      ]
    },
    {
      "cell_type": "code",
      "metadata": {
        "id": "hOBqmoXjwU2u",
        "colab": {
          "base_uri": "https://localhost:8080/"
        },
        "outputId": "12df5e61-faf0-45a1-e2c5-c59d4852e164"
      },
      "source": [
        "sales_record = {\n",
        "'price': 3.24,\n",
        "'num_items': 4,\n",
        "'person': 'Chris'}\n",
        "\n",
        "sales_statement = '{} bought {} item(s) at a price of {} each for a total of {}'\n",
        "\n",
        "print(sales_statement.format(sales_record['person'],\n",
        "                             sales_record['num_items'],\n",
        "                             sales_record['price'],\n",
        "                             sales_record['num_items']*sales_record['price']))"
      ],
      "execution_count": null,
      "outputs": [
        {
          "output_type": "stream",
          "text": [
            "Chris bought 4 item(s) at a price of 3.24 each for a total of 12.96\n"
          ],
          "name": "stdout"
        }
      ]
    },
    {
      "cell_type": "code",
      "metadata": {
        "id": "D3ivaoMF3vDG"
      },
      "source": [
        ""
      ],
      "execution_count": null,
      "outputs": []
    },
    {
      "cell_type": "markdown",
      "metadata": {
        "id": "2-rOEtTz3t6F"
      },
      "source": [
        "# DATA TIME"
      ]
    },
    {
      "cell_type": "code",
      "metadata": {
        "id": "kvSv5wWa4Evk"
      },
      "source": [
        "import datetime as dt\n",
        "import time as tm"
      ],
      "execution_count": null,
      "outputs": []
    },
    {
      "cell_type": "markdown",
      "metadata": {
        "id": "9lp81GN64NjG"
      },
      "source": [
        "`time` returns the current time in seconds since the Epoch. (January 1st, 1970)"
      ]
    },
    {
      "cell_type": "code",
      "metadata": {
        "id": "_b2Cj_Ke4PtK",
        "colab": {
          "base_uri": "https://localhost:8080/"
        },
        "outputId": "09fa47c1-f149-42ce-bc76-ce3bdc52a047"
      },
      "source": [
        "tm.time()"
      ],
      "execution_count": null,
      "outputs": [
        {
          "output_type": "execute_result",
          "data": {
            "text/plain": [
              "1604063013.1782887"
            ]
          },
          "metadata": {
            "tags": []
          },
          "execution_count": 3
        }
      ]
    },
    {
      "cell_type": "markdown",
      "metadata": {
        "id": "EzhDAYNJ4e5-"
      },
      "source": [
        "Convert the timestamp to datetime."
      ]
    },
    {
      "cell_type": "code",
      "metadata": {
        "id": "b2-Ymtmr4d30",
        "colab": {
          "base_uri": "https://localhost:8080/"
        },
        "outputId": "a72b597b-4ac4-4066-daf0-afe49f07749d"
      },
      "source": [
        "dtnow = dt.datetime.fromtimestamp(tm.time())\n",
        "dtnow"
      ],
      "execution_count": null,
      "outputs": [
        {
          "output_type": "execute_result",
          "data": {
            "text/plain": [
              "datetime.datetime(2020, 10, 30, 13, 4, 37, 907094)"
            ]
          },
          "metadata": {
            "tags": []
          },
          "execution_count": 5
        }
      ]
    },
    {
      "cell_type": "markdown",
      "metadata": {
        "id": "lQzdVxO_4vh6"
      },
      "source": [
        "Handy datetime attributes:"
      ]
    },
    {
      "cell_type": "code",
      "metadata": {
        "id": "yDTDxoan4hG-",
        "colab": {
          "base_uri": "https://localhost:8080/"
        },
        "outputId": "7ae05673-5243-4963-b069-09212d863366"
      },
      "source": [
        "dtnow.year, dtnow.month, dtnow.day, dtnow.hour, dtnow.minute, dtnow.second # get year, month, day, etc.from a datetime"
      ],
      "execution_count": null,
      "outputs": [
        {
          "output_type": "execute_result",
          "data": {
            "text/plain": [
              "(2020, 10, 30, 13, 4, 37)"
            ]
          },
          "metadata": {
            "tags": []
          },
          "execution_count": 6
        }
      ]
    },
    {
      "cell_type": "markdown",
      "metadata": {
        "id": "K4gLr0UH44wU"
      },
      "source": [
        "`timedelta` is a duration expressing the difference between two dates."
      ]
    },
    {
      "cell_type": "code",
      "metadata": {
        "id": "GjhLh5Wf45Lw",
        "colab": {
          "base_uri": "https://localhost:8080/"
        },
        "outputId": "104a46db-5a22-4b07-d628-4fd578a8b65b"
      },
      "source": [
        "delta = dt.timedelta(days = 100) # create a timedelta of 100 days\n",
        "delta"
      ],
      "execution_count": null,
      "outputs": [
        {
          "output_type": "execute_result",
          "data": {
            "text/plain": [
              "datetime.timedelta(100)"
            ]
          },
          "metadata": {
            "tags": []
          },
          "execution_count": 7
        }
      ]
    },
    {
      "cell_type": "code",
      "metadata": {
        "id": "hYoOvUvy49Mv"
      },
      "source": [
        "today = dt.date.today()"
      ],
      "execution_count": null,
      "outputs": []
    },
    {
      "cell_type": "code",
      "metadata": {
        "id": "pXpQ136m5CXg",
        "colab": {
          "base_uri": "https://localhost:8080/"
        },
        "outputId": "63c5b3f4-382c-49fe-9ace-b4d80429a446"
      },
      "source": [
        "today - delta # the date 100 days ago"
      ],
      "execution_count": null,
      "outputs": [
        {
          "output_type": "execute_result",
          "data": {
            "text/plain": [
              "datetime.date(2020, 7, 22)"
            ]
          },
          "metadata": {
            "tags": []
          },
          "execution_count": 9
        }
      ]
    },
    {
      "cell_type": "code",
      "metadata": {
        "id": "c_zhSp5d5Efn"
      },
      "source": [
        ""
      ],
      "execution_count": null,
      "outputs": []
    },
    {
      "cell_type": "markdown",
      "metadata": {
        "id": "rmoWOdPG5Rvl"
      },
      "source": [
        "# LAMBDA\n",
        "\n",
        "lambda fonksiyonu aşağıdaki gibi de yazılabilir. bir çok yer de lampda fonksiyonu def'ten çok daha kullanışlıdır. map'in içinde de kullanılabilir. "
      ]
    },
    {
      "cell_type": "code",
      "metadata": {
        "id": "YelQCdVtHUT8",
        "colab": {
          "base_uri": "https://localhost:8080/"
        },
        "outputId": "9920a4af-b7be-400c-b73f-2473f6b51caf"
      },
      "source": [
        "(lambda a, b, c : a + b)(8,12,16)"
      ],
      "execution_count": null,
      "outputs": [
        {
          "output_type": "execute_result",
          "data": {
            "text/plain": [
              "20"
            ]
          },
          "metadata": {
            "tags": []
          },
          "execution_count": 31
        }
      ]
    },
    {
      "cell_type": "code",
      "metadata": {
        "id": "HR_isjr-Hm4m",
        "colab": {
          "base_uri": "https://localhost:8080/"
        },
        "outputId": "3989c42f-5fff-4b94-a725-63bbc1a5b08d"
      },
      "source": [
        "people = ['Dr. Christopher Brooks', 'Dr. Kevyn Collins-Thompson', 'Dr. VG Vinod Vydiswaran', 'Dr. Daniel Romero']\n",
        "\n",
        "def split_title_and_name(person):\n",
        "    return person.split()[0] + ' ' + person.split()[-1]\n",
        "\n",
        "#option 1\n",
        "for person in people:\n",
        "    print(split_title_and_name(person) == (lambda x: x.split()[0] + ' ' + x.split()[-1])(person))\n",
        "\n",
        "#option 2\n",
        "list(map(split_title_and_name, people)) == list(map(lambda person: person.split()[0] + ' ' + person.split()[-1], people))"
      ],
      "execution_count": null,
      "outputs": [
        {
          "output_type": "stream",
          "text": [
            "True\n",
            "True\n",
            "True\n",
            "True\n"
          ],
          "name": "stdout"
        },
        {
          "output_type": "execute_result",
          "data": {
            "text/plain": [
              "True"
            ]
          },
          "metadata": {
            "tags": []
          },
          "execution_count": 32
        }
      ]
    },
    {
      "cell_type": "markdown",
      "metadata": {
        "id": "KzdYzsSwIAcI"
      },
      "source": [
        "lambda ve mapin ortak kullanıldığı örnek "
      ]
    },
    {
      "cell_type": "code",
      "metadata": {
        "id": "HLYd4P_CH-zn"
      },
      "source": [
        "list_deneme=[1,2,5,6,7]\n",
        "#yeni bir list ile tüm değerlerin 4 katının 5 gazlasını yazalım"
      ],
      "execution_count": null,
      "outputs": []
    },
    {
      "cell_type": "code",
      "metadata": {
        "id": "szQNiYkpIGQ9",
        "colab": {
          "base_uri": "https://localhost:8080/"
        },
        "outputId": "3ae0e628-d5a0-4418-ec22-83f0311ad3d1"
      },
      "source": [
        "#lambda kullanılarak\n",
        "\n",
        "list(map(lambda x:x*4+5,list_deneme))"
      ],
      "execution_count": null,
      "outputs": [
        {
          "output_type": "execute_result",
          "data": {
            "text/plain": [
              "[9, 13, 25, 29, 33]"
            ]
          },
          "metadata": {
            "tags": []
          },
          "execution_count": 37
        }
      ]
    },
    {
      "cell_type": "code",
      "metadata": {
        "id": "uEtUkpVXIYF_",
        "colab": {
          "base_uri": "https://localhost:8080/"
        },
        "outputId": "51295cb6-ac7a-4a13-b3ea-c255a02df2c1"
      },
      "source": [
        "#def tanımlanarak\n",
        "def exercise_1(x):\n",
        "  return 4*x+5\n",
        "\n",
        "list(map(exercise_1,list_deneme))"
      ],
      "execution_count": null,
      "outputs": [
        {
          "output_type": "execute_result",
          "data": {
            "text/plain": [
              "[9, 13, 25, 29, 33]"
            ]
          },
          "metadata": {
            "tags": []
          },
          "execution_count": 39
        }
      ]
    },
    {
      "cell_type": "code",
      "metadata": {
        "id": "b39t2FH8Iga_",
        "colab": {
          "base_uri": "https://localhost:8080/"
        },
        "outputId": "7c60eeec-66ea-4fdd-998f-c085fac7fa5e"
      },
      "source": [
        "#list comp ile oluşturma\n",
        "[4*x+5 for x in list_deneme]"
      ],
      "execution_count": null,
      "outputs": [
        {
          "output_type": "execute_result",
          "data": {
            "text/plain": [
              "[9, 13, 25, 29, 33]"
            ]
          },
          "metadata": {
            "tags": []
          },
          "execution_count": 42
        }
      ]
    },
    {
      "cell_type": "code",
      "metadata": {
        "id": "9cYsgPYyIzlN",
        "colab": {
          "base_uri": "https://localhost:8080/",
          "height": 142
        },
        "outputId": "097ce569-be38-47d3-b965-f29c67466c20"
      },
      "source": [
        "#lampda ile yeni bir kolon tanımlarken \n",
        "\n",
        "import pandas as pd\n",
        "df=pd.DataFrame([[1,2],[6,7],[4,2]], columns=[\"A\",\"B\"])\n",
        "\n",
        "df[\"C\"]=df[\"B\"].map(lambda x:x*2)\n",
        "\n",
        "df"
      ],
      "execution_count": null,
      "outputs": [
        {
          "output_type": "execute_result",
          "data": {
            "text/html": [
              "<div>\n",
              "<style scoped>\n",
              "    .dataframe tbody tr th:only-of-type {\n",
              "        vertical-align: middle;\n",
              "    }\n",
              "\n",
              "    .dataframe tbody tr th {\n",
              "        vertical-align: top;\n",
              "    }\n",
              "\n",
              "    .dataframe thead th {\n",
              "        text-align: right;\n",
              "    }\n",
              "</style>\n",
              "<table border=\"1\" class=\"dataframe\">\n",
              "  <thead>\n",
              "    <tr style=\"text-align: right;\">\n",
              "      <th></th>\n",
              "      <th>A</th>\n",
              "      <th>B</th>\n",
              "      <th>C</th>\n",
              "    </tr>\n",
              "  </thead>\n",
              "  <tbody>\n",
              "    <tr>\n",
              "      <th>0</th>\n",
              "      <td>1</td>\n",
              "      <td>2</td>\n",
              "      <td>4</td>\n",
              "    </tr>\n",
              "    <tr>\n",
              "      <th>1</th>\n",
              "      <td>6</td>\n",
              "      <td>7</td>\n",
              "      <td>14</td>\n",
              "    </tr>\n",
              "    <tr>\n",
              "      <th>2</th>\n",
              "      <td>4</td>\n",
              "      <td>2</td>\n",
              "      <td>4</td>\n",
              "    </tr>\n",
              "  </tbody>\n",
              "</table>\n",
              "</div>"
            ],
            "text/plain": [
              "   A  B   C\n",
              "0  1  2   4\n",
              "1  6  7  14\n",
              "2  4  2   4"
            ]
          },
          "metadata": {
            "tags": []
          },
          "execution_count": 50
        }
      ]
    },
    {
      "cell_type": "code",
      "metadata": {
        "id": "vNlduQ5eTtjC"
      },
      "source": [
        ""
      ],
      "execution_count": null,
      "outputs": []
    },
    {
      "cell_type": "markdown",
      "metadata": {
        "id": "5SlnOrcoaVkN"
      },
      "source": [
        "# ARRAY\n",
        "\n",
        "phytonda numpy kütüphanesi ile işlenir. listlerden meydana gelmiş matrisler gibi düşünülebilir. her bir satır bir liste karşılık gelir. dataframe gibi kolonları yoktur. performansı çok yüksektir. array means list of lists"
      ]
    },
    {
      "cell_type": "code",
      "metadata": {
        "id": "EP7y5FhnaYsA",
        "colab": {
          "background_save": true
        }
      },
      "source": [
        "import numpy as np\n",
        "import math"
      ],
      "execution_count": null,
      "outputs": []
    },
    {
      "cell_type": "code",
      "metadata": {
        "id": "z98bnKrDbXbn"
      },
      "source": [
        "array_1=np.array([1,2,3,5])"
      ],
      "execution_count": null,
      "outputs": []
    },
    {
      "cell_type": "code",
      "metadata": {
        "id": "6c4yY1_ebx_K",
        "colab": {
          "base_uri": "https://localhost:8080/"
        },
        "outputId": "40a83d56-7a24-4823-a6eb-b423936011a0"
      },
      "source": [
        "array_1"
      ],
      "execution_count": null,
      "outputs": [
        {
          "output_type": "execute_result",
          "data": {
            "text/plain": [
              "array([1, 2, 3, 5])"
            ]
          },
          "metadata": {
            "tags": []
          },
          "execution_count": 3
        }
      ]
    },
    {
      "cell_type": "code",
      "metadata": {
        "id": "FtKMQ839bzqb"
      },
      "source": [
        "array_2=np.array([[1,2,4,5],[2,3,8,12]])"
      ],
      "execution_count": null,
      "outputs": []
    },
    {
      "cell_type": "code",
      "metadata": {
        "id": "hmuCQjLtb99h",
        "colab": {
          "base_uri": "https://localhost:8080/"
        },
        "outputId": "d33dcdb5-f047-4fbb-f8ae-2dac9669b77c"
      },
      "source": [
        "array_2"
      ],
      "execution_count": null,
      "outputs": [
        {
          "output_type": "execute_result",
          "data": {
            "text/plain": [
              "array([[ 1,  2,  4,  5],\n",
              "       [ 2,  3,  8, 12]])"
            ]
          },
          "metadata": {
            "tags": []
          },
          "execution_count": 9
        }
      ]
    },
    {
      "cell_type": "code",
      "metadata": {
        "id": "zwTjeY4pb-77",
        "colab": {
          "base_uri": "https://localhost:8080/"
        },
        "outputId": "0fb27ee8-796a-46f5-dd01-90ca55d7e758"
      },
      "source": [
        "print(array_2)"
      ],
      "execution_count": null,
      "outputs": [
        {
          "output_type": "stream",
          "text": [
            "[[ 1  2  4  5]\n",
            " [ 2  3  8 12]]\n"
          ],
          "name": "stdout"
        }
      ]
    },
    {
      "cell_type": "code",
      "metadata": {
        "id": "YO0XOChecGHH",
        "colab": {
          "base_uri": "https://localhost:8080/"
        },
        "outputId": "9367767a-f225-4910-f45a-23172e34c691"
      },
      "source": [
        "array_2.shape"
      ],
      "execution_count": null,
      "outputs": [
        {
          "output_type": "execute_result",
          "data": {
            "text/plain": [
              "(2, 4)"
            ]
          },
          "metadata": {
            "tags": []
          },
          "execution_count": 11
        }
      ]
    },
    {
      "cell_type": "code",
      "metadata": {
        "id": "LL5OTGOXcaD9",
        "colab": {
          "base_uri": "https://localhost:8080/"
        },
        "outputId": "c84d5a1e-0b4b-4361-efd2-ceef4785f108"
      },
      "source": [
        "array_2.ndim"
      ],
      "execution_count": null,
      "outputs": [
        {
          "output_type": "execute_result",
          "data": {
            "text/plain": [
              "2"
            ]
          },
          "metadata": {
            "tags": []
          },
          "execution_count": 14
        }
      ]
    },
    {
      "cell_type": "code",
      "metadata": {
        "id": "bJ5Xi_6vciph",
        "colab": {
          "base_uri": "https://localhost:8080/"
        },
        "outputId": "a66249ee-1660-4427-b0a9-74104d640357"
      },
      "source": [
        "array_2.dtype"
      ],
      "execution_count": null,
      "outputs": [
        {
          "output_type": "execute_result",
          "data": {
            "text/plain": [
              "dtype('int64')"
            ]
          },
          "metadata": {
            "tags": []
          },
          "execution_count": 16
        }
      ]
    },
    {
      "cell_type": "code",
      "metadata": {
        "id": "P2Z_uDc5c3QX",
        "colab": {
          "base_uri": "https://localhost:8080/"
        },
        "outputId": "f9574117-d4cd-4e1e-d40c-d2591dcc8bd1"
      },
      "source": [
        "array_3=np.array([[1,2,4,5.2],[2,3,8,12]])\n",
        "print(array_3)\n",
        "print()\n",
        "print(array_3.dtype)"
      ],
      "execution_count": null,
      "outputs": [
        {
          "output_type": "stream",
          "text": [
            "[[ 1.   2.   4.   5.2]\n",
            " [ 2.   3.   8.  12. ]]\n",
            "\n",
            "float64\n"
          ],
          "name": "stdout"
        }
      ]
    },
    {
      "cell_type": "code",
      "metadata": {
        "id": "7bxsponRc9ds",
        "colab": {
          "base_uri": "https://localhost:8080/"
        },
        "outputId": "f213e7a9-bfe0-4cee-c29a-ea748d6136f4"
      },
      "source": [
        "array_4=np.array([[1,\"b\",4,5.2],[2,3,8,12]])\n",
        "print(array_4)\n",
        "print()\n",
        "print(array_4.dtype.name)\n",
        "#array yaratılırken en geniş data tipi seçilir. son örnekte char olduğu için tüm değerler chara döndü"
      ],
      "execution_count": null,
      "outputs": [
        {
          "output_type": "stream",
          "text": [
            "[['1' 'b' '4' '5.2']\n",
            " ['2' '3' '8' '12']]\n",
            "\n",
            "str672\n"
          ],
          "name": "stdout"
        }
      ]
    },
    {
      "cell_type": "code",
      "metadata": {
        "id": "fQ5whxTSdK08",
        "colab": {
          "base_uri": "https://localhost:8080/"
        },
        "outputId": "e5b6a825-38f1-4ee3-f913-874fcc1ed4bb"
      },
      "source": [
        "a=np.zeros((3,4))\n",
        "b=np.ones((3,4))\n",
        "print(a)\n",
        "print()\n",
        "print(b)"
      ],
      "execution_count": null,
      "outputs": [
        {
          "output_type": "stream",
          "text": [
            "[[0. 0. 0. 0.]\n",
            " [0. 0. 0. 0.]\n",
            " [0. 0. 0. 0.]]\n",
            "\n",
            "[[1. 1. 1. 1.]\n",
            " [1. 1. 1. 1.]\n",
            " [1. 1. 1. 1.]]\n"
          ],
          "name": "stdout"
        }
      ]
    },
    {
      "cell_type": "code",
      "metadata": {
        "id": "falG7jIsdhEM",
        "colab": {
          "base_uri": "https://localhost:8080/"
        },
        "outputId": "58afd29e-1ba1-404f-8428-45a608ddf4c0"
      },
      "source": [
        "np.random.rand(2,3)"
      ],
      "execution_count": null,
      "outputs": [
        {
          "output_type": "execute_result",
          "data": {
            "text/plain": [
              "array([[0.1997274 , 0.43241364, 0.31193251],\n",
              "       [0.10763035, 0.92310683, 0.6281075 ]])"
            ]
          },
          "metadata": {
            "tags": []
          },
          "execution_count": 29
        }
      ]
    },
    {
      "cell_type": "code",
      "metadata": {
        "id": "7XoYT32BeGPr",
        "colab": {
          "base_uri": "https://localhost:8080/"
        },
        "outputId": "6d2122cf-47d2-4046-edf8-0586cbcbbd75"
      },
      "source": [
        "np.arange(10,50,2)"
      ],
      "execution_count": null,
      "outputs": [
        {
          "output_type": "execute_result",
          "data": {
            "text/plain": [
              "array([10, 12, 14, 16, 18, 20, 22, 24, 26, 28, 30, 32, 34, 36, 38, 40, 42,\n",
              "       44, 46, 48])"
            ]
          },
          "metadata": {
            "tags": []
          },
          "execution_count": 31
        }
      ]
    },
    {
      "cell_type": "code",
      "metadata": {
        "id": "lkfpVVhyefCJ",
        "colab": {
          "base_uri": "https://localhost:8080/"
        },
        "outputId": "98bfad94-cdff-42f8-93b4-a62badad9ece"
      },
      "source": [
        "np.linspace(0,2,16) #float için böyle yapılmalı"
      ],
      "execution_count": null,
      "outputs": [
        {
          "output_type": "execute_result",
          "data": {
            "text/plain": [
              "array([0.        , 0.13333333, 0.26666667, 0.4       , 0.53333333,\n",
              "       0.66666667, 0.8       , 0.93333333, 1.06666667, 1.2       ,\n",
              "       1.33333333, 1.46666667, 1.6       , 1.73333333, 1.86666667,\n",
              "       2.        ])"
            ]
          },
          "metadata": {
            "tags": []
          },
          "execution_count": 33
        }
      ]
    },
    {
      "cell_type": "markdown",
      "metadata": {
        "id": "hnuYwZXFfYB-"
      },
      "source": [
        "arraylerde aritmetik işlemler aynı matrixlerde olduğu gibi gerçekleşir."
      ]
    },
    {
      "cell_type": "code",
      "metadata": {
        "id": "oQF8bWJAe19Z",
        "colab": {
          "base_uri": "https://localhost:8080/"
        },
        "outputId": "332f5284-babc-4c0e-8a1c-c77270b5755f"
      },
      "source": [
        "a=np.array([[1,2,4],[2,4,5]])\n",
        "b=np.array([[3,0,2],[1,2,6]])\n",
        "print(a)\n",
        "print()\n",
        "print(b)"
      ],
      "execution_count": null,
      "outputs": [
        {
          "output_type": "stream",
          "text": [
            "[[1 2 4]\n",
            " [2 4 5]]\n",
            "\n",
            "[[3 0 2]\n",
            " [1 2 6]]\n"
          ],
          "name": "stdout"
        }
      ]
    },
    {
      "cell_type": "code",
      "metadata": {
        "id": "nOzNjbYPfnZp",
        "colab": {
          "base_uri": "https://localhost:8080/"
        },
        "outputId": "8e091df3-4961-44b5-dbd9-22b3719a5687"
      },
      "source": [
        "print(a+b)\n",
        "print()\n",
        "print(a-b)\n",
        "print()\n",
        "print(a*b) #birebir çarpım(elementvise product), vektörel çarpım sonra gelecek\n",
        "print()\n",
        "print(a*2-6)\n",
        "\n"
      ],
      "execution_count": null,
      "outputs": [
        {
          "output_type": "stream",
          "text": [
            "[[ 4  2  6]\n",
            " [ 3  6 11]]\n",
            "\n",
            "[[-2  2  2]\n",
            " [ 1  2 -1]]\n",
            "\n",
            "[[ 3  0  8]\n",
            " [ 2  8 30]]\n",
            "\n",
            "[[-4 -2  2]\n",
            " [-2  2  4]]\n"
          ],
          "name": "stdout"
        }
      ]
    },
    {
      "cell_type": "code",
      "metadata": {
        "id": "UqoW-Znxfzsv",
        "colab": {
          "base_uri": "https://localhost:8080/"
        },
        "outputId": "6c784202-6df9-4a68-f19f-4619bce631ae"
      },
      "source": [
        "(a*2-6)>0"
      ],
      "execution_count": null,
      "outputs": [
        {
          "output_type": "execute_result",
          "data": {
            "text/plain": [
              "array([[False, False,  True],\n",
              "       [False,  True,  True]])"
            ]
          },
          "metadata": {
            "tags": []
          },
          "execution_count": 42
        }
      ]
    },
    {
      "cell_type": "code",
      "metadata": {
        "id": "8iICqfFMhAHP",
        "colab": {
          "base_uri": "https://localhost:8080/"
        },
        "outputId": "fd99be1e-bf6f-4887-d689-75f00ffb64c1"
      },
      "source": [
        "(3*a)%2==0"
      ],
      "execution_count": null,
      "outputs": [
        {
          "output_type": "execute_result",
          "data": {
            "text/plain": [
              "array([[False,  True,  True],\n",
              "       [ True,  True, False]])"
            ]
          },
          "metadata": {
            "tags": []
          },
          "execution_count": 44
        }
      ]
    },
    {
      "cell_type": "code",
      "metadata": {
        "id": "oMYR5bpWhtOA",
        "colab": {
          "base_uri": "https://localhost:8080/"
        },
        "outputId": "ff2c432a-e397-40fc-df0f-048ddd891b42"
      },
      "source": [
        "a=np.array([[1,2,4],[2,4,5]])\n",
        "b=np.array([[3,0],[1,2],[2,0]])\n",
        "print(a@b) #matrix product"
      ],
      "execution_count": null,
      "outputs": [
        {
          "output_type": "stream",
          "text": [
            "[[13  4]\n",
            " [20  8]]\n"
          ],
          "name": "stdout"
        }
      ]
    },
    {
      "cell_type": "code",
      "metadata": {
        "id": "0M9dKmPciQ7d",
        "colab": {
          "base_uri": "https://localhost:8080/"
        },
        "outputId": "a23a7d6f-fdb5-4f9c-dd20-df1fcdcab404"
      },
      "source": [
        "print(a.min())\n",
        "print(a.max())\n",
        "print(a.mean())\n",
        "print(a.std())\n",
        "print(a.sum())"
      ],
      "execution_count": null,
      "outputs": [
        {
          "output_type": "stream",
          "text": [
            "1\n",
            "5\n",
            "3.0\n",
            "1.4142135623730951\n",
            "18\n"
          ],
          "name": "stdout"
        }
      ]
    },
    {
      "cell_type": "code",
      "metadata": {
        "id": "1FswG9N2i8ZD",
        "colab": {
          "base_uri": "https://localhost:8080/"
        },
        "outputId": "505cc831-644f-4a9c-81ab-f5fb074d78ce"
      },
      "source": [
        "np.arange(1,16,1).reshape(3,5)"
      ],
      "execution_count": null,
      "outputs": [
        {
          "output_type": "execute_result",
          "data": {
            "text/plain": [
              "array([[ 1,  2,  3,  4,  5],\n",
              "       [ 6,  7,  8,  9, 10],\n",
              "       [11, 12, 13, 14, 15]])"
            ]
          },
          "metadata": {
            "tags": []
          },
          "execution_count": 50
        }
      ]
    },
    {
      "cell_type": "code",
      "metadata": {
        "id": "xyTR0GDGju1x",
        "colab": {
          "base_uri": "https://localhost:8080/"
        },
        "outputId": "6c1254d5-6735-4321-e2e7-aaa187a9334a"
      },
      "source": [
        "a=np.array([[1,2,4],[2,4,5]])\n",
        "print(a)\n",
        "print()\n",
        "print(a.reshape(3,2))"
      ],
      "execution_count": null,
      "outputs": [
        {
          "output_type": "stream",
          "text": [
            "[[1 2 4]\n",
            " [2 4 5]]\n",
            "\n",
            "[[1 2]\n",
            " [4 2]\n",
            " [4 5]]\n"
          ],
          "name": "stdout"
        }
      ]
    },
    {
      "cell_type": "code",
      "metadata": {
        "id": "B6UrqTpq-GiE",
        "colab": {
          "base_uri": "https://localhost:8080/"
        },
        "outputId": "88d49630-1003-4c68-f7c8-2cd5337b3c48"
      },
      "source": [
        "a"
      ],
      "execution_count": null,
      "outputs": [
        {
          "output_type": "execute_result",
          "data": {
            "text/plain": [
              "array([[1, 2, 4],\n",
              "       [2, 4, 5]])"
            ]
          },
          "metadata": {
            "tags": []
          },
          "execution_count": 17
        }
      ]
    },
    {
      "cell_type": "code",
      "metadata": {
        "id": "8JHDJgrQj5B8",
        "colab": {
          "base_uri": "https://localhost:8080/"
        },
        "outputId": "721eabfa-1fdc-445b-d65e-65b3d402cfb1"
      },
      "source": [
        "print(a[0,1])\n",
        "print()\n",
        "print(a[[0,1],[1,1]]) # burda a arrayinden 0,1 ve 1,1 noktalarını alıyor ,lk list x ikinci y\n",
        "print()\n",
        "print(a[:,0:1])\n",
        "print()\n",
        "print(a[:,2]) #bu şekilde yazınca shape değişiyor ve yatay oluyor. shape korunsun isteniyorsa bir aşağıdaki gibi yazılmalı\n",
        "              #yani yatay veya dikey indexleme için tek bir index numrası vermemek gerekir\n",
        "print()\n",
        "print(a[:,2:3])\n",
        "print()\n",
        "print(a[0,:])\n",
        "print()\n",
        "print(a[0:3,1:2])\n",
        "print()\n",
        "print(a[:,[0,2]])\n",
        "print()\n",
        "print(a[:,[0,2]].mean())\n",
        "\n"
      ],
      "execution_count": null,
      "outputs": [
        {
          "output_type": "stream",
          "text": [
            "50\n",
            "\n",
            "[50  4]\n",
            "\n",
            "[[1]\n",
            " [2]]\n",
            "\n",
            "[4 5]\n",
            "\n",
            "[[4]\n",
            " [5]]\n",
            "\n",
            "[ 1 50  4]\n",
            "\n",
            "[[50]\n",
            " [ 4]]\n",
            "\n",
            "[[1 4]\n",
            " [2 5]]\n",
            "\n",
            "3.0\n"
          ],
          "name": "stdout"
        }
      ]
    },
    {
      "cell_type": "code",
      "metadata": {
        "id": "9kuyxBSI_YKf",
        "colab": {
          "base_uri": "https://localhost:8080/"
        },
        "outputId": "e5e9554c-b9c3-4daf-efcf-be5621263c9f"
      },
      "source": [
        "print(a)\n",
        "print()\n",
        "print(a>1)\n",
        "print()\n",
        "print(a[a>1]) #bütün trueları yanyana yazıp getiriyor"
      ],
      "execution_count": null,
      "outputs": [
        {
          "output_type": "stream",
          "text": [
            "[[1 2 4]\n",
            " [2 4 5]]\n",
            "\n",
            "[[False  True  True]\n",
            " [ True  True  True]]\n",
            "\n",
            "[2 4 2 4 5]\n"
          ],
          "name": "stdout"
        }
      ]
    },
    {
      "cell_type": "code",
      "metadata": {
        "id": "rThrKwqXAwPv",
        "colab": {
          "base_uri": "https://localhost:8080/"
        },
        "outputId": "6d8f7bb2-001d-44f9-cd07-5aae7df003fb"
      },
      "source": [
        "print(a)\n",
        "print()\n",
        "sub_a=a[0:2,1:3]\n",
        "print(sub_a)\n",
        "sub_a[0,0]=50\n",
        "print()\n",
        "print(a)\n",
        "print()\n",
        "print(sub_a) #bir arraydan başla bir array yaratılırse ikincide yapılan değişikklik 1.ye yansır\n",
        "\n"
      ],
      "execution_count": null,
      "outputs": [
        {
          "output_type": "stream",
          "text": [
            "[[ 1 50  4]\n",
            " [ 2  4  5]]\n",
            "\n",
            "[[50  4]\n",
            " [ 4  5]]\n",
            "\n",
            "[[ 1 50  4]\n",
            " [ 2  4  5]]\n",
            "\n",
            "[[50  4]\n",
            " [ 4  5]]\n"
          ],
          "name": "stdout"
        }
      ]
    },
    {
      "cell_type": "markdown",
      "metadata": {
        "id": "6obc4z6xxBd4"
      },
      "source": [
        "# WHERE\n",
        "\n",
        "numpy kütüphanesi altında boolen mask ile çalışan bir fonsiyondur. ilk olarak condition yazılır (boolen mask olmalı yani true ve falselardan oluşan array, sonra boolan maskte true olanların ne ile doldurulacağı ve en sonda da false olanları ne ile doldurulacağı. "
      ]
    },
    {
      "cell_type": "code",
      "metadata": {
        "id": "VhQWc8xixXYS",
        "colab": {
          "base_uri": "https://localhost:8080/"
        },
        "outputId": "206319ee-7b97-466b-b178-d18f9795d0c1"
      },
      "source": [
        "a=np.arange(10)\n",
        "a"
      ],
      "execution_count": null,
      "outputs": [
        {
          "output_type": "execute_result",
          "data": {
            "text/plain": [
              "array([0, 1, 2, 3, 4, 5, 6, 7, 8, 9])"
            ]
          },
          "metadata": {
            "tags": []
          },
          "execution_count": 4
        }
      ]
    },
    {
      "cell_type": "code",
      "metadata": {
        "id": "ZzVRRn6bxlBh",
        "colab": {
          "base_uri": "https://localhost:8080/"
        },
        "outputId": "4f6e29ec-c2f6-428e-c238-272ebd5e159f"
      },
      "source": [
        "np.where(a<5,a,a*10)"
      ],
      "execution_count": null,
      "outputs": [
        {
          "output_type": "execute_result",
          "data": {
            "text/plain": [
              "array([ 0,  1,  2,  3,  4, 50, 60, 70, 80, 90])"
            ]
          },
          "metadata": {
            "tags": []
          },
          "execution_count": 7
        }
      ]
    },
    {
      "cell_type": "code",
      "metadata": {
        "id": "grtdzGiLx13J",
        "colab": {
          "base_uri": "https://localhost:8080/"
        },
        "outputId": "c5e53194-0fa8-4a6d-806c-418f5fdbba49"
      },
      "source": [
        "#multi dimensional array için de uygulanabilir. burda true olanlar için ilk arrayden \n",
        "#false olanlar için 2. arrayden değer alıyor\n",
        "\n",
        "np.where([[True,False],[False,True]],[[8,7],[3,1]],[[9,4],[11,12]])\n"
      ],
      "execution_count": null,
      "outputs": [
        {
          "output_type": "execute_result",
          "data": {
            "text/plain": [
              "array([[ 8,  4],\n",
              "       [11,  1]])"
            ]
          },
          "metadata": {
            "tags": []
          },
          "execution_count": 11
        }
      ]
    },
    {
      "cell_type": "markdown",
      "metadata": {
        "id": "EZoyWjcpDT5y"
      },
      "source": [
        "## READ CSV TO ARRAY"
      ]
    },
    {
      "cell_type": "code",
      "metadata": {
        "id": "t_Ejf7jXDzqD"
      },
      "source": [
        "data_path='gdrive/My Drive/ds/data/trial'"
      ],
      "execution_count": null,
      "outputs": []
    },
    {
      "cell_type": "code",
      "metadata": {
        "id": "fECkqMg_Ddh5",
        "colab": {
          "base_uri": "https://localhost:8080/"
        },
        "outputId": "1552a348-22d2-4884-ebb1-32b699de84c8"
      },
      "source": [
        "#BERAT: csv dosyasından basitçe aşağıdaki gibi okunabilir. skip header ilk başlık satırını atlamak için \n",
        "#        kullanılır. bunları gelip bir arrayin içine yazar, bir sonraki örnekte de görüleceği üzere names de\n",
        "#        her bir kolon için tanımlanabilir. bu durumda arrayin shape ve type bilgisi değişir. \n",
        "# son olarak bazı csv formatınların tüm satır değerleri delimetla ayrılarak tek bir hücreye yazılmıştır (excelde)\n",
        "#bu durumda da isim verilmese bile kolonlara default isimler atanır ve yine tupple görüntüsü oluşur\n",
        "# To load a dataset in Numpy, we can use the genfromtxt() function. We can specify data file name, delimiter\n",
        "# (which is optional but often used), and number of rows to skip if we have a header row, hence it is 1 here\n",
        "\n",
        "# The genfromtxt() function has a parameter called dtype for specifying data types of each column this\n",
        "# parameter is optional. Without specifying the types, all types will be casted the same to the more\n",
        "# general/precise type\n",
        "\n",
        "wines = np.genfromtxt(data_path+\"/winequality.csv\", delimiter=\";\", skip_header=1)\n",
        "wines"
      ],
      "execution_count": null,
      "outputs": [
        {
          "output_type": "execute_result",
          "data": {
            "text/plain": [
              "array([[ 7.4  ,  0.7  ,  0.   , ...,  0.56 ,  9.4  ,  5.   ],\n",
              "       [ 7.8  ,  0.88 ,  0.   , ...,  0.68 ,  9.8  ,  5.   ],\n",
              "       [ 7.8  ,  0.76 ,  0.04 , ...,  0.65 ,  9.8  ,  5.   ],\n",
              "       ...,\n",
              "       [ 6.3  ,  0.51 ,  0.13 , ...,  0.75 , 11.   ,  6.   ],\n",
              "       [ 5.9  ,  0.645,  0.12 , ...,  0.71 , 10.2  ,  5.   ],\n",
              "       [ 6.   ,  0.31 ,  0.47 , ...,  0.66 , 11.   ,  6.   ]])"
            ]
          },
          "metadata": {
            "tags": []
          },
          "execution_count": 66
        }
      ]
    },
    {
      "cell_type": "code",
      "metadata": {
        "id": "oLKTMTboQypm",
        "colab": {
          "base_uri": "https://localhost:8080/"
        },
        "outputId": "703801a8-53e0-42b9-fbf7-5fcdddacfa78"
      },
      "source": [
        "wines.shape"
      ],
      "execution_count": null,
      "outputs": [
        {
          "output_type": "execute_result",
          "data": {
            "text/plain": [
              "(1599, 12)"
            ]
          },
          "metadata": {
            "tags": []
          },
          "execution_count": 67
        }
      ]
    },
    {
      "cell_type": "code",
      "metadata": {
        "id": "9MML-mgwLGtw",
        "colab": {
          "base_uri": "https://localhost:8080/"
        },
        "outputId": "783f21cc-37fa-4557-9014-4b00a74144ac"
      },
      "source": [
        "#bu şekilde name tanımlandığında aslında kolonu yok ediyor ve tüm bir satırı tek bir tupple a yazıyor. böylece satır sayısı \n",
        "#kadart tupple'ı alt alta yazmış oluyor. \n",
        "wines_name = np.genfromtxt(data_path+\"/winequality.csv\", delimiter=\";\", skip_header=1,names=(\"ebeer\",\"asdasd asdla\",\"aksdlasşd\",\"skldkd\",\"hsdkdl\",\"kslfp\",\"kdoeo\",\"södl\",\"klsw\",\"sdkeo\",\"skeoe\",\"ıkeole\"))\n",
        "wines_name"
      ],
      "execution_count": null,
      "outputs": [
        {
          "output_type": "execute_result",
          "data": {
            "text/plain": [
              "array([(7.4, 0.7  , 0.  , 1.9, 0.076, 11., 34., 0.9978 , 3.51, 0.56,  9.4, 5.),\n",
              "       (7.8, 0.88 , 0.  , 2.6, 0.098, 25., 67., 0.9968 , 3.2 , 0.68,  9.8, 5.),\n",
              "       (7.8, 0.76 , 0.04, 2.3, 0.092, 15., 54., 0.997  , 3.26, 0.65,  9.8, 5.),\n",
              "       ...,\n",
              "       (6.3, 0.51 , 0.13, 2.3, 0.076, 29., 40., 0.99574, 3.42, 0.75, 11. , 6.),\n",
              "       (5.9, 0.645, 0.12, 2. , 0.075, 32., 44., 0.99547, 3.57, 0.71, 10.2, 5.),\n",
              "       (6. , 0.31 , 0.47, 3.6, 0.067, 18., 42., 0.99549, 3.39, 0.66, 11. , 6.)],\n",
              "      dtype=[('ebeer', '<f8'), ('asdasd_asdla', '<f8'), ('aksdlasşd', '<f8'), ('skldkd', '<f8'), ('hsdkdl', '<f8'), ('kslfp', '<f8'), ('kdoeo', '<f8'), ('södl', '<f8'), ('klsw', '<f8'), ('sdkeo', '<f8'), ('skeoe', '<f8'), ('ıkeole', '<f8')])"
            ]
          },
          "metadata": {
            "tags": []
          },
          "execution_count": 73
        }
      ]
    },
    {
      "cell_type": "code",
      "metadata": {
        "id": "qvmnkoXTSozn",
        "colab": {
          "base_uri": "https://localhost:8080/"
        },
        "outputId": "22d53b64-099b-43c8-e1e5-791417865807"
      },
      "source": [
        "wines_name.shape"
      ],
      "execution_count": null,
      "outputs": [
        {
          "output_type": "execute_result",
          "data": {
            "text/plain": [
              "(1599,)"
            ]
          },
          "metadata": {
            "tags": []
          },
          "execution_count": 74
        }
      ]
    },
    {
      "cell_type": "code",
      "metadata": {
        "id": "9GwIWdnVTIwt",
        "colab": {
          "base_uri": "https://localhost:8080/"
        },
        "outputId": "b6afdba6-4c59-4cb3-e837-b07045da7cb9"
      },
      "source": [
        "#satır aşağıdaki gibi çağrılır. artık kolon olmadığı için wine_name[0,2] gibi bir ifade haat alır\n",
        "wines_name[1]"
      ],
      "execution_count": null,
      "outputs": [
        {
          "output_type": "execute_result",
          "data": {
            "text/plain": [
              "(7.8, 0.88, 0., 2.6, 0.098, 25., 67., 0.9968, 3.2, 0.68, 9.8, 5.)"
            ]
          },
          "metadata": {
            "tags": []
          },
          "execution_count": 77
        }
      ]
    },
    {
      "cell_type": "code",
      "metadata": {
        "id": "rQN8tRhWTirD",
        "colab": {
          "base_uri": "https://localhost:8080/"
        },
        "outputId": "ab1b26d7-c4de-4cc5-9598-c101d876a0f0"
      },
      "source": [
        "#kolon ise ancak aşağıdaki gibi çağrılabilir. \n",
        "wines_name[\"ebeer\"]"
      ],
      "execution_count": null,
      "outputs": [
        {
          "output_type": "execute_result",
          "data": {
            "text/plain": [
              "array([7.4, 7.8, 7.8, ..., 6.3, 5.9, 6. ])"
            ]
          },
          "metadata": {
            "tags": []
          },
          "execution_count": 78
        }
      ]
    },
    {
      "cell_type": "markdown",
      "metadata": {
        "id": "W2QW8MwOn3DP"
      },
      "source": [
        "# IMAGE"
      ]
    },
    {
      "cell_type": "code",
      "metadata": {
        "id": "4OXoZOGToT_O"
      },
      "source": [
        "from PIL import Image\n",
        "from IPython.display import display"
      ],
      "execution_count": null,
      "outputs": []
    },
    {
      "cell_type": "code",
      "metadata": {
        "id": "YO93_lhUn4hj",
        "colab": {
          "base_uri": "https://localhost:8080/",
          "height": 217
        },
        "outputId": "fe3757b1-ed17-4b0b-d84d-92017ba467e1"
      },
      "source": [
        "image_path='gdrive/My Drive/ds/data/image'\n",
        "# And let's just look at the image I'm talking about\n",
        "im = Image.open(image_path+'/cris.tiff')\n",
        "display(im)"
      ],
      "execution_count": null,
      "outputs": [
        {
          "output_type": "display_data",
          "data": {
            "image/png": "[encoded data removed]",
            "text/plain": [
              "<PIL.TiffImagePlugin.TiffImageFile image mode=L size=200x200 at 0x7FBC89CE9208>"
            ]
          },
          "metadata": {
            "tags": []
          }
        }
      ]
    },
    {
      "cell_type": "code",
      "metadata": {
        "id": "C4hWXDOPo6r1",
        "colab": {
          "base_uri": "https://localhost:8080/"
        },
        "outputId": "406e7a39-5cdb-4b33-e9aa-f0b725066365"
      },
      "source": [
        "# Now, we can conver this PIL image to a numpy array\n",
        "array=np.array(im)\n",
        "print(array.shape)\n",
        "array"
      ],
      "execution_count": null,
      "outputs": [
        {
          "output_type": "stream",
          "text": [
            "(200, 200)\n"
          ],
          "name": "stdout"
        },
        {
          "output_type": "execute_result",
          "data": {
            "text/plain": [
              "array([[118, 117, 118, ..., 103, 107, 110],\n",
              "       [113, 113, 113, ..., 100, 103, 106],\n",
              "       [108, 108, 107, ...,  95,  98, 102],\n",
              "       ...,\n",
              "       [177, 181, 182, ..., 193, 198, 192],\n",
              "       [178, 182, 183, ..., 193, 201, 189],\n",
              "       [178, 182, 184, ..., 193, 201, 187]], dtype=uint8)"
            ]
          },
          "metadata": {
            "tags": []
          },
          "execution_count": 57
        }
      ]
    },
    {
      "cell_type": "code",
      "metadata": {
        "id": "0rpyEi7YpOoo",
        "colab": {
          "base_uri": "https://localhost:8080/"
        },
        "outputId": "935d11c9-29dc-49ad-8bfd-5f006c72f806"
      },
      "source": [
        "mask=np.full(array.shape,255)#bir kaç deneme yapmak için tüm değerleri 256 olan array yaratıldı\n",
        "mask"
      ],
      "execution_count": null,
      "outputs": [
        {
          "output_type": "execute_result",
          "data": {
            "text/plain": [
              "array([[255, 255, 255, ..., 255, 255, 255],\n",
              "       [255, 255, 255, ..., 255, 255, 255],\n",
              "       [255, 255, 255, ..., 255, 255, 255],\n",
              "       ...,\n",
              "       [255, 255, 255, ..., 255, 255, 255],\n",
              "       [255, 255, 255, ..., 255, 255, 255],\n",
              "       [255, 255, 255, ..., 255, 255, 255]])"
            ]
          },
          "metadata": {
            "tags": []
          },
          "execution_count": 58
        }
      ]
    },
    {
      "cell_type": "code",
      "metadata": {
        "id": "EdBe8fkupbwN"
      },
      "source": [
        "modified_array=mask-array"
      ],
      "execution_count": null,
      "outputs": []
    },
    {
      "cell_type": "code",
      "metadata": {
        "id": "p2aXs0X9ppbe"
      },
      "source": [
        "modified_array=modified_array.astype(np.uint8) #bu adımı her bir değer bir renk koduna karşılık gelsin diye yapıyoruz--> 256.bizim data tipimiz de buna uygun. tüm değerler 0-255 arasında"
      ],
      "execution_count": null,
      "outputs": []
    },
    {
      "cell_type": "code",
      "metadata": {
        "id": "l0RXP11zpq-6",
        "colab": {
          "base_uri": "https://localhost:8080/",
          "height": 217
        },
        "outputId": "bf31554d-2147-4fc7-eeee-e8016def4d57"
      },
      "source": [
        "display(Image.fromarray(modified_array))"
      ],
      "execution_count": null,
      "outputs": [
        {
          "output_type": "display_data",
          "data": {
            "image/png": "[encoded data removed]",
            "text/plain": [
              "<PIL.Image.Image image mode=L size=200x200 at 0x7FBC89CE92B0>"
            ]
          },
          "metadata": {
            "tags": []
          }
        }
      ]
    },
    {
      "cell_type": "code",
      "metadata": {
        "id": "St6CUEj7qVcW",
        "colab": {
          "base_uri": "https://localhost:8080/",
          "height": 97
        },
        "outputId": "4cb7317d-acef-49b8-bd67-6bb63695b35d"
      },
      "source": [
        "display(Image.fromarray(modified_array.reshape(80,500)))"
      ],
      "execution_count": null,
      "outputs": [
        {
          "output_type": "display_data",
          "data": {
            "image/png": "[encoded data removed]",
            "text/plain": [
              "<PIL.Image.Image image mode=L size=500x80 at 0x7FBC8941E208>"
            ]
          },
          "metadata": {
            "tags": []
          }
        }
      ]
    },
    {
      "cell_type": "code",
      "metadata": {
        "id": "u-bdg-k5qgMq",
        "colab": {
          "base_uri": "https://localhost:8080/",
          "height": 117
        },
        "outputId": "e180f9ba-8cf4-4411-fdcc-1f0cb3cd860f"
      },
      "source": [
        "display(Image.fromarray(modified_array.reshape(100,400)))"
      ],
      "execution_count": null,
      "outputs": [
        {
          "output_type": "display_data",
          "data": {
            "image/png": "[encoded data removed]",
            "text/plain": [
              "<PIL.Image.Image image mode=L size=400x100 at 0x7FBC8941E2B0>"
            ]
          },
          "metadata": {
            "tags": []
          }
        }
      ]
    },
    {
      "cell_type": "code",
      "metadata": {
        "id": "ss5aXjxdPvK7",
        "colab": {
          "base_uri": "https://localhost:8080/"
        },
        "outputId": "f4e1e9fb-cf39-4596-b9db-2b072376fd98"
      },
      "source": [
        "# To load a dataset in Numpy, we can use the genfromtxt() function. We can specify data file name, delimiter\n",
        "# (which is optional but often used), and number of rows to skip if we have a header row, hence it is 1 here\n",
        "\n",
        "# The genfromtxt() function has a parameter called dtype for specifying data types of each column this\n",
        "# parameter is optional. Without specifying the types, all types will be casted the same to the more\n",
        "# general/precise type\n",
        "\n",
        "wines = np.genfromtxt(data_path+\"/winequality.csv\", delimiter=\";\", skip_header=1,names=( \"berasd\",\"asjdas\",\"skd asdşa\",\"jasdkasd\",\"sdasd\",\"dsfre\",\"kwwlw\",\"ssçşsç.s\",\"sddd ess vgggg\",\"jskd\",\"sklsdl\",\"kdldl\" ))\n",
        "wines"
      ],
      "execution_count": null,
      "outputs": [
        {
          "output_type": "execute_result",
          "data": {
            "text/plain": [
              "array([(7.4, 0.7  , 0.  , 1.9, 0.076, 11., 34., 0.9978 , 3.51, 0.56,  9.4, 5.),\n",
              "       (7.8, 0.88 , 0.  , 2.6, 0.098, 25., 67., 0.9968 , 3.2 , 0.68,  9.8, 5.),\n",
              "       (7.8, 0.76 , 0.04, 2.3, 0.092, 15., 54., 0.997  , 3.26, 0.65,  9.8, 5.),\n",
              "       ...,\n",
              "       (6.3, 0.51 , 0.13, 2.3, 0.076, 29., 40., 0.99574, 3.42, 0.75, 11. , 6.),\n",
              "       (5.9, 0.645, 0.12, 2. , 0.075, 32., 44., 0.99547, 3.57, 0.71, 10.2, 5.),\n",
              "       (6. , 0.31 , 0.47, 3.6, 0.067, 18., 42., 0.99549, 3.39, 0.66, 11. , 6.)],\n",
              "      dtype=[('berasd', '<f8'), ('asjdas', '<f8'), ('skd_asdşa', '<f8'), ('jasdkasd', '<f8'), ('sdasd', '<f8'), ('dsfre', '<f8'), ('kwwlw', '<f8'), ('ssçşsçs', '<f8'), ('sddd_ess_vgggg', '<f8'), ('jskd', '<f8'), ('sklsdl', '<f8'), ('kdldl', '<f8')])"
            ]
          },
          "metadata": {
            "tags": []
          },
          "execution_count": 59
        }
      ]
    },
    {
      "cell_type": "code",
      "metadata": {
        "id": "IFe48JTnQQVU",
        "colab": {
          "base_uri": "https://localhost:8080/"
        },
        "outputId": "a8c4b125-e170-49e5-9543-9cc3213a6df1"
      },
      "source": [
        "wines.shape"
      ],
      "execution_count": null,
      "outputs": [
        {
          "output_type": "execute_result",
          "data": {
            "text/plain": [
              "(1599,)"
            ]
          },
          "metadata": {
            "tags": []
          },
          "execution_count": 62
        }
      ]
    },
    {
      "cell_type": "markdown",
      "metadata": {
        "id": "AbL819LVfBHC"
      },
      "source": [
        "# REG EXP"
      ]
    },
    {
      "cell_type": "code",
      "metadata": {
        "id": "v60-Cp2FQq11"
      },
      "source": [
        "import re"
      ],
      "execution_count": null,
      "outputs": []
    },
    {
      "cell_type": "code",
      "metadata": {
        "id": "RGfyMrHBir23"
      },
      "source": [
        "text=\"My name is Berat Yasa\""
      ],
      "execution_count": null,
      "outputs": []
    },
    {
      "cell_type": "markdown",
      "metadata": {
        "id": "pAIkV-Tojh5U"
      },
      "source": [
        "## MATCH\n",
        "stringin başından karşılaştırmaya başlar aynı ise match olur. eğer match olursa bir fonksiyon döner olmazsa hiçbir şey dönmez if else ile kontrol edilebilir"
      ]
    },
    {
      "cell_type": "code",
      "metadata": {
        "id": "kzLl2cc_jgsy",
        "colab": {
          "base_uri": "https://localhost:8080/"
        },
        "outputId": "d1eae35c-7d60-49c5-db06-d2bd3526672d"
      },
      "source": [
        "if re.match(\"My nam\", text):\n",
        "  print(\"yes\")\n",
        "else:\n",
        "  print(\"no\")"
      ],
      "execution_count": null,
      "outputs": [
        {
          "output_type": "stream",
          "text": [
            "yes\n"
          ],
          "name": "stdout"
        }
      ]
    },
    {
      "cell_type": "code",
      "metadata": {
        "id": "P4fjU_8ziw-H",
        "colab": {
          "base_uri": "https://localhost:8080/"
        },
        "outputId": "1b21aa37-499f-41e5-acd7-2facefd5f3ca"
      },
      "source": [
        "if re.match(\"my nam\", text):\n",
        "  print(\"yes\")\n",
        "else:\n",
        "  print(\"no\")"
      ],
      "execution_count": null,
      "outputs": [
        {
          "output_type": "stream",
          "text": [
            "no\n"
          ],
          "name": "stdout"
        }
      ]
    },
    {
      "cell_type": "code",
      "metadata": {
        "id": "jmrLUQnXi7q-"
      },
      "source": [
        "re.match(\"adsa\", text)"
      ],
      "execution_count": null,
      "outputs": []
    },
    {
      "cell_type": "code",
      "metadata": {
        "id": "sS-ZzDFxjZX7",
        "colab": {
          "base_uri": "https://localhost:8080/"
        },
        "outputId": "4d1ba8d6-b86c-4d4b-95c6-00fbdd11f511"
      },
      "source": [
        "re.match(\"My nam\", text)"
      ],
      "execution_count": null,
      "outputs": [
        {
          "output_type": "execute_result",
          "data": {
            "text/plain": [
              "<_sre.SRE_Match object; span=(0, 6), match='My nam'>"
            ]
          },
          "metadata": {
            "tags": []
          },
          "execution_count": 9
        }
      ]
    },
    {
      "cell_type": "markdown",
      "metadata": {
        "id": "ic-KIFBNj985"
      },
      "source": [
        "## SEARCH\n",
        "textin içinde aynı ifade geçip geçmediğini search eder. diğer kurallar match ile aynı"
      ]
    },
    {
      "cell_type": "code",
      "metadata": {
        "id": "UmU3gX7Ij6Hf"
      },
      "source": [
        "text=\"My name is Berat Yasa. Berat is mine name\""
      ],
      "execution_count": null,
      "outputs": []
    },
    {
      "cell_type": "code",
      "metadata": {
        "id": "LwHnXnBmkQYE",
        "colab": {
          "base_uri": "https://localhost:8080/"
        },
        "outputId": "3a6cff67-8bd8-441a-b9b1-9c92e6514af8"
      },
      "source": [
        "re.search(\"Berat\",text) #ilk Berat'ı bulup getiriyor diğerini aramaya devam etmiyor"
      ],
      "execution_count": null,
      "outputs": [
        {
          "output_type": "execute_result",
          "data": {
            "text/plain": [
              "<_sre.SRE_Match object; span=(11, 16), match='Berat'>"
            ]
          },
          "metadata": {
            "tags": []
          },
          "execution_count": 104
        }
      ]
    },
    {
      "cell_type": "markdown",
      "metadata": {
        "id": "E6xkpXzHk1Ni"
      },
      "source": [
        "## SPLIT"
      ]
    },
    {
      "cell_type": "code",
      "metadata": {
        "id": "E_1RFh5kkUEQ",
        "colab": {
          "base_uri": "https://localhost:8080/"
        },
        "outputId": "eb87f41a-0972-4d67-8ca0-604ce2e6bbef"
      },
      "source": [
        "re.split(\" \",text)"
      ],
      "execution_count": null,
      "outputs": [
        {
          "output_type": "execute_result",
          "data": {
            "text/plain": [
              "['My', 'name', 'is', 'Berat', 'Yasa.', 'Berat', 'is', 'mine', 'name']"
            ]
          },
          "metadata": {
            "tags": []
          },
          "execution_count": 105
        }
      ]
    },
    {
      "cell_type": "code",
      "metadata": {
        "id": "bzKGs8KDlFow",
        "colab": {
          "base_uri": "https://localhost:8080/"
        },
        "outputId": "ea0d6eaf-092f-4ab8-c1b7-65ab13b45245"
      },
      "source": [
        "re.split(\"My\",text)"
      ],
      "execution_count": null,
      "outputs": [
        {
          "output_type": "execute_result",
          "data": {
            "text/plain": [
              "['', ' name is Berat Yasa. Berat is mine name']"
            ]
          },
          "metadata": {
            "tags": []
          },
          "execution_count": 106
        }
      ]
    },
    {
      "cell_type": "code",
      "metadata": {
        "id": "UtPmU-kulJRg",
        "colab": {
          "base_uri": "https://localhost:8080/"
        },
        "outputId": "a5b6f338-44c8-4d2f-d5ef-34ec20c627d4"
      },
      "source": [
        "re.split(\"Berat\",text)"
      ],
      "execution_count": null,
      "outputs": [
        {
          "output_type": "execute_result",
          "data": {
            "text/plain": [
              "['My name is ', ' Yasa. ', ' is mine name']"
            ]
          },
          "metadata": {
            "tags": []
          },
          "execution_count": 107
        }
      ]
    },
    {
      "cell_type": "markdown",
      "metadata": {
        "id": "LRICF79AfA65"
      },
      "source": [
        "## FIND ALL"
      ]
    },
    {
      "cell_type": "code",
      "metadata": {
        "id": "vIkWK_ijlVYn"
      },
      "source": [
        "text=\"Amy works diligently. Amy gets good grades. Our student Amy is succesful.\""
      ],
      "execution_count": null,
      "outputs": []
    },
    {
      "cell_type": "code",
      "metadata": {
        "id": "_kufqbHKxqc9",
        "colab": {
          "base_uri": "https://localhost:8080/"
        },
        "outputId": "0c84a15e-f3ff-4e10-df38-6a4279b816ac"
      },
      "source": [
        "re.findall(\"Amy\",text) # text içindeki bütüm Amyleri bulur"
      ],
      "execution_count": null,
      "outputs": [
        {
          "output_type": "execute_result",
          "data": {
            "text/plain": [
              "['Amy', 'Amy', 'Amy']"
            ]
          },
          "metadata": {
            "tags": []
          },
          "execution_count": 74
        }
      ]
    },
    {
      "cell_type": "code",
      "metadata": {
        "id": "oXfN0Xkff7lc",
        "colab": {
          "base_uri": "https://localhost:8080/"
        },
        "outputId": "bf75a8f0-cb45-4325-ea5e-4e3ab0374eb5"
      },
      "source": [
        "#^ işareti caret olarak geçiyor. bir tip anchor. ^'nın anlamı textteki her bir satırın başında\n",
        "#ilgili ifadeyi arıyor. bizim metin tek bir satır olduğu için text'in en başına bakıyor. \n",
        "re.findall(\"^Amy\",text)\n"
      ],
      "execution_count": null,
      "outputs": [
        {
          "output_type": "execute_result",
          "data": {
            "text/plain": [
              "['Amy']"
            ]
          },
          "metadata": {
            "tags": []
          },
          "execution_count": 75
        }
      ]
    },
    {
      "cell_type": "code",
      "metadata": {
        "id": "ubVJUyoKy3Y-",
        "colab": {
          "base_uri": "https://localhost:8080/"
        },
        "outputId": "9e2f5ce9-a9bb-407e-c1c0-cbd9332cd6bf"
      },
      "source": [
        "re.findall(\"works\",text)"
      ],
      "execution_count": null,
      "outputs": [
        {
          "output_type": "execute_result",
          "data": {
            "text/plain": [
              "['works']"
            ]
          },
          "metadata": {
            "tags": []
          },
          "execution_count": 77
        }
      ]
    },
    {
      "cell_type": "code",
      "metadata": {
        "id": "lcUQV3bsy9sT",
        "colab": {
          "base_uri": "https://localhost:8080/"
        },
        "outputId": "8563f7a6-125c-46fe-9def-72fcbe2f1864"
      },
      "source": [
        "re.findall(\"^works\",text)"
      ],
      "execution_count": null,
      "outputs": [
        {
          "output_type": "execute_result",
          "data": {
            "text/plain": [
              "[]"
            ]
          },
          "metadata": {
            "tags": []
          },
          "execution_count": 78
        }
      ]
    },
    {
      "cell_type": "markdown",
      "metadata": {
        "id": "fHr7fxSFzVVa"
      },
      "source": [
        "### SET OPERATORS\n",
        "\n",
        "[] ifadesi set operator olarak geçiyor. burada en çok dikkat edilmesi gereken special karakterler set operator içinde anlamlarını kaybediyor. ^ ifadesi satır başlarındaki eşleşmeyi ararken set operator içinde değil anlamına geliyor. \n",
        "\n",
        "temel olarak set operator karakterbazında bir search anamına gelir. set operator içindeki herbir karakter ayrı ayrı aranır. aşağıda örnekler mevcut. "
      ]
    },
    {
      "cell_type": "code",
      "metadata": {
        "id": "LsCIip5mg3zV"
      },
      "source": [
        "grades=\"ACAAAABCBCBAAD\""
      ],
      "execution_count": null,
      "outputs": []
    },
    {
      "cell_type": "code",
      "metadata": {
        "id": "0v69OyZ2gD4b",
        "colab": {
          "base_uri": "https://localhost:8080/"
        },
        "outputId": "066dee66-d3d8-422e-bb56-34c7deddd276"
      },
      "source": [
        "re.findall(\"B\",grades)"
      ],
      "execution_count": null,
      "outputs": [
        {
          "output_type": "execute_result",
          "data": {
            "text/plain": [
              "['B', 'B', 'B']"
            ]
          },
          "metadata": {
            "tags": []
          },
          "execution_count": 11
        }
      ]
    },
    {
      "cell_type": "code",
      "metadata": {
        "id": "gBDo3fIiunM0",
        "colab": {
          "base_uri": "https://localhost:8080/"
        },
        "outputId": "26e6ecbb-634e-4a71-ec3d-464cd1e9677c"
      },
      "source": [
        "re.findall(\"[B]\",grades)"
      ],
      "execution_count": null,
      "outputs": [
        {
          "output_type": "execute_result",
          "data": {
            "text/plain": [
              "['B', 'B', 'B']"
            ]
          },
          "metadata": {
            "tags": []
          },
          "execution_count": 12
        }
      ]
    },
    {
      "cell_type": "code",
      "metadata": {
        "id": "mLhMYGEThTml",
        "colab": {
          "base_uri": "https://localhost:8080/"
        },
        "outputId": "619a3ee1-25de-416d-8e26-8974a9ceddaf"
      },
      "source": [
        "re.findall(\"[AB]\",grades)"
      ],
      "execution_count": null,
      "outputs": [
        {
          "output_type": "execute_result",
          "data": {
            "text/plain": [
              "['A', 'A', 'A', 'A', 'A', 'B', 'B', 'B', 'A', 'A']"
            ]
          },
          "metadata": {
            "tags": []
          },
          "execution_count": 83
        }
      ]
    },
    {
      "cell_type": "code",
      "metadata": {
        "id": "gURW9Up9jEOA",
        "colab": {
          "base_uri": "https://localhost:8080/"
        },
        "outputId": "e806fb6a-7058-4431-ef37-965cb4635809"
      },
      "source": [
        "re.findall(\"[A][B-D]\",grades) #burda A ile başlayıp B'den D'ye (B,C,D) olanları getirir"
      ],
      "execution_count": null,
      "outputs": [
        {
          "output_type": "execute_result",
          "data": {
            "text/plain": [
              "['AC', 'AB', 'AD']"
            ]
          },
          "metadata": {
            "tags": []
          },
          "execution_count": 86
        }
      ]
    },
    {
      "cell_type": "code",
      "metadata": {
        "id": "d6kn7Lexhfd6",
        "colab": {
          "base_uri": "https://localhost:8080/"
        },
        "outputId": "a9d16a9e-0951-41d6-e816-eb286eb7e6a7"
      },
      "source": [
        "#Bu ve önceki örnek birbirinin aynı sonuçlarını verir. \n",
        "re.findall(\"AC|AB|AD\",grades)"
      ],
      "execution_count": null,
      "outputs": [
        {
          "output_type": "execute_result",
          "data": {
            "text/plain": [
              "['AC', 'AB', 'AD']"
            ]
          },
          "metadata": {
            "tags": []
          },
          "execution_count": 85
        }
      ]
    },
    {
      "cell_type": "code",
      "metadata": {
        "id": "oEekcG4ijqSZ",
        "colab": {
          "base_uri": "https://localhost:8080/"
        },
        "outputId": "c3dcc860-bfa8-40ab-a286-292e41d8363b"
      },
      "source": [
        "# set operator başlığında bahsedildiği gibi ^ değil anlamına gelir. A olmayan herşeyi getirir\n",
        "re.findall(\"[^A]\",grades) \n"
      ],
      "execution_count": null,
      "outputs": [
        {
          "output_type": "execute_result",
          "data": {
            "text/plain": [
              "['C', 'B', 'C', 'B', 'C', 'B', 'D']"
            ]
          },
          "metadata": {
            "tags": []
          },
          "execution_count": 89
        }
      ]
    },
    {
      "cell_type": "code",
      "metadata": {
        "id": "XUjxAHOT2a_Q",
        "colab": {
          "base_uri": "https://localhost:8080/"
        },
        "outputId": "82ef9e35-4f75-491a-f8d7-7a6cb1e5a226"
      },
      "source": [
        "#set operator karakter based olduğu için ^ ifadesi A veya B olmayanları getirir\n",
        "re.findall(\"[^AB]\",grades) "
      ],
      "execution_count": null,
      "outputs": [
        {
          "output_type": "execute_result",
          "data": {
            "text/plain": [
              "['C', 'C', 'C', 'D']"
            ]
          },
          "metadata": {
            "tags": []
          },
          "execution_count": 91
        }
      ]
    },
    {
      "cell_type": "code",
      "metadata": {
        "id": "FSzDZe2_2nex"
      },
      "source": [
        ""
      ],
      "execution_count": null,
      "outputs": []
    },
    {
      "cell_type": "code",
      "metadata": {
        "id": "GFFvF1GUj7CQ",
        "colab": {
          "base_uri": "https://localhost:8080/"
        },
        "outputId": "b7d423ed-000a-4717-db51-63face3c5069"
      },
      "source": [
        "#Aşağıdaki ifade boş küme getirir. çünkü ilk olarak set operator içindeki A olmayanlar getirir.\n",
        "#daha sonra set operator dışındaki ^ başlangıç noktasını belirtil(anchor)\n",
        "#string A ile başladığı için boş küme döner \n",
        "re.findall(\"^[^A]\",grades)"
      ],
      "execution_count": null,
      "outputs": [
        {
          "output_type": "execute_result",
          "data": {
            "text/plain": [
              "[]"
            ]
          },
          "metadata": {
            "tags": []
          },
          "execution_count": 93
        }
      ]
    },
    {
      "cell_type": "code",
      "metadata": {
        "id": "WHO5lITj2-kW",
        "colab": {
          "base_uri": "https://localhost:8080/"
        },
        "outputId": "7a96a01b-8edc-48c7-85ca-59b380be234f"
      },
      "source": [
        "#Yine aynı mantıkla önce B olmayanları getitrir. string A ile başladığı için bunu karşılar ve A gelir.\n",
        "re.findall(\"^[^B]\",grades)"
      ],
      "execution_count": null,
      "outputs": [
        {
          "output_type": "execute_result",
          "data": {
            "text/plain": [
              "['A']"
            ]
          },
          "metadata": {
            "tags": []
          },
          "execution_count": 95
        }
      ]
    },
    {
      "cell_type": "markdown",
      "metadata": {
        "id": "wKK0dqZU3ibf"
      },
      "source": [
        "özet olarak find ve match doğrudan ilk bulduğu eşleşmenin konumunu verir. fakat findall buldukarını bir liste yazar"
      ]
    },
    {
      "cell_type": "markdown",
      "metadata": {
        "id": "Y3_TuR1dwqit"
      },
      "source": [
        "### QUANTIFIERS"
      ]
    },
    {
      "cell_type": "code",
      "metadata": {
        "id": "yxAizItTxKxk"
      },
      "source": [
        "grades=\"ACAACAAAABCBAACBACCCAAAAA\""
      ],
      "execution_count": null,
      "outputs": []
    },
    {
      "cell_type": "code",
      "metadata": {
        "id": "CVFoSp57fNRz",
        "colab": {
          "base_uri": "https://localhost:8080/"
        },
        "outputId": "46491ccb-2e55-4be2-e3d0-1272d3dd0a12"
      },
      "source": [
        "re.findall(\"A{3}\",grades)"
      ],
      "execution_count": null,
      "outputs": [
        {
          "output_type": "execute_result",
          "data": {
            "text/plain": [
              "['AAA', 'AAA']"
            ]
          },
          "metadata": {
            "tags": []
          },
          "execution_count": 121
        }
      ]
    },
    {
      "cell_type": "code",
      "metadata": {
        "id": "qf6a5Wjfx9Ni",
        "colab": {
          "base_uri": "https://localhost:8080/"
        },
        "outputId": "387ffb97-c17a-4478-af3a-4673b87837c2"
      },
      "source": [
        "#arka arkaya en az 2 en fazla 10 A geçenleri getirir. \n",
        "#stringin sonunda 5 tane A olmasına rağmen max 4 olduğu için 4a getirilmiş\n",
        "\n",
        "re.findall(\"A{2,4}\",grades)"
      ],
      "execution_count": null,
      "outputs": [
        {
          "output_type": "execute_result",
          "data": {
            "text/plain": [
              "['AA', 'AAAA', 'AA', 'AAAA']"
            ]
          },
          "metadata": {
            "tags": []
          },
          "execution_count": 62
        }
      ]
    },
    {
      "cell_type": "code",
      "metadata": {
        "id": "dcz4czolzeYZ",
        "colab": {
          "base_uri": "https://localhost:8080/"
        },
        "outputId": "dbb37a78-fe10-4713-faec-f47cac0df881"
      },
      "source": [
        "\n",
        "#burda ise tek A'dan sonra en az 1 ençok 3 C arıyor. başta 2 A sonra bir C varsa da bir  bir C getiriyor. \n",
        "#basitçe bu fonsiyonun amacı belli patternler string içinde var mı diye bakıyor. \n",
        "#Örneğin aşağıda AC,ACC,ACCC var mı diye bakıyor. \n",
        "#en az en çok aralığı verildiğinde her zaman varsa en çoka yakınsıyor. \n",
        "re.findall(\"A{1,1}C{1,3}\",grades)"
      ],
      "execution_count": null,
      "outputs": [
        {
          "output_type": "execute_result",
          "data": {
            "text/plain": [
              "['AC', 'AC', 'AC', 'ACCC']"
            ]
          },
          "metadata": {
            "tags": []
          },
          "execution_count": 64
        }
      ]
    },
    {
      "cell_type": "code",
      "metadata": {
        "id": "6rLOII8o1hjw",
        "colab": {
          "base_uri": "https://localhost:8080/"
        },
        "outputId": "81470d42-29bf-4c83-ef5a-fb1277a7ab14"
      },
      "source": [
        "re.findall(\"A{2}\",grades)"
      ],
      "execution_count": null,
      "outputs": [
        {
          "output_type": "execute_result",
          "data": {
            "text/plain": [
              "['AA', 'AA', 'AA', 'AA', 'AA', 'AA']"
            ]
          },
          "metadata": {
            "tags": []
          },
          "execution_count": 27
        }
      ]
    },
    {
      "cell_type": "code",
      "metadata": {
        "id": "7dPxq-K84sr1",
        "colab": {
          "base_uri": "https://localhost:8080/"
        },
        "outputId": "1202b333-e808-4b32-f784-25f5ed07dbd4"
      },
      "source": [
        "#Yukarıdaki ile beraber aynı sonucu verir. A{2} demek tam 2 tane geçenleri bul demek \n",
        "re.findall(\"AA\",grades)"
      ],
      "execution_count": null,
      "outputs": [
        {
          "output_type": "execute_result",
          "data": {
            "text/plain": [
              "['AA', 'AA', 'AA', 'AA', 'AA', 'AA']"
            ]
          },
          "metadata": {
            "tags": []
          },
          "execution_count": 29
        }
      ]
    },
    {
      "cell_type": "code",
      "metadata": {
        "id": "8y6WUpKu4vl8"
      },
      "source": [
        "string_1=\"AAAAA\""
      ],
      "execution_count": null,
      "outputs": []
    },
    {
      "cell_type": "code",
      "metadata": {
        "id": "xhhCN4Sk5Gei",
        "colab": {
          "base_uri": "https://localhost:8080/"
        },
        "outputId": "ba7bf954-8f42-42bf-bb86-9fde8f8db353"
      },
      "source": [
        "#5 tane A olduğu için ancak 2 tane 2li bulabildi\n",
        "re.findall(\"A{2}\",string_1)"
      ],
      "execution_count": null,
      "outputs": [
        {
          "output_type": "execute_result",
          "data": {
            "text/plain": [
              "['AA', 'AA']"
            ]
          },
          "metadata": {
            "tags": []
          },
          "execution_count": 32
        }
      ]
    },
    {
      "cell_type": "code",
      "metadata": {
        "id": "8MoprEvP5IjL",
        "colab": {
          "base_uri": "https://localhost:8080/"
        },
        "outputId": "c2647279-fd71-409a-fc67-5d3b2cf8b5cb"
      },
      "source": [
        "  # bu şekilde 3lü de kullanılabilir\n",
        "re.findall(\"A{1,10}B{1,10}C{1,10}\",grades)"
      ],
      "execution_count": null,
      "outputs": [
        {
          "output_type": "execute_result",
          "data": {
            "text/plain": [
              "['AAAABC']"
            ]
          },
          "metadata": {
            "tags": []
          },
          "execution_count": 33
        }
      ]
    },
    {
      "cell_type": "code",
      "metadata": {
        "id": "Is9BwvtbGnDa"
      },
      "source": [
        "grades=\"ACAACAAAABCBAACBACCCAAAAADABB\""
      ],
      "execution_count": null,
      "outputs": []
    },
    {
      "cell_type": "code",
      "metadata": {
        "id": "wU1ogTEsGBJP",
        "colab": {
          "base_uri": "https://localhost:8080/"
        },
        "outputId": "cd406e40-797c-4aed-99d0-7b074624c79d"
      },
      "source": [
        "re.findall(\"AB{1,2}\",grades)"
      ],
      "execution_count": null,
      "outputs": [
        {
          "output_type": "execute_result",
          "data": {
            "text/plain": [
              "['AB', 'ABB']"
            ]
          },
          "metadata": {
            "tags": []
          },
          "execution_count": 56
        }
      ]
    },
    {
      "cell_type": "code",
      "metadata": {
        "id": "aM18JIoTFswJ",
        "colab": {
          "base_uri": "https://localhost:8080/"
        },
        "outputId": "d89fe877-9ec1-4b85-92f5-df3eae6d5089"
      },
      "source": [
        "re.findall(\"[AB]{1,4}\",grades)"
      ],
      "execution_count": null,
      "outputs": [
        {
          "output_type": "execute_result",
          "data": {
            "text/plain": [
              "['A', 'AA', 'AAAA', 'B', 'BAA', 'BA', 'AAAA', 'A', 'ABB']"
            ]
          },
          "metadata": {
            "tags": []
          },
          "execution_count": 57
        }
      ]
    },
    {
      "cell_type": "code",
      "metadata": {
        "id": "idWW6MumHj5t",
        "colab": {
          "base_uri": "https://localhost:8080/"
        },
        "outputId": "829ae37b-8698-4376-acab-d1ce85b9b17e"
      },
      "source": [
        "re.findall(\"A|B{1,4}\",grades)"
      ],
      "execution_count": null,
      "outputs": [
        {
          "output_type": "execute_result",
          "data": {
            "text/plain": [
              "['A',\n",
              " 'A',\n",
              " 'A',\n",
              " 'A',\n",
              " 'A',\n",
              " 'A',\n",
              " 'A',\n",
              " 'B',\n",
              " 'B',\n",
              " 'A',\n",
              " 'A',\n",
              " 'B',\n",
              " 'A',\n",
              " 'A',\n",
              " 'A',\n",
              " 'A',\n",
              " 'A',\n",
              " 'A',\n",
              " 'A',\n",
              " 'BB']"
            ]
          },
          "metadata": {
            "tags": []
          },
          "execution_count": 58
        }
      ]
    },
    {
      "cell_type": "code",
      "metadata": {
        "id": "wB27N-BOHyN_",
        "colab": {
          "base_uri": "https://localhost:8080/"
        },
        "outputId": "cebb78f8-6a37-41f8-9471-1aa83e12dfed"
      },
      "source": [
        "re.findall(\"A{1,4}|B{1,4}\",grades)"
      ],
      "execution_count": null,
      "outputs": [
        {
          "output_type": "execute_result",
          "data": {
            "text/plain": [
              "['A', 'AA', 'AAAA', 'B', 'B', 'AA', 'B', 'A', 'AAAA', 'A', 'A', 'BB']"
            ]
          },
          "metadata": {
            "tags": []
          },
          "execution_count": 59
        }
      ]
    },
    {
      "cell_type": "code",
      "metadata": {
        "id": "0qqplX-9DbCo"
      },
      "source": [
        "#training\n",
        "grades=\"ACAACAAAABCBAACBACCCAAAAADABBAAABBBBCC\""
      ],
      "execution_count": null,
      "outputs": []
    },
    {
      "cell_type": "code",
      "metadata": {
        "id": "SWx_yxhAD9F1",
        "colab": {
          "base_uri": "https://localhost:8080/"
        },
        "outputId": "7b33a9bf-cc89-4c51-c397-927d6b714f49"
      },
      "source": [
        "#kaç tane AB var\n",
        "re.findall(\"AB\",grades)"
      ],
      "execution_count": null,
      "outputs": [
        {
          "output_type": "execute_result",
          "data": {
            "text/plain": [
              "['AB', 'AB', 'AB']"
            ]
          },
          "metadata": {
            "tags": []
          },
          "execution_count": 70
        }
      ]
    },
    {
      "cell_type": "code",
      "metadata": {
        "id": "xu0UqpFAKVSH",
        "colab": {
          "base_uri": "https://localhost:8080/"
        },
        "outputId": "15da35e0-9b78-49ac-ed4a-dd4f35e05a68"
      },
      "source": [
        "#sırasıyla; en az 1 en fazla 3 A, en az 2 en fazla 4 B ve en az 1 enfazla 2 C olan patternler\n",
        "re.findall(\"A{1,3}B{2,4}C{1,3}\",grades)"
      ],
      "execution_count": null,
      "outputs": [
        {
          "output_type": "execute_result",
          "data": {
            "text/plain": [
              "['AAABBBBCC']"
            ]
          },
          "metadata": {
            "tags": []
          },
          "execution_count": 72
        }
      ]
    },
    {
      "cell_type": "code",
      "metadata": {
        "id": "dljZo5jTLFyj",
        "colab": {
          "base_uri": "https://localhost:8080/"
        },
        "outputId": "2d3c2c87-b06b-44c0-a067-d0082a09aa3f"
      },
      "source": [
        "#içinde A veya B geçen en az 3 en fazla 5 karakterli patternler\n",
        "re.findall(\"[AB]{3,5}\",grades)"
      ],
      "execution_count": null,
      "outputs": [
        {
          "output_type": "execute_result",
          "data": {
            "text/plain": [
              "['AAAAB', 'BAA', 'AAAAA', 'ABBAA', 'ABBBB']"
            ]
          },
          "metadata": {
            "tags": []
          },
          "execution_count": 73
        }
      ]
    },
    {
      "cell_type": "code",
      "metadata": {
        "id": "AOSMV1i1Lc6S"
      },
      "source": [
        "#A veya B olan patternlerin bulunması\n",
        "re.findall(\"A|B\",grades)"
      ],
      "execution_count": null,
      "outputs": []
    },
    {
      "cell_type": "code",
      "metadata": {
        "id": "waEwmNKiL_Ae",
        "colab": {
          "base_uri": "https://localhost:8080/"
        },
        "outputId": "772a03a8-f3f6-4b0e-c658-28b6e33ecf8b"
      },
      "source": [
        "#ya 2 karakterli AA paterni ya da 1 karakterli B patterninini bulunması\n",
        "re.findall(\"A{2}|B{1}\",grades)"
      ],
      "execution_count": null,
      "outputs": [
        {
          "output_type": "execute_result",
          "data": {
            "text/plain": [
              "['AA',\n",
              " 'AA',\n",
              " 'AA',\n",
              " 'B',\n",
              " 'B',\n",
              " 'AA',\n",
              " 'B',\n",
              " 'AA',\n",
              " 'AA',\n",
              " 'B',\n",
              " 'B',\n",
              " 'AA',\n",
              " 'B',\n",
              " 'B',\n",
              " 'B',\n",
              " 'B']"
            ]
          },
          "metadata": {
            "tags": []
          },
          "execution_count": 84
        }
      ]
    },
    {
      "cell_type": "code",
      "metadata": {
        "id": "Koe5P-eTVZPk",
        "colab": {
          "base_uri": "https://localhost:8080/"
        },
        "outputId": "94dd61ab-a75a-4c64-de7b-d5d18b321c16"
      },
      "source": [
        "#bir tane A sonrasında en az 1 en çok 3 tane B\n",
        "re.findall(\"AB{1,3}\",grades)"
      ],
      "execution_count": null,
      "outputs": [
        {
          "output_type": "execute_result",
          "data": {
            "text/plain": [
              "['AB', 'ABB', 'ABBB']"
            ]
          },
          "metadata": {
            "tags": []
          },
          "execution_count": 113
        }
      ]
    },
    {
      "cell_type": "code",
      "metadata": {
        "id": "jh1725-uNSW2",
        "colab": {
          "base_uri": "https://localhost:8080/"
        },
        "outputId": "88520c1e-ea25-411a-87a4-b9c58cebeaef"
      },
      "source": [
        "#en az 1 en fazla 4 karakter A'nın yanına en az bir en fazla 4 karakter B'nin geldiği patternler\n",
        "import re\n",
        "re.findall(\"A{1,4}B{1,4}\",grades)"
      ],
      "execution_count": null,
      "outputs": [
        {
          "output_type": "execute_result",
          "data": {
            "text/plain": [
              "['AAAAB', 'ABB', 'AAABBBB']"
            ]
          },
          "metadata": {
            "tags": []
          },
          "execution_count": 7
        }
      ]
    },
    {
      "cell_type": "code",
      "metadata": {
        "id": "9dRuIM5pEfUz"
      },
      "source": [
        ""
      ],
      "execution_count": null,
      "outputs": []
    },
    {
      "cell_type": "markdown",
      "metadata": {
        "id": "_Ojd1H_VEgHN"
      },
      "source": [
        "### IMPORT TEXT\n",
        "bir txt odyasını string olarak içeri almak için aşağıdaki kod çalıştırılmalı"
      ]
    },
    {
      "cell_type": "markdown",
      "metadata": {
        "id": "54rZ1UNqEgEw"
      },
      "source": [
        ""
      ]
    },
    {
      "cell_type": "code",
      "metadata": {
        "id": "EVMg3V4cJ_Bv"
      },
      "source": [
        "txt_path='gdrive/My Drive/ds/data/trial'"
      ],
      "execution_count": null,
      "outputs": []
    },
    {
      "cell_type": "code",
      "metadata": {
        "id": "chmvTdxOAFCD",
        "colab": {
          "base_uri": "https://localhost:8080/",
          "height": 171
        },
        "outputId": "20f0812f-8254-432b-9d12-05b924b31109"
      },
      "source": [
        "with open(txt_path+\"/ferpa.txt\",\"r\") as file:\n",
        "  wiki=file.read()\n",
        "wiki"
      ],
      "execution_count": null,
      "outputs": [
        {
          "output_type": "execute_result",
          "data": {
            "application/vnd.google.colaboratory.intrinsic+json": {
              "type": "string"
            },
            "text/plain": [
              "'Overview[edit]\\nFERPA gives parents access to their child\\'s education records, an opportunity to seek to have the records amended, and some control over the disclosure of information from the records. With several exceptions, schools must have a student\\'s consent prior to the disclosure of education records after that student is 18 years old. The law applies only to educational agencies and institutions that receive funds under a program administered by the U.S. Department of Education.\\n\\nOther regulations under this act, effective starting January 3, 2012, allow for greater disclosures of personal and directory student identifying information and regulate student IDs and e-mail addresses.[2] For example, schools may provide external companies with a student\\'s personally identifiable information without the student\\'s consent.[2]\\n\\nExamples of situations affected by FERPA include school employees divulging information to anyone other than the student about the student\\'s grades or behavior, and school work posted on a bulletin board with a grade. Generally, schools must have written permission from the parent or eligible student in order to release any information from a student\\'s education record.\\n\\nThis privacy policy also governs how state agencies transmit testing data to federal agencies, such as the Education Data Exchange Network.\\n\\nThis U.S. federal law also gave students 18 years of age or older, or students of any age if enrolled in any post-secondary educational institution, the right of privacy regarding grades, enrollment, and even billing information unless the school has specific permission from the student to share that specific type of information.\\n\\nFERPA also permits a school to disclose personally identifiable information from education records of an \"eligible student\" (a student age 18 or older or enrolled in a postsecondary institution at any age) to his or her parents if the student is a \"dependent student\" as that term is defined in Section 152 of the Internal Revenue Code. Generally, if either parent has claimed the student as a dependent on the parent\\'s most recent income tax statement, the school may non-consensually disclose the student\\'s education records to both parents.[3]\\n\\nThe law allowed students who apply to an educational institution such as graduate school permission to view recommendations submitted by others as part of the application. However, on standard application forms, students are given the option to waive this right.\\n\\nFERPA specifically excludes employees of an educational institution if they are not students.\\n\\nThe act is also referred to as the Buckley Amendment, for one of its proponents, Senator James L. Buckley of New York.\\n\\nAccess to public records[edit]\\nThe citing of FERPA to conceal public records that are not \"educational\" in nature has been widely criticized, including by the act\\'s primary Senate sponsor.[4] For example, in the Owasso Independent School District v. Falvo case, an important part of the debate was determining the relationship between peer-grading and \"education records\" as defined in FERPA. In the Court of Appeals, it was ruled that students placing grades on the work of other students made such work into an \"education record.\" Thus, peer-grading was determined as a violation of FERPA privacy policies because students had access to other students\\' academic performance without full consent.[5] However, when the case went to the Supreme Court, it was officially ruled that peer-grading was not a violation of FERPA. This is because a grade written on a student\\'s work does not become an \"education record\" until the teacher writes the final grade into a grade book.[6]\\n\\nStudent medical records[edit]\\nLegal experts have debated the issue of whether student medical records (for example records of therapy sessions with a therapist at an on-campus counseling center) might be released to the school administration under certain triggering events, such as when a student sued his college or university.[7][8]\\n\\nUsually, student medical treatment records will remain under the protection of FERPA, not the Health Insurance Portability and Accountability Act (HIPAA). This is due to the \"FERPA Exception\" written within HIPAA.[9]'"
            ]
          },
          "metadata": {
            "tags": []
          },
          "execution_count": 11
        }
      ]
    },
    {
      "cell_type": "code",
      "metadata": {
        "id": "6aR1TwivCgRQ",
        "colab": {
          "base_uri": "https://localhost:8080/"
        },
        "outputId": "b9c594fb-07fa-495f-a94e-b50229822aa6"
      },
      "source": [
        "type(wiki)"
      ],
      "execution_count": null,
      "outputs": [
        {
          "output_type": "execute_result",
          "data": {
            "text/plain": [
              "str"
            ]
          },
          "metadata": {
            "tags": []
          },
          "execution_count": 12
        }
      ]
    },
    {
      "cell_type": "code",
      "metadata": {
        "id": "k4ouBAaRhvm0"
      },
      "source": [
        "#regex için biraz daha detay vardı, fakat ilerleyen kurslarda detaylı anlatılacağı için burada bırakıldı"
      ],
      "execution_count": null,
      "outputs": []
    },
    {
      "cell_type": "code",
      "metadata": {
        "id": "8T0pum4EqR4K"
      },
      "source": [
        "#WEEK 1 BITTI"
      ],
      "execution_count": null,
      "outputs": []
    },
    {
      "cell_type": "markdown",
      "metadata": {
        "id": "0aSPwoyyOAB6"
      },
      "source": [
        "# PANDAS"
      ]
    },
    {
      "cell_type": "markdown",
      "metadata": {
        "id": "sTQMlC52OGVP"
      },
      "source": [
        "## SERIES"
      ]
    },
    {
      "cell_type": "code",
      "metadata": {
        "id": "D6p1BG9DqU30"
      },
      "source": [
        "import pandas as pd\n",
        "import numpy as np"
      ],
      "execution_count": null,
      "outputs": []
    },
    {
      "cell_type": "code",
      "metadata": {
        "id": "v0WzyUbZO3oh"
      },
      "source": [
        "students=[\"abc\",\"def\",\"rty\"]"
      ],
      "execution_count": null,
      "outputs": []
    },
    {
      "cell_type": "code",
      "metadata": {
        "id": "XDvOjepCO-fL",
        "colab": {
          "base_uri": "https://localhost:8080/"
        },
        "outputId": "5993344a-2395-4739-cc78-919fa0e9f47e"
      },
      "source": [
        "pd.Series(students) #dtype object oldu"
      ],
      "execution_count": null,
      "outputs": [
        {
          "output_type": "execute_result",
          "data": {
            "text/plain": [
              "0    abc\n",
              "1    def\n",
              "2    rty\n",
              "dtype: object"
            ]
          },
          "metadata": {
            "tags": []
          },
          "execution_count": 3
        }
      ]
    },
    {
      "cell_type": "code",
      "metadata": {
        "id": "5PVOZfjCPEpD",
        "colab": {
          "base_uri": "https://localhost:8080/"
        },
        "outputId": "d8034b01-fd21-496e-d7b5-cab01e5b6a86"
      },
      "source": [
        "numbers=[1,2,3]\n",
        "pd.Series(numbers) #dtype int"
      ],
      "execution_count": null,
      "outputs": [
        {
          "output_type": "execute_result",
          "data": {
            "text/plain": [
              "0    1\n",
              "1    2\n",
              "2    3\n",
              "dtype: int64"
            ]
          },
          "metadata": {
            "tags": []
          },
          "execution_count": 6
        }
      ]
    },
    {
      "cell_type": "code",
      "metadata": {
        "id": "4Dv23XxuPe7v",
        "colab": {
          "base_uri": "https://localhost:8080/"
        },
        "outputId": "83aac5d3-0b77-4371-fce0-b36e303f82c1"
      },
      "source": [
        "mixed=[\"asd\",12,12.2]\n",
        "pd.Series(mixed)"
      ],
      "execution_count": null,
      "outputs": [
        {
          "output_type": "execute_result",
          "data": {
            "text/plain": [
              "0     asd\n",
              "1      12\n",
              "2    12.2\n",
              "dtype: object"
            ]
          },
          "metadata": {
            "tags": []
          },
          "execution_count": 7
        }
      ]
    },
    {
      "cell_type": "code",
      "metadata": {
        "id": "asDSdRZ1PoDb",
        "colab": {
          "base_uri": "https://localhost:8080/"
        },
        "outputId": "fe712205-c674-42ed-bbac-d4b0852407e2"
      },
      "source": [
        "float_num=[12.2,5.7,0.8]\n",
        "pd.Series(float_num)"
      ],
      "execution_count": null,
      "outputs": [
        {
          "output_type": "execute_result",
          "data": {
            "text/plain": [
              "0    12.2\n",
              "1     5.7\n",
              "2     0.8\n",
              "dtype: float64"
            ]
          },
          "metadata": {
            "tags": []
          },
          "execution_count": 8
        }
      ]
    },
    {
      "cell_type": "markdown",
      "metadata": {
        "id": "klghFoDpQe8q"
      },
      "source": [
        "### MISSING DATA\n",
        "Phyton programlama'da iki adet null missing data tanımı mevcut. bunlardan ilki None diğeri ise np.nan (NaN). \n",
        "\n",
        "NaN-->not a number demek oluyor. EEE 754 floating point representation'da bir karşılığı var. ve float data tipindedir\n",
        "\n",
        "None--> ise NoneType'tır ve object tipindedir. "
      ]
    },
    {
      "cell_type": "markdown",
      "metadata": {
        "id": "Z4O8laLovELz"
      },
      "source": [
        "np.nan\n",
        "\n",
        "her bir np.nan not a number demek olduğundan bir np.nan diğerine eşit değildir. fakat is ile kullanıldığında True dönüşü olur. "
      ]
    },
    {
      "cell_type": "code",
      "metadata": {
        "id": "sWZNFskAvCqo",
        "colab": {
          "base_uri": "https://localhost:8080/"
        },
        "outputId": "36832d71-a090-44b2-fb5a-87b597a0b0be"
      },
      "source": [
        "np.nan==np.nan"
      ],
      "execution_count": null,
      "outputs": [
        {
          "output_type": "execute_result",
          "data": {
            "text/plain": [
              "False"
            ]
          },
          "metadata": {
            "tags": []
          },
          "execution_count": 31
        }
      ]
    },
    {
      "cell_type": "code",
      "metadata": {
        "id": "jMjnAHAcvW1D",
        "colab": {
          "base_uri": "https://localhost:8080/"
        },
        "outputId": "0c89e425-9aca-43c3-9924-83bec03782d2"
      },
      "source": [
        "np.nan is np.nan"
      ],
      "execution_count": null,
      "outputs": [
        {
          "output_type": "execute_result",
          "data": {
            "text/plain": [
              "True"
            ]
          },
          "metadata": {
            "tags": []
          },
          "execution_count": 32
        }
      ]
    },
    {
      "cell_type": "code",
      "metadata": {
        "id": "AoMXgPHcvyH5",
        "colab": {
          "base_uri": "https://localhost:8080/"
        },
        "outputId": "839b9581-9c28-4e32-a20e-d71360692aaf"
      },
      "source": [
        "type(np.nan)"
      ],
      "execution_count": null,
      "outputs": [
        {
          "output_type": "execute_result",
          "data": {
            "text/plain": [
              "float"
            ]
          },
          "metadata": {
            "tags": []
          },
          "execution_count": 33
        }
      ]
    },
    {
      "cell_type": "markdown",
      "metadata": {
        "id": "jPoil2wNvjQO"
      },
      "source": [
        "None\n",
        "None ise NoneType bir objecttir. aslında veri yok gibi de düşünülebilir. None = None"
      ]
    },
    {
      "cell_type": "code",
      "metadata": {
        "id": "_UukukVdv1GO",
        "colab": {
          "base_uri": "https://localhost:8080/"
        },
        "outputId": "fa5c78d1-b456-40e0-8992-eb83acfd6764"
      },
      "source": [
        "None==None"
      ],
      "execution_count": null,
      "outputs": [
        {
          "output_type": "execute_result",
          "data": {
            "text/plain": [
              "True"
            ]
          },
          "metadata": {
            "tags": []
          },
          "execution_count": 34
        }
      ]
    },
    {
      "cell_type": "code",
      "metadata": {
        "id": "VNixK1sJv7Xb",
        "colab": {
          "base_uri": "https://localhost:8080/"
        },
        "outputId": "22afc075-7442-459e-e46f-d343eb5c709b"
      },
      "source": [
        "None is None"
      ],
      "execution_count": null,
      "outputs": [
        {
          "output_type": "execute_result",
          "data": {
            "text/plain": [
              "True"
            ]
          },
          "metadata": {
            "tags": []
          },
          "execution_count": 35
        }
      ]
    },
    {
      "cell_type": "code",
      "metadata": {
        "id": "B-__e1rGv6T6",
        "colab": {
          "base_uri": "https://localhost:8080/"
        },
        "outputId": "dd809eaa-d856-42d6-f765-2b873ce6afc5"
      },
      "source": [
        "type(None)"
      ],
      "execution_count": null,
      "outputs": [
        {
          "output_type": "execute_result",
          "data": {
            "text/plain": [
              "NoneType"
            ]
          },
          "metadata": {
            "tags": []
          },
          "execution_count": 36
        }
      ]
    },
    {
      "cell_type": "code",
      "metadata": {
        "id": "KKUNEP45xxfX"
      },
      "source": [
        "#pandas hem None hem de np.nan'ı null olarak görür. örneği aşağıda"
      ],
      "execution_count": null,
      "outputs": []
    },
    {
      "cell_type": "code",
      "metadata": {
        "id": "P5opRCEbx4W3",
        "colab": {
          "base_uri": "https://localhost:8080/"
        },
        "outputId": "62a96c00-8291-41e0-ccbd-1cd13f92ae89"
      },
      "source": [
        "list_1=[\"berat\",None,np.nan]\n",
        "s=pd.Series(list_1)\n",
        "s"
      ],
      "execution_count": null,
      "outputs": [
        {
          "output_type": "execute_result",
          "data": {
            "text/plain": [
              "0    berat\n",
              "1     None\n",
              "2      NaN\n",
              "dtype: object"
            ]
          },
          "metadata": {
            "tags": []
          },
          "execution_count": 48
        }
      ]
    },
    {
      "cell_type": "code",
      "metadata": {
        "id": "MqkRV7b3LvWs"
      },
      "source": [
        "#dataframe başlığında detaylı anlatılıyor\n",
        "record1 = pd.Series({'Name': 'Alice',\n",
        "                        'Class': 'Physics',\n",
        "                        'Score': 85})\n",
        "record2 = pd.Series({'Name': 'Jack',\n",
        "                        'Class': 'Chemistry',\n",
        "                        'Score': 82})\n",
        "record3 = pd.Series({'Name': 'Helen',\n",
        "                        'Class': 'Biology',\n",
        "                        'Score': 90})\n",
        "\n",
        "df = pd.DataFrame([record1, record2, record3],\n",
        "                  index=['school1', 'school2', 'school1'])\n"
      ],
      "execution_count": null,
      "outputs": []
    },
    {
      "cell_type": "code",
      "metadata": {
        "id": "qSzWQkC1Lv_t",
        "colab": {
          "base_uri": "https://localhost:8080/",
          "height": 142
        },
        "outputId": "a5e3c501-6f2f-45e6-c15c-f018213e5d4f"
      },
      "source": [
        "df[\"np_null_column\"]=np.nan\n",
        "\n",
        "df"
      ],
      "execution_count": null,
      "outputs": [
        {
          "output_type": "execute_result",
          "data": {
            "text/html": [
              "<div>\n",
              "<style scoped>\n",
              "    .dataframe tbody tr th:only-of-type {\n",
              "        vertical-align: middle;\n",
              "    }\n",
              "\n",
              "    .dataframe tbody tr th {\n",
              "        vertical-align: top;\n",
              "    }\n",
              "\n",
              "    .dataframe thead th {\n",
              "        text-align: right;\n",
              "    }\n",
              "</style>\n",
              "<table border=\"1\" class=\"dataframe\">\n",
              "  <thead>\n",
              "    <tr style=\"text-align: right;\">\n",
              "      <th></th>\n",
              "      <th>Name</th>\n",
              "      <th>Class</th>\n",
              "      <th>Score</th>\n",
              "      <th>np_null_column</th>\n",
              "    </tr>\n",
              "  </thead>\n",
              "  <tbody>\n",
              "    <tr>\n",
              "      <th>school1</th>\n",
              "      <td>Alice</td>\n",
              "      <td>Physics</td>\n",
              "      <td>85</td>\n",
              "      <td>NaN</td>\n",
              "    </tr>\n",
              "    <tr>\n",
              "      <th>school2</th>\n",
              "      <td>Jack</td>\n",
              "      <td>Chemistry</td>\n",
              "      <td>82</td>\n",
              "      <td>NaN</td>\n",
              "    </tr>\n",
              "    <tr>\n",
              "      <th>school1</th>\n",
              "      <td>Helen</td>\n",
              "      <td>Biology</td>\n",
              "      <td>90</td>\n",
              "      <td>NaN</td>\n",
              "    </tr>\n",
              "  </tbody>\n",
              "</table>\n",
              "</div>"
            ],
            "text/plain": [
              "          Name      Class  Score  np_null_column\n",
              "school1  Alice    Physics     85             NaN\n",
              "school2   Jack  Chemistry     82             NaN\n",
              "school1  Helen    Biology     90             NaN"
            ]
          },
          "metadata": {
            "tags": []
          },
          "execution_count": 41
        }
      ]
    },
    {
      "cell_type": "code",
      "metadata": {
        "id": "o4F--dGIL8VJ",
        "colab": {
          "base_uri": "https://localhost:8080/",
          "height": 142
        },
        "outputId": "2697db59-a42c-4bc2-f937-fc6acfb1d364"
      },
      "source": [
        "df[\"null_column\"]=None \n",
        "\n",
        "df"
      ],
      "execution_count": null,
      "outputs": [
        {
          "output_type": "execute_result",
          "data": {
            "text/html": [
              "<div>\n",
              "<style scoped>\n",
              "    .dataframe tbody tr th:only-of-type {\n",
              "        vertical-align: middle;\n",
              "    }\n",
              "\n",
              "    .dataframe tbody tr th {\n",
              "        vertical-align: top;\n",
              "    }\n",
              "\n",
              "    .dataframe thead th {\n",
              "        text-align: right;\n",
              "    }\n",
              "</style>\n",
              "<table border=\"1\" class=\"dataframe\">\n",
              "  <thead>\n",
              "    <tr style=\"text-align: right;\">\n",
              "      <th></th>\n",
              "      <th>Name</th>\n",
              "      <th>Class</th>\n",
              "      <th>Score</th>\n",
              "      <th>np_null_column</th>\n",
              "      <th>null_column</th>\n",
              "    </tr>\n",
              "  </thead>\n",
              "  <tbody>\n",
              "    <tr>\n",
              "      <th>school1</th>\n",
              "      <td>Alice</td>\n",
              "      <td>Physics</td>\n",
              "      <td>85</td>\n",
              "      <td>NaN</td>\n",
              "      <td>None</td>\n",
              "    </tr>\n",
              "    <tr>\n",
              "      <th>school2</th>\n",
              "      <td>Jack</td>\n",
              "      <td>Chemistry</td>\n",
              "      <td>82</td>\n",
              "      <td>NaN</td>\n",
              "      <td>None</td>\n",
              "    </tr>\n",
              "    <tr>\n",
              "      <th>school1</th>\n",
              "      <td>Helen</td>\n",
              "      <td>Biology</td>\n",
              "      <td>90</td>\n",
              "      <td>NaN</td>\n",
              "      <td>None</td>\n",
              "    </tr>\n",
              "  </tbody>\n",
              "</table>\n",
              "</div>"
            ],
            "text/plain": [
              "          Name      Class  Score  np_null_column null_column\n",
              "school1  Alice    Physics     85             NaN        None\n",
              "school2   Jack  Chemistry     82             NaN        None\n",
              "school1  Helen    Biology     90             NaN        None"
            ]
          },
          "metadata": {
            "tags": []
          },
          "execution_count": 42
        }
      ]
    },
    {
      "cell_type": "code",
      "metadata": {
        "id": "BmdrX0r6L89c",
        "colab": {
          "base_uri": "https://localhost:8080/",
          "height": 142
        },
        "outputId": "1048cdac-1ad1-4283-a64b-c7254acb298e"
      },
      "source": [
        "df.isnull()"
      ],
      "execution_count": null,
      "outputs": [
        {
          "output_type": "execute_result",
          "data": {
            "text/html": [
              "<div>\n",
              "<style scoped>\n",
              "    .dataframe tbody tr th:only-of-type {\n",
              "        vertical-align: middle;\n",
              "    }\n",
              "\n",
              "    .dataframe tbody tr th {\n",
              "        vertical-align: top;\n",
              "    }\n",
              "\n",
              "    .dataframe thead th {\n",
              "        text-align: right;\n",
              "    }\n",
              "</style>\n",
              "<table border=\"1\" class=\"dataframe\">\n",
              "  <thead>\n",
              "    <tr style=\"text-align: right;\">\n",
              "      <th></th>\n",
              "      <th>Name</th>\n",
              "      <th>Class</th>\n",
              "      <th>Score</th>\n",
              "      <th>np_null_column</th>\n",
              "      <th>null_column</th>\n",
              "    </tr>\n",
              "  </thead>\n",
              "  <tbody>\n",
              "    <tr>\n",
              "      <th>school1</th>\n",
              "      <td>False</td>\n",
              "      <td>False</td>\n",
              "      <td>False</td>\n",
              "      <td>True</td>\n",
              "      <td>True</td>\n",
              "    </tr>\n",
              "    <tr>\n",
              "      <th>school2</th>\n",
              "      <td>False</td>\n",
              "      <td>False</td>\n",
              "      <td>False</td>\n",
              "      <td>True</td>\n",
              "      <td>True</td>\n",
              "    </tr>\n",
              "    <tr>\n",
              "      <th>school1</th>\n",
              "      <td>False</td>\n",
              "      <td>False</td>\n",
              "      <td>False</td>\n",
              "      <td>True</td>\n",
              "      <td>True</td>\n",
              "    </tr>\n",
              "  </tbody>\n",
              "</table>\n",
              "</div>"
            ],
            "text/plain": [
              "          Name  Class  Score  np_null_column  null_column\n",
              "school1  False  False  False            True         True\n",
              "school2  False  False  False            True         True\n",
              "school1  False  False  False            True         True"
            ]
          },
          "metadata": {
            "tags": []
          },
          "execution_count": 43
        }
      ]
    },
    {
      "cell_type": "code",
      "metadata": {
        "id": "rKMVaJG4NG6D"
      },
      "source": [
        ""
      ],
      "execution_count": null,
      "outputs": []
    },
    {
      "cell_type": "code",
      "metadata": {
        "id": "GSsRT84Ex-b2",
        "colab": {
          "base_uri": "https://localhost:8080/"
        },
        "outputId": "5ec3f6ef-d4c9-49d3-9683-d01a297a250b"
      },
      "source": [
        "#isnull pandas kütüphanesi altında bulnan bir fonksiyondur\n",
        "s.isnull()"
      ],
      "execution_count": null,
      "outputs": [
        {
          "output_type": "execute_result",
          "data": {
            "text/plain": [
              "0    False\n",
              "1     True\n",
              "2     True\n",
              "dtype: bool"
            ]
          },
          "metadata": {
            "tags": []
          },
          "execution_count": 49
        }
      ]
    },
    {
      "cell_type": "code",
      "metadata": {
        "id": "EXBhrrb0ywpS",
        "colab": {
          "base_uri": "https://localhost:8080/"
        },
        "outputId": "8d4b9633-b717-42fb-b305-80bc23c0409a"
      },
      "source": [
        "#her ikisini birden null olarak gördü\n",
        "s.fillna(\"xyz\",inplace=True)\n",
        "s"
      ],
      "execution_count": null,
      "outputs": [
        {
          "output_type": "execute_result",
          "data": {
            "text/plain": [
              "0    berat\n",
              "1      xyz\n",
              "2      xyz\n",
              "dtype: object"
            ]
          },
          "metadata": {
            "tags": []
          },
          "execution_count": 52
        }
      ]
    },
    {
      "cell_type": "code",
      "metadata": {
        "id": "2cMv_f-NMRuX"
      },
      "source": [
        ""
      ],
      "execution_count": null,
      "outputs": []
    },
    {
      "cell_type": "code",
      "metadata": {
        "id": "LfVgTemNk7SA"
      },
      "source": [
        "student_dict={\"ahmet\":\"math\",\n",
        "              \"ayse\":\"chem\",\n",
        "              \"suleyman\":\"hist\"}"
      ],
      "execution_count": null,
      "outputs": []
    },
    {
      "cell_type": "code",
      "metadata": {
        "id": "plr2FYs5k_rl",
        "colab": {
          "base_uri": "https://localhost:8080/"
        },
        "outputId": "2f7d60f9-a942-4946-c7cf-d0ffbd34947a"
      },
      "source": [
        "#dictionary üzerinden de seri yaratılabilir. bu durumda index dictionary'nin keyleri olur\n",
        "s=pd.Series(student_dict)\n",
        "s\n"
      ],
      "execution_count": null,
      "outputs": [
        {
          "output_type": "execute_result",
          "data": {
            "text/plain": [
              "ahmet       math\n",
              "ayse        chem\n",
              "suleyman    hist\n",
              "dtype: object"
            ]
          },
          "metadata": {
            "tags": []
          },
          "execution_count": 25
        }
      ]
    },
    {
      "cell_type": "code",
      "metadata": {
        "id": "TH4IYti0nqYR",
        "colab": {
          "base_uri": "https://localhost:8080/"
        },
        "outputId": "b3480c35-ee10-4f7a-90dd-5e9731e3fdee"
      },
      "source": [
        "s.index"
      ],
      "execution_count": null,
      "outputs": [
        {
          "output_type": "execute_result",
          "data": {
            "text/plain": [
              "Index(['ahmet', 'ayse', 'suleyman'], dtype='object')"
            ]
          },
          "metadata": {
            "tags": []
          },
          "execution_count": 26
        }
      ]
    },
    {
      "cell_type": "code",
      "metadata": {
        "id": "P2JD1iQtoge4",
        "colab": {
          "base_uri": "https://localhost:8080/"
        },
        "outputId": "77a4ce79-7393-490a-8e96-991a35966cbb"
      },
      "source": [
        "#seriler için bu şekilde index atanabilir\n",
        "s=pd.Series([\"math\",\"chem\",\"hist\"],index=[\"ahmet\",\"ayse\",\"suleyman\"])\n",
        "s"
      ],
      "execution_count": null,
      "outputs": [
        {
          "output_type": "execute_result",
          "data": {
            "text/plain": [
              "ahmet       math\n",
              "ayse        chem\n",
              "suleyman    hist\n",
              "dtype: object"
            ]
          },
          "metadata": {
            "tags": []
          },
          "execution_count": 28
        }
      ]
    },
    {
      "cell_type": "code",
      "metadata": {
        "id": "OgETfnTXo_MP",
        "colab": {
          "base_uri": "https://localhost:8080/"
        },
        "outputId": "0e4cc978-3811-433b-b388-abe1f7bc0864"
      },
      "source": [
        "#dict'ten series yaratmak çok fazla işe yarayabilir. aşağıdaki örnekte dict'te mehmet olmadığı için NaN değerini atadı.\n",
        "student_dict={\"ahmet\":\"math\",\n",
        "              \"ayse\":\"chem\",\n",
        "              \"suleyman\":\"hist\"}\n",
        "pd.Series(student_dict,index=[\"ahmet\",\"ayse\",\"mehmet\"])"
      ],
      "execution_count": null,
      "outputs": [
        {
          "output_type": "execute_result",
          "data": {
            "text/plain": [
              "ahmet     math\n",
              "ayse      chem\n",
              "mehmet     NaN\n",
              "dtype: object"
            ]
          },
          "metadata": {
            "tags": []
          },
          "execution_count": 30
        }
      ]
    },
    {
      "cell_type": "code",
      "metadata": {
        "id": "80rK5aXBqMI2"
      },
      "source": [
        "#NaN--> not a number"
      ],
      "execution_count": null,
      "outputs": []
    },
    {
      "cell_type": "markdown",
      "metadata": {
        "id": "oEGCHD6rtawS"
      },
      "source": [
        "### Querying a Series\n",
        "iloc index number ile çalışır. loc string ile "
      ]
    },
    {
      "cell_type": "code",
      "metadata": {
        "id": "3lR2FI2x0Kl7"
      },
      "source": [
        "import numpy as np"
      ],
      "execution_count": null,
      "outputs": []
    },
    {
      "cell_type": "code",
      "metadata": {
        "id": "t73oKubmxjc5",
        "colab": {
          "base_uri": "https://localhost:8080/"
        },
        "outputId": "47bad3d0-9115-40be-b3e9-ac77fce3bb46"
      },
      "source": [
        "student_dict={\"ahmet\":\"math\",\n",
        "              \"ayse\":\"chem\",\n",
        "              \"suleyman\":\"hist\"}\n",
        "s=pd.Series(student_dict)\n",
        "s"
      ],
      "execution_count": null,
      "outputs": [
        {
          "output_type": "execute_result",
          "data": {
            "text/plain": [
              "ahmet       math\n",
              "ayse        chem\n",
              "suleyman    hist\n",
              "dtype: object"
            ]
          },
          "metadata": {
            "tags": []
          },
          "execution_count": 18
        }
      ]
    },
    {
      "cell_type": "code",
      "metadata": {
        "id": "DMFV5f7i29Gs",
        "colab": {
          "base_uri": "https://localhost:8080/",
          "height": 35
        },
        "outputId": "e18d5f29-cf38-4b96-947e-a97c7859e8c8"
      },
      "source": [
        "s.loc[\"ahmet\"]"
      ],
      "execution_count": null,
      "outputs": [
        {
          "output_type": "execute_result",
          "data": {
            "application/vnd.google.colaboratory.intrinsic+json": {
              "type": "string"
            },
            "text/plain": [
              "'math'"
            ]
          },
          "metadata": {
            "tags": []
          },
          "execution_count": 19
        }
      ]
    },
    {
      "cell_type": "code",
      "metadata": {
        "id": "BefPWHmgz14M",
        "colab": {
          "base_uri": "https://localhost:8080/",
          "height": 35
        },
        "outputId": "bfdef555-e3a8-4b6e-9391-cc87180c157f"
      },
      "source": [
        "s.iloc[2]"
      ],
      "execution_count": null,
      "outputs": [
        {
          "output_type": "execute_result",
          "data": {
            "application/vnd.google.colaboratory.intrinsic+json": {
              "type": "string"
            },
            "text/plain": [
              "'hist'"
            ]
          },
          "metadata": {
            "tags": []
          },
          "execution_count": 60
        }
      ]
    },
    {
      "cell_type": "code",
      "metadata": {
        "id": "GRdhAu3H1Ejc",
        "colab": {
          "base_uri": "https://localhost:8080/",
          "height": 35
        },
        "outputId": "c599f0d7-af7c-4e14-f12c-41bbb57a540c"
      },
      "source": [
        "s[2]"
      ],
      "execution_count": null,
      "outputs": [
        {
          "output_type": "execute_result",
          "data": {
            "application/vnd.google.colaboratory.intrinsic+json": {
              "type": "string"
            },
            "text/plain": [
              "'hist'"
            ]
          },
          "metadata": {
            "tags": []
          },
          "execution_count": 61
        }
      ]
    },
    {
      "cell_type": "code",
      "metadata": {
        "id": "WBjdebe8z9Vv",
        "colab": {
          "base_uri": "https://localhost:8080/",
          "height": 35
        },
        "outputId": "b038cfee-ddd8-4436-da83-243815ed9aeb"
      },
      "source": [
        "s.loc[\"ahmet\"]"
      ],
      "execution_count": null,
      "outputs": [
        {
          "output_type": "execute_result",
          "data": {
            "application/vnd.google.colaboratory.intrinsic+json": {
              "type": "string"
            },
            "text/plain": [
              "'math'"
            ]
          },
          "metadata": {
            "tags": []
          },
          "execution_count": 59
        }
      ]
    },
    {
      "cell_type": "code",
      "metadata": {
        "id": "fbeYAcZw1JUM",
        "colab": {
          "base_uri": "https://localhost:8080/",
          "height": 35
        },
        "outputId": "94684cb7-554d-46fe-9f7f-ac237a43c566"
      },
      "source": [
        "s[\"ahmet\"]"
      ],
      "execution_count": null,
      "outputs": [
        {
          "output_type": "execute_result",
          "data": {
            "application/vnd.google.colaboratory.intrinsic+json": {
              "type": "string"
            },
            "text/plain": [
              "'math'"
            ]
          },
          "metadata": {
            "tags": []
          },
          "execution_count": 62
        }
      ]
    },
    {
      "cell_type": "code",
      "metadata": {
        "id": "4Qd5W-Gs0FjY",
        "colab": {
          "base_uri": "https://localhost:8080/"
        },
        "outputId": "6feed36e-3c36-4fdc-a2d3-dc0860daf2c3"
      },
      "source": [
        "grades=pd.Series([10,20,60,40,80])\n",
        "grades"
      ],
      "execution_count": null,
      "outputs": [
        {
          "output_type": "execute_result",
          "data": {
            "text/plain": [
              "0    10\n",
              "1    20\n",
              "2    60\n",
              "3    40\n",
              "4    80\n",
              "dtype: int64"
            ]
          },
          "metadata": {
            "tags": []
          },
          "execution_count": 63
        }
      ]
    },
    {
      "cell_type": "code",
      "metadata": {
        "id": "U0Sb3wOr4MNJ",
        "colab": {
          "base_uri": "https://localhost:8080/"
        },
        "outputId": "54b26c86-1e1c-446b-a81f-ea270f4ac609"
      },
      "source": [
        "#buradaki sum fonksiyonu numpy kütüphanesinden geliyor\n",
        "grades.sum()"
      ],
      "execution_count": null,
      "outputs": [
        {
          "output_type": "execute_result",
          "data": {
            "text/plain": [
              "210"
            ]
          },
          "metadata": {
            "tags": []
          },
          "execution_count": 65
        }
      ]
    },
    {
      "cell_type": "code",
      "metadata": {
        "id": "g2jCc23_6GV8"
      },
      "source": [
        "#series için bu şekilde işlem yapılabilir.\n",
        "grades=grades+2"
      ],
      "execution_count": null,
      "outputs": []
    },
    {
      "cell_type": "code",
      "metadata": {
        "id": "5EqIwk7z6eAB",
        "colab": {
          "base_uri": "https://localhost:8080/"
        },
        "outputId": "a216ebc5-139a-4b88-a0ac-dc0da2bf3c81"
      },
      "source": [
        "grades\n"
      ],
      "execution_count": null,
      "outputs": [
        {
          "output_type": "execute_result",
          "data": {
            "text/plain": [
              "0     6\n",
              "1    29\n",
              "2    69\n",
              "3    49\n",
              "4    89\n",
              "dtype: int64"
            ]
          },
          "metadata": {
            "tags": []
          },
          "execution_count": 95
        }
      ]
    },
    {
      "cell_type": "code",
      "metadata": {
        "id": "ZP6WgnPu6ggz",
        "colab": {
          "base_uri": "https://localhost:8080/"
        },
        "outputId": "aeee5e9f-211e-4c9e-c0c0-fea9ff0db768"
      },
      "source": [
        "grades+=5\n",
        "grades"
      ],
      "execution_count": null,
      "outputs": [
        {
          "output_type": "execute_result",
          "data": {
            "text/plain": [
              "0    11\n",
              "1    34\n",
              "2    74\n",
              "3    54\n",
              "4    94\n",
              "dtype: int64"
            ]
          },
          "metadata": {
            "tags": []
          },
          "execution_count": 96
        }
      ]
    },
    {
      "cell_type": "code",
      "metadata": {
        "id": "NBIrayO16o8-",
        "colab": {
          "base_uri": "https://localhost:8080/"
        },
        "outputId": "7647c96f-0dee-43c2-abed-47bbf5a5c555"
      },
      "source": [
        "# iteritems ile aynı dictionary de olduğu gibi index ve value'u bir loopa sokabiliyoruz\n",
        "for x,y in grades.iteritems():\n",
        "  print(x)\n",
        "  print(y)"
      ],
      "execution_count": null,
      "outputs": [
        {
          "output_type": "stream",
          "text": [
            "0\n",
            "11\n",
            "1\n",
            "34\n",
            "2\n",
            "74\n",
            "3\n",
            "54\n",
            "4\n",
            "94\n"
          ],
          "name": "stdout"
        }
      ]
    },
    {
      "cell_type": "code",
      "metadata": {
        "id": "b0RuJf5w7CN0",
        "colab": {
          "base_uri": "https://localhost:8080/"
        },
        "outputId": "881883bf-35fe-4c17-e5f4-6f6744106110"
      },
      "source": [
        "for x in grades:\n",
        "  print(x)"
      ],
      "execution_count": null,
      "outputs": [
        {
          "output_type": "stream",
          "text": [
            "11\n",
            "34\n",
            "74\n",
            "54\n",
            "94\n"
          ],
          "name": "stdout"
        }
      ]
    },
    {
      "cell_type": "code",
      "metadata": {
        "id": "4DmnNddx7NYb"
      },
      "source": [
        "for x,y in grades.iteritems():\n",
        "  if x==0:\n",
        "    grades.iloc[x]=6\n",
        "  else: \n",
        "    grades.iloc[x]=y+2\n",
        " \n"
      ],
      "execution_count": null,
      "outputs": []
    },
    {
      "cell_type": "code",
      "metadata": {
        "id": "az6G8LO67z9M",
        "colab": {
          "base_uri": "https://localhost:8080/"
        },
        "outputId": "25bef212-b1b7-4922-bc2a-31f1cb2884ae"
      },
      "source": [
        "grades"
      ],
      "execution_count": null,
      "outputs": [
        {
          "output_type": "execute_result",
          "data": {
            "text/plain": [
              "0     6\n",
              "1    36\n",
              "2    76\n",
              "3    56\n",
              "4    96\n",
              "dtype: int64"
            ]
          },
          "metadata": {
            "tags": []
          },
          "execution_count": 100
        }
      ]
    },
    {
      "cell_type": "code",
      "metadata": {
        "id": "1UXW1dSj9lto",
        "colab": {
          "base_uri": "https://localhost:8080/"
        },
        "outputId": "58c0bf10-4073-4cb7-e285-0ba7395a9084"
      },
      "source": [
        "list_1=[1,2,3]\n",
        "s=pd.Series(list_1)\n",
        "s"
      ],
      "execution_count": null,
      "outputs": [
        {
          "output_type": "execute_result",
          "data": {
            "text/plain": [
              "0    1\n",
              "1    2\n",
              "2    3\n",
              "dtype: int64"
            ]
          },
          "metadata": {
            "tags": []
          },
          "execution_count": 101
        }
      ]
    },
    {
      "cell_type": "code",
      "metadata": {
        "id": "Zi4drNT8-x2Q",
        "colab": {
          "base_uri": "https://localhost:8080/"
        },
        "outputId": "18993d4d-43a5-4c67-fa9c-8c5d877de594"
      },
      "source": [
        "s.loc[\"berat\"]=8\n",
        "s"
      ],
      "execution_count": null,
      "outputs": [
        {
          "output_type": "execute_result",
          "data": {
            "text/plain": [
              "0        1\n",
              "1        2\n",
              "2        3\n",
              "berat    8\n",
              "dtype: int64"
            ]
          },
          "metadata": {
            "tags": []
          },
          "execution_count": 102
        }
      ]
    },
    {
      "cell_type": "code",
      "metadata": {
        "id": "JrnfAFlf-1iL",
        "colab": {
          "base_uri": "https://localhost:8080/"
        },
        "outputId": "3ca575cd-0742-4907-c1e1-6a758ff2bad1"
      },
      "source": [
        "#bu şekilde yazınca yeni bir element eklemiyor. sadece değeri değiştiriyor.\n",
        "\n",
        "s.iloc[3]=10\n",
        "s"
      ],
      "execution_count": null,
      "outputs": [
        {
          "output_type": "execute_result",
          "data": {
            "text/plain": [
              "0         1\n",
              "1         2\n",
              "2         3\n",
              "berat    10\n",
              "dtype: int64"
            ]
          },
          "metadata": {
            "tags": []
          },
          "execution_count": 108
        }
      ]
    },
    {
      "cell_type": "code",
      "metadata": {
        "id": "BFVtfH-l-4aH"
      },
      "source": [
        "kombine_s=s.append(s)"
      ],
      "execution_count": null,
      "outputs": []
    },
    {
      "cell_type": "code",
      "metadata": {
        "id": "svDDAnbc_x5l",
        "colab": {
          "base_uri": "https://localhost:8080/"
        },
        "outputId": "84faf7a6-79af-4691-8109-fa49d8c13108"
      },
      "source": [
        "kombine_s"
      ],
      "execution_count": null,
      "outputs": [
        {
          "output_type": "execute_result",
          "data": {
            "text/plain": [
              "0         1\n",
              "1         2\n",
              "2         3\n",
              "berat    10\n",
              "0         1\n",
              "1         2\n",
              "2         3\n",
              "berat    10\n",
              "dtype: int64"
            ]
          },
          "metadata": {
            "tags": []
          },
          "execution_count": 107
        }
      ]
    },
    {
      "cell_type": "markdown",
      "metadata": {
        "id": "4ALX3jagWLZh"
      },
      "source": [
        "## DataFrame\n",
        "\n",
        "önemli:csvden data okurken na_filter default olarak True değerini alır. bu da missinge benzeyen herşeyi (boşluk dahil) missing olarak atar. Bu kullanışlı özellik sayesinde missing value'ları detect etmek kolaulaşır. "
      ]
    },
    {
      "cell_type": "code",
      "metadata": {
        "id": "J07Nrx5cI_wS"
      },
      "source": [
        "import pandas as pd\n",
        "import numpy as np"
      ],
      "execution_count": null,
      "outputs": []
    },
    {
      "cell_type": "code",
      "metadata": {
        "id": "lTrRQhtwXSHW"
      },
      "source": [
        "# from series to dataframe yaratılan serileriin indexleri kolon oluyor\n"
      ],
      "execution_count": null,
      "outputs": []
    },
    {
      "cell_type": "code",
      "metadata": {
        "id": "r3ubnlui_y2u"
      },
      "source": [
        "record1 = pd.Series({'Name': 'Alice',\n",
        "                        'Class': 'Physics',\n",
        "                        'Score': 85})\n",
        "record2 = pd.Series({'Name': 'Jack',\n",
        "                        'Class': 'Chemistry',\n",
        "                        'Score': 82})\n",
        "record3 = pd.Series({'Name': 'Helen',\n",
        "                        'Class': 'Biology',\n",
        "                        'Score': 90})"
      ],
      "execution_count": null,
      "outputs": []
    },
    {
      "cell_type": "code",
      "metadata": {
        "id": "_bFXyFBuW9oD",
        "colab": {
          "base_uri": "https://localhost:8080/",
          "height": 142
        },
        "outputId": "e96e51a1-bb03-4fba-9201-b97bb145ae4a"
      },
      "source": [
        "# Like a Series, the DataFrame object is index. Here I'll use a group of series, where each series \n",
        "# represents a row of data. Just like the Series function, we can pass in our individual items\n",
        "# in an array, and we can pass in our index values as a second arguments\n",
        "df = pd.DataFrame([record1, record2, record3],\n",
        "                  index=['school1', 'school2', 'school1'])\n",
        "\n",
        "# And just like the Series we can use the head() function to see the first several rows of the\n",
        "# dataframe, including indices from both axes, and we can use this to verify the columns and the rows\n",
        "df.head()"
      ],
      "execution_count": null,
      "outputs": [
        {
          "output_type": "execute_result",
          "data": {
            "text/html": [
              "<div>\n",
              "<style scoped>\n",
              "    .dataframe tbody tr th:only-of-type {\n",
              "        vertical-align: middle;\n",
              "    }\n",
              "\n",
              "    .dataframe tbody tr th {\n",
              "        vertical-align: top;\n",
              "    }\n",
              "\n",
              "    .dataframe thead th {\n",
              "        text-align: right;\n",
              "    }\n",
              "</style>\n",
              "<table border=\"1\" class=\"dataframe\">\n",
              "  <thead>\n",
              "    <tr style=\"text-align: right;\">\n",
              "      <th></th>\n",
              "      <th>Name</th>\n",
              "      <th>Class</th>\n",
              "      <th>Score</th>\n",
              "    </tr>\n",
              "  </thead>\n",
              "  <tbody>\n",
              "    <tr>\n",
              "      <th>school1</th>\n",
              "      <td>Alice</td>\n",
              "      <td>Physics</td>\n",
              "      <td>85</td>\n",
              "    </tr>\n",
              "    <tr>\n",
              "      <th>school2</th>\n",
              "      <td>Jack</td>\n",
              "      <td>Chemistry</td>\n",
              "      <td>82</td>\n",
              "    </tr>\n",
              "    <tr>\n",
              "      <th>school1</th>\n",
              "      <td>Helen</td>\n",
              "      <td>Biology</td>\n",
              "      <td>90</td>\n",
              "    </tr>\n",
              "  </tbody>\n",
              "</table>\n",
              "</div>"
            ],
            "text/plain": [
              "          Name      Class  Score\n",
              "school1  Alice    Physics     85\n",
              "school2   Jack  Chemistry     82\n",
              "school1  Helen    Biology     90"
            ]
          },
          "metadata": {
            "tags": []
          },
          "execution_count": 6
        }
      ]
    },
    {
      "cell_type": "code",
      "metadata": {
        "id": "hq4ZXZUQX91E"
      },
      "source": [
        "#from dictionary to dataframe"
      ],
      "execution_count": null,
      "outputs": []
    },
    {
      "cell_type": "code",
      "metadata": {
        "id": "f_k3NifeYfnR",
        "colab": {
          "base_uri": "https://localhost:8080/",
          "height": 142
        },
        "outputId": "9db2a9dc-ec0c-4bec-ab6a-1ff9f1aef0e2"
      },
      "source": [
        "# An alternative method is that you could use a list of dictionaries, where each dictionary \n",
        "# represents a row of data.\n",
        "\n",
        "students = [{'Name': 'Alice',\n",
        "              'Class': 'Physics',\n",
        "              'Score': 85},\n",
        "            {'Name': 'Jack',\n",
        "             'Class': 'Chemistry',\n",
        "             'Score': 82},\n",
        "            {'Name': 'Helen',\n",
        "             'Class': 'Biology',\n",
        "             'Score': 90}]\n",
        "\n",
        "# Then we pass this list of dictionaries into the DataFrame function\n",
        "df = pd.DataFrame(students, index=['school1', 'school2', 'school1'])\n",
        "# And lets print the head again\n",
        "df.head()"
      ],
      "execution_count": null,
      "outputs": [
        {
          "output_type": "execute_result",
          "data": {
            "text/html": [
              "<div>\n",
              "<style scoped>\n",
              "    .dataframe tbody tr th:only-of-type {\n",
              "        vertical-align: middle;\n",
              "    }\n",
              "\n",
              "    .dataframe tbody tr th {\n",
              "        vertical-align: top;\n",
              "    }\n",
              "\n",
              "    .dataframe thead th {\n",
              "        text-align: right;\n",
              "    }\n",
              "</style>\n",
              "<table border=\"1\" class=\"dataframe\">\n",
              "  <thead>\n",
              "    <tr style=\"text-align: right;\">\n",
              "      <th></th>\n",
              "      <th>Name</th>\n",
              "      <th>Class</th>\n",
              "      <th>Score</th>\n",
              "    </tr>\n",
              "  </thead>\n",
              "  <tbody>\n",
              "    <tr>\n",
              "      <th>school1</th>\n",
              "      <td>Alice</td>\n",
              "      <td>Physics</td>\n",
              "      <td>85</td>\n",
              "    </tr>\n",
              "    <tr>\n",
              "      <th>school2</th>\n",
              "      <td>Jack</td>\n",
              "      <td>Chemistry</td>\n",
              "      <td>82</td>\n",
              "    </tr>\n",
              "    <tr>\n",
              "      <th>school1</th>\n",
              "      <td>Helen</td>\n",
              "      <td>Biology</td>\n",
              "      <td>90</td>\n",
              "    </tr>\n",
              "  </tbody>\n",
              "</table>\n",
              "</div>"
            ],
            "text/plain": [
              "          Name      Class  Score\n",
              "school1  Alice    Physics     85\n",
              "school2   Jack  Chemistry     82\n",
              "school1  Helen    Biology     90"
            ]
          },
          "metadata": {
            "tags": []
          },
          "execution_count": 8
        }
      ]
    },
    {
      "cell_type": "code",
      "metadata": {
        "id": "7BoP0VyGY3ra",
        "colab": {
          "base_uri": "https://localhost:8080/"
        },
        "outputId": "898cb960-2b83-47fd-f1fa-ec769f2620c4"
      },
      "source": [
        "df.loc[\"school1\",\"Name\"]"
      ],
      "execution_count": null,
      "outputs": [
        {
          "output_type": "execute_result",
          "data": {
            "text/plain": [
              "school1    Alice\n",
              "school1    Helen\n",
              "Name: Name, dtype: object"
            ]
          },
          "metadata": {
            "tags": []
          },
          "execution_count": 9
        }
      ]
    },
    {
      "cell_type": "code",
      "metadata": {
        "id": "jDRHaCNLY9ZI",
        "colab": {
          "base_uri": "https://localhost:8080/"
        },
        "outputId": "eadf29a4-0fbf-4c7a-cc01-23fd42d602f2"
      },
      "source": [
        "df.iloc[0,1:3]"
      ],
      "execution_count": null,
      "outputs": [
        {
          "output_type": "execute_result",
          "data": {
            "text/plain": [
              "Class    Physics\n",
              "Score         85\n",
              "Name: school1, dtype: object"
            ]
          },
          "metadata": {
            "tags": []
          },
          "execution_count": 10
        }
      ]
    },
    {
      "cell_type": "code",
      "metadata": {
        "id": "n2o6CJy9ZKLp",
        "colab": {
          "base_uri": "https://localhost:8080/",
          "height": 142
        },
        "outputId": "4af78526-6159-48d6-921a-730370a88a2b"
      },
      "source": [
        "df.iloc[0,1]=\"Hist\"\n",
        "df"
      ],
      "execution_count": null,
      "outputs": [
        {
          "output_type": "execute_result",
          "data": {
            "text/html": [
              "<div>\n",
              "<style scoped>\n",
              "    .dataframe tbody tr th:only-of-type {\n",
              "        vertical-align: middle;\n",
              "    }\n",
              "\n",
              "    .dataframe tbody tr th {\n",
              "        vertical-align: top;\n",
              "    }\n",
              "\n",
              "    .dataframe thead th {\n",
              "        text-align: right;\n",
              "    }\n",
              "</style>\n",
              "<table border=\"1\" class=\"dataframe\">\n",
              "  <thead>\n",
              "    <tr style=\"text-align: right;\">\n",
              "      <th></th>\n",
              "      <th>Name</th>\n",
              "      <th>Class</th>\n",
              "      <th>Score</th>\n",
              "    </tr>\n",
              "  </thead>\n",
              "  <tbody>\n",
              "    <tr>\n",
              "      <th>school1</th>\n",
              "      <td>Alice</td>\n",
              "      <td>Hist</td>\n",
              "      <td>85</td>\n",
              "    </tr>\n",
              "    <tr>\n",
              "      <th>school2</th>\n",
              "      <td>Jack</td>\n",
              "      <td>Chemistry</td>\n",
              "      <td>82</td>\n",
              "    </tr>\n",
              "    <tr>\n",
              "      <th>school1</th>\n",
              "      <td>Helen</td>\n",
              "      <td>Biology</td>\n",
              "      <td>90</td>\n",
              "    </tr>\n",
              "  </tbody>\n",
              "</table>\n",
              "</div>"
            ],
            "text/plain": [
              "          Name      Class  Score\n",
              "school1  Alice       Hist     85\n",
              "school2   Jack  Chemistry     82\n",
              "school1  Helen    Biology     90"
            ]
          },
          "metadata": {
            "tags": []
          },
          "execution_count": 11
        }
      ]
    },
    {
      "cell_type": "code",
      "metadata": {
        "id": "fvSecql0ZpFV",
        "colab": {
          "base_uri": "https://localhost:8080/",
          "height": 142
        },
        "outputId": "2ed42678-a8dc-4cf6-ea8a-a9fd9935dcea"
      },
      "source": [
        "df.iloc[0:2,1:3]=\"Hist\"\n",
        "df"
      ],
      "execution_count": null,
      "outputs": [
        {
          "output_type": "execute_result",
          "data": {
            "text/html": [
              "<div>\n",
              "<style scoped>\n",
              "    .dataframe tbody tr th:only-of-type {\n",
              "        vertical-align: middle;\n",
              "    }\n",
              "\n",
              "    .dataframe tbody tr th {\n",
              "        vertical-align: top;\n",
              "    }\n",
              "\n",
              "    .dataframe thead th {\n",
              "        text-align: right;\n",
              "    }\n",
              "</style>\n",
              "<table border=\"1\" class=\"dataframe\">\n",
              "  <thead>\n",
              "    <tr style=\"text-align: right;\">\n",
              "      <th></th>\n",
              "      <th>Name</th>\n",
              "      <th>Class</th>\n",
              "      <th>Score</th>\n",
              "    </tr>\n",
              "  </thead>\n",
              "  <tbody>\n",
              "    <tr>\n",
              "      <th>school1</th>\n",
              "      <td>Alice</td>\n",
              "      <td>Hist</td>\n",
              "      <td>Hist</td>\n",
              "    </tr>\n",
              "    <tr>\n",
              "      <th>school2</th>\n",
              "      <td>Jack</td>\n",
              "      <td>Hist</td>\n",
              "      <td>Hist</td>\n",
              "    </tr>\n",
              "    <tr>\n",
              "      <th>school1</th>\n",
              "      <td>Helen</td>\n",
              "      <td>Biology</td>\n",
              "      <td>90</td>\n",
              "    </tr>\n",
              "  </tbody>\n",
              "</table>\n",
              "</div>"
            ],
            "text/plain": [
              "          Name    Class Score\n",
              "school1  Alice     Hist  Hist\n",
              "school2   Jack     Hist  Hist\n",
              "school1  Helen  Biology    90"
            ]
          },
          "metadata": {
            "tags": []
          },
          "execution_count": 12
        }
      ]
    },
    {
      "cell_type": "code",
      "metadata": {
        "id": "zXBYXrn3ZtuM",
        "colab": {
          "base_uri": "https://localhost:8080/",
          "height": 111
        },
        "outputId": "8486db18-ad8b-48e5-8612-d63919b2a27a"
      },
      "source": [
        "df.iloc[0:2,1:3]"
      ],
      "execution_count": null,
      "outputs": [
        {
          "output_type": "execute_result",
          "data": {
            "text/html": [
              "<div>\n",
              "<style scoped>\n",
              "    .dataframe tbody tr th:only-of-type {\n",
              "        vertical-align: middle;\n",
              "    }\n",
              "\n",
              "    .dataframe tbody tr th {\n",
              "        vertical-align: top;\n",
              "    }\n",
              "\n",
              "    .dataframe thead th {\n",
              "        text-align: right;\n",
              "    }\n",
              "</style>\n",
              "<table border=\"1\" class=\"dataframe\">\n",
              "  <thead>\n",
              "    <tr style=\"text-align: right;\">\n",
              "      <th></th>\n",
              "      <th>Class</th>\n",
              "      <th>Score</th>\n",
              "    </tr>\n",
              "  </thead>\n",
              "  <tbody>\n",
              "    <tr>\n",
              "      <th>school1</th>\n",
              "      <td>Hist</td>\n",
              "      <td>Hist</td>\n",
              "    </tr>\n",
              "    <tr>\n",
              "      <th>school2</th>\n",
              "      <td>Hist</td>\n",
              "      <td>Hist</td>\n",
              "    </tr>\n",
              "  </tbody>\n",
              "</table>\n",
              "</div>"
            ],
            "text/plain": [
              "        Class Score\n",
              "school1  Hist  Hist\n",
              "school2  Hist  Hist"
            ]
          },
          "metadata": {
            "tags": []
          },
          "execution_count": 13
        }
      ]
    },
    {
      "cell_type": "code",
      "metadata": {
        "id": "DxVN33mGcSzL",
        "colab": {
          "base_uri": "https://localhost:8080/"
        },
        "outputId": "4b3fc8aa-83b3-42b8-8ced-d4bbe9717ede"
      },
      "source": [
        "print(df)\n",
        "print()\n",
        "print(df.T)"
      ],
      "execution_count": null,
      "outputs": [
        {
          "output_type": "stream",
          "text": [
            "          Name    Class Score\n",
            "school1  Alice     Hist  Hist\n",
            "school2   Jack     Hist  Hist\n",
            "school1  Helen  Biology    90\n",
            "\n",
            "      school1 school2  school1\n",
            "Name    Alice    Jack    Helen\n",
            "Class    Hist    Hist  Biology\n",
            "Score    Hist    Hist       90\n"
          ],
          "name": "stdout"
        }
      ]
    },
    {
      "cell_type": "code",
      "metadata": {
        "id": "LRUR44xpc4nr",
        "colab": {
          "base_uri": "https://localhost:8080/",
          "height": 142
        },
        "outputId": "6ee3f1bb-9a39-438f-c4a8-fdfeb11a415d"
      },
      "source": [
        "df.loc[:,[\"Name\",\"Score\"]]"
      ],
      "execution_count": null,
      "outputs": [
        {
          "output_type": "execute_result",
          "data": {
            "text/html": [
              "<div>\n",
              "<style scoped>\n",
              "    .dataframe tbody tr th:only-of-type {\n",
              "        vertical-align: middle;\n",
              "    }\n",
              "\n",
              "    .dataframe tbody tr th {\n",
              "        vertical-align: top;\n",
              "    }\n",
              "\n",
              "    .dataframe thead th {\n",
              "        text-align: right;\n",
              "    }\n",
              "</style>\n",
              "<table border=\"1\" class=\"dataframe\">\n",
              "  <thead>\n",
              "    <tr style=\"text-align: right;\">\n",
              "      <th></th>\n",
              "      <th>Name</th>\n",
              "      <th>Score</th>\n",
              "    </tr>\n",
              "  </thead>\n",
              "  <tbody>\n",
              "    <tr>\n",
              "      <th>school1</th>\n",
              "      <td>Alice</td>\n",
              "      <td>Hist</td>\n",
              "    </tr>\n",
              "    <tr>\n",
              "      <th>school2</th>\n",
              "      <td>Jack</td>\n",
              "      <td>Hist</td>\n",
              "    </tr>\n",
              "    <tr>\n",
              "      <th>school1</th>\n",
              "      <td>Helen</td>\n",
              "      <td>90</td>\n",
              "    </tr>\n",
              "  </tbody>\n",
              "</table>\n",
              "</div>"
            ],
            "text/plain": [
              "          Name Score\n",
              "school1  Alice  Hist\n",
              "school2   Jack  Hist\n",
              "school1  Helen    90"
            ]
          },
          "metadata": {
            "tags": []
          },
          "execution_count": 17
        }
      ]
    },
    {
      "cell_type": "markdown",
      "metadata": {
        "id": "EBEANLNhJ-I9"
      },
      "source": [
        "### Drop\n",
        "\n",
        "drop fonsiyonu ile series veya df'lerden kolon veya satır silinebilir. drop fonsiyonunda axis=0 default olarak gelir bu da satıra denk gelir. axis=1 olursa kolon anlamına gelir. drop fonksiyonun çalışması df veya seriden o datayı gerçekten silmez görüntü olarak silinmiş bir kopya görünür. gerçekten silinmesi isteniyorsa inplace=True denilmelidir. geri dönümşümsüz bir şekilde silme işlemi için ilgili kolon del fonksiyonu ile silinebilir "
      ]
    },
    {
      "cell_type": "code",
      "metadata": {
        "id": "yyj_fngoJHsE",
        "colab": {
          "base_uri": "https://localhost:8080/",
          "height": 142
        },
        "outputId": "558b7cb3-e97b-45bf-8bf9-e614aeb77355"
      },
      "source": [
        "df"
      ],
      "execution_count": null,
      "outputs": [
        {
          "output_type": "execute_result",
          "data": {
            "text/html": [
              "<div>\n",
              "<style scoped>\n",
              "    .dataframe tbody tr th:only-of-type {\n",
              "        vertical-align: middle;\n",
              "    }\n",
              "\n",
              "    .dataframe tbody tr th {\n",
              "        vertical-align: top;\n",
              "    }\n",
              "\n",
              "    .dataframe thead th {\n",
              "        text-align: right;\n",
              "    }\n",
              "</style>\n",
              "<table border=\"1\" class=\"dataframe\">\n",
              "  <thead>\n",
              "    <tr style=\"text-align: right;\">\n",
              "      <th></th>\n",
              "      <th>Name</th>\n",
              "      <th>Class</th>\n",
              "      <th>Score</th>\n",
              "    </tr>\n",
              "  </thead>\n",
              "  <tbody>\n",
              "    <tr>\n",
              "      <th>school1</th>\n",
              "      <td>Alice</td>\n",
              "      <td>Hist</td>\n",
              "      <td>Hist</td>\n",
              "    </tr>\n",
              "    <tr>\n",
              "      <th>school2</th>\n",
              "      <td>Jack</td>\n",
              "      <td>Hist</td>\n",
              "      <td>Hist</td>\n",
              "    </tr>\n",
              "    <tr>\n",
              "      <th>school1</th>\n",
              "      <td>Helen</td>\n",
              "      <td>Biology</td>\n",
              "      <td>90</td>\n",
              "    </tr>\n",
              "  </tbody>\n",
              "</table>\n",
              "</div>"
            ],
            "text/plain": [
              "          Name    Class Score\n",
              "school1  Alice     Hist  Hist\n",
              "school2   Jack     Hist  Hist\n",
              "school1  Helen  Biology    90"
            ]
          },
          "metadata": {
            "tags": []
          },
          "execution_count": 18
        }
      ]
    },
    {
      "cell_type": "code",
      "metadata": {
        "id": "d_3RRguEKQzt",
        "colab": {
          "base_uri": "https://localhost:8080/",
          "height": 80
        },
        "outputId": "8ff1221c-d373-4dd7-e3a5-25e7ea32388d"
      },
      "source": [
        "df.drop(\"school1\")"
      ],
      "execution_count": null,
      "outputs": [
        {
          "output_type": "execute_result",
          "data": {
            "text/html": [
              "<div>\n",
              "<style scoped>\n",
              "    .dataframe tbody tr th:only-of-type {\n",
              "        vertical-align: middle;\n",
              "    }\n",
              "\n",
              "    .dataframe tbody tr th {\n",
              "        vertical-align: top;\n",
              "    }\n",
              "\n",
              "    .dataframe thead th {\n",
              "        text-align: right;\n",
              "    }\n",
              "</style>\n",
              "<table border=\"1\" class=\"dataframe\">\n",
              "  <thead>\n",
              "    <tr style=\"text-align: right;\">\n",
              "      <th></th>\n",
              "      <th>Name</th>\n",
              "      <th>Class</th>\n",
              "      <th>Score</th>\n",
              "    </tr>\n",
              "  </thead>\n",
              "  <tbody>\n",
              "    <tr>\n",
              "      <th>school2</th>\n",
              "      <td>Jack</td>\n",
              "      <td>Hist</td>\n",
              "      <td>Hist</td>\n",
              "    </tr>\n",
              "  </tbody>\n",
              "</table>\n",
              "</div>"
            ],
            "text/plain": [
              "         Name Class Score\n",
              "school2  Jack  Hist  Hist"
            ]
          },
          "metadata": {
            "tags": []
          },
          "execution_count": 22
        }
      ]
    },
    {
      "cell_type": "code",
      "metadata": {
        "id": "_VhAI4RMKTl0",
        "colab": {
          "base_uri": "https://localhost:8080/",
          "height": 142
        },
        "outputId": "dd934a7b-84fe-441e-daa8-519baad8997d"
      },
      "source": [
        "# axis değeri değiştirilecerek row veya columndan drop yapılacağı belirlenir. \n",
        "df.drop(\"Name\",axis=1)"
      ],
      "execution_count": null,
      "outputs": [
        {
          "output_type": "execute_result",
          "data": {
            "text/html": [
              "<div>\n",
              "<style scoped>\n",
              "    .dataframe tbody tr th:only-of-type {\n",
              "        vertical-align: middle;\n",
              "    }\n",
              "\n",
              "    .dataframe tbody tr th {\n",
              "        vertical-align: top;\n",
              "    }\n",
              "\n",
              "    .dataframe thead th {\n",
              "        text-align: right;\n",
              "    }\n",
              "</style>\n",
              "<table border=\"1\" class=\"dataframe\">\n",
              "  <thead>\n",
              "    <tr style=\"text-align: right;\">\n",
              "      <th></th>\n",
              "      <th>Class</th>\n",
              "      <th>Score</th>\n",
              "    </tr>\n",
              "  </thead>\n",
              "  <tbody>\n",
              "    <tr>\n",
              "      <th>school1</th>\n",
              "      <td>Hist</td>\n",
              "      <td>Hist</td>\n",
              "    </tr>\n",
              "    <tr>\n",
              "      <th>school2</th>\n",
              "      <td>Hist</td>\n",
              "      <td>Hist</td>\n",
              "    </tr>\n",
              "    <tr>\n",
              "      <th>school1</th>\n",
              "      <td>Biology</td>\n",
              "      <td>90</td>\n",
              "    </tr>\n",
              "  </tbody>\n",
              "</table>\n",
              "</div>"
            ],
            "text/plain": [
              "           Class Score\n",
              "school1     Hist  Hist\n",
              "school2     Hist  Hist\n",
              "school1  Biology    90"
            ]
          },
          "metadata": {
            "tags": []
          },
          "execution_count": 25
        }
      ]
    },
    {
      "cell_type": "code",
      "metadata": {
        "id": "nepmU86aKqT9",
        "colab": {
          "base_uri": "https://localhost:8080/",
          "height": 142
        },
        "outputId": "48affb9c-2c78-4d43-97bf-8f8590330127"
      },
      "source": [
        "del df[\"Name\"]\n",
        "\n",
        "df"
      ],
      "execution_count": null,
      "outputs": [
        {
          "output_type": "execute_result",
          "data": {
            "text/html": [
              "<div>\n",
              "<style scoped>\n",
              "    .dataframe tbody tr th:only-of-type {\n",
              "        vertical-align: middle;\n",
              "    }\n",
              "\n",
              "    .dataframe tbody tr th {\n",
              "        vertical-align: top;\n",
              "    }\n",
              "\n",
              "    .dataframe thead th {\n",
              "        text-align: right;\n",
              "    }\n",
              "</style>\n",
              "<table border=\"1\" class=\"dataframe\">\n",
              "  <thead>\n",
              "    <tr style=\"text-align: right;\">\n",
              "      <th></th>\n",
              "      <th>Class</th>\n",
              "      <th>Score</th>\n",
              "    </tr>\n",
              "  </thead>\n",
              "  <tbody>\n",
              "    <tr>\n",
              "      <th>school1</th>\n",
              "      <td>Hist</td>\n",
              "      <td>Hist</td>\n",
              "    </tr>\n",
              "    <tr>\n",
              "      <th>school2</th>\n",
              "      <td>Hist</td>\n",
              "      <td>Hist</td>\n",
              "    </tr>\n",
              "    <tr>\n",
              "      <th>school1</th>\n",
              "      <td>Biology</td>\n",
              "      <td>90</td>\n",
              "    </tr>\n",
              "  </tbody>\n",
              "</table>\n",
              "</div>"
            ],
            "text/plain": [
              "           Class Score\n",
              "school1     Hist  Hist\n",
              "school2     Hist  Hist\n",
              "school1  Biology    90"
            ]
          },
          "metadata": {
            "tags": []
          },
          "execution_count": 26
        }
      ]
    },
    {
      "cell_type": "markdown",
      "metadata": {
        "id": "MbmqQoVcSJC7"
      },
      "source": [
        "### Loading CSV to DataFrame"
      ]
    },
    {
      "cell_type": "code",
      "metadata": {
        "id": "7fxN4AIKQBBA"
      },
      "source": [
        "data_path='gdrive/My Drive/ds/data/trial'"
      ],
      "execution_count": null,
      "outputs": []
    },
    {
      "cell_type": "code",
      "metadata": {
        "id": "bx7Yf6K_S3v2",
        "colab": {
          "resources": {
            "http://localhost:8080/nbextensions/google.colab/files.js": {
              "data": "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",
              "ok": true,
              "headers": [
                [
                  "content-type",
                  "application/javascript"
                ]
              ],
              "status": 200,
              "status_text": ""
            }
          },
          "base_uri": "https://localhost:8080/",
          "height": 72
        },
        "outputId": "a0e151e9-1467-4450-f693-fac62f88cdb5"
      },
      "source": [
        "from google.colab import files\n",
        "uploaded = files.upload()"
      ],
      "execution_count": null,
      "outputs": [
        {
          "output_type": "display_data",
          "data": {
            "text/html": [
              "\n",
              "     <input type=\"file\" id=\"files-842bdfa4-d2f7-4327-931b-1b8b4aafc3c4\" name=\"files[]\" multiple disabled\n",
              "        style=\"border:none\" />\n",
              "     <output id=\"result-842bdfa4-d2f7-4327-931b-1b8b4aafc3c4\">\n",
              "      Upload widget is only available when the cell has been executed in the\n",
              "      current browser session. Please rerun this cell to enable.\n",
              "      </output>\n",
              "      <script src=\"/nbextensions/google.colab/files.js\"></script> "
            ],
            "text/plain": [
              "<IPython.core.display.HTML object>"
            ]
          },
          "metadata": {
            "tags": []
          }
        },
        {
          "output_type": "stream",
          "text": [
            "Saving Admission_Predict.csv to Admission_Predict.csv\n"
          ],
          "name": "stdout"
        }
      ]
    },
    {
      "cell_type": "code",
      "metadata": {
        "id": "ZLPvUnTjUlCy"
      },
      "source": [
        "#cat fonksiyonununun çalışması için data path'te hiç boşluk olmaması lazım. google colab drive ile senkron olunca My Drive arasında boşluk var ve \n",
        "#değiştirilemiyor. bu sebeple doğrudan ilgili dosyayı colab'a import ettim (main dizine)\n",
        "#cat ile csv file'i import etmeden genel görüntüsü anlaşılabilir\n",
        "!cat Admission_Predict.csv"
      ],
      "execution_count": null,
      "outputs": []
    },
    {
      "cell_type": "code",
      "metadata": {
        "id": "NNYYaxEKVOuV",
        "colab": {
          "base_uri": "https://localhost:8080/",
          "height": 204
        },
        "outputId": "c53f6e38-94a6-4b45-bb55-35280617afb5"
      },
      "source": [
        "df = pd.read_csv(data_path+'/Admission_Predict.csv')\n",
        "\n",
        "df.head()"
      ],
      "execution_count": null,
      "outputs": [
        {
          "output_type": "execute_result",
          "data": {
            "text/html": [
              "<div>\n",
              "<style scoped>\n",
              "    .dataframe tbody tr th:only-of-type {\n",
              "        vertical-align: middle;\n",
              "    }\n",
              "\n",
              "    .dataframe tbody tr th {\n",
              "        vertical-align: top;\n",
              "    }\n",
              "\n",
              "    .dataframe thead th {\n",
              "        text-align: right;\n",
              "    }\n",
              "</style>\n",
              "<table border=\"1\" class=\"dataframe\">\n",
              "  <thead>\n",
              "    <tr style=\"text-align: right;\">\n",
              "      <th></th>\n",
              "      <th>Serial No.</th>\n",
              "      <th>GRE Score</th>\n",
              "      <th>TOEFL Score</th>\n",
              "      <th>University Rating</th>\n",
              "      <th>SOP</th>\n",
              "      <th>LOR</th>\n",
              "      <th>CGPA</th>\n",
              "      <th>Research</th>\n",
              "      <th>Chance of Admit</th>\n",
              "    </tr>\n",
              "  </thead>\n",
              "  <tbody>\n",
              "    <tr>\n",
              "      <th>0</th>\n",
              "      <td>1</td>\n",
              "      <td>337</td>\n",
              "      <td>118</td>\n",
              "      <td>4</td>\n",
              "      <td>4.5</td>\n",
              "      <td>4.5</td>\n",
              "      <td>9.65</td>\n",
              "      <td>1</td>\n",
              "      <td>0.92</td>\n",
              "    </tr>\n",
              "    <tr>\n",
              "      <th>1</th>\n",
              "      <td>2</td>\n",
              "      <td>324</td>\n",
              "      <td>107</td>\n",
              "      <td>4</td>\n",
              "      <td>4.0</td>\n",
              "      <td>4.5</td>\n",
              "      <td>8.87</td>\n",
              "      <td>1</td>\n",
              "      <td>0.76</td>\n",
              "    </tr>\n",
              "    <tr>\n",
              "      <th>2</th>\n",
              "      <td>3</td>\n",
              "      <td>316</td>\n",
              "      <td>104</td>\n",
              "      <td>3</td>\n",
              "      <td>3.0</td>\n",
              "      <td>3.5</td>\n",
              "      <td>8.00</td>\n",
              "      <td>1</td>\n",
              "      <td>0.72</td>\n",
              "    </tr>\n",
              "    <tr>\n",
              "      <th>3</th>\n",
              "      <td>4</td>\n",
              "      <td>322</td>\n",
              "      <td>110</td>\n",
              "      <td>3</td>\n",
              "      <td>3.5</td>\n",
              "      <td>2.5</td>\n",
              "      <td>8.67</td>\n",
              "      <td>1</td>\n",
              "      <td>0.80</td>\n",
              "    </tr>\n",
              "    <tr>\n",
              "      <th>4</th>\n",
              "      <td>5</td>\n",
              "      <td>314</td>\n",
              "      <td>103</td>\n",
              "      <td>2</td>\n",
              "      <td>2.0</td>\n",
              "      <td>3.0</td>\n",
              "      <td>8.21</td>\n",
              "      <td>0</td>\n",
              "      <td>0.65</td>\n",
              "    </tr>\n",
              "  </tbody>\n",
              "</table>\n",
              "</div>"
            ],
            "text/plain": [
              "   Serial No.  GRE Score  TOEFL Score  ...  CGPA  Research  Chance of Admit \n",
              "0           1        337          118  ...  9.65         1              0.92\n",
              "1           2        324          107  ...  8.87         1              0.76\n",
              "2           3        316          104  ...  8.00         1              0.72\n",
              "3           4        322          110  ...  8.67         1              0.80\n",
              "4           5        314          103  ...  8.21         0              0.65\n",
              "\n",
              "[5 rows x 9 columns]"
            ]
          },
          "metadata": {
            "tags": []
          },
          "execution_count": 68
        }
      ]
    },
    {
      "cell_type": "code",
      "metadata": {
        "id": "u6jZ9FgxWGSl",
        "colab": {
          "base_uri": "https://localhost:8080/",
          "height": 235
        },
        "outputId": "0cf3cdc2-9572-413f-fc59-921da34fdd1c"
      },
      "source": [
        "#pandas 0dan başlayacak şekilde indexliyor datayı. burada Serial No. sahasının index kolonu olması için;\n",
        "#ikisi de aynı şey \n",
        "df = pd.read_csv(data_path+'/Admission_Predict.csv',index_col=[0])\n",
        "\n",
        "#df = pd.read_csv(data_path+'/Admission_Predict.csv',index_col=[\"Serial No.\"])\n",
        "\n",
        "df.head()"
      ],
      "execution_count": null,
      "outputs": [
        {
          "output_type": "execute_result",
          "data": {
            "text/html": [
              "<div>\n",
              "<style scoped>\n",
              "    .dataframe tbody tr th:only-of-type {\n",
              "        vertical-align: middle;\n",
              "    }\n",
              "\n",
              "    .dataframe tbody tr th {\n",
              "        vertical-align: top;\n",
              "    }\n",
              "\n",
              "    .dataframe thead th {\n",
              "        text-align: right;\n",
              "    }\n",
              "</style>\n",
              "<table border=\"1\" class=\"dataframe\">\n",
              "  <thead>\n",
              "    <tr style=\"text-align: right;\">\n",
              "      <th></th>\n",
              "      <th>GRE Score</th>\n",
              "      <th>TOEFL Score</th>\n",
              "      <th>University Rating</th>\n",
              "      <th>SOP</th>\n",
              "      <th>LOR</th>\n",
              "      <th>CGPA</th>\n",
              "      <th>Research</th>\n",
              "      <th>Chance of Admit</th>\n",
              "    </tr>\n",
              "    <tr>\n",
              "      <th>Serial No.</th>\n",
              "      <th></th>\n",
              "      <th></th>\n",
              "      <th></th>\n",
              "      <th></th>\n",
              "      <th></th>\n",
              "      <th></th>\n",
              "      <th></th>\n",
              "      <th></th>\n",
              "    </tr>\n",
              "  </thead>\n",
              "  <tbody>\n",
              "    <tr>\n",
              "      <th>1</th>\n",
              "      <td>337</td>\n",
              "      <td>118</td>\n",
              "      <td>4</td>\n",
              "      <td>4.5</td>\n",
              "      <td>4.5</td>\n",
              "      <td>9.65</td>\n",
              "      <td>1</td>\n",
              "      <td>0.92</td>\n",
              "    </tr>\n",
              "    <tr>\n",
              "      <th>2</th>\n",
              "      <td>324</td>\n",
              "      <td>107</td>\n",
              "      <td>4</td>\n",
              "      <td>4.0</td>\n",
              "      <td>4.5</td>\n",
              "      <td>8.87</td>\n",
              "      <td>1</td>\n",
              "      <td>0.76</td>\n",
              "    </tr>\n",
              "    <tr>\n",
              "      <th>3</th>\n",
              "      <td>316</td>\n",
              "      <td>104</td>\n",
              "      <td>3</td>\n",
              "      <td>3.0</td>\n",
              "      <td>3.5</td>\n",
              "      <td>8.00</td>\n",
              "      <td>1</td>\n",
              "      <td>0.72</td>\n",
              "    </tr>\n",
              "    <tr>\n",
              "      <th>4</th>\n",
              "      <td>322</td>\n",
              "      <td>110</td>\n",
              "      <td>3</td>\n",
              "      <td>3.5</td>\n",
              "      <td>2.5</td>\n",
              "      <td>8.67</td>\n",
              "      <td>1</td>\n",
              "      <td>0.80</td>\n",
              "    </tr>\n",
              "    <tr>\n",
              "      <th>5</th>\n",
              "      <td>314</td>\n",
              "      <td>103</td>\n",
              "      <td>2</td>\n",
              "      <td>2.0</td>\n",
              "      <td>3.0</td>\n",
              "      <td>8.21</td>\n",
              "      <td>0</td>\n",
              "      <td>0.65</td>\n",
              "    </tr>\n",
              "  </tbody>\n",
              "</table>\n",
              "</div>"
            ],
            "text/plain": [
              "            GRE Score  TOEFL Score  ...  Research  Chance of Admit \n",
              "Serial No.                          ...                            \n",
              "1                 337          118  ...         1              0.92\n",
              "2                 324          107  ...         1              0.76\n",
              "3                 316          104  ...         1              0.72\n",
              "4                 322          110  ...         1              0.80\n",
              "5                 314          103  ...         0              0.65\n",
              "\n",
              "[5 rows x 8 columns]"
            ]
          },
          "metadata": {
            "tags": []
          },
          "execution_count": 74
        }
      ]
    },
    {
      "cell_type": "code",
      "metadata": {
        "id": "4fZ6gfAgWZOv",
        "colab": {
          "base_uri": "https://localhost:8080/",
          "height": 235
        },
        "outputId": "7e49fe83-2451-4369-ff75-a5fa86230838"
      },
      "source": [
        "#yine orjinal df üzerinde değişiklik olmaz. inplace True olması lazım \n",
        "df.rename(columns={\"GRE Score\":\"GRE_Score\"}).head()"
      ],
      "execution_count": null,
      "outputs": [
        {
          "output_type": "execute_result",
          "data": {
            "text/html": [
              "<div>\n",
              "<style scoped>\n",
              "    .dataframe tbody tr th:only-of-type {\n",
              "        vertical-align: middle;\n",
              "    }\n",
              "\n",
              "    .dataframe tbody tr th {\n",
              "        vertical-align: top;\n",
              "    }\n",
              "\n",
              "    .dataframe thead th {\n",
              "        text-align: right;\n",
              "    }\n",
              "</style>\n",
              "<table border=\"1\" class=\"dataframe\">\n",
              "  <thead>\n",
              "    <tr style=\"text-align: right;\">\n",
              "      <th></th>\n",
              "      <th>GRE_Score</th>\n",
              "      <th>TOEFL Score</th>\n",
              "      <th>University Rating</th>\n",
              "      <th>SOP</th>\n",
              "      <th>LOR</th>\n",
              "      <th>CGPA</th>\n",
              "      <th>Research</th>\n",
              "      <th>Chance of Admit</th>\n",
              "    </tr>\n",
              "    <tr>\n",
              "      <th>Serial No.</th>\n",
              "      <th></th>\n",
              "      <th></th>\n",
              "      <th></th>\n",
              "      <th></th>\n",
              "      <th></th>\n",
              "      <th></th>\n",
              "      <th></th>\n",
              "      <th></th>\n",
              "    </tr>\n",
              "  </thead>\n",
              "  <tbody>\n",
              "    <tr>\n",
              "      <th>1</th>\n",
              "      <td>337</td>\n",
              "      <td>118</td>\n",
              "      <td>4</td>\n",
              "      <td>4.5</td>\n",
              "      <td>4.5</td>\n",
              "      <td>9.65</td>\n",
              "      <td>1</td>\n",
              "      <td>0.92</td>\n",
              "    </tr>\n",
              "    <tr>\n",
              "      <th>2</th>\n",
              "      <td>324</td>\n",
              "      <td>107</td>\n",
              "      <td>4</td>\n",
              "      <td>4.0</td>\n",
              "      <td>4.5</td>\n",
              "      <td>8.87</td>\n",
              "      <td>1</td>\n",
              "      <td>0.76</td>\n",
              "    </tr>\n",
              "    <tr>\n",
              "      <th>3</th>\n",
              "      <td>316</td>\n",
              "      <td>104</td>\n",
              "      <td>3</td>\n",
              "      <td>3.0</td>\n",
              "      <td>3.5</td>\n",
              "      <td>8.00</td>\n",
              "      <td>1</td>\n",
              "      <td>0.72</td>\n",
              "    </tr>\n",
              "    <tr>\n",
              "      <th>4</th>\n",
              "      <td>322</td>\n",
              "      <td>110</td>\n",
              "      <td>3</td>\n",
              "      <td>3.5</td>\n",
              "      <td>2.5</td>\n",
              "      <td>8.67</td>\n",
              "      <td>1</td>\n",
              "      <td>0.80</td>\n",
              "    </tr>\n",
              "    <tr>\n",
              "      <th>5</th>\n",
              "      <td>314</td>\n",
              "      <td>103</td>\n",
              "      <td>2</td>\n",
              "      <td>2.0</td>\n",
              "      <td>3.0</td>\n",
              "      <td>8.21</td>\n",
              "      <td>0</td>\n",
              "      <td>0.65</td>\n",
              "    </tr>\n",
              "  </tbody>\n",
              "</table>\n",
              "</div>"
            ],
            "text/plain": [
              "            GRE_Score  TOEFL Score  ...  Research  Chance of Admit \n",
              "Serial No.                          ...                            \n",
              "1                 337          118  ...         1              0.92\n",
              "2                 324          107  ...         1              0.76\n",
              "3                 316          104  ...         1              0.72\n",
              "4                 322          110  ...         1              0.80\n",
              "5                 314          103  ...         0              0.65\n",
              "\n",
              "[5 rows x 8 columns]"
            ]
          },
          "metadata": {
            "tags": []
          },
          "execution_count": 77
        }
      ]
    },
    {
      "cell_type": "code",
      "metadata": {
        "id": "i0hXCUVAWaUh",
        "colab": {
          "base_uri": "https://localhost:8080/",
          "height": 235
        },
        "outputId": "007a1418-e305-4cfe-87bf-7a5d9600e80a"
      },
      "source": [
        "#kolon adı tam olarak yazılmamışsa hata da vermez rename de yapmaz. aşağıdaki örnekte LOR'un sonunda boşluk var\n",
        "df.rename(columns={\"LOR\":\"LOR_1\"}).head()"
      ],
      "execution_count": null,
      "outputs": [
        {
          "output_type": "execute_result",
          "data": {
            "text/html": [
              "<div>\n",
              "<style scoped>\n",
              "    .dataframe tbody tr th:only-of-type {\n",
              "        vertical-align: middle;\n",
              "    }\n",
              "\n",
              "    .dataframe tbody tr th {\n",
              "        vertical-align: top;\n",
              "    }\n",
              "\n",
              "    .dataframe thead th {\n",
              "        text-align: right;\n",
              "    }\n",
              "</style>\n",
              "<table border=\"1\" class=\"dataframe\">\n",
              "  <thead>\n",
              "    <tr style=\"text-align: right;\">\n",
              "      <th></th>\n",
              "      <th>GRE Score</th>\n",
              "      <th>TOEFL Score</th>\n",
              "      <th>University Rating</th>\n",
              "      <th>SOP</th>\n",
              "      <th>LOR</th>\n",
              "      <th>CGPA</th>\n",
              "      <th>Research</th>\n",
              "      <th>Chance of Admit</th>\n",
              "    </tr>\n",
              "    <tr>\n",
              "      <th>Serial No.</th>\n",
              "      <th></th>\n",
              "      <th></th>\n",
              "      <th></th>\n",
              "      <th></th>\n",
              "      <th></th>\n",
              "      <th></th>\n",
              "      <th></th>\n",
              "      <th></th>\n",
              "    </tr>\n",
              "  </thead>\n",
              "  <tbody>\n",
              "    <tr>\n",
              "      <th>1</th>\n",
              "      <td>337</td>\n",
              "      <td>118</td>\n",
              "      <td>4</td>\n",
              "      <td>4.5</td>\n",
              "      <td>4.5</td>\n",
              "      <td>9.65</td>\n",
              "      <td>1</td>\n",
              "      <td>0.92</td>\n",
              "    </tr>\n",
              "    <tr>\n",
              "      <th>2</th>\n",
              "      <td>324</td>\n",
              "      <td>107</td>\n",
              "      <td>4</td>\n",
              "      <td>4.0</td>\n",
              "      <td>4.5</td>\n",
              "      <td>8.87</td>\n",
              "      <td>1</td>\n",
              "      <td>0.76</td>\n",
              "    </tr>\n",
              "    <tr>\n",
              "      <th>3</th>\n",
              "      <td>316</td>\n",
              "      <td>104</td>\n",
              "      <td>3</td>\n",
              "      <td>3.0</td>\n",
              "      <td>3.5</td>\n",
              "      <td>8.00</td>\n",
              "      <td>1</td>\n",
              "      <td>0.72</td>\n",
              "    </tr>\n",
              "    <tr>\n",
              "      <th>4</th>\n",
              "      <td>322</td>\n",
              "      <td>110</td>\n",
              "      <td>3</td>\n",
              "      <td>3.5</td>\n",
              "      <td>2.5</td>\n",
              "      <td>8.67</td>\n",
              "      <td>1</td>\n",
              "      <td>0.80</td>\n",
              "    </tr>\n",
              "    <tr>\n",
              "      <th>5</th>\n",
              "      <td>314</td>\n",
              "      <td>103</td>\n",
              "      <td>2</td>\n",
              "      <td>2.0</td>\n",
              "      <td>3.0</td>\n",
              "      <td>8.21</td>\n",
              "      <td>0</td>\n",
              "      <td>0.65</td>\n",
              "    </tr>\n",
              "  </tbody>\n",
              "</table>\n",
              "</div>"
            ],
            "text/plain": [
              "            GRE Score  TOEFL Score  ...  Research  Chance of Admit \n",
              "Serial No.                          ...                            \n",
              "1                 337          118  ...         1              0.92\n",
              "2                 324          107  ...         1              0.76\n",
              "3                 316          104  ...         1              0.72\n",
              "4                 322          110  ...         1              0.80\n",
              "5                 314          103  ...         0              0.65\n",
              "\n",
              "[5 rows x 8 columns]"
            ]
          },
          "metadata": {
            "tags": []
          },
          "execution_count": 79
        }
      ]
    },
    {
      "cell_type": "code",
      "metadata": {
        "id": "CQYNBhwOXQ-p",
        "colab": {
          "base_uri": "https://localhost:8080/"
        },
        "outputId": "01b4b59f-2409-4080-f1e7-1d77ae851780"
      },
      "source": [
        "df.columns"
      ],
      "execution_count": null,
      "outputs": [
        {
          "output_type": "execute_result",
          "data": {
            "text/plain": [
              "Index(['GRE Score', 'TOEFL Score', 'University Rating', 'SOP', 'LOR ', 'CGPA',\n",
              "       'Research', 'Chance of Admit '],\n",
              "      dtype='object')"
            ]
          },
          "metadata": {
            "tags": []
          },
          "execution_count": 80
        }
      ]
    },
    {
      "cell_type": "code",
      "metadata": {
        "id": "CdAuBtthXvVm",
        "colab": {
          "base_uri": "https://localhost:8080/",
          "height": 235
        },
        "outputId": "94191ffb-09a4-4dbe-ea2b-da1376fa24cc"
      },
      "source": [
        "df.rename(columns={\"LOR \":\"LOR_1\"}).head()"
      ],
      "execution_count": null,
      "outputs": [
        {
          "output_type": "execute_result",
          "data": {
            "text/html": [
              "<div>\n",
              "<style scoped>\n",
              "    .dataframe tbody tr th:only-of-type {\n",
              "        vertical-align: middle;\n",
              "    }\n",
              "\n",
              "    .dataframe tbody tr th {\n",
              "        vertical-align: top;\n",
              "    }\n",
              "\n",
              "    .dataframe thead th {\n",
              "        text-align: right;\n",
              "    }\n",
              "</style>\n",
              "<table border=\"1\" class=\"dataframe\">\n",
              "  <thead>\n",
              "    <tr style=\"text-align: right;\">\n",
              "      <th></th>\n",
              "      <th>GRE Score</th>\n",
              "      <th>TOEFL Score</th>\n",
              "      <th>University Rating</th>\n",
              "      <th>SOP</th>\n",
              "      <th>LOR_1</th>\n",
              "      <th>CGPA</th>\n",
              "      <th>Research</th>\n",
              "      <th>Chance of Admit</th>\n",
              "    </tr>\n",
              "    <tr>\n",
              "      <th>Serial No.</th>\n",
              "      <th></th>\n",
              "      <th></th>\n",
              "      <th></th>\n",
              "      <th></th>\n",
              "      <th></th>\n",
              "      <th></th>\n",
              "      <th></th>\n",
              "      <th></th>\n",
              "    </tr>\n",
              "  </thead>\n",
              "  <tbody>\n",
              "    <tr>\n",
              "      <th>1</th>\n",
              "      <td>337</td>\n",
              "      <td>118</td>\n",
              "      <td>4</td>\n",
              "      <td>4.5</td>\n",
              "      <td>4.5</td>\n",
              "      <td>9.65</td>\n",
              "      <td>1</td>\n",
              "      <td>0.92</td>\n",
              "    </tr>\n",
              "    <tr>\n",
              "      <th>2</th>\n",
              "      <td>324</td>\n",
              "      <td>107</td>\n",
              "      <td>4</td>\n",
              "      <td>4.0</td>\n",
              "      <td>4.5</td>\n",
              "      <td>8.87</td>\n",
              "      <td>1</td>\n",
              "      <td>0.76</td>\n",
              "    </tr>\n",
              "    <tr>\n",
              "      <th>3</th>\n",
              "      <td>316</td>\n",
              "      <td>104</td>\n",
              "      <td>3</td>\n",
              "      <td>3.0</td>\n",
              "      <td>3.5</td>\n",
              "      <td>8.00</td>\n",
              "      <td>1</td>\n",
              "      <td>0.72</td>\n",
              "    </tr>\n",
              "    <tr>\n",
              "      <th>4</th>\n",
              "      <td>322</td>\n",
              "      <td>110</td>\n",
              "      <td>3</td>\n",
              "      <td>3.5</td>\n",
              "      <td>2.5</td>\n",
              "      <td>8.67</td>\n",
              "      <td>1</td>\n",
              "      <td>0.80</td>\n",
              "    </tr>\n",
              "    <tr>\n",
              "      <th>5</th>\n",
              "      <td>314</td>\n",
              "      <td>103</td>\n",
              "      <td>2</td>\n",
              "      <td>2.0</td>\n",
              "      <td>3.0</td>\n",
              "      <td>8.21</td>\n",
              "      <td>0</td>\n",
              "      <td>0.65</td>\n",
              "    </tr>\n",
              "  </tbody>\n",
              "</table>\n",
              "</div>"
            ],
            "text/plain": [
              "            GRE Score  TOEFL Score  ...  Research  Chance of Admit \n",
              "Serial No.                          ...                            \n",
              "1                 337          118  ...         1              0.92\n",
              "2                 324          107  ...         1              0.76\n",
              "3                 316          104  ...         1              0.72\n",
              "4                 322          110  ...         1              0.80\n",
              "5                 314          103  ...         0              0.65\n",
              "\n",
              "[5 rows x 8 columns]"
            ]
          },
          "metadata": {
            "tags": []
          },
          "execution_count": 81
        }
      ]
    },
    {
      "cell_type": "code",
      "metadata": {
        "id": "A4zhfeweXyV3",
        "colab": {
          "base_uri": "https://localhost:8080/",
          "height": 35
        },
        "outputId": "25880bab-7824-4a9b-abd9-bcaf985f3995"
      },
      "source": [
        "#strip fonsiyonu baştaki ve sondaki boşlukları alır\n",
        "string=\"maksdfl sdfkdkfl    \"\n",
        "string.strip()"
      ],
      "execution_count": null,
      "outputs": [
        {
          "output_type": "execute_result",
          "data": {
            "application/vnd.google.colaboratory.intrinsic+json": {
              "type": "string"
            },
            "text/plain": [
              "'maksdfl sdfkdkfl'"
            ]
          },
          "metadata": {
            "tags": []
          },
          "execution_count": 91
        }
      ]
    },
    {
      "cell_type": "code",
      "metadata": {
        "id": "HWP8NAHZaF6m"
      },
      "source": [
        "df.columns=[x.strip() for x in df.columns]"
      ],
      "execution_count": null,
      "outputs": []
    },
    {
      "cell_type": "code",
      "metadata": {
        "id": "2U0b-DENYAYP",
        "colab": {
          "base_uri": "https://localhost:8080/"
        },
        "outputId": "4e0fc31b-cef5-45bd-82b7-aac8434cbd43"
      },
      "source": [
        "df.columns"
      ],
      "execution_count": null,
      "outputs": [
        {
          "output_type": "execute_result",
          "data": {
            "text/plain": [
              "Index(['GRE Score', 'TOEFL Score', 'University Rating', 'SOP', 'LOR', 'CGPA',\n",
              "       'Research', 'Chance of Admit'],\n",
              "      dtype='object')"
            ]
          },
          "metadata": {
            "tags": []
          },
          "execution_count": 93
        }
      ]
    },
    {
      "cell_type": "code",
      "metadata": {
        "id": "okxxvEQJYCEO",
        "colab": {
          "base_uri": "https://localhost:8080/",
          "height": 235
        },
        "outputId": "c311a70b-8f68-463c-f0c4-1ff900e4d9a0"
      },
      "source": [
        "df.columns=[x.lower().strip().replace(\" \",\"_\") for x in df.columns]\n",
        "df.head()"
      ],
      "execution_count": null,
      "outputs": [
        {
          "output_type": "execute_result",
          "data": {
            "text/html": [
              "<div>\n",
              "<style scoped>\n",
              "    .dataframe tbody tr th:only-of-type {\n",
              "        vertical-align: middle;\n",
              "    }\n",
              "\n",
              "    .dataframe tbody tr th {\n",
              "        vertical-align: top;\n",
              "    }\n",
              "\n",
              "    .dataframe thead th {\n",
              "        text-align: right;\n",
              "    }\n",
              "</style>\n",
              "<table border=\"1\" class=\"dataframe\">\n",
              "  <thead>\n",
              "    <tr style=\"text-align: right;\">\n",
              "      <th></th>\n",
              "      <th>gre_score</th>\n",
              "      <th>toefl_score</th>\n",
              "      <th>university_rating</th>\n",
              "      <th>sop</th>\n",
              "      <th>lor</th>\n",
              "      <th>cgpa</th>\n",
              "      <th>research</th>\n",
              "      <th>chance_of_admit</th>\n",
              "    </tr>\n",
              "    <tr>\n",
              "      <th>Serial No.</th>\n",
              "      <th></th>\n",
              "      <th></th>\n",
              "      <th></th>\n",
              "      <th></th>\n",
              "      <th></th>\n",
              "      <th></th>\n",
              "      <th></th>\n",
              "      <th></th>\n",
              "    </tr>\n",
              "  </thead>\n",
              "  <tbody>\n",
              "    <tr>\n",
              "      <th>1</th>\n",
              "      <td>337</td>\n",
              "      <td>118</td>\n",
              "      <td>4</td>\n",
              "      <td>4.5</td>\n",
              "      <td>4.5</td>\n",
              "      <td>9.65</td>\n",
              "      <td>1</td>\n",
              "      <td>0.92</td>\n",
              "    </tr>\n",
              "    <tr>\n",
              "      <th>2</th>\n",
              "      <td>324</td>\n",
              "      <td>107</td>\n",
              "      <td>4</td>\n",
              "      <td>4.0</td>\n",
              "      <td>4.5</td>\n",
              "      <td>8.87</td>\n",
              "      <td>1</td>\n",
              "      <td>0.76</td>\n",
              "    </tr>\n",
              "    <tr>\n",
              "      <th>3</th>\n",
              "      <td>316</td>\n",
              "      <td>104</td>\n",
              "      <td>3</td>\n",
              "      <td>3.0</td>\n",
              "      <td>3.5</td>\n",
              "      <td>8.00</td>\n",
              "      <td>1</td>\n",
              "      <td>0.72</td>\n",
              "    </tr>\n",
              "    <tr>\n",
              "      <th>4</th>\n",
              "      <td>322</td>\n",
              "      <td>110</td>\n",
              "      <td>3</td>\n",
              "      <td>3.5</td>\n",
              "      <td>2.5</td>\n",
              "      <td>8.67</td>\n",
              "      <td>1</td>\n",
              "      <td>0.80</td>\n",
              "    </tr>\n",
              "    <tr>\n",
              "      <th>5</th>\n",
              "      <td>314</td>\n",
              "      <td>103</td>\n",
              "      <td>2</td>\n",
              "      <td>2.0</td>\n",
              "      <td>3.0</td>\n",
              "      <td>8.21</td>\n",
              "      <td>0</td>\n",
              "      <td>0.65</td>\n",
              "    </tr>\n",
              "  </tbody>\n",
              "</table>\n",
              "</div>"
            ],
            "text/plain": [
              "            gre_score  toefl_score  ...  research  chance_of_admit\n",
              "Serial No.                          ...                           \n",
              "1                 337          118  ...         1             0.92\n",
              "2                 324          107  ...         1             0.76\n",
              "3                 316          104  ...         1             0.72\n",
              "4                 322          110  ...         1             0.80\n",
              "5                 314          103  ...         0             0.65\n",
              "\n",
              "[5 rows x 8 columns]"
            ]
          },
          "metadata": {
            "tags": []
          },
          "execution_count": 96
        }
      ]
    },
    {
      "cell_type": "markdown",
      "metadata": {
        "id": "ZcrIMSMG04Wu"
      },
      "source": [
        "### Querying a DataFrame\n",
        "\n",
        "burdaki filtrelemenin temelinde de boolen mask yer alıyor. \n",
        "\n"
      ]
    },
    {
      "cell_type": "code",
      "metadata": {
        "id": "5cWp8JCM1nWh"
      },
      "source": [
        "import pandas as pd\n",
        "data_path='gdrive/My Drive/ds/data/trial'"
      ],
      "execution_count": null,
      "outputs": []
    },
    {
      "cell_type": "code",
      "metadata": {
        "id": "Pm8beqLsbEN7",
        "colab": {
          "base_uri": "https://localhost:8080/",
          "height": 235
        },
        "outputId": "c9a6a302-1818-4486-a13f-c78e611f05c0"
      },
      "source": [
        "df = pd.read_csv(data_path+'/Admission_Predict.csv', index_col=0)\n",
        "\n",
        "df.columns = [x.lower().strip() for x in df.columns]\n",
        "\n",
        "df.head()"
      ],
      "execution_count": null,
      "outputs": [
        {
          "output_type": "execute_result",
          "data": {
            "text/html": [
              "<div>\n",
              "<style scoped>\n",
              "    .dataframe tbody tr th:only-of-type {\n",
              "        vertical-align: middle;\n",
              "    }\n",
              "\n",
              "    .dataframe tbody tr th {\n",
              "        vertical-align: top;\n",
              "    }\n",
              "\n",
              "    .dataframe thead th {\n",
              "        text-align: right;\n",
              "    }\n",
              "</style>\n",
              "<table border=\"1\" class=\"dataframe\">\n",
              "  <thead>\n",
              "    <tr style=\"text-align: right;\">\n",
              "      <th></th>\n",
              "      <th>gre score</th>\n",
              "      <th>toefl score</th>\n",
              "      <th>university rating</th>\n",
              "      <th>sop</th>\n",
              "      <th>lor</th>\n",
              "      <th>cgpa</th>\n",
              "      <th>research</th>\n",
              "      <th>chance of admit</th>\n",
              "    </tr>\n",
              "    <tr>\n",
              "      <th>Serial No.</th>\n",
              "      <th></th>\n",
              "      <th></th>\n",
              "      <th></th>\n",
              "      <th></th>\n",
              "      <th></th>\n",
              "      <th></th>\n",
              "      <th></th>\n",
              "      <th></th>\n",
              "    </tr>\n",
              "  </thead>\n",
              "  <tbody>\n",
              "    <tr>\n",
              "      <th>1</th>\n",
              "      <td>337</td>\n",
              "      <td>118</td>\n",
              "      <td>4</td>\n",
              "      <td>4.5</td>\n",
              "      <td>4.5</td>\n",
              "      <td>9.65</td>\n",
              "      <td>1</td>\n",
              "      <td>0.92</td>\n",
              "    </tr>\n",
              "    <tr>\n",
              "      <th>2</th>\n",
              "      <td>324</td>\n",
              "      <td>107</td>\n",
              "      <td>4</td>\n",
              "      <td>4.0</td>\n",
              "      <td>4.5</td>\n",
              "      <td>8.87</td>\n",
              "      <td>1</td>\n",
              "      <td>0.76</td>\n",
              "    </tr>\n",
              "    <tr>\n",
              "      <th>3</th>\n",
              "      <td>316</td>\n",
              "      <td>104</td>\n",
              "      <td>3</td>\n",
              "      <td>3.0</td>\n",
              "      <td>3.5</td>\n",
              "      <td>8.00</td>\n",
              "      <td>1</td>\n",
              "      <td>0.72</td>\n",
              "    </tr>\n",
              "    <tr>\n",
              "      <th>4</th>\n",
              "      <td>322</td>\n",
              "      <td>110</td>\n",
              "      <td>3</td>\n",
              "      <td>3.5</td>\n",
              "      <td>2.5</td>\n",
              "      <td>8.67</td>\n",
              "      <td>1</td>\n",
              "      <td>0.80</td>\n",
              "    </tr>\n",
              "    <tr>\n",
              "      <th>5</th>\n",
              "      <td>314</td>\n",
              "      <td>103</td>\n",
              "      <td>2</td>\n",
              "      <td>2.0</td>\n",
              "      <td>3.0</td>\n",
              "      <td>8.21</td>\n",
              "      <td>0</td>\n",
              "      <td>0.65</td>\n",
              "    </tr>\n",
              "  </tbody>\n",
              "</table>\n",
              "</div>"
            ],
            "text/plain": [
              "            gre score  toefl score  ...  research  chance of admit\n",
              "Serial No.                          ...                           \n",
              "1                 337          118  ...         1             0.92\n",
              "2                 324          107  ...         1             0.76\n",
              "3                 316          104  ...         1             0.72\n",
              "4                 322          110  ...         1             0.80\n",
              "5                 314          103  ...         0             0.65\n",
              "\n",
              "[5 rows x 8 columns]"
            ]
          },
          "metadata": {
            "tags": []
          },
          "execution_count": 17
        }
      ]
    },
    {
      "cell_type": "code",
      "metadata": {
        "id": "ThUcFbmuvfTw",
        "colab": {
          "base_uri": "https://localhost:8080/"
        },
        "outputId": "50b90408-a85e-4fe2-8eb0-990102436c30"
      },
      "source": [
        "admit_mask=df['chance of admit'] > 0.7\n",
        "admit_mask"
      ],
      "execution_count": null,
      "outputs": [
        {
          "output_type": "execute_result",
          "data": {
            "text/plain": [
              "Serial No.\n",
              "1       True\n",
              "2       True\n",
              "3       True\n",
              "4       True\n",
              "5      False\n",
              "       ...  \n",
              "396     True\n",
              "397     True\n",
              "398     True\n",
              "399    False\n",
              "400     True\n",
              "Name: chance of admit, Length: 400, dtype: bool"
            ]
          },
          "metadata": {
            "tags": []
          },
          "execution_count": 18
        }
      ]
    },
    {
      "cell_type": "code",
      "metadata": {
        "id": "G9O6niWS14Oc",
        "colab": {
          "base_uri": "https://localhost:8080/",
          "height": 235
        },
        "outputId": "dd275aec-4990-4fc2-bd64-bbe9a0cf8516"
      },
      "source": [
        "#where fonksiyonunda şartları sağlamayan için tüm satırlar null gelir. burdaki where numpy where değil dataframe where.\n",
        "#mantığı bir miktar farklı\n",
        "df.where(admit_mask).head()"
      ],
      "execution_count": null,
      "outputs": [
        {
          "output_type": "execute_result",
          "data": {
            "text/html": [
              "<div>\n",
              "<style scoped>\n",
              "    .dataframe tbody tr th:only-of-type {\n",
              "        vertical-align: middle;\n",
              "    }\n",
              "\n",
              "    .dataframe tbody tr th {\n",
              "        vertical-align: top;\n",
              "    }\n",
              "\n",
              "    .dataframe thead th {\n",
              "        text-align: right;\n",
              "    }\n",
              "</style>\n",
              "<table border=\"1\" class=\"dataframe\">\n",
              "  <thead>\n",
              "    <tr style=\"text-align: right;\">\n",
              "      <th></th>\n",
              "      <th>gre score</th>\n",
              "      <th>toefl score</th>\n",
              "      <th>university rating</th>\n",
              "      <th>sop</th>\n",
              "      <th>lor</th>\n",
              "      <th>cgpa</th>\n",
              "      <th>research</th>\n",
              "      <th>chance of admit</th>\n",
              "    </tr>\n",
              "    <tr>\n",
              "      <th>Serial No.</th>\n",
              "      <th></th>\n",
              "      <th></th>\n",
              "      <th></th>\n",
              "      <th></th>\n",
              "      <th></th>\n",
              "      <th></th>\n",
              "      <th></th>\n",
              "      <th></th>\n",
              "    </tr>\n",
              "  </thead>\n",
              "  <tbody>\n",
              "    <tr>\n",
              "      <th>1</th>\n",
              "      <td>337.0</td>\n",
              "      <td>118.0</td>\n",
              "      <td>4.0</td>\n",
              "      <td>4.5</td>\n",
              "      <td>4.5</td>\n",
              "      <td>9.65</td>\n",
              "      <td>1.0</td>\n",
              "      <td>0.92</td>\n",
              "    </tr>\n",
              "    <tr>\n",
              "      <th>2</th>\n",
              "      <td>324.0</td>\n",
              "      <td>107.0</td>\n",
              "      <td>4.0</td>\n",
              "      <td>4.0</td>\n",
              "      <td>4.5</td>\n",
              "      <td>8.87</td>\n",
              "      <td>1.0</td>\n",
              "      <td>0.76</td>\n",
              "    </tr>\n",
              "    <tr>\n",
              "      <th>3</th>\n",
              "      <td>316.0</td>\n",
              "      <td>104.0</td>\n",
              "      <td>3.0</td>\n",
              "      <td>3.0</td>\n",
              "      <td>3.5</td>\n",
              "      <td>8.00</td>\n",
              "      <td>1.0</td>\n",
              "      <td>0.72</td>\n",
              "    </tr>\n",
              "    <tr>\n",
              "      <th>4</th>\n",
              "      <td>322.0</td>\n",
              "      <td>110.0</td>\n",
              "      <td>3.0</td>\n",
              "      <td>3.5</td>\n",
              "      <td>2.5</td>\n",
              "      <td>8.67</td>\n",
              "      <td>1.0</td>\n",
              "      <td>0.80</td>\n",
              "    </tr>\n",
              "    <tr>\n",
              "      <th>5</th>\n",
              "      <td>NaN</td>\n",
              "      <td>NaN</td>\n",
              "      <td>NaN</td>\n",
              "      <td>NaN</td>\n",
              "      <td>NaN</td>\n",
              "      <td>NaN</td>\n",
              "      <td>NaN</td>\n",
              "      <td>NaN</td>\n",
              "    </tr>\n",
              "  </tbody>\n",
              "</table>\n",
              "</div>"
            ],
            "text/plain": [
              "            gre score  toefl score  ...  research  chance of admit\n",
              "Serial No.                          ...                           \n",
              "1               337.0        118.0  ...       1.0             0.92\n",
              "2               324.0        107.0  ...       1.0             0.76\n",
              "3               316.0        104.0  ...       1.0             0.72\n",
              "4               322.0        110.0  ...       1.0             0.80\n",
              "5                 NaN          NaN  ...       NaN              NaN\n",
              "\n",
              "[5 rows x 8 columns]"
            ]
          },
          "metadata": {
            "tags": []
          },
          "execution_count": 19
        }
      ]
    },
    {
      "cell_type": "code",
      "metadata": {
        "id": "OVtVqm1M18Ot",
        "colab": {
          "base_uri": "https://localhost:8080/",
          "height": 235
        },
        "outputId": "8d9ea4f0-42f1-4e7e-a763-d5eb887a68f5"
      },
      "source": [
        "#bu adımla null satırlar silinir. orjinal index numaraları korunur\n",
        "df.where(admit_mask).dropna().head()"
      ],
      "execution_count": null,
      "outputs": [
        {
          "output_type": "execute_result",
          "data": {
            "text/html": [
              "<div>\n",
              "<style scoped>\n",
              "    .dataframe tbody tr th:only-of-type {\n",
              "        vertical-align: middle;\n",
              "    }\n",
              "\n",
              "    .dataframe tbody tr th {\n",
              "        vertical-align: top;\n",
              "    }\n",
              "\n",
              "    .dataframe thead th {\n",
              "        text-align: right;\n",
              "    }\n",
              "</style>\n",
              "<table border=\"1\" class=\"dataframe\">\n",
              "  <thead>\n",
              "    <tr style=\"text-align: right;\">\n",
              "      <th></th>\n",
              "      <th>gre score</th>\n",
              "      <th>toefl score</th>\n",
              "      <th>university rating</th>\n",
              "      <th>sop</th>\n",
              "      <th>lor</th>\n",
              "      <th>cgpa</th>\n",
              "      <th>research</th>\n",
              "      <th>chance of admit</th>\n",
              "    </tr>\n",
              "    <tr>\n",
              "      <th>Serial No.</th>\n",
              "      <th></th>\n",
              "      <th></th>\n",
              "      <th></th>\n",
              "      <th></th>\n",
              "      <th></th>\n",
              "      <th></th>\n",
              "      <th></th>\n",
              "      <th></th>\n",
              "    </tr>\n",
              "  </thead>\n",
              "  <tbody>\n",
              "    <tr>\n",
              "      <th>1</th>\n",
              "      <td>337.0</td>\n",
              "      <td>118.0</td>\n",
              "      <td>4.0</td>\n",
              "      <td>4.5</td>\n",
              "      <td>4.5</td>\n",
              "      <td>9.65</td>\n",
              "      <td>1.0</td>\n",
              "      <td>0.92</td>\n",
              "    </tr>\n",
              "    <tr>\n",
              "      <th>2</th>\n",
              "      <td>324.0</td>\n",
              "      <td>107.0</td>\n",
              "      <td>4.0</td>\n",
              "      <td>4.0</td>\n",
              "      <td>4.5</td>\n",
              "      <td>8.87</td>\n",
              "      <td>1.0</td>\n",
              "      <td>0.76</td>\n",
              "    </tr>\n",
              "    <tr>\n",
              "      <th>3</th>\n",
              "      <td>316.0</td>\n",
              "      <td>104.0</td>\n",
              "      <td>3.0</td>\n",
              "      <td>3.0</td>\n",
              "      <td>3.5</td>\n",
              "      <td>8.00</td>\n",
              "      <td>1.0</td>\n",
              "      <td>0.72</td>\n",
              "    </tr>\n",
              "    <tr>\n",
              "      <th>4</th>\n",
              "      <td>322.0</td>\n",
              "      <td>110.0</td>\n",
              "      <td>3.0</td>\n",
              "      <td>3.5</td>\n",
              "      <td>2.5</td>\n",
              "      <td>8.67</td>\n",
              "      <td>1.0</td>\n",
              "      <td>0.80</td>\n",
              "    </tr>\n",
              "    <tr>\n",
              "      <th>6</th>\n",
              "      <td>330.0</td>\n",
              "      <td>115.0</td>\n",
              "      <td>5.0</td>\n",
              "      <td>4.5</td>\n",
              "      <td>3.0</td>\n",
              "      <td>9.34</td>\n",
              "      <td>1.0</td>\n",
              "      <td>0.90</td>\n",
              "    </tr>\n",
              "  </tbody>\n",
              "</table>\n",
              "</div>"
            ],
            "text/plain": [
              "            gre score  toefl score  ...  research  chance of admit\n",
              "Serial No.                          ...                           \n",
              "1               337.0        118.0  ...       1.0             0.92\n",
              "2               324.0        107.0  ...       1.0             0.76\n",
              "3               316.0        104.0  ...       1.0             0.72\n",
              "4               322.0        110.0  ...       1.0             0.80\n",
              "6               330.0        115.0  ...       1.0             0.90\n",
              "\n",
              "[5 rows x 8 columns]"
            ]
          },
          "metadata": {
            "tags": []
          },
          "execution_count": 20
        }
      ]
    },
    {
      "cell_type": "code",
      "metadata": {
        "id": "cJVvMsrL2UWn",
        "colab": {
          "base_uri": "https://localhost:8080/",
          "height": 235
        },
        "outputId": "caac8f3f-a194-40c4-cf09-bf5613c8aa6a"
      },
      "source": [
        "#inplace true denmediği için df aslında değişmez \n",
        "df.head()"
      ],
      "execution_count": null,
      "outputs": [
        {
          "output_type": "execute_result",
          "data": {
            "text/html": [
              "<div>\n",
              "<style scoped>\n",
              "    .dataframe tbody tr th:only-of-type {\n",
              "        vertical-align: middle;\n",
              "    }\n",
              "\n",
              "    .dataframe tbody tr th {\n",
              "        vertical-align: top;\n",
              "    }\n",
              "\n",
              "    .dataframe thead th {\n",
              "        text-align: right;\n",
              "    }\n",
              "</style>\n",
              "<table border=\"1\" class=\"dataframe\">\n",
              "  <thead>\n",
              "    <tr style=\"text-align: right;\">\n",
              "      <th></th>\n",
              "      <th>gre score</th>\n",
              "      <th>toefl score</th>\n",
              "      <th>university rating</th>\n",
              "      <th>sop</th>\n",
              "      <th>lor</th>\n",
              "      <th>cgpa</th>\n",
              "      <th>research</th>\n",
              "      <th>chance of admit</th>\n",
              "    </tr>\n",
              "    <tr>\n",
              "      <th>Serial No.</th>\n",
              "      <th></th>\n",
              "      <th></th>\n",
              "      <th></th>\n",
              "      <th></th>\n",
              "      <th></th>\n",
              "      <th></th>\n",
              "      <th></th>\n",
              "      <th></th>\n",
              "    </tr>\n",
              "  </thead>\n",
              "  <tbody>\n",
              "    <tr>\n",
              "      <th>1</th>\n",
              "      <td>337</td>\n",
              "      <td>118</td>\n",
              "      <td>4</td>\n",
              "      <td>4.5</td>\n",
              "      <td>4.5</td>\n",
              "      <td>9.65</td>\n",
              "      <td>1</td>\n",
              "      <td>0.92</td>\n",
              "    </tr>\n",
              "    <tr>\n",
              "      <th>2</th>\n",
              "      <td>324</td>\n",
              "      <td>107</td>\n",
              "      <td>4</td>\n",
              "      <td>4.0</td>\n",
              "      <td>4.5</td>\n",
              "      <td>8.87</td>\n",
              "      <td>1</td>\n",
              "      <td>0.76</td>\n",
              "    </tr>\n",
              "    <tr>\n",
              "      <th>3</th>\n",
              "      <td>316</td>\n",
              "      <td>104</td>\n",
              "      <td>3</td>\n",
              "      <td>3.0</td>\n",
              "      <td>3.5</td>\n",
              "      <td>8.00</td>\n",
              "      <td>1</td>\n",
              "      <td>0.72</td>\n",
              "    </tr>\n",
              "    <tr>\n",
              "      <th>4</th>\n",
              "      <td>322</td>\n",
              "      <td>110</td>\n",
              "      <td>3</td>\n",
              "      <td>3.5</td>\n",
              "      <td>2.5</td>\n",
              "      <td>8.67</td>\n",
              "      <td>1</td>\n",
              "      <td>0.80</td>\n",
              "    </tr>\n",
              "    <tr>\n",
              "      <th>5</th>\n",
              "      <td>314</td>\n",
              "      <td>103</td>\n",
              "      <td>2</td>\n",
              "      <td>2.0</td>\n",
              "      <td>3.0</td>\n",
              "      <td>8.21</td>\n",
              "      <td>0</td>\n",
              "      <td>0.65</td>\n",
              "    </tr>\n",
              "  </tbody>\n",
              "</table>\n",
              "</div>"
            ],
            "text/plain": [
              "            gre score  toefl score  ...  research  chance of admit\n",
              "Serial No.                          ...                           \n",
              "1                 337          118  ...         1             0.92\n",
              "2                 324          107  ...         1             0.76\n",
              "3                 316          104  ...         1             0.72\n",
              "4                 322          110  ...         1             0.80\n",
              "5                 314          103  ...         0             0.65\n",
              "\n",
              "[5 rows x 8 columns]"
            ]
          },
          "metadata": {
            "tags": []
          },
          "execution_count": 21
        }
      ]
    },
    {
      "cell_type": "markdown",
      "metadata": {
        "id": "MpnNLCt12leT"
      },
      "source": [
        "### AND OR\n",
        "\n",
        "pandas dataframede filtreleme yaparken and ve or da kullanılabilir. fakat phyton and veya or'u kabul etmiyor. bunun yerine and-->& ve or-->| kullanılmalı. ayrıca her condition paranteze alınmalı\n"
      ]
    },
    {
      "cell_type": "code",
      "metadata": {
        "id": "qaQ0XYE52V_i",
        "colab": {
          "base_uri": "https://localhost:8080/",
          "height": 235
        },
        "outputId": "d005f4a2-4c27-4082-d717-91127482e99a"
      },
      "source": [
        "df.head()"
      ],
      "execution_count": null,
      "outputs": [
        {
          "output_type": "execute_result",
          "data": {
            "text/html": [
              "<div>\n",
              "<style scoped>\n",
              "    .dataframe tbody tr th:only-of-type {\n",
              "        vertical-align: middle;\n",
              "    }\n",
              "\n",
              "    .dataframe tbody tr th {\n",
              "        vertical-align: top;\n",
              "    }\n",
              "\n",
              "    .dataframe thead th {\n",
              "        text-align: right;\n",
              "    }\n",
              "</style>\n",
              "<table border=\"1\" class=\"dataframe\">\n",
              "  <thead>\n",
              "    <tr style=\"text-align: right;\">\n",
              "      <th></th>\n",
              "      <th>gre score</th>\n",
              "      <th>toefl score</th>\n",
              "      <th>university rating</th>\n",
              "      <th>sop</th>\n",
              "      <th>lor</th>\n",
              "      <th>cgpa</th>\n",
              "      <th>research</th>\n",
              "      <th>chance of admit</th>\n",
              "    </tr>\n",
              "    <tr>\n",
              "      <th>Serial No.</th>\n",
              "      <th></th>\n",
              "      <th></th>\n",
              "      <th></th>\n",
              "      <th></th>\n",
              "      <th></th>\n",
              "      <th></th>\n",
              "      <th></th>\n",
              "      <th></th>\n",
              "    </tr>\n",
              "  </thead>\n",
              "  <tbody>\n",
              "    <tr>\n",
              "      <th>1</th>\n",
              "      <td>337</td>\n",
              "      <td>118</td>\n",
              "      <td>4</td>\n",
              "      <td>4.5</td>\n",
              "      <td>4.5</td>\n",
              "      <td>9.65</td>\n",
              "      <td>1</td>\n",
              "      <td>0.92</td>\n",
              "    </tr>\n",
              "    <tr>\n",
              "      <th>2</th>\n",
              "      <td>324</td>\n",
              "      <td>107</td>\n",
              "      <td>4</td>\n",
              "      <td>4.0</td>\n",
              "      <td>4.5</td>\n",
              "      <td>8.87</td>\n",
              "      <td>1</td>\n",
              "      <td>0.76</td>\n",
              "    </tr>\n",
              "    <tr>\n",
              "      <th>3</th>\n",
              "      <td>316</td>\n",
              "      <td>104</td>\n",
              "      <td>3</td>\n",
              "      <td>3.0</td>\n",
              "      <td>3.5</td>\n",
              "      <td>8.00</td>\n",
              "      <td>1</td>\n",
              "      <td>0.72</td>\n",
              "    </tr>\n",
              "    <tr>\n",
              "      <th>4</th>\n",
              "      <td>322</td>\n",
              "      <td>110</td>\n",
              "      <td>3</td>\n",
              "      <td>3.5</td>\n",
              "      <td>2.5</td>\n",
              "      <td>8.67</td>\n",
              "      <td>1</td>\n",
              "      <td>0.80</td>\n",
              "    </tr>\n",
              "    <tr>\n",
              "      <th>5</th>\n",
              "      <td>314</td>\n",
              "      <td>103</td>\n",
              "      <td>2</td>\n",
              "      <td>2.0</td>\n",
              "      <td>3.0</td>\n",
              "      <td>8.21</td>\n",
              "      <td>0</td>\n",
              "      <td>0.65</td>\n",
              "    </tr>\n",
              "  </tbody>\n",
              "</table>\n",
              "</div>"
            ],
            "text/plain": [
              "            gre score  toefl score  ...  research  chance of admit\n",
              "Serial No.                          ...                           \n",
              "1                 337          118  ...         1             0.92\n",
              "2                 324          107  ...         1             0.76\n",
              "3                 316          104  ...         1             0.72\n",
              "4                 322          110  ...         1             0.80\n",
              "5                 314          103  ...         0             0.65\n",
              "\n",
              "[5 rows x 8 columns]"
            ]
          },
          "metadata": {
            "tags": []
          },
          "execution_count": 23
        }
      ]
    },
    {
      "cell_type": "code",
      "metadata": {
        "id": "tmgovz612839",
        "colab": {
          "base_uri": "https://localhost:8080/",
          "height": 235
        },
        "outputId": "0d2049ca-fa0b-49ee-e5b4-7e20f70829cb"
      },
      "source": [
        "df[(df[\"sop\"]>=3) & (df[\"toefl score\"]>=110)].head()"
      ],
      "execution_count": null,
      "outputs": [
        {
          "output_type": "execute_result",
          "data": {
            "text/html": [
              "<div>\n",
              "<style scoped>\n",
              "    .dataframe tbody tr th:only-of-type {\n",
              "        vertical-align: middle;\n",
              "    }\n",
              "\n",
              "    .dataframe tbody tr th {\n",
              "        vertical-align: top;\n",
              "    }\n",
              "\n",
              "    .dataframe thead th {\n",
              "        text-align: right;\n",
              "    }\n",
              "</style>\n",
              "<table border=\"1\" class=\"dataframe\">\n",
              "  <thead>\n",
              "    <tr style=\"text-align: right;\">\n",
              "      <th></th>\n",
              "      <th>gre score</th>\n",
              "      <th>toefl score</th>\n",
              "      <th>university rating</th>\n",
              "      <th>sop</th>\n",
              "      <th>lor</th>\n",
              "      <th>cgpa</th>\n",
              "      <th>research</th>\n",
              "      <th>chance of admit</th>\n",
              "    </tr>\n",
              "    <tr>\n",
              "      <th>Serial No.</th>\n",
              "      <th></th>\n",
              "      <th></th>\n",
              "      <th></th>\n",
              "      <th></th>\n",
              "      <th></th>\n",
              "      <th></th>\n",
              "      <th></th>\n",
              "      <th></th>\n",
              "    </tr>\n",
              "  </thead>\n",
              "  <tbody>\n",
              "    <tr>\n",
              "      <th>1</th>\n",
              "      <td>337</td>\n",
              "      <td>118</td>\n",
              "      <td>4</td>\n",
              "      <td>4.5</td>\n",
              "      <td>4.5</td>\n",
              "      <td>9.65</td>\n",
              "      <td>1</td>\n",
              "      <td>0.92</td>\n",
              "    </tr>\n",
              "    <tr>\n",
              "      <th>4</th>\n",
              "      <td>322</td>\n",
              "      <td>110</td>\n",
              "      <td>3</td>\n",
              "      <td>3.5</td>\n",
              "      <td>2.5</td>\n",
              "      <td>8.67</td>\n",
              "      <td>1</td>\n",
              "      <td>0.80</td>\n",
              "    </tr>\n",
              "    <tr>\n",
              "      <th>6</th>\n",
              "      <td>330</td>\n",
              "      <td>115</td>\n",
              "      <td>5</td>\n",
              "      <td>4.5</td>\n",
              "      <td>3.0</td>\n",
              "      <td>9.34</td>\n",
              "      <td>1</td>\n",
              "      <td>0.90</td>\n",
              "    </tr>\n",
              "    <tr>\n",
              "      <th>12</th>\n",
              "      <td>327</td>\n",
              "      <td>111</td>\n",
              "      <td>4</td>\n",
              "      <td>4.0</td>\n",
              "      <td>4.5</td>\n",
              "      <td>9.00</td>\n",
              "      <td>1</td>\n",
              "      <td>0.84</td>\n",
              "    </tr>\n",
              "    <tr>\n",
              "      <th>13</th>\n",
              "      <td>328</td>\n",
              "      <td>112</td>\n",
              "      <td>4</td>\n",
              "      <td>4.0</td>\n",
              "      <td>4.5</td>\n",
              "      <td>9.10</td>\n",
              "      <td>1</td>\n",
              "      <td>0.78</td>\n",
              "    </tr>\n",
              "  </tbody>\n",
              "</table>\n",
              "</div>"
            ],
            "text/plain": [
              "            gre score  toefl score  ...  research  chance of admit\n",
              "Serial No.                          ...                           \n",
              "1                 337          118  ...         1             0.92\n",
              "4                 322          110  ...         1             0.80\n",
              "6                 330          115  ...         1             0.90\n",
              "12                327          111  ...         1             0.84\n",
              "13                328          112  ...         1             0.78\n",
              "\n",
              "[5 rows x 8 columns]"
            ]
          },
          "metadata": {
            "tags": []
          },
          "execution_count": 25
        }
      ]
    },
    {
      "cell_type": "code",
      "metadata": {
        "id": "Vkxve_Zs3N0d",
        "colab": {
          "base_uri": "https://localhost:8080/",
          "height": 235
        },
        "outputId": "4c79bc9e-71d6-4404-fe31-2f1c060203e6"
      },
      "source": [
        "df[(df[\"sop\"]>=3) | (df[\"toefl score\"]>=110)].head()"
      ],
      "execution_count": null,
      "outputs": [
        {
          "output_type": "execute_result",
          "data": {
            "text/html": [
              "<div>\n",
              "<style scoped>\n",
              "    .dataframe tbody tr th:only-of-type {\n",
              "        vertical-align: middle;\n",
              "    }\n",
              "\n",
              "    .dataframe tbody tr th {\n",
              "        vertical-align: top;\n",
              "    }\n",
              "\n",
              "    .dataframe thead th {\n",
              "        text-align: right;\n",
              "    }\n",
              "</style>\n",
              "<table border=\"1\" class=\"dataframe\">\n",
              "  <thead>\n",
              "    <tr style=\"text-align: right;\">\n",
              "      <th></th>\n",
              "      <th>gre score</th>\n",
              "      <th>toefl score</th>\n",
              "      <th>university rating</th>\n",
              "      <th>sop</th>\n",
              "      <th>lor</th>\n",
              "      <th>cgpa</th>\n",
              "      <th>research</th>\n",
              "      <th>chance of admit</th>\n",
              "    </tr>\n",
              "    <tr>\n",
              "      <th>Serial No.</th>\n",
              "      <th></th>\n",
              "      <th></th>\n",
              "      <th></th>\n",
              "      <th></th>\n",
              "      <th></th>\n",
              "      <th></th>\n",
              "      <th></th>\n",
              "      <th></th>\n",
              "    </tr>\n",
              "  </thead>\n",
              "  <tbody>\n",
              "    <tr>\n",
              "      <th>1</th>\n",
              "      <td>337</td>\n",
              "      <td>118</td>\n",
              "      <td>4</td>\n",
              "      <td>4.5</td>\n",
              "      <td>4.5</td>\n",
              "      <td>9.65</td>\n",
              "      <td>1</td>\n",
              "      <td>0.92</td>\n",
              "    </tr>\n",
              "    <tr>\n",
              "      <th>2</th>\n",
              "      <td>324</td>\n",
              "      <td>107</td>\n",
              "      <td>4</td>\n",
              "      <td>4.0</td>\n",
              "      <td>4.5</td>\n",
              "      <td>8.87</td>\n",
              "      <td>1</td>\n",
              "      <td>0.76</td>\n",
              "    </tr>\n",
              "    <tr>\n",
              "      <th>3</th>\n",
              "      <td>316</td>\n",
              "      <td>104</td>\n",
              "      <td>3</td>\n",
              "      <td>3.0</td>\n",
              "      <td>3.5</td>\n",
              "      <td>8.00</td>\n",
              "      <td>1</td>\n",
              "      <td>0.72</td>\n",
              "    </tr>\n",
              "    <tr>\n",
              "      <th>4</th>\n",
              "      <td>322</td>\n",
              "      <td>110</td>\n",
              "      <td>3</td>\n",
              "      <td>3.5</td>\n",
              "      <td>2.5</td>\n",
              "      <td>8.67</td>\n",
              "      <td>1</td>\n",
              "      <td>0.80</td>\n",
              "    </tr>\n",
              "    <tr>\n",
              "      <th>6</th>\n",
              "      <td>330</td>\n",
              "      <td>115</td>\n",
              "      <td>5</td>\n",
              "      <td>4.5</td>\n",
              "      <td>3.0</td>\n",
              "      <td>9.34</td>\n",
              "      <td>1</td>\n",
              "      <td>0.90</td>\n",
              "    </tr>\n",
              "  </tbody>\n",
              "</table>\n",
              "</div>"
            ],
            "text/plain": [
              "            gre score  toefl score  ...  research  chance of admit\n",
              "Serial No.                          ...                           \n",
              "1                 337          118  ...         1             0.92\n",
              "2                 324          107  ...         1             0.76\n",
              "3                 316          104  ...         1             0.72\n",
              "4                 322          110  ...         1             0.80\n",
              "6                 330          115  ...         1             0.90\n",
              "\n",
              "[5 rows x 8 columns]"
            ]
          },
          "metadata": {
            "tags": []
          },
          "execution_count": 26
        }
      ]
    },
    {
      "cell_type": "markdown",
      "metadata": {
        "id": "OMLMZQtdsPfU"
      },
      "source": [
        "### Indexing DataFrame"
      ]
    },
    {
      "cell_type": "code",
      "metadata": {
        "id": "_GJ4FNxmsn0W"
      },
      "source": [
        "import pandas as pd\n",
        "data_path='gdrive/My Drive/ds/data/trial'"
      ],
      "execution_count": null,
      "outputs": []
    },
    {
      "cell_type": "code",
      "metadata": {
        "id": "roh0JIgW3UXT",
        "colab": {
          "base_uri": "https://localhost:8080/",
          "height": 235
        },
        "outputId": "e620ce71-975e-47ee-e1e0-ffe2be471d35"
      },
      "source": [
        "#serial no index oldu\n",
        "df = pd.read_csv(data_path+\"/Admission_Predict.csv\", index_col=0)\n",
        "df.head()"
      ],
      "execution_count": null,
      "outputs": [
        {
          "output_type": "execute_result",
          "data": {
            "text/html": [
              "<div>\n",
              "<style scoped>\n",
              "    .dataframe tbody tr th:only-of-type {\n",
              "        vertical-align: middle;\n",
              "    }\n",
              "\n",
              "    .dataframe tbody tr th {\n",
              "        vertical-align: top;\n",
              "    }\n",
              "\n",
              "    .dataframe thead th {\n",
              "        text-align: right;\n",
              "    }\n",
              "</style>\n",
              "<table border=\"1\" class=\"dataframe\">\n",
              "  <thead>\n",
              "    <tr style=\"text-align: right;\">\n",
              "      <th></th>\n",
              "      <th>GRE Score</th>\n",
              "      <th>TOEFL Score</th>\n",
              "      <th>University Rating</th>\n",
              "      <th>SOP</th>\n",
              "      <th>LOR</th>\n",
              "      <th>CGPA</th>\n",
              "      <th>Research</th>\n",
              "      <th>Chance of Admit</th>\n",
              "    </tr>\n",
              "    <tr>\n",
              "      <th>Serial No.</th>\n",
              "      <th></th>\n",
              "      <th></th>\n",
              "      <th></th>\n",
              "      <th></th>\n",
              "      <th></th>\n",
              "      <th></th>\n",
              "      <th></th>\n",
              "      <th></th>\n",
              "    </tr>\n",
              "  </thead>\n",
              "  <tbody>\n",
              "    <tr>\n",
              "      <th>1</th>\n",
              "      <td>337</td>\n",
              "      <td>118</td>\n",
              "      <td>4</td>\n",
              "      <td>4.5</td>\n",
              "      <td>4.5</td>\n",
              "      <td>9.65</td>\n",
              "      <td>1</td>\n",
              "      <td>0.92</td>\n",
              "    </tr>\n",
              "    <tr>\n",
              "      <th>2</th>\n",
              "      <td>324</td>\n",
              "      <td>107</td>\n",
              "      <td>4</td>\n",
              "      <td>4.0</td>\n",
              "      <td>4.5</td>\n",
              "      <td>8.87</td>\n",
              "      <td>1</td>\n",
              "      <td>0.76</td>\n",
              "    </tr>\n",
              "    <tr>\n",
              "      <th>3</th>\n",
              "      <td>316</td>\n",
              "      <td>104</td>\n",
              "      <td>3</td>\n",
              "      <td>3.0</td>\n",
              "      <td>3.5</td>\n",
              "      <td>8.00</td>\n",
              "      <td>1</td>\n",
              "      <td>0.72</td>\n",
              "    </tr>\n",
              "    <tr>\n",
              "      <th>4</th>\n",
              "      <td>322</td>\n",
              "      <td>110</td>\n",
              "      <td>3</td>\n",
              "      <td>3.5</td>\n",
              "      <td>2.5</td>\n",
              "      <td>8.67</td>\n",
              "      <td>1</td>\n",
              "      <td>0.80</td>\n",
              "    </tr>\n",
              "    <tr>\n",
              "      <th>5</th>\n",
              "      <td>314</td>\n",
              "      <td>103</td>\n",
              "      <td>2</td>\n",
              "      <td>2.0</td>\n",
              "      <td>3.0</td>\n",
              "      <td>8.21</td>\n",
              "      <td>0</td>\n",
              "      <td>0.65</td>\n",
              "    </tr>\n",
              "  </tbody>\n",
              "</table>\n",
              "</div>"
            ],
            "text/plain": [
              "            GRE Score  TOEFL Score  ...  Research  Chance of Admit \n",
              "Serial No.                          ...                            \n",
              "1                 337          118  ...         1              0.92\n",
              "2                 324          107  ...         1              0.76\n",
              "3                 316          104  ...         1              0.72\n",
              "4                 322          110  ...         1              0.80\n",
              "5                 314          103  ...         0              0.65\n",
              "\n",
              "[5 rows x 8 columns]"
            ]
          },
          "metadata": {
            "tags": []
          },
          "execution_count": 4
        }
      ]
    },
    {
      "cell_type": "code",
      "metadata": {
        "id": "glvWgSG6tEkI",
        "colab": {
          "base_uri": "https://localhost:8080/",
          "height": 235
        },
        "outputId": "abab012a-796c-47da-b74b-555adae7da0c"
      },
      "source": [
        "#index kolonunu değiştirmek istiyoruz ama index kolonundaki bilgiyi de saklamak istiyorsak ilk olarak\n",
        "#index değerlerini yeni bir kolona yazıp yeni index olacak kolonu seçmemiz lazım\n",
        "\n",
        "df['Serial Number'] = df.index\n",
        "\n",
        "df = df.set_index('Chance of Admit ')\n",
        "df.head()"
      ],
      "execution_count": null,
      "outputs": [
        {
          "output_type": "execute_result",
          "data": {
            "text/html": [
              "<div>\n",
              "<style scoped>\n",
              "    .dataframe tbody tr th:only-of-type {\n",
              "        vertical-align: middle;\n",
              "    }\n",
              "\n",
              "    .dataframe tbody tr th {\n",
              "        vertical-align: top;\n",
              "    }\n",
              "\n",
              "    .dataframe thead th {\n",
              "        text-align: right;\n",
              "    }\n",
              "</style>\n",
              "<table border=\"1\" class=\"dataframe\">\n",
              "  <thead>\n",
              "    <tr style=\"text-align: right;\">\n",
              "      <th></th>\n",
              "      <th>GRE Score</th>\n",
              "      <th>TOEFL Score</th>\n",
              "      <th>University Rating</th>\n",
              "      <th>SOP</th>\n",
              "      <th>LOR</th>\n",
              "      <th>CGPA</th>\n",
              "      <th>Research</th>\n",
              "      <th>Serial Number</th>\n",
              "    </tr>\n",
              "    <tr>\n",
              "      <th>Chance of Admit</th>\n",
              "      <th></th>\n",
              "      <th></th>\n",
              "      <th></th>\n",
              "      <th></th>\n",
              "      <th></th>\n",
              "      <th></th>\n",
              "      <th></th>\n",
              "      <th></th>\n",
              "    </tr>\n",
              "  </thead>\n",
              "  <tbody>\n",
              "    <tr>\n",
              "      <th>0.92</th>\n",
              "      <td>337</td>\n",
              "      <td>118</td>\n",
              "      <td>4</td>\n",
              "      <td>4.5</td>\n",
              "      <td>4.5</td>\n",
              "      <td>9.65</td>\n",
              "      <td>1</td>\n",
              "      <td>1</td>\n",
              "    </tr>\n",
              "    <tr>\n",
              "      <th>0.76</th>\n",
              "      <td>324</td>\n",
              "      <td>107</td>\n",
              "      <td>4</td>\n",
              "      <td>4.0</td>\n",
              "      <td>4.5</td>\n",
              "      <td>8.87</td>\n",
              "      <td>1</td>\n",
              "      <td>2</td>\n",
              "    </tr>\n",
              "    <tr>\n",
              "      <th>0.72</th>\n",
              "      <td>316</td>\n",
              "      <td>104</td>\n",
              "      <td>3</td>\n",
              "      <td>3.0</td>\n",
              "      <td>3.5</td>\n",
              "      <td>8.00</td>\n",
              "      <td>1</td>\n",
              "      <td>3</td>\n",
              "    </tr>\n",
              "    <tr>\n",
              "      <th>0.80</th>\n",
              "      <td>322</td>\n",
              "      <td>110</td>\n",
              "      <td>3</td>\n",
              "      <td>3.5</td>\n",
              "      <td>2.5</td>\n",
              "      <td>8.67</td>\n",
              "      <td>1</td>\n",
              "      <td>4</td>\n",
              "    </tr>\n",
              "    <tr>\n",
              "      <th>0.65</th>\n",
              "      <td>314</td>\n",
              "      <td>103</td>\n",
              "      <td>2</td>\n",
              "      <td>2.0</td>\n",
              "      <td>3.0</td>\n",
              "      <td>8.21</td>\n",
              "      <td>0</td>\n",
              "      <td>5</td>\n",
              "    </tr>\n",
              "  </tbody>\n",
              "</table>\n",
              "</div>"
            ],
            "text/plain": [
              "                  GRE Score  TOEFL Score  ...  Research  Serial Number\n",
              "Chance of Admit                           ...                         \n",
              "0.92                    337          118  ...         1              1\n",
              "0.76                    324          107  ...         1              2\n",
              "0.72                    316          104  ...         1              3\n",
              "0.80                    322          110  ...         1              4\n",
              "0.65                    314          103  ...         0              5\n",
              "\n",
              "[5 rows x 8 columns]"
            ]
          },
          "metadata": {
            "tags": []
          },
          "execution_count": 5
        }
      ]
    },
    {
      "cell_type": "code",
      "metadata": {
        "id": "8o0myibhtiJk",
        "colab": {
          "base_uri": "https://localhost:8080/",
          "height": 204
        },
        "outputId": "8a158b55-a0f1-4619-f1c6-e3da7fcb386b"
      },
      "source": [
        "#0'dan başlayıp index atanmasını istiyorsak reset_index fonksiyonu kullanılmalı \n",
        "\n",
        "#\tChance of Admit kolonu drop olmadı\n",
        "df = df.reset_index()\n",
        "df.head()"
      ],
      "execution_count": null,
      "outputs": [
        {
          "output_type": "execute_result",
          "data": {
            "text/html": [
              "<div>\n",
              "<style scoped>\n",
              "    .dataframe tbody tr th:only-of-type {\n",
              "        vertical-align: middle;\n",
              "    }\n",
              "\n",
              "    .dataframe tbody tr th {\n",
              "        vertical-align: top;\n",
              "    }\n",
              "\n",
              "    .dataframe thead th {\n",
              "        text-align: right;\n",
              "    }\n",
              "</style>\n",
              "<table border=\"1\" class=\"dataframe\">\n",
              "  <thead>\n",
              "    <tr style=\"text-align: right;\">\n",
              "      <th></th>\n",
              "      <th>Chance of Admit</th>\n",
              "      <th>GRE Score</th>\n",
              "      <th>TOEFL Score</th>\n",
              "      <th>University Rating</th>\n",
              "      <th>SOP</th>\n",
              "      <th>LOR</th>\n",
              "      <th>CGPA</th>\n",
              "      <th>Research</th>\n",
              "      <th>Serial Number</th>\n",
              "    </tr>\n",
              "  </thead>\n",
              "  <tbody>\n",
              "    <tr>\n",
              "      <th>0</th>\n",
              "      <td>0.92</td>\n",
              "      <td>337</td>\n",
              "      <td>118</td>\n",
              "      <td>4</td>\n",
              "      <td>4.5</td>\n",
              "      <td>4.5</td>\n",
              "      <td>9.65</td>\n",
              "      <td>1</td>\n",
              "      <td>1</td>\n",
              "    </tr>\n",
              "    <tr>\n",
              "      <th>1</th>\n",
              "      <td>0.76</td>\n",
              "      <td>324</td>\n",
              "      <td>107</td>\n",
              "      <td>4</td>\n",
              "      <td>4.0</td>\n",
              "      <td>4.5</td>\n",
              "      <td>8.87</td>\n",
              "      <td>1</td>\n",
              "      <td>2</td>\n",
              "    </tr>\n",
              "    <tr>\n",
              "      <th>2</th>\n",
              "      <td>0.72</td>\n",
              "      <td>316</td>\n",
              "      <td>104</td>\n",
              "      <td>3</td>\n",
              "      <td>3.0</td>\n",
              "      <td>3.5</td>\n",
              "      <td>8.00</td>\n",
              "      <td>1</td>\n",
              "      <td>3</td>\n",
              "    </tr>\n",
              "    <tr>\n",
              "      <th>3</th>\n",
              "      <td>0.80</td>\n",
              "      <td>322</td>\n",
              "      <td>110</td>\n",
              "      <td>3</td>\n",
              "      <td>3.5</td>\n",
              "      <td>2.5</td>\n",
              "      <td>8.67</td>\n",
              "      <td>1</td>\n",
              "      <td>4</td>\n",
              "    </tr>\n",
              "    <tr>\n",
              "      <th>4</th>\n",
              "      <td>0.65</td>\n",
              "      <td>314</td>\n",
              "      <td>103</td>\n",
              "      <td>2</td>\n",
              "      <td>2.0</td>\n",
              "      <td>3.0</td>\n",
              "      <td>8.21</td>\n",
              "      <td>0</td>\n",
              "      <td>5</td>\n",
              "    </tr>\n",
              "  </tbody>\n",
              "</table>\n",
              "</div>"
            ],
            "text/plain": [
              "   Chance of Admit   GRE Score  TOEFL Score  ...  CGPA  Research  Serial Number\n",
              "0              0.92        337          118  ...  9.65         1              1\n",
              "1              0.76        324          107  ...  8.87         1              2\n",
              "2              0.72        316          104  ...  8.00         1              3\n",
              "3              0.80        322          110  ...  8.67         1              4\n",
              "4              0.65        314          103  ...  8.21         0              5\n",
              "\n",
              "[5 rows x 9 columns]"
            ]
          },
          "metadata": {
            "tags": []
          },
          "execution_count": 6
        }
      ]
    },
    {
      "cell_type": "markdown",
      "metadata": {
        "id": "m0cQT9eat5eX"
      },
      "source": [
        "#### Multi Index"
      ]
    },
    {
      "cell_type": "code",
      "metadata": {
        "id": "KfHQ-S2Pt_dp"
      },
      "source": [
        "import pandas as pd\n",
        "data_path='gdrive/My Drive/ds/data/trial'"
      ],
      "execution_count": null,
      "outputs": []
    },
    {
      "cell_type": "code",
      "metadata": {
        "id": "KT3Mq4U2tsJw",
        "colab": {
          "base_uri": "https://localhost:8080/",
          "height": 321
        },
        "outputId": "6a4a194d-2279-43c7-e7a5-567f3c70d4ae"
      },
      "source": [
        "#serial no index oldu\n",
        "df = pd.read_csv(data_path+\"/census.csv\")\n",
        "df.head()"
      ],
      "execution_count": null,
      "outputs": [
        {
          "output_type": "execute_result",
          "data": {
            "text/html": [
              "<div>\n",
              "<style scoped>\n",
              "    .dataframe tbody tr th:only-of-type {\n",
              "        vertical-align: middle;\n",
              "    }\n",
              "\n",
              "    .dataframe tbody tr th {\n",
              "        vertical-align: top;\n",
              "    }\n",
              "\n",
              "    .dataframe thead th {\n",
              "        text-align: right;\n",
              "    }\n",
              "</style>\n",
              "<table border=\"1\" class=\"dataframe\">\n",
              "  <thead>\n",
              "    <tr style=\"text-align: right;\">\n",
              "      <th></th>\n",
              "      <th>SUMLEV</th>\n",
              "      <th>REGION</th>\n",
              "      <th>DIVISION</th>\n",
              "      <th>STATE</th>\n",
              "      <th>COUNTY</th>\n",
              "      <th>STNAME</th>\n",
              "      <th>CTYNAME</th>\n",
              "      <th>CENSUS2010POP</th>\n",
              "      <th>ESTIMATESBASE2010</th>\n",
              "      <th>POPESTIMATE2010</th>\n",
              "      <th>POPESTIMATE2011</th>\n",
              "      <th>POPESTIMATE2012</th>\n",
              "      <th>POPESTIMATE2013</th>\n",
              "      <th>POPESTIMATE2014</th>\n",
              "      <th>POPESTIMATE2015</th>\n",
              "      <th>NPOPCHG_2010</th>\n",
              "      <th>NPOPCHG_2011</th>\n",
              "      <th>NPOPCHG_2012</th>\n",
              "      <th>NPOPCHG_2013</th>\n",
              "      <th>NPOPCHG_2014</th>\n",
              "      <th>NPOPCHG_2015</th>\n",
              "      <th>BIRTHS2010</th>\n",
              "      <th>BIRTHS2011</th>\n",
              "      <th>BIRTHS2012</th>\n",
              "      <th>BIRTHS2013</th>\n",
              "      <th>BIRTHS2014</th>\n",
              "      <th>BIRTHS2015</th>\n",
              "      <th>DEATHS2010</th>\n",
              "      <th>DEATHS2011</th>\n",
              "      <th>DEATHS2012</th>\n",
              "      <th>DEATHS2013</th>\n",
              "      <th>DEATHS2014</th>\n",
              "      <th>DEATHS2015</th>\n",
              "      <th>NATURALINC2010</th>\n",
              "      <th>NATURALINC2011</th>\n",
              "      <th>NATURALINC2012</th>\n",
              "      <th>NATURALINC2013</th>\n",
              "      <th>NATURALINC2014</th>\n",
              "      <th>NATURALINC2015</th>\n",
              "      <th>INTERNATIONALMIG2010</th>\n",
              "      <th>...</th>\n",
              "      <th>RESIDUAL2013</th>\n",
              "      <th>RESIDUAL2014</th>\n",
              "      <th>RESIDUAL2015</th>\n",
              "      <th>GQESTIMATESBASE2010</th>\n",
              "      <th>GQESTIMATES2010</th>\n",
              "      <th>GQESTIMATES2011</th>\n",
              "      <th>GQESTIMATES2012</th>\n",
              "      <th>GQESTIMATES2013</th>\n",
              "      <th>GQESTIMATES2014</th>\n",
              "      <th>GQESTIMATES2015</th>\n",
              "      <th>RBIRTH2011</th>\n",
              "      <th>RBIRTH2012</th>\n",
              "      <th>RBIRTH2013</th>\n",
              "      <th>RBIRTH2014</th>\n",
              "      <th>RBIRTH2015</th>\n",
              "      <th>RDEATH2011</th>\n",
              "      <th>RDEATH2012</th>\n",
              "      <th>RDEATH2013</th>\n",
              "      <th>RDEATH2014</th>\n",
              "      <th>RDEATH2015</th>\n",
              "      <th>RNATURALINC2011</th>\n",
              "      <th>RNATURALINC2012</th>\n",
              "      <th>RNATURALINC2013</th>\n",
              "      <th>RNATURALINC2014</th>\n",
              "      <th>RNATURALINC2015</th>\n",
              "      <th>RINTERNATIONALMIG2011</th>\n",
              "      <th>RINTERNATIONALMIG2012</th>\n",
              "      <th>RINTERNATIONALMIG2013</th>\n",
              "      <th>RINTERNATIONALMIG2014</th>\n",
              "      <th>RINTERNATIONALMIG2015</th>\n",
              "      <th>RDOMESTICMIG2011</th>\n",
              "      <th>RDOMESTICMIG2012</th>\n",
              "      <th>RDOMESTICMIG2013</th>\n",
              "      <th>RDOMESTICMIG2014</th>\n",
              "      <th>RDOMESTICMIG2015</th>\n",
              "      <th>RNETMIG2011</th>\n",
              "      <th>RNETMIG2012</th>\n",
              "      <th>RNETMIG2013</th>\n",
              "      <th>RNETMIG2014</th>\n",
              "      <th>RNETMIG2015</th>\n",
              "    </tr>\n",
              "  </thead>\n",
              "  <tbody>\n",
              "    <tr>\n",
              "      <th>0</th>\n",
              "      <td>40</td>\n",
              "      <td>3</td>\n",
              "      <td>6</td>\n",
              "      <td>1</td>\n",
              "      <td>0</td>\n",
              "      <td>Alabama</td>\n",
              "      <td>Alabama</td>\n",
              "      <td>4779736</td>\n",
              "      <td>4780127</td>\n",
              "      <td>4785161</td>\n",
              "      <td>4801108</td>\n",
              "      <td>4816089</td>\n",
              "      <td>4830533</td>\n",
              "      <td>4846411</td>\n",
              "      <td>4858979</td>\n",
              "      <td>5034</td>\n",
              "      <td>15947</td>\n",
              "      <td>14981</td>\n",
              "      <td>14444</td>\n",
              "      <td>15878</td>\n",
              "      <td>12568</td>\n",
              "      <td>14226</td>\n",
              "      <td>59689</td>\n",
              "      <td>59062</td>\n",
              "      <td>57938</td>\n",
              "      <td>58334</td>\n",
              "      <td>58305</td>\n",
              "      <td>11089</td>\n",
              "      <td>48811</td>\n",
              "      <td>48357</td>\n",
              "      <td>50843</td>\n",
              "      <td>50228</td>\n",
              "      <td>50330</td>\n",
              "      <td>3137</td>\n",
              "      <td>10878</td>\n",
              "      <td>10705</td>\n",
              "      <td>7095</td>\n",
              "      <td>8106</td>\n",
              "      <td>7975</td>\n",
              "      <td>1357</td>\n",
              "      <td>...</td>\n",
              "      <td>677</td>\n",
              "      <td>-573</td>\n",
              "      <td>1135</td>\n",
              "      <td>116185</td>\n",
              "      <td>116212</td>\n",
              "      <td>115560</td>\n",
              "      <td>115666</td>\n",
              "      <td>116963</td>\n",
              "      <td>119088</td>\n",
              "      <td>119599</td>\n",
              "      <td>12.453020</td>\n",
              "      <td>12.282581</td>\n",
              "      <td>12.012080</td>\n",
              "      <td>12.056286</td>\n",
              "      <td>12.014973</td>\n",
              "      <td>10.183524</td>\n",
              "      <td>10.056360</td>\n",
              "      <td>10.541099</td>\n",
              "      <td>10.380963</td>\n",
              "      <td>10.371556</td>\n",
              "      <td>2.269496</td>\n",
              "      <td>2.226220</td>\n",
              "      <td>1.470981</td>\n",
              "      <td>1.675322</td>\n",
              "      <td>1.643417</td>\n",
              "      <td>1.027720</td>\n",
              "      <td>1.019840</td>\n",
              "      <td>1.002216</td>\n",
              "      <td>1.142716</td>\n",
              "      <td>1.179963</td>\n",
              "      <td>0.002295</td>\n",
              "      <td>-0.193196</td>\n",
              "      <td>0.381066</td>\n",
              "      <td>0.582002</td>\n",
              "      <td>-0.467369</td>\n",
              "      <td>1.030015</td>\n",
              "      <td>0.826644</td>\n",
              "      <td>1.383282</td>\n",
              "      <td>1.724718</td>\n",
              "      <td>0.712594</td>\n",
              "    </tr>\n",
              "    <tr>\n",
              "      <th>1</th>\n",
              "      <td>50</td>\n",
              "      <td>3</td>\n",
              "      <td>6</td>\n",
              "      <td>1</td>\n",
              "      <td>1</td>\n",
              "      <td>Alabama</td>\n",
              "      <td>Autauga County</td>\n",
              "      <td>54571</td>\n",
              "      <td>54571</td>\n",
              "      <td>54660</td>\n",
              "      <td>55253</td>\n",
              "      <td>55175</td>\n",
              "      <td>55038</td>\n",
              "      <td>55290</td>\n",
              "      <td>55347</td>\n",
              "      <td>89</td>\n",
              "      <td>593</td>\n",
              "      <td>-78</td>\n",
              "      <td>-137</td>\n",
              "      <td>252</td>\n",
              "      <td>57</td>\n",
              "      <td>151</td>\n",
              "      <td>636</td>\n",
              "      <td>615</td>\n",
              "      <td>574</td>\n",
              "      <td>623</td>\n",
              "      <td>600</td>\n",
              "      <td>152</td>\n",
              "      <td>507</td>\n",
              "      <td>558</td>\n",
              "      <td>583</td>\n",
              "      <td>504</td>\n",
              "      <td>467</td>\n",
              "      <td>-1</td>\n",
              "      <td>129</td>\n",
              "      <td>57</td>\n",
              "      <td>-9</td>\n",
              "      <td>119</td>\n",
              "      <td>133</td>\n",
              "      <td>33</td>\n",
              "      <td>...</td>\n",
              "      <td>22</td>\n",
              "      <td>-10</td>\n",
              "      <td>45</td>\n",
              "      <td>455</td>\n",
              "      <td>455</td>\n",
              "      <td>455</td>\n",
              "      <td>455</td>\n",
              "      <td>455</td>\n",
              "      <td>455</td>\n",
              "      <td>455</td>\n",
              "      <td>11.572789</td>\n",
              "      <td>11.138479</td>\n",
              "      <td>10.416194</td>\n",
              "      <td>11.293597</td>\n",
              "      <td>10.846281</td>\n",
              "      <td>9.225478</td>\n",
              "      <td>10.106133</td>\n",
              "      <td>10.579514</td>\n",
              "      <td>9.136393</td>\n",
              "      <td>8.442022</td>\n",
              "      <td>2.347311</td>\n",
              "      <td>1.032347</td>\n",
              "      <td>-0.163320</td>\n",
              "      <td>2.157204</td>\n",
              "      <td>2.404259</td>\n",
              "      <td>0.363924</td>\n",
              "      <td>0.289782</td>\n",
              "      <td>0.290347</td>\n",
              "      <td>0.326300</td>\n",
              "      <td>0.343466</td>\n",
              "      <td>7.242091</td>\n",
              "      <td>-2.915927</td>\n",
              "      <td>-3.012349</td>\n",
              "      <td>2.265971</td>\n",
              "      <td>-2.530799</td>\n",
              "      <td>7.606016</td>\n",
              "      <td>-2.626146</td>\n",
              "      <td>-2.722002</td>\n",
              "      <td>2.592270</td>\n",
              "      <td>-2.187333</td>\n",
              "    </tr>\n",
              "    <tr>\n",
              "      <th>2</th>\n",
              "      <td>50</td>\n",
              "      <td>3</td>\n",
              "      <td>6</td>\n",
              "      <td>1</td>\n",
              "      <td>3</td>\n",
              "      <td>Alabama</td>\n",
              "      <td>Baldwin County</td>\n",
              "      <td>182265</td>\n",
              "      <td>182265</td>\n",
              "      <td>183193</td>\n",
              "      <td>186659</td>\n",
              "      <td>190396</td>\n",
              "      <td>195126</td>\n",
              "      <td>199713</td>\n",
              "      <td>203709</td>\n",
              "      <td>928</td>\n",
              "      <td>3466</td>\n",
              "      <td>3737</td>\n",
              "      <td>4730</td>\n",
              "      <td>4587</td>\n",
              "      <td>3996</td>\n",
              "      <td>517</td>\n",
              "      <td>2187</td>\n",
              "      <td>2092</td>\n",
              "      <td>2160</td>\n",
              "      <td>2186</td>\n",
              "      <td>2240</td>\n",
              "      <td>532</td>\n",
              "      <td>1825</td>\n",
              "      <td>1879</td>\n",
              "      <td>1902</td>\n",
              "      <td>2044</td>\n",
              "      <td>1992</td>\n",
              "      <td>-15</td>\n",
              "      <td>362</td>\n",
              "      <td>213</td>\n",
              "      <td>258</td>\n",
              "      <td>142</td>\n",
              "      <td>248</td>\n",
              "      <td>69</td>\n",
              "      <td>...</td>\n",
              "      <td>91</td>\n",
              "      <td>434</td>\n",
              "      <td>58</td>\n",
              "      <td>2307</td>\n",
              "      <td>2307</td>\n",
              "      <td>2307</td>\n",
              "      <td>2249</td>\n",
              "      <td>2304</td>\n",
              "      <td>2308</td>\n",
              "      <td>2309</td>\n",
              "      <td>11.826352</td>\n",
              "      <td>11.096524</td>\n",
              "      <td>11.205586</td>\n",
              "      <td>11.072868</td>\n",
              "      <td>11.104997</td>\n",
              "      <td>9.868812</td>\n",
              "      <td>9.966716</td>\n",
              "      <td>9.867141</td>\n",
              "      <td>10.353587</td>\n",
              "      <td>9.875515</td>\n",
              "      <td>1.957540</td>\n",
              "      <td>1.129809</td>\n",
              "      <td>1.338445</td>\n",
              "      <td>0.719281</td>\n",
              "      <td>1.229482</td>\n",
              "      <td>1.011215</td>\n",
              "      <td>0.912334</td>\n",
              "      <td>0.881921</td>\n",
              "      <td>1.073855</td>\n",
              "      <td>1.095627</td>\n",
              "      <td>14.832960</td>\n",
              "      <td>17.647293</td>\n",
              "      <td>21.845705</td>\n",
              "      <td>19.243287</td>\n",
              "      <td>17.197872</td>\n",
              "      <td>15.844176</td>\n",
              "      <td>18.559627</td>\n",
              "      <td>22.727626</td>\n",
              "      <td>20.317142</td>\n",
              "      <td>18.293499</td>\n",
              "    </tr>\n",
              "    <tr>\n",
              "      <th>3</th>\n",
              "      <td>50</td>\n",
              "      <td>3</td>\n",
              "      <td>6</td>\n",
              "      <td>1</td>\n",
              "      <td>5</td>\n",
              "      <td>Alabama</td>\n",
              "      <td>Barbour County</td>\n",
              "      <td>27457</td>\n",
              "      <td>27457</td>\n",
              "      <td>27341</td>\n",
              "      <td>27226</td>\n",
              "      <td>27159</td>\n",
              "      <td>26973</td>\n",
              "      <td>26815</td>\n",
              "      <td>26489</td>\n",
              "      <td>-116</td>\n",
              "      <td>-115</td>\n",
              "      <td>-67</td>\n",
              "      <td>-186</td>\n",
              "      <td>-158</td>\n",
              "      <td>-326</td>\n",
              "      <td>70</td>\n",
              "      <td>335</td>\n",
              "      <td>300</td>\n",
              "      <td>283</td>\n",
              "      <td>260</td>\n",
              "      <td>269</td>\n",
              "      <td>128</td>\n",
              "      <td>319</td>\n",
              "      <td>291</td>\n",
              "      <td>294</td>\n",
              "      <td>310</td>\n",
              "      <td>309</td>\n",
              "      <td>-58</td>\n",
              "      <td>16</td>\n",
              "      <td>9</td>\n",
              "      <td>-11</td>\n",
              "      <td>-50</td>\n",
              "      <td>-40</td>\n",
              "      <td>2</td>\n",
              "      <td>...</td>\n",
              "      <td>19</td>\n",
              "      <td>-1</td>\n",
              "      <td>-5</td>\n",
              "      <td>3193</td>\n",
              "      <td>3193</td>\n",
              "      <td>3382</td>\n",
              "      <td>3388</td>\n",
              "      <td>3389</td>\n",
              "      <td>3353</td>\n",
              "      <td>3352</td>\n",
              "      <td>12.278483</td>\n",
              "      <td>11.032454</td>\n",
              "      <td>10.455923</td>\n",
              "      <td>9.667584</td>\n",
              "      <td>10.093051</td>\n",
              "      <td>11.692048</td>\n",
              "      <td>10.701480</td>\n",
              "      <td>10.862337</td>\n",
              "      <td>11.526735</td>\n",
              "      <td>11.593877</td>\n",
              "      <td>0.586435</td>\n",
              "      <td>0.330974</td>\n",
              "      <td>-0.406414</td>\n",
              "      <td>-1.859151</td>\n",
              "      <td>-1.500825</td>\n",
              "      <td>-0.146609</td>\n",
              "      <td>-0.257424</td>\n",
              "      <td>-0.110840</td>\n",
              "      <td>-0.074366</td>\n",
              "      <td>0.000000</td>\n",
              "      <td>-4.728132</td>\n",
              "      <td>-2.500690</td>\n",
              "      <td>-7.056824</td>\n",
              "      <td>-3.904217</td>\n",
              "      <td>-10.543299</td>\n",
              "      <td>-4.874741</td>\n",
              "      <td>-2.758113</td>\n",
              "      <td>-7.167664</td>\n",
              "      <td>-3.978583</td>\n",
              "      <td>-10.543299</td>\n",
              "    </tr>\n",
              "    <tr>\n",
              "      <th>4</th>\n",
              "      <td>50</td>\n",
              "      <td>3</td>\n",
              "      <td>6</td>\n",
              "      <td>1</td>\n",
              "      <td>7</td>\n",
              "      <td>Alabama</td>\n",
              "      <td>Bibb County</td>\n",
              "      <td>22915</td>\n",
              "      <td>22919</td>\n",
              "      <td>22861</td>\n",
              "      <td>22733</td>\n",
              "      <td>22642</td>\n",
              "      <td>22512</td>\n",
              "      <td>22549</td>\n",
              "      <td>22583</td>\n",
              "      <td>-58</td>\n",
              "      <td>-128</td>\n",
              "      <td>-91</td>\n",
              "      <td>-130</td>\n",
              "      <td>37</td>\n",
              "      <td>34</td>\n",
              "      <td>44</td>\n",
              "      <td>266</td>\n",
              "      <td>245</td>\n",
              "      <td>259</td>\n",
              "      <td>247</td>\n",
              "      <td>253</td>\n",
              "      <td>34</td>\n",
              "      <td>278</td>\n",
              "      <td>237</td>\n",
              "      <td>281</td>\n",
              "      <td>211</td>\n",
              "      <td>223</td>\n",
              "      <td>10</td>\n",
              "      <td>-12</td>\n",
              "      <td>8</td>\n",
              "      <td>-22</td>\n",
              "      <td>36</td>\n",
              "      <td>30</td>\n",
              "      <td>2</td>\n",
              "      <td>...</td>\n",
              "      <td>14</td>\n",
              "      <td>-16</td>\n",
              "      <td>-21</td>\n",
              "      <td>2224</td>\n",
              "      <td>2224</td>\n",
              "      <td>2224</td>\n",
              "      <td>2224</td>\n",
              "      <td>2224</td>\n",
              "      <td>2233</td>\n",
              "      <td>2236</td>\n",
              "      <td>11.668202</td>\n",
              "      <td>10.798898</td>\n",
              "      <td>11.471852</td>\n",
              "      <td>10.962917</td>\n",
              "      <td>11.211557</td>\n",
              "      <td>12.194587</td>\n",
              "      <td>10.446281</td>\n",
              "      <td>12.446295</td>\n",
              "      <td>9.365083</td>\n",
              "      <td>9.882124</td>\n",
              "      <td>-0.526385</td>\n",
              "      <td>0.352617</td>\n",
              "      <td>-0.974443</td>\n",
              "      <td>1.597834</td>\n",
              "      <td>1.329434</td>\n",
              "      <td>0.438654</td>\n",
              "      <td>0.705234</td>\n",
              "      <td>0.797272</td>\n",
              "      <td>0.932070</td>\n",
              "      <td>0.930604</td>\n",
              "      <td>-5.527043</td>\n",
              "      <td>-5.068871</td>\n",
              "      <td>-6.201001</td>\n",
              "      <td>-0.177537</td>\n",
              "      <td>0.177258</td>\n",
              "      <td>-5.088389</td>\n",
              "      <td>-4.363636</td>\n",
              "      <td>-5.403729</td>\n",
              "      <td>0.754533</td>\n",
              "      <td>1.107861</td>\n",
              "    </tr>\n",
              "  </tbody>\n",
              "</table>\n",
              "<p>5 rows × 100 columns</p>\n",
              "</div>"
            ],
            "text/plain": [
              "   SUMLEV  REGION  DIVISION  ...  RNETMIG2013  RNETMIG2014 RNETMIG2015\n",
              "0      40       3         6  ...     1.383282     1.724718    0.712594\n",
              "1      50       3         6  ...    -2.722002     2.592270   -2.187333\n",
              "2      50       3         6  ...    22.727626    20.317142   18.293499\n",
              "3      50       3         6  ...    -7.167664    -3.978583  -10.543299\n",
              "4      50       3         6  ...    -5.403729     0.754533    1.107861\n",
              "\n",
              "[5 rows x 100 columns]"
            ]
          },
          "metadata": {
            "tags": []
          },
          "execution_count": 31
        }
      ]
    },
    {
      "cell_type": "code",
      "metadata": {
        "id": "KOmhwZktujaR",
        "colab": {
          "base_uri": "https://localhost:8080/"
        },
        "outputId": "ea242361-be96-4cf9-aabb-d7a1ca22be3e"
      },
      "source": [
        "df['SUMLEV'].unique()"
      ],
      "execution_count": null,
      "outputs": [
        {
          "output_type": "execute_result",
          "data": {
            "text/plain": [
              "array([40, 50])"
            ]
          },
          "metadata": {
            "tags": []
          },
          "execution_count": 32
        }
      ]
    },
    {
      "cell_type": "code",
      "metadata": {
        "id": "bkMnEXkNu8AB",
        "colab": {
          "base_uri": "https://localhost:8080/",
          "height": 338
        },
        "outputId": "94874fe6-d7e1-4f6b-df18-926669d93608"
      },
      "source": [
        "df=df[df['SUMLEV'] == 50]\n",
        "df.head()"
      ],
      "execution_count": null,
      "outputs": [
        {
          "output_type": "execute_result",
          "data": {
            "text/html": [
              "<div>\n",
              "<style scoped>\n",
              "    .dataframe tbody tr th:only-of-type {\n",
              "        vertical-align: middle;\n",
              "    }\n",
              "\n",
              "    .dataframe tbody tr th {\n",
              "        vertical-align: top;\n",
              "    }\n",
              "\n",
              "    .dataframe thead th {\n",
              "        text-align: right;\n",
              "    }\n",
              "</style>\n",
              "<table border=\"1\" class=\"dataframe\">\n",
              "  <thead>\n",
              "    <tr style=\"text-align: right;\">\n",
              "      <th></th>\n",
              "      <th>SUMLEV</th>\n",
              "      <th>REGION</th>\n",
              "      <th>DIVISION</th>\n",
              "      <th>STATE</th>\n",
              "      <th>COUNTY</th>\n",
              "      <th>STNAME</th>\n",
              "      <th>CTYNAME</th>\n",
              "      <th>CENSUS2010POP</th>\n",
              "      <th>ESTIMATESBASE2010</th>\n",
              "      <th>POPESTIMATE2010</th>\n",
              "      <th>POPESTIMATE2011</th>\n",
              "      <th>POPESTIMATE2012</th>\n",
              "      <th>POPESTIMATE2013</th>\n",
              "      <th>POPESTIMATE2014</th>\n",
              "      <th>POPESTIMATE2015</th>\n",
              "      <th>NPOPCHG_2010</th>\n",
              "      <th>NPOPCHG_2011</th>\n",
              "      <th>NPOPCHG_2012</th>\n",
              "      <th>NPOPCHG_2013</th>\n",
              "      <th>NPOPCHG_2014</th>\n",
              "      <th>NPOPCHG_2015</th>\n",
              "      <th>BIRTHS2010</th>\n",
              "      <th>BIRTHS2011</th>\n",
              "      <th>BIRTHS2012</th>\n",
              "      <th>BIRTHS2013</th>\n",
              "      <th>BIRTHS2014</th>\n",
              "      <th>BIRTHS2015</th>\n",
              "      <th>DEATHS2010</th>\n",
              "      <th>DEATHS2011</th>\n",
              "      <th>DEATHS2012</th>\n",
              "      <th>DEATHS2013</th>\n",
              "      <th>DEATHS2014</th>\n",
              "      <th>DEATHS2015</th>\n",
              "      <th>NATURALINC2010</th>\n",
              "      <th>NATURALINC2011</th>\n",
              "      <th>NATURALINC2012</th>\n",
              "      <th>NATURALINC2013</th>\n",
              "      <th>NATURALINC2014</th>\n",
              "      <th>NATURALINC2015</th>\n",
              "      <th>INTERNATIONALMIG2010</th>\n",
              "      <th>...</th>\n",
              "      <th>RESIDUAL2013</th>\n",
              "      <th>RESIDUAL2014</th>\n",
              "      <th>RESIDUAL2015</th>\n",
              "      <th>GQESTIMATESBASE2010</th>\n",
              "      <th>GQESTIMATES2010</th>\n",
              "      <th>GQESTIMATES2011</th>\n",
              "      <th>GQESTIMATES2012</th>\n",
              "      <th>GQESTIMATES2013</th>\n",
              "      <th>GQESTIMATES2014</th>\n",
              "      <th>GQESTIMATES2015</th>\n",
              "      <th>RBIRTH2011</th>\n",
              "      <th>RBIRTH2012</th>\n",
              "      <th>RBIRTH2013</th>\n",
              "      <th>RBIRTH2014</th>\n",
              "      <th>RBIRTH2015</th>\n",
              "      <th>RDEATH2011</th>\n",
              "      <th>RDEATH2012</th>\n",
              "      <th>RDEATH2013</th>\n",
              "      <th>RDEATH2014</th>\n",
              "      <th>RDEATH2015</th>\n",
              "      <th>RNATURALINC2011</th>\n",
              "      <th>RNATURALINC2012</th>\n",
              "      <th>RNATURALINC2013</th>\n",
              "      <th>RNATURALINC2014</th>\n",
              "      <th>RNATURALINC2015</th>\n",
              "      <th>RINTERNATIONALMIG2011</th>\n",
              "      <th>RINTERNATIONALMIG2012</th>\n",
              "      <th>RINTERNATIONALMIG2013</th>\n",
              "      <th>RINTERNATIONALMIG2014</th>\n",
              "      <th>RINTERNATIONALMIG2015</th>\n",
              "      <th>RDOMESTICMIG2011</th>\n",
              "      <th>RDOMESTICMIG2012</th>\n",
              "      <th>RDOMESTICMIG2013</th>\n",
              "      <th>RDOMESTICMIG2014</th>\n",
              "      <th>RDOMESTICMIG2015</th>\n",
              "      <th>RNETMIG2011</th>\n",
              "      <th>RNETMIG2012</th>\n",
              "      <th>RNETMIG2013</th>\n",
              "      <th>RNETMIG2014</th>\n",
              "      <th>RNETMIG2015</th>\n",
              "    </tr>\n",
              "  </thead>\n",
              "  <tbody>\n",
              "    <tr>\n",
              "      <th>1</th>\n",
              "      <td>50</td>\n",
              "      <td>3</td>\n",
              "      <td>6</td>\n",
              "      <td>1</td>\n",
              "      <td>1</td>\n",
              "      <td>Alabama</td>\n",
              "      <td>Autauga County</td>\n",
              "      <td>54571</td>\n",
              "      <td>54571</td>\n",
              "      <td>54660</td>\n",
              "      <td>55253</td>\n",
              "      <td>55175</td>\n",
              "      <td>55038</td>\n",
              "      <td>55290</td>\n",
              "      <td>55347</td>\n",
              "      <td>89</td>\n",
              "      <td>593</td>\n",
              "      <td>-78</td>\n",
              "      <td>-137</td>\n",
              "      <td>252</td>\n",
              "      <td>57</td>\n",
              "      <td>151</td>\n",
              "      <td>636</td>\n",
              "      <td>615</td>\n",
              "      <td>574</td>\n",
              "      <td>623</td>\n",
              "      <td>600</td>\n",
              "      <td>152</td>\n",
              "      <td>507</td>\n",
              "      <td>558</td>\n",
              "      <td>583</td>\n",
              "      <td>504</td>\n",
              "      <td>467</td>\n",
              "      <td>-1</td>\n",
              "      <td>129</td>\n",
              "      <td>57</td>\n",
              "      <td>-9</td>\n",
              "      <td>119</td>\n",
              "      <td>133</td>\n",
              "      <td>33</td>\n",
              "      <td>...</td>\n",
              "      <td>22</td>\n",
              "      <td>-10</td>\n",
              "      <td>45</td>\n",
              "      <td>455</td>\n",
              "      <td>455</td>\n",
              "      <td>455</td>\n",
              "      <td>455</td>\n",
              "      <td>455</td>\n",
              "      <td>455</td>\n",
              "      <td>455</td>\n",
              "      <td>11.572789</td>\n",
              "      <td>11.138479</td>\n",
              "      <td>10.416194</td>\n",
              "      <td>11.293597</td>\n",
              "      <td>10.846281</td>\n",
              "      <td>9.225478</td>\n",
              "      <td>10.106133</td>\n",
              "      <td>10.579514</td>\n",
              "      <td>9.136393</td>\n",
              "      <td>8.442022</td>\n",
              "      <td>2.347311</td>\n",
              "      <td>1.032347</td>\n",
              "      <td>-0.163320</td>\n",
              "      <td>2.157204</td>\n",
              "      <td>2.404259</td>\n",
              "      <td>0.363924</td>\n",
              "      <td>0.289782</td>\n",
              "      <td>0.290347</td>\n",
              "      <td>0.326300</td>\n",
              "      <td>0.343466</td>\n",
              "      <td>7.242091</td>\n",
              "      <td>-2.915927</td>\n",
              "      <td>-3.012349</td>\n",
              "      <td>2.265971</td>\n",
              "      <td>-2.530799</td>\n",
              "      <td>7.606016</td>\n",
              "      <td>-2.626146</td>\n",
              "      <td>-2.722002</td>\n",
              "      <td>2.592270</td>\n",
              "      <td>-2.187333</td>\n",
              "    </tr>\n",
              "    <tr>\n",
              "      <th>2</th>\n",
              "      <td>50</td>\n",
              "      <td>3</td>\n",
              "      <td>6</td>\n",
              "      <td>1</td>\n",
              "      <td>3</td>\n",
              "      <td>Alabama</td>\n",
              "      <td>Baldwin County</td>\n",
              "      <td>182265</td>\n",
              "      <td>182265</td>\n",
              "      <td>183193</td>\n",
              "      <td>186659</td>\n",
              "      <td>190396</td>\n",
              "      <td>195126</td>\n",
              "      <td>199713</td>\n",
              "      <td>203709</td>\n",
              "      <td>928</td>\n",
              "      <td>3466</td>\n",
              "      <td>3737</td>\n",
              "      <td>4730</td>\n",
              "      <td>4587</td>\n",
              "      <td>3996</td>\n",
              "      <td>517</td>\n",
              "      <td>2187</td>\n",
              "      <td>2092</td>\n",
              "      <td>2160</td>\n",
              "      <td>2186</td>\n",
              "      <td>2240</td>\n",
              "      <td>532</td>\n",
              "      <td>1825</td>\n",
              "      <td>1879</td>\n",
              "      <td>1902</td>\n",
              "      <td>2044</td>\n",
              "      <td>1992</td>\n",
              "      <td>-15</td>\n",
              "      <td>362</td>\n",
              "      <td>213</td>\n",
              "      <td>258</td>\n",
              "      <td>142</td>\n",
              "      <td>248</td>\n",
              "      <td>69</td>\n",
              "      <td>...</td>\n",
              "      <td>91</td>\n",
              "      <td>434</td>\n",
              "      <td>58</td>\n",
              "      <td>2307</td>\n",
              "      <td>2307</td>\n",
              "      <td>2307</td>\n",
              "      <td>2249</td>\n",
              "      <td>2304</td>\n",
              "      <td>2308</td>\n",
              "      <td>2309</td>\n",
              "      <td>11.826352</td>\n",
              "      <td>11.096524</td>\n",
              "      <td>11.205586</td>\n",
              "      <td>11.072868</td>\n",
              "      <td>11.104997</td>\n",
              "      <td>9.868812</td>\n",
              "      <td>9.966716</td>\n",
              "      <td>9.867141</td>\n",
              "      <td>10.353587</td>\n",
              "      <td>9.875515</td>\n",
              "      <td>1.957540</td>\n",
              "      <td>1.129809</td>\n",
              "      <td>1.338445</td>\n",
              "      <td>0.719281</td>\n",
              "      <td>1.229482</td>\n",
              "      <td>1.011215</td>\n",
              "      <td>0.912334</td>\n",
              "      <td>0.881921</td>\n",
              "      <td>1.073855</td>\n",
              "      <td>1.095627</td>\n",
              "      <td>14.832960</td>\n",
              "      <td>17.647293</td>\n",
              "      <td>21.845705</td>\n",
              "      <td>19.243287</td>\n",
              "      <td>17.197872</td>\n",
              "      <td>15.844176</td>\n",
              "      <td>18.559627</td>\n",
              "      <td>22.727626</td>\n",
              "      <td>20.317142</td>\n",
              "      <td>18.293499</td>\n",
              "    </tr>\n",
              "    <tr>\n",
              "      <th>3</th>\n",
              "      <td>50</td>\n",
              "      <td>3</td>\n",
              "      <td>6</td>\n",
              "      <td>1</td>\n",
              "      <td>5</td>\n",
              "      <td>Alabama</td>\n",
              "      <td>Barbour County</td>\n",
              "      <td>27457</td>\n",
              "      <td>27457</td>\n",
              "      <td>27341</td>\n",
              "      <td>27226</td>\n",
              "      <td>27159</td>\n",
              "      <td>26973</td>\n",
              "      <td>26815</td>\n",
              "      <td>26489</td>\n",
              "      <td>-116</td>\n",
              "      <td>-115</td>\n",
              "      <td>-67</td>\n",
              "      <td>-186</td>\n",
              "      <td>-158</td>\n",
              "      <td>-326</td>\n",
              "      <td>70</td>\n",
              "      <td>335</td>\n",
              "      <td>300</td>\n",
              "      <td>283</td>\n",
              "      <td>260</td>\n",
              "      <td>269</td>\n",
              "      <td>128</td>\n",
              "      <td>319</td>\n",
              "      <td>291</td>\n",
              "      <td>294</td>\n",
              "      <td>310</td>\n",
              "      <td>309</td>\n",
              "      <td>-58</td>\n",
              "      <td>16</td>\n",
              "      <td>9</td>\n",
              "      <td>-11</td>\n",
              "      <td>-50</td>\n",
              "      <td>-40</td>\n",
              "      <td>2</td>\n",
              "      <td>...</td>\n",
              "      <td>19</td>\n",
              "      <td>-1</td>\n",
              "      <td>-5</td>\n",
              "      <td>3193</td>\n",
              "      <td>3193</td>\n",
              "      <td>3382</td>\n",
              "      <td>3388</td>\n",
              "      <td>3389</td>\n",
              "      <td>3353</td>\n",
              "      <td>3352</td>\n",
              "      <td>12.278483</td>\n",
              "      <td>11.032454</td>\n",
              "      <td>10.455923</td>\n",
              "      <td>9.667584</td>\n",
              "      <td>10.093051</td>\n",
              "      <td>11.692048</td>\n",
              "      <td>10.701480</td>\n",
              "      <td>10.862337</td>\n",
              "      <td>11.526735</td>\n",
              "      <td>11.593877</td>\n",
              "      <td>0.586435</td>\n",
              "      <td>0.330974</td>\n",
              "      <td>-0.406414</td>\n",
              "      <td>-1.859151</td>\n",
              "      <td>-1.500825</td>\n",
              "      <td>-0.146609</td>\n",
              "      <td>-0.257424</td>\n",
              "      <td>-0.110840</td>\n",
              "      <td>-0.074366</td>\n",
              "      <td>0.000000</td>\n",
              "      <td>-4.728132</td>\n",
              "      <td>-2.500690</td>\n",
              "      <td>-7.056824</td>\n",
              "      <td>-3.904217</td>\n",
              "      <td>-10.543299</td>\n",
              "      <td>-4.874741</td>\n",
              "      <td>-2.758113</td>\n",
              "      <td>-7.167664</td>\n",
              "      <td>-3.978583</td>\n",
              "      <td>-10.543299</td>\n",
              "    </tr>\n",
              "    <tr>\n",
              "      <th>4</th>\n",
              "      <td>50</td>\n",
              "      <td>3</td>\n",
              "      <td>6</td>\n",
              "      <td>1</td>\n",
              "      <td>7</td>\n",
              "      <td>Alabama</td>\n",
              "      <td>Bibb County</td>\n",
              "      <td>22915</td>\n",
              "      <td>22919</td>\n",
              "      <td>22861</td>\n",
              "      <td>22733</td>\n",
              "      <td>22642</td>\n",
              "      <td>22512</td>\n",
              "      <td>22549</td>\n",
              "      <td>22583</td>\n",
              "      <td>-58</td>\n",
              "      <td>-128</td>\n",
              "      <td>-91</td>\n",
              "      <td>-130</td>\n",
              "      <td>37</td>\n",
              "      <td>34</td>\n",
              "      <td>44</td>\n",
              "      <td>266</td>\n",
              "      <td>245</td>\n",
              "      <td>259</td>\n",
              "      <td>247</td>\n",
              "      <td>253</td>\n",
              "      <td>34</td>\n",
              "      <td>278</td>\n",
              "      <td>237</td>\n",
              "      <td>281</td>\n",
              "      <td>211</td>\n",
              "      <td>223</td>\n",
              "      <td>10</td>\n",
              "      <td>-12</td>\n",
              "      <td>8</td>\n",
              "      <td>-22</td>\n",
              "      <td>36</td>\n",
              "      <td>30</td>\n",
              "      <td>2</td>\n",
              "      <td>...</td>\n",
              "      <td>14</td>\n",
              "      <td>-16</td>\n",
              "      <td>-21</td>\n",
              "      <td>2224</td>\n",
              "      <td>2224</td>\n",
              "      <td>2224</td>\n",
              "      <td>2224</td>\n",
              "      <td>2224</td>\n",
              "      <td>2233</td>\n",
              "      <td>2236</td>\n",
              "      <td>11.668202</td>\n",
              "      <td>10.798898</td>\n",
              "      <td>11.471852</td>\n",
              "      <td>10.962917</td>\n",
              "      <td>11.211557</td>\n",
              "      <td>12.194587</td>\n",
              "      <td>10.446281</td>\n",
              "      <td>12.446295</td>\n",
              "      <td>9.365083</td>\n",
              "      <td>9.882124</td>\n",
              "      <td>-0.526385</td>\n",
              "      <td>0.352617</td>\n",
              "      <td>-0.974443</td>\n",
              "      <td>1.597834</td>\n",
              "      <td>1.329434</td>\n",
              "      <td>0.438654</td>\n",
              "      <td>0.705234</td>\n",
              "      <td>0.797272</td>\n",
              "      <td>0.932070</td>\n",
              "      <td>0.930604</td>\n",
              "      <td>-5.527043</td>\n",
              "      <td>-5.068871</td>\n",
              "      <td>-6.201001</td>\n",
              "      <td>-0.177537</td>\n",
              "      <td>0.177258</td>\n",
              "      <td>-5.088389</td>\n",
              "      <td>-4.363636</td>\n",
              "      <td>-5.403729</td>\n",
              "      <td>0.754533</td>\n",
              "      <td>1.107861</td>\n",
              "    </tr>\n",
              "    <tr>\n",
              "      <th>5</th>\n",
              "      <td>50</td>\n",
              "      <td>3</td>\n",
              "      <td>6</td>\n",
              "      <td>1</td>\n",
              "      <td>9</td>\n",
              "      <td>Alabama</td>\n",
              "      <td>Blount County</td>\n",
              "      <td>57322</td>\n",
              "      <td>57322</td>\n",
              "      <td>57373</td>\n",
              "      <td>57711</td>\n",
              "      <td>57776</td>\n",
              "      <td>57734</td>\n",
              "      <td>57658</td>\n",
              "      <td>57673</td>\n",
              "      <td>51</td>\n",
              "      <td>338</td>\n",
              "      <td>65</td>\n",
              "      <td>-42</td>\n",
              "      <td>-76</td>\n",
              "      <td>15</td>\n",
              "      <td>183</td>\n",
              "      <td>744</td>\n",
              "      <td>710</td>\n",
              "      <td>646</td>\n",
              "      <td>618</td>\n",
              "      <td>603</td>\n",
              "      <td>133</td>\n",
              "      <td>570</td>\n",
              "      <td>592</td>\n",
              "      <td>585</td>\n",
              "      <td>589</td>\n",
              "      <td>590</td>\n",
              "      <td>50</td>\n",
              "      <td>174</td>\n",
              "      <td>118</td>\n",
              "      <td>61</td>\n",
              "      <td>29</td>\n",
              "      <td>13</td>\n",
              "      <td>5</td>\n",
              "      <td>...</td>\n",
              "      <td>-22</td>\n",
              "      <td>-14</td>\n",
              "      <td>53</td>\n",
              "      <td>489</td>\n",
              "      <td>489</td>\n",
              "      <td>489</td>\n",
              "      <td>489</td>\n",
              "      <td>489</td>\n",
              "      <td>489</td>\n",
              "      <td>489</td>\n",
              "      <td>12.929686</td>\n",
              "      <td>12.295756</td>\n",
              "      <td>11.185179</td>\n",
              "      <td>10.711314</td>\n",
              "      <td>10.456859</td>\n",
              "      <td>9.905808</td>\n",
              "      <td>10.252236</td>\n",
              "      <td>10.128993</td>\n",
              "      <td>10.208680</td>\n",
              "      <td>10.231421</td>\n",
              "      <td>3.023878</td>\n",
              "      <td>2.043520</td>\n",
              "      <td>1.056186</td>\n",
              "      <td>0.502634</td>\n",
              "      <td>0.225438</td>\n",
              "      <td>0.052136</td>\n",
              "      <td>0.329041</td>\n",
              "      <td>0.346290</td>\n",
              "      <td>0.485302</td>\n",
              "      <td>0.485559</td>\n",
              "      <td>1.807375</td>\n",
              "      <td>-1.177622</td>\n",
              "      <td>-1.748766</td>\n",
              "      <td>-2.062535</td>\n",
              "      <td>-1.369970</td>\n",
              "      <td>1.859511</td>\n",
              "      <td>-0.848580</td>\n",
              "      <td>-1.402476</td>\n",
              "      <td>-1.577232</td>\n",
              "      <td>-0.884411</td>\n",
              "    </tr>\n",
              "  </tbody>\n",
              "</table>\n",
              "<p>5 rows × 100 columns</p>\n",
              "</div>"
            ],
            "text/plain": [
              "   SUMLEV  REGION  DIVISION  ...  RNETMIG2013  RNETMIG2014 RNETMIG2015\n",
              "1      50       3         6  ...    -2.722002     2.592270   -2.187333\n",
              "2      50       3         6  ...    22.727626    20.317142   18.293499\n",
              "3      50       3         6  ...    -7.167664    -3.978583  -10.543299\n",
              "4      50       3         6  ...    -5.403729     0.754533    1.107861\n",
              "5      50       3         6  ...    -1.402476    -1.577232   -0.884411\n",
              "\n",
              "[5 rows x 100 columns]"
            ]
          },
          "metadata": {
            "tags": []
          },
          "execution_count": 33
        }
      ]
    },
    {
      "cell_type": "code",
      "metadata": {
        "id": "jNhAbe6mvDv-",
        "colab": {
          "base_uri": "https://localhost:8080/",
          "height": 309
        },
        "outputId": "55bd0fa4-22d3-445d-9363-078813eb3ad5"
      },
      "source": [
        "columns_to_keep = ['STNAME','CTYNAME','BIRTHS2010','BIRTHS2011','BIRTHS2012','BIRTHS2013',\n",
        "                   'BIRTHS2014','BIRTHS2015','POPESTIMATE2010','POPESTIMATE2011',\n",
        "                   'POPESTIMATE2012','POPESTIMATE2013','POPESTIMATE2014','POPESTIMATE2015']\n",
        "df = df[columns_to_keep]\n",
        "df.head()"
      ],
      "execution_count": null,
      "outputs": [
        {
          "output_type": "execute_result",
          "data": {
            "text/html": [
              "<div>\n",
              "<style scoped>\n",
              "    .dataframe tbody tr th:only-of-type {\n",
              "        vertical-align: middle;\n",
              "    }\n",
              "\n",
              "    .dataframe tbody tr th {\n",
              "        vertical-align: top;\n",
              "    }\n",
              "\n",
              "    .dataframe thead th {\n",
              "        text-align: right;\n",
              "    }\n",
              "</style>\n",
              "<table border=\"1\" class=\"dataframe\">\n",
              "  <thead>\n",
              "    <tr style=\"text-align: right;\">\n",
              "      <th></th>\n",
              "      <th>STNAME</th>\n",
              "      <th>CTYNAME</th>\n",
              "      <th>BIRTHS2010</th>\n",
              "      <th>BIRTHS2011</th>\n",
              "      <th>BIRTHS2012</th>\n",
              "      <th>BIRTHS2013</th>\n",
              "      <th>BIRTHS2014</th>\n",
              "      <th>BIRTHS2015</th>\n",
              "      <th>POPESTIMATE2010</th>\n",
              "      <th>POPESTIMATE2011</th>\n",
              "      <th>POPESTIMATE2012</th>\n",
              "      <th>POPESTIMATE2013</th>\n",
              "      <th>POPESTIMATE2014</th>\n",
              "      <th>POPESTIMATE2015</th>\n",
              "    </tr>\n",
              "  </thead>\n",
              "  <tbody>\n",
              "    <tr>\n",
              "      <th>1</th>\n",
              "      <td>Alabama</td>\n",
              "      <td>Autauga County</td>\n",
              "      <td>151</td>\n",
              "      <td>636</td>\n",
              "      <td>615</td>\n",
              "      <td>574</td>\n",
              "      <td>623</td>\n",
              "      <td>600</td>\n",
              "      <td>54660</td>\n",
              "      <td>55253</td>\n",
              "      <td>55175</td>\n",
              "      <td>55038</td>\n",
              "      <td>55290</td>\n",
              "      <td>55347</td>\n",
              "    </tr>\n",
              "    <tr>\n",
              "      <th>2</th>\n",
              "      <td>Alabama</td>\n",
              "      <td>Baldwin County</td>\n",
              "      <td>517</td>\n",
              "      <td>2187</td>\n",
              "      <td>2092</td>\n",
              "      <td>2160</td>\n",
              "      <td>2186</td>\n",
              "      <td>2240</td>\n",
              "      <td>183193</td>\n",
              "      <td>186659</td>\n",
              "      <td>190396</td>\n",
              "      <td>195126</td>\n",
              "      <td>199713</td>\n",
              "      <td>203709</td>\n",
              "    </tr>\n",
              "    <tr>\n",
              "      <th>3</th>\n",
              "      <td>Alabama</td>\n",
              "      <td>Barbour County</td>\n",
              "      <td>70</td>\n",
              "      <td>335</td>\n",
              "      <td>300</td>\n",
              "      <td>283</td>\n",
              "      <td>260</td>\n",
              "      <td>269</td>\n",
              "      <td>27341</td>\n",
              "      <td>27226</td>\n",
              "      <td>27159</td>\n",
              "      <td>26973</td>\n",
              "      <td>26815</td>\n",
              "      <td>26489</td>\n",
              "    </tr>\n",
              "    <tr>\n",
              "      <th>4</th>\n",
              "      <td>Alabama</td>\n",
              "      <td>Bibb County</td>\n",
              "      <td>44</td>\n",
              "      <td>266</td>\n",
              "      <td>245</td>\n",
              "      <td>259</td>\n",
              "      <td>247</td>\n",
              "      <td>253</td>\n",
              "      <td>22861</td>\n",
              "      <td>22733</td>\n",
              "      <td>22642</td>\n",
              "      <td>22512</td>\n",
              "      <td>22549</td>\n",
              "      <td>22583</td>\n",
              "    </tr>\n",
              "    <tr>\n",
              "      <th>5</th>\n",
              "      <td>Alabama</td>\n",
              "      <td>Blount County</td>\n",
              "      <td>183</td>\n",
              "      <td>744</td>\n",
              "      <td>710</td>\n",
              "      <td>646</td>\n",
              "      <td>618</td>\n",
              "      <td>603</td>\n",
              "      <td>57373</td>\n",
              "      <td>57711</td>\n",
              "      <td>57776</td>\n",
              "      <td>57734</td>\n",
              "      <td>57658</td>\n",
              "      <td>57673</td>\n",
              "    </tr>\n",
              "  </tbody>\n",
              "</table>\n",
              "</div>"
            ],
            "text/plain": [
              "    STNAME         CTYNAME  ...  POPESTIMATE2014  POPESTIMATE2015\n",
              "1  Alabama  Autauga County  ...            55290            55347\n",
              "2  Alabama  Baldwin County  ...           199713           203709\n",
              "3  Alabama  Barbour County  ...            26815            26489\n",
              "4  Alabama     Bibb County  ...            22549            22583\n",
              "5  Alabama   Blount County  ...            57658            57673\n",
              "\n",
              "[5 rows x 14 columns]"
            ]
          },
          "metadata": {
            "tags": []
          },
          "execution_count": 34
        }
      ]
    },
    {
      "cell_type": "code",
      "metadata": {
        "id": "xcIanrI8vHat",
        "colab": {
          "base_uri": "https://localhost:8080/",
          "height": 340
        },
        "outputId": "a6d23f98-3499-4221-baf7-c4dc20076497"
      },
      "source": [
        "#bu adımda multi indexi atıyor. yine set index kullanılıyor. ilk kolon daha geniş ikinciyi onun altında atıyor\n",
        "df = df.set_index(['STNAME', 'CTYNAME'])\n",
        "df.head()"
      ],
      "execution_count": null,
      "outputs": [
        {
          "output_type": "execute_result",
          "data": {
            "text/html": [
              "<div>\n",
              "<style scoped>\n",
              "    .dataframe tbody tr th:only-of-type {\n",
              "        vertical-align: middle;\n",
              "    }\n",
              "\n",
              "    .dataframe tbody tr th {\n",
              "        vertical-align: top;\n",
              "    }\n",
              "\n",
              "    .dataframe thead th {\n",
              "        text-align: right;\n",
              "    }\n",
              "</style>\n",
              "<table border=\"1\" class=\"dataframe\">\n",
              "  <thead>\n",
              "    <tr style=\"text-align: right;\">\n",
              "      <th></th>\n",
              "      <th></th>\n",
              "      <th>BIRTHS2010</th>\n",
              "      <th>BIRTHS2011</th>\n",
              "      <th>BIRTHS2012</th>\n",
              "      <th>BIRTHS2013</th>\n",
              "      <th>BIRTHS2014</th>\n",
              "      <th>BIRTHS2015</th>\n",
              "      <th>POPESTIMATE2010</th>\n",
              "      <th>POPESTIMATE2011</th>\n",
              "      <th>POPESTIMATE2012</th>\n",
              "      <th>POPESTIMATE2013</th>\n",
              "      <th>POPESTIMATE2014</th>\n",
              "      <th>POPESTIMATE2015</th>\n",
              "    </tr>\n",
              "    <tr>\n",
              "      <th>STNAME</th>\n",
              "      <th>CTYNAME</th>\n",
              "      <th></th>\n",
              "      <th></th>\n",
              "      <th></th>\n",
              "      <th></th>\n",
              "      <th></th>\n",
              "      <th></th>\n",
              "      <th></th>\n",
              "      <th></th>\n",
              "      <th></th>\n",
              "      <th></th>\n",
              "      <th></th>\n",
              "      <th></th>\n",
              "    </tr>\n",
              "  </thead>\n",
              "  <tbody>\n",
              "    <tr>\n",
              "      <th rowspan=\"5\" valign=\"top\">Alabama</th>\n",
              "      <th>Autauga County</th>\n",
              "      <td>151</td>\n",
              "      <td>636</td>\n",
              "      <td>615</td>\n",
              "      <td>574</td>\n",
              "      <td>623</td>\n",
              "      <td>600</td>\n",
              "      <td>54660</td>\n",
              "      <td>55253</td>\n",
              "      <td>55175</td>\n",
              "      <td>55038</td>\n",
              "      <td>55290</td>\n",
              "      <td>55347</td>\n",
              "    </tr>\n",
              "    <tr>\n",
              "      <th>Baldwin County</th>\n",
              "      <td>517</td>\n",
              "      <td>2187</td>\n",
              "      <td>2092</td>\n",
              "      <td>2160</td>\n",
              "      <td>2186</td>\n",
              "      <td>2240</td>\n",
              "      <td>183193</td>\n",
              "      <td>186659</td>\n",
              "      <td>190396</td>\n",
              "      <td>195126</td>\n",
              "      <td>199713</td>\n",
              "      <td>203709</td>\n",
              "    </tr>\n",
              "    <tr>\n",
              "      <th>Barbour County</th>\n",
              "      <td>70</td>\n",
              "      <td>335</td>\n",
              "      <td>300</td>\n",
              "      <td>283</td>\n",
              "      <td>260</td>\n",
              "      <td>269</td>\n",
              "      <td>27341</td>\n",
              "      <td>27226</td>\n",
              "      <td>27159</td>\n",
              "      <td>26973</td>\n",
              "      <td>26815</td>\n",
              "      <td>26489</td>\n",
              "    </tr>\n",
              "    <tr>\n",
              "      <th>Bibb County</th>\n",
              "      <td>44</td>\n",
              "      <td>266</td>\n",
              "      <td>245</td>\n",
              "      <td>259</td>\n",
              "      <td>247</td>\n",
              "      <td>253</td>\n",
              "      <td>22861</td>\n",
              "      <td>22733</td>\n",
              "      <td>22642</td>\n",
              "      <td>22512</td>\n",
              "      <td>22549</td>\n",
              "      <td>22583</td>\n",
              "    </tr>\n",
              "    <tr>\n",
              "      <th>Blount County</th>\n",
              "      <td>183</td>\n",
              "      <td>744</td>\n",
              "      <td>710</td>\n",
              "      <td>646</td>\n",
              "      <td>618</td>\n",
              "      <td>603</td>\n",
              "      <td>57373</td>\n",
              "      <td>57711</td>\n",
              "      <td>57776</td>\n",
              "      <td>57734</td>\n",
              "      <td>57658</td>\n",
              "      <td>57673</td>\n",
              "    </tr>\n",
              "  </tbody>\n",
              "</table>\n",
              "</div>"
            ],
            "text/plain": [
              "                        BIRTHS2010  ...  POPESTIMATE2015\n",
              "STNAME  CTYNAME                     ...                 \n",
              "Alabama Autauga County         151  ...            55347\n",
              "        Baldwin County         517  ...           203709\n",
              "        Barbour County          70  ...            26489\n",
              "        Bibb County             44  ...            22583\n",
              "        Blount County          183  ...            57673\n",
              "\n",
              "[5 rows x 12 columns]"
            ]
          },
          "metadata": {
            "tags": []
          },
          "execution_count": 35
        }
      ]
    },
    {
      "cell_type": "code",
      "metadata": {
        "id": "0kH9H8AFvTgS",
        "colab": {
          "base_uri": "https://localhost:8080/"
        },
        "outputId": "bf441a58-8adf-4f22-a931-494b6ab4fad6"
      },
      "source": [
        "df.loc['Michigan', 'Washtenaw County']"
      ],
      "execution_count": null,
      "outputs": [
        {
          "output_type": "execute_result",
          "data": {
            "text/plain": [
              "BIRTHS2010            977\n",
              "BIRTHS2011           3826\n",
              "BIRTHS2012           3780\n",
              "BIRTHS2013           3662\n",
              "BIRTHS2014           3683\n",
              "BIRTHS2015           3709\n",
              "POPESTIMATE2010    345563\n",
              "POPESTIMATE2011    349048\n",
              "POPESTIMATE2012    351213\n",
              "POPESTIMATE2013    354289\n",
              "POPESTIMATE2014    357029\n",
              "POPESTIMATE2015    358880\n",
              "Name: (Michigan, Washtenaw County), dtype: int64"
            ]
          },
          "metadata": {
            "tags": []
          },
          "execution_count": 36
        }
      ]
    },
    {
      "cell_type": "code",
      "metadata": {
        "id": "AwdEst0Lv5xV",
        "colab": {
          "base_uri": "https://localhost:8080/",
          "height": 196
        },
        "outputId": "913972e1-e393-42e8-af9d-f67a8ed1ee13"
      },
      "source": [
        "df.loc[ [('Michigan', 'Washtenaw County'),\n",
        "         ('Michigan', 'Wayne County')] ]"
      ],
      "execution_count": null,
      "outputs": [
        {
          "output_type": "execute_result",
          "data": {
            "text/html": [
              "<div>\n",
              "<style scoped>\n",
              "    .dataframe tbody tr th:only-of-type {\n",
              "        vertical-align: middle;\n",
              "    }\n",
              "\n",
              "    .dataframe tbody tr th {\n",
              "        vertical-align: top;\n",
              "    }\n",
              "\n",
              "    .dataframe thead th {\n",
              "        text-align: right;\n",
              "    }\n",
              "</style>\n",
              "<table border=\"1\" class=\"dataframe\">\n",
              "  <thead>\n",
              "    <tr style=\"text-align: right;\">\n",
              "      <th></th>\n",
              "      <th></th>\n",
              "      <th>BIRTHS2010</th>\n",
              "      <th>BIRTHS2011</th>\n",
              "      <th>BIRTHS2012</th>\n",
              "      <th>BIRTHS2013</th>\n",
              "      <th>BIRTHS2014</th>\n",
              "      <th>BIRTHS2015</th>\n",
              "      <th>POPESTIMATE2010</th>\n",
              "      <th>POPESTIMATE2011</th>\n",
              "      <th>POPESTIMATE2012</th>\n",
              "      <th>POPESTIMATE2013</th>\n",
              "      <th>POPESTIMATE2014</th>\n",
              "      <th>POPESTIMATE2015</th>\n",
              "    </tr>\n",
              "    <tr>\n",
              "      <th>STNAME</th>\n",
              "      <th>CTYNAME</th>\n",
              "      <th></th>\n",
              "      <th></th>\n",
              "      <th></th>\n",
              "      <th></th>\n",
              "      <th></th>\n",
              "      <th></th>\n",
              "      <th></th>\n",
              "      <th></th>\n",
              "      <th></th>\n",
              "      <th></th>\n",
              "      <th></th>\n",
              "      <th></th>\n",
              "    </tr>\n",
              "  </thead>\n",
              "  <tbody>\n",
              "    <tr>\n",
              "      <th rowspan=\"2\" valign=\"top\">Michigan</th>\n",
              "      <th>Washtenaw County</th>\n",
              "      <td>977</td>\n",
              "      <td>3826</td>\n",
              "      <td>3780</td>\n",
              "      <td>3662</td>\n",
              "      <td>3683</td>\n",
              "      <td>3709</td>\n",
              "      <td>345563</td>\n",
              "      <td>349048</td>\n",
              "      <td>351213</td>\n",
              "      <td>354289</td>\n",
              "      <td>357029</td>\n",
              "      <td>358880</td>\n",
              "    </tr>\n",
              "    <tr>\n",
              "      <th>Wayne County</th>\n",
              "      <td>5918</td>\n",
              "      <td>23819</td>\n",
              "      <td>23270</td>\n",
              "      <td>23377</td>\n",
              "      <td>23607</td>\n",
              "      <td>23586</td>\n",
              "      <td>1815199</td>\n",
              "      <td>1801273</td>\n",
              "      <td>1792514</td>\n",
              "      <td>1775713</td>\n",
              "      <td>1766008</td>\n",
              "      <td>1759335</td>\n",
              "    </tr>\n",
              "  </tbody>\n",
              "</table>\n",
              "</div>"
            ],
            "text/plain": [
              "                           BIRTHS2010  ...  POPESTIMATE2015\n",
              "STNAME   CTYNAME                       ...                 \n",
              "Michigan Washtenaw County         977  ...           358880\n",
              "         Wayne County            5918  ...          1759335\n",
              "\n",
              "[2 rows x 12 columns]"
            ]
          },
          "metadata": {
            "tags": []
          },
          "execution_count": 37
        }
      ]
    },
    {
      "cell_type": "markdown",
      "metadata": {
        "id": "ycn0SbxU0Tht"
      },
      "source": [
        "### MISSING VALUE\n",
        "\n",
        "pandas hem None hem de np.nan'ı missing olarak alır. ayrıca sum, mean gibi fonksiyonlarda null'ları dikkate almaz hem None hem de np.nan\n"
      ]
    },
    {
      "cell_type": "code",
      "metadata": {
        "id": "SwTGikNZ2esS"
      },
      "source": [
        "import pandas as pd\n",
        "data_path='gdrive/My Drive/ds/data/trial'"
      ],
      "execution_count": null,
      "outputs": []
    },
    {
      "cell_type": "code",
      "metadata": {
        "id": "gS7ePCnA2esU",
        "colab": {
          "base_uri": "https://localhost:8080/",
          "height": 359
        },
        "outputId": "5aff41f1-f13c-48d6-9f4a-0a5f5260c8e6"
      },
      "source": [
        "df = pd.read_csv(data_path+\"/class_grades.csv\")\n",
        "df.head(10)"
      ],
      "execution_count": null,
      "outputs": [
        {
          "output_type": "execute_result",
          "data": {
            "text/html": [
              "<div>\n",
              "<style scoped>\n",
              "    .dataframe tbody tr th:only-of-type {\n",
              "        vertical-align: middle;\n",
              "    }\n",
              "\n",
              "    .dataframe tbody tr th {\n",
              "        vertical-align: top;\n",
              "    }\n",
              "\n",
              "    .dataframe thead th {\n",
              "        text-align: right;\n",
              "    }\n",
              "</style>\n",
              "<table border=\"1\" class=\"dataframe\">\n",
              "  <thead>\n",
              "    <tr style=\"text-align: right;\">\n",
              "      <th></th>\n",
              "      <th>Prefix</th>\n",
              "      <th>Assignment</th>\n",
              "      <th>Tutorial</th>\n",
              "      <th>Midterm</th>\n",
              "      <th>TakeHome</th>\n",
              "      <th>Final</th>\n",
              "    </tr>\n",
              "  </thead>\n",
              "  <tbody>\n",
              "    <tr>\n",
              "      <th>0</th>\n",
              "      <td>5</td>\n",
              "      <td>57.14</td>\n",
              "      <td>34.09</td>\n",
              "      <td>64.38</td>\n",
              "      <td>51.48</td>\n",
              "      <td>52.50</td>\n",
              "    </tr>\n",
              "    <tr>\n",
              "      <th>1</th>\n",
              "      <td>8</td>\n",
              "      <td>95.05</td>\n",
              "      <td>105.49</td>\n",
              "      <td>67.50</td>\n",
              "      <td>99.07</td>\n",
              "      <td>68.33</td>\n",
              "    </tr>\n",
              "    <tr>\n",
              "      <th>2</th>\n",
              "      <td>8</td>\n",
              "      <td>83.70</td>\n",
              "      <td>83.17</td>\n",
              "      <td>NaN</td>\n",
              "      <td>63.15</td>\n",
              "      <td>48.89</td>\n",
              "    </tr>\n",
              "    <tr>\n",
              "      <th>3</th>\n",
              "      <td>7</td>\n",
              "      <td>NaN</td>\n",
              "      <td>NaN</td>\n",
              "      <td>49.38</td>\n",
              "      <td>105.93</td>\n",
              "      <td>80.56</td>\n",
              "    </tr>\n",
              "    <tr>\n",
              "      <th>4</th>\n",
              "      <td>8</td>\n",
              "      <td>91.32</td>\n",
              "      <td>93.64</td>\n",
              "      <td>95.00</td>\n",
              "      <td>107.41</td>\n",
              "      <td>73.89</td>\n",
              "    </tr>\n",
              "    <tr>\n",
              "      <th>5</th>\n",
              "      <td>7</td>\n",
              "      <td>95.00</td>\n",
              "      <td>92.58</td>\n",
              "      <td>93.12</td>\n",
              "      <td>97.78</td>\n",
              "      <td>68.06</td>\n",
              "    </tr>\n",
              "    <tr>\n",
              "      <th>6</th>\n",
              "      <td>8</td>\n",
              "      <td>95.05</td>\n",
              "      <td>102.99</td>\n",
              "      <td>56.25</td>\n",
              "      <td>99.07</td>\n",
              "      <td>50.00</td>\n",
              "    </tr>\n",
              "    <tr>\n",
              "      <th>7</th>\n",
              "      <td>7</td>\n",
              "      <td>72.85</td>\n",
              "      <td>86.85</td>\n",
              "      <td>60.00</td>\n",
              "      <td>NaN</td>\n",
              "      <td>56.11</td>\n",
              "    </tr>\n",
              "    <tr>\n",
              "      <th>8</th>\n",
              "      <td>8</td>\n",
              "      <td>84.26</td>\n",
              "      <td>93.10</td>\n",
              "      <td>47.50</td>\n",
              "      <td>18.52</td>\n",
              "      <td>50.83</td>\n",
              "    </tr>\n",
              "    <tr>\n",
              "      <th>9</th>\n",
              "      <td>7</td>\n",
              "      <td>90.10</td>\n",
              "      <td>97.55</td>\n",
              "      <td>51.25</td>\n",
              "      <td>88.89</td>\n",
              "      <td>63.61</td>\n",
              "    </tr>\n",
              "  </tbody>\n",
              "</table>\n",
              "</div>"
            ],
            "text/plain": [
              "   Prefix  Assignment  Tutorial  Midterm  TakeHome  Final\n",
              "0       5       57.14     34.09    64.38     51.48  52.50\n",
              "1       8       95.05    105.49    67.50     99.07  68.33\n",
              "2       8       83.70     83.17      NaN     63.15  48.89\n",
              "3       7         NaN       NaN    49.38    105.93  80.56\n",
              "4       8       91.32     93.64    95.00    107.41  73.89\n",
              "5       7       95.00     92.58    93.12     97.78  68.06\n",
              "6       8       95.05    102.99    56.25     99.07  50.00\n",
              "7       7       72.85     86.85    60.00       NaN  56.11\n",
              "8       8       84.26     93.10    47.50     18.52  50.83\n",
              "9       7       90.10     97.55    51.25     88.89  63.61"
            ]
          },
          "metadata": {
            "tags": []
          },
          "execution_count": 50
        }
      ]
    },
    {
      "cell_type": "code",
      "metadata": {
        "id": "AeEkpKgxv8g1",
        "colab": {
          "base_uri": "https://localhost:8080/",
          "height": 359
        },
        "outputId": "75c9144e-7e4c-4375-ae3e-bb61b6266466"
      },
      "source": [
        "mask=df.isnull()\n",
        "mask.head(10)"
      ],
      "execution_count": null,
      "outputs": [
        {
          "output_type": "execute_result",
          "data": {
            "text/html": [
              "<div>\n",
              "<style scoped>\n",
              "    .dataframe tbody tr th:only-of-type {\n",
              "        vertical-align: middle;\n",
              "    }\n",
              "\n",
              "    .dataframe tbody tr th {\n",
              "        vertical-align: top;\n",
              "    }\n",
              "\n",
              "    .dataframe thead th {\n",
              "        text-align: right;\n",
              "    }\n",
              "</style>\n",
              "<table border=\"1\" class=\"dataframe\">\n",
              "  <thead>\n",
              "    <tr style=\"text-align: right;\">\n",
              "      <th></th>\n",
              "      <th>Prefix</th>\n",
              "      <th>Assignment</th>\n",
              "      <th>Tutorial</th>\n",
              "      <th>Midterm</th>\n",
              "      <th>TakeHome</th>\n",
              "      <th>Final</th>\n",
              "    </tr>\n",
              "  </thead>\n",
              "  <tbody>\n",
              "    <tr>\n",
              "      <th>0</th>\n",
              "      <td>False</td>\n",
              "      <td>False</td>\n",
              "      <td>False</td>\n",
              "      <td>False</td>\n",
              "      <td>False</td>\n",
              "      <td>False</td>\n",
              "    </tr>\n",
              "    <tr>\n",
              "      <th>1</th>\n",
              "      <td>False</td>\n",
              "      <td>False</td>\n",
              "      <td>False</td>\n",
              "      <td>False</td>\n",
              "      <td>False</td>\n",
              "      <td>False</td>\n",
              "    </tr>\n",
              "    <tr>\n",
              "      <th>2</th>\n",
              "      <td>False</td>\n",
              "      <td>False</td>\n",
              "      <td>False</td>\n",
              "      <td>True</td>\n",
              "      <td>False</td>\n",
              "      <td>False</td>\n",
              "    </tr>\n",
              "    <tr>\n",
              "      <th>3</th>\n",
              "      <td>False</td>\n",
              "      <td>True</td>\n",
              "      <td>True</td>\n",
              "      <td>False</td>\n",
              "      <td>False</td>\n",
              "      <td>False</td>\n",
              "    </tr>\n",
              "    <tr>\n",
              "      <th>4</th>\n",
              "      <td>False</td>\n",
              "      <td>False</td>\n",
              "      <td>False</td>\n",
              "      <td>False</td>\n",
              "      <td>False</td>\n",
              "      <td>False</td>\n",
              "    </tr>\n",
              "    <tr>\n",
              "      <th>5</th>\n",
              "      <td>False</td>\n",
              "      <td>False</td>\n",
              "      <td>False</td>\n",
              "      <td>False</td>\n",
              "      <td>False</td>\n",
              "      <td>False</td>\n",
              "    </tr>\n",
              "    <tr>\n",
              "      <th>6</th>\n",
              "      <td>False</td>\n",
              "      <td>False</td>\n",
              "      <td>False</td>\n",
              "      <td>False</td>\n",
              "      <td>False</td>\n",
              "      <td>False</td>\n",
              "    </tr>\n",
              "    <tr>\n",
              "      <th>7</th>\n",
              "      <td>False</td>\n",
              "      <td>False</td>\n",
              "      <td>False</td>\n",
              "      <td>False</td>\n",
              "      <td>True</td>\n",
              "      <td>False</td>\n",
              "    </tr>\n",
              "    <tr>\n",
              "      <th>8</th>\n",
              "      <td>False</td>\n",
              "      <td>False</td>\n",
              "      <td>False</td>\n",
              "      <td>False</td>\n",
              "      <td>False</td>\n",
              "      <td>False</td>\n",
              "    </tr>\n",
              "    <tr>\n",
              "      <th>9</th>\n",
              "      <td>False</td>\n",
              "      <td>False</td>\n",
              "      <td>False</td>\n",
              "      <td>False</td>\n",
              "      <td>False</td>\n",
              "      <td>False</td>\n",
              "    </tr>\n",
              "  </tbody>\n",
              "</table>\n",
              "</div>"
            ],
            "text/plain": [
              "   Prefix  Assignment  Tutorial  Midterm  TakeHome  Final\n",
              "0   False       False     False    False     False  False\n",
              "1   False       False     False    False     False  False\n",
              "2   False       False     False     True     False  False\n",
              "3   False        True      True    False     False  False\n",
              "4   False       False     False    False     False  False\n",
              "5   False       False     False    False     False  False\n",
              "6   False       False     False    False     False  False\n",
              "7   False       False     False    False      True  False\n",
              "8   False       False     False    False     False  False\n",
              "9   False       False     False    False     False  False"
            ]
          },
          "metadata": {
            "tags": []
          },
          "execution_count": 51
        }
      ]
    },
    {
      "cell_type": "code",
      "metadata": {
        "id": "iP3H9_yb3AYx",
        "colab": {
          "base_uri": "https://localhost:8080/",
          "height": 359
        },
        "outputId": "cd344935-c075-40b5-cbf5-cfa4bc229ba5"
      },
      "source": [
        "# herhangi bir sahası null olan tüm satırları drop eder.Inplace yazılmadığı için orjinali bozulmaz\n",
        "df.dropna().head(10)"
      ],
      "execution_count": null,
      "outputs": [
        {
          "output_type": "execute_result",
          "data": {
            "text/html": [
              "<div>\n",
              "<style scoped>\n",
              "    .dataframe tbody tr th:only-of-type {\n",
              "        vertical-align: middle;\n",
              "    }\n",
              "\n",
              "    .dataframe tbody tr th {\n",
              "        vertical-align: top;\n",
              "    }\n",
              "\n",
              "    .dataframe thead th {\n",
              "        text-align: right;\n",
              "    }\n",
              "</style>\n",
              "<table border=\"1\" class=\"dataframe\">\n",
              "  <thead>\n",
              "    <tr style=\"text-align: right;\">\n",
              "      <th></th>\n",
              "      <th>Prefix</th>\n",
              "      <th>Assignment</th>\n",
              "      <th>Tutorial</th>\n",
              "      <th>Midterm</th>\n",
              "      <th>TakeHome</th>\n",
              "      <th>Final</th>\n",
              "    </tr>\n",
              "  </thead>\n",
              "  <tbody>\n",
              "    <tr>\n",
              "      <th>0</th>\n",
              "      <td>5</td>\n",
              "      <td>57.14</td>\n",
              "      <td>34.09</td>\n",
              "      <td>64.38</td>\n",
              "      <td>51.48</td>\n",
              "      <td>52.50</td>\n",
              "    </tr>\n",
              "    <tr>\n",
              "      <th>1</th>\n",
              "      <td>8</td>\n",
              "      <td>95.05</td>\n",
              "      <td>105.49</td>\n",
              "      <td>67.50</td>\n",
              "      <td>99.07</td>\n",
              "      <td>68.33</td>\n",
              "    </tr>\n",
              "    <tr>\n",
              "      <th>4</th>\n",
              "      <td>8</td>\n",
              "      <td>91.32</td>\n",
              "      <td>93.64</td>\n",
              "      <td>95.00</td>\n",
              "      <td>107.41</td>\n",
              "      <td>73.89</td>\n",
              "    </tr>\n",
              "    <tr>\n",
              "      <th>5</th>\n",
              "      <td>7</td>\n",
              "      <td>95.00</td>\n",
              "      <td>92.58</td>\n",
              "      <td>93.12</td>\n",
              "      <td>97.78</td>\n",
              "      <td>68.06</td>\n",
              "    </tr>\n",
              "    <tr>\n",
              "      <th>6</th>\n",
              "      <td>8</td>\n",
              "      <td>95.05</td>\n",
              "      <td>102.99</td>\n",
              "      <td>56.25</td>\n",
              "      <td>99.07</td>\n",
              "      <td>50.00</td>\n",
              "    </tr>\n",
              "    <tr>\n",
              "      <th>8</th>\n",
              "      <td>8</td>\n",
              "      <td>84.26</td>\n",
              "      <td>93.10</td>\n",
              "      <td>47.50</td>\n",
              "      <td>18.52</td>\n",
              "      <td>50.83</td>\n",
              "    </tr>\n",
              "    <tr>\n",
              "      <th>9</th>\n",
              "      <td>7</td>\n",
              "      <td>90.10</td>\n",
              "      <td>97.55</td>\n",
              "      <td>51.25</td>\n",
              "      <td>88.89</td>\n",
              "      <td>63.61</td>\n",
              "    </tr>\n",
              "    <tr>\n",
              "      <th>10</th>\n",
              "      <td>7</td>\n",
              "      <td>80.44</td>\n",
              "      <td>90.20</td>\n",
              "      <td>75.00</td>\n",
              "      <td>91.48</td>\n",
              "      <td>39.72</td>\n",
              "    </tr>\n",
              "    <tr>\n",
              "      <th>12</th>\n",
              "      <td>8</td>\n",
              "      <td>97.16</td>\n",
              "      <td>103.71</td>\n",
              "      <td>72.50</td>\n",
              "      <td>93.52</td>\n",
              "      <td>63.33</td>\n",
              "    </tr>\n",
              "    <tr>\n",
              "      <th>13</th>\n",
              "      <td>7</td>\n",
              "      <td>91.28</td>\n",
              "      <td>83.53</td>\n",
              "      <td>81.25</td>\n",
              "      <td>99.81</td>\n",
              "      <td>92.22</td>\n",
              "    </tr>\n",
              "  </tbody>\n",
              "</table>\n",
              "</div>"
            ],
            "text/plain": [
              "    Prefix  Assignment  Tutorial  Midterm  TakeHome  Final\n",
              "0        5       57.14     34.09    64.38     51.48  52.50\n",
              "1        8       95.05    105.49    67.50     99.07  68.33\n",
              "4        8       91.32     93.64    95.00    107.41  73.89\n",
              "5        7       95.00     92.58    93.12     97.78  68.06\n",
              "6        8       95.05    102.99    56.25     99.07  50.00\n",
              "8        8       84.26     93.10    47.50     18.52  50.83\n",
              "9        7       90.10     97.55    51.25     88.89  63.61\n",
              "10       7       80.44     90.20    75.00     91.48  39.72\n",
              "12       8       97.16    103.71    72.50     93.52  63.33\n",
              "13       7       91.28     83.53    81.25     99.81  92.22"
            ]
          },
          "metadata": {
            "tags": []
          },
          "execution_count": 52
        }
      ]
    },
    {
      "cell_type": "code",
      "metadata": {
        "id": "D6BdrF5n3O5r",
        "colab": {
          "base_uri": "https://localhost:8080/",
          "height": 359
        },
        "outputId": "45a76065-b553-4d59-d853-542967a1151f"
      },
      "source": [
        "#tüm null değerleri 0ile doldurur\n",
        "df.fillna(0, inplace=True)\n",
        "df.head(10)"
      ],
      "execution_count": null,
      "outputs": [
        {
          "output_type": "execute_result",
          "data": {
            "text/html": [
              "<div>\n",
              "<style scoped>\n",
              "    .dataframe tbody tr th:only-of-type {\n",
              "        vertical-align: middle;\n",
              "    }\n",
              "\n",
              "    .dataframe tbody tr th {\n",
              "        vertical-align: top;\n",
              "    }\n",
              "\n",
              "    .dataframe thead th {\n",
              "        text-align: right;\n",
              "    }\n",
              "</style>\n",
              "<table border=\"1\" class=\"dataframe\">\n",
              "  <thead>\n",
              "    <tr style=\"text-align: right;\">\n",
              "      <th></th>\n",
              "      <th>Prefix</th>\n",
              "      <th>Assignment</th>\n",
              "      <th>Tutorial</th>\n",
              "      <th>Midterm</th>\n",
              "      <th>TakeHome</th>\n",
              "      <th>Final</th>\n",
              "    </tr>\n",
              "  </thead>\n",
              "  <tbody>\n",
              "    <tr>\n",
              "      <th>0</th>\n",
              "      <td>5</td>\n",
              "      <td>57.14</td>\n",
              "      <td>34.09</td>\n",
              "      <td>64.38</td>\n",
              "      <td>51.48</td>\n",
              "      <td>52.50</td>\n",
              "    </tr>\n",
              "    <tr>\n",
              "      <th>1</th>\n",
              "      <td>8</td>\n",
              "      <td>95.05</td>\n",
              "      <td>105.49</td>\n",
              "      <td>67.50</td>\n",
              "      <td>99.07</td>\n",
              "      <td>68.33</td>\n",
              "    </tr>\n",
              "    <tr>\n",
              "      <th>2</th>\n",
              "      <td>8</td>\n",
              "      <td>83.70</td>\n",
              "      <td>83.17</td>\n",
              "      <td>0.00</td>\n",
              "      <td>63.15</td>\n",
              "      <td>48.89</td>\n",
              "    </tr>\n",
              "    <tr>\n",
              "      <th>3</th>\n",
              "      <td>7</td>\n",
              "      <td>0.00</td>\n",
              "      <td>0.00</td>\n",
              "      <td>49.38</td>\n",
              "      <td>105.93</td>\n",
              "      <td>80.56</td>\n",
              "    </tr>\n",
              "    <tr>\n",
              "      <th>4</th>\n",
              "      <td>8</td>\n",
              "      <td>91.32</td>\n",
              "      <td>93.64</td>\n",
              "      <td>95.00</td>\n",
              "      <td>107.41</td>\n",
              "      <td>73.89</td>\n",
              "    </tr>\n",
              "    <tr>\n",
              "      <th>5</th>\n",
              "      <td>7</td>\n",
              "      <td>95.00</td>\n",
              "      <td>92.58</td>\n",
              "      <td>93.12</td>\n",
              "      <td>97.78</td>\n",
              "      <td>68.06</td>\n",
              "    </tr>\n",
              "    <tr>\n",
              "      <th>6</th>\n",
              "      <td>8</td>\n",
              "      <td>95.05</td>\n",
              "      <td>102.99</td>\n",
              "      <td>56.25</td>\n",
              "      <td>99.07</td>\n",
              "      <td>50.00</td>\n",
              "    </tr>\n",
              "    <tr>\n",
              "      <th>7</th>\n",
              "      <td>7</td>\n",
              "      <td>72.85</td>\n",
              "      <td>86.85</td>\n",
              "      <td>60.00</td>\n",
              "      <td>0.00</td>\n",
              "      <td>56.11</td>\n",
              "    </tr>\n",
              "    <tr>\n",
              "      <th>8</th>\n",
              "      <td>8</td>\n",
              "      <td>84.26</td>\n",
              "      <td>93.10</td>\n",
              "      <td>47.50</td>\n",
              "      <td>18.52</td>\n",
              "      <td>50.83</td>\n",
              "    </tr>\n",
              "    <tr>\n",
              "      <th>9</th>\n",
              "      <td>7</td>\n",
              "      <td>90.10</td>\n",
              "      <td>97.55</td>\n",
              "      <td>51.25</td>\n",
              "      <td>88.89</td>\n",
              "      <td>63.61</td>\n",
              "    </tr>\n",
              "  </tbody>\n",
              "</table>\n",
              "</div>"
            ],
            "text/plain": [
              "   Prefix  Assignment  Tutorial  Midterm  TakeHome  Final\n",
              "0       5       57.14     34.09    64.38     51.48  52.50\n",
              "1       8       95.05    105.49    67.50     99.07  68.33\n",
              "2       8       83.70     83.17     0.00     63.15  48.89\n",
              "3       7        0.00      0.00    49.38    105.93  80.56\n",
              "4       8       91.32     93.64    95.00    107.41  73.89\n",
              "5       7       95.00     92.58    93.12     97.78  68.06\n",
              "6       8       95.05    102.99    56.25     99.07  50.00\n",
              "7       7       72.85     86.85    60.00      0.00  56.11\n",
              "8       8       84.26     93.10    47.50     18.52  50.83\n",
              "9       7       90.10     97.55    51.25     88.89  63.61"
            ]
          },
          "metadata": {
            "tags": []
          },
          "execution_count": 53
        }
      ]
    },
    {
      "cell_type": "code",
      "metadata": {
        "id": "I8QSXm-W3kuI",
        "colab": {
          "base_uri": "https://localhost:8080/",
          "height": 669
        },
        "outputId": "d353070a-ebe6-4063-9b8a-450c353d9e41"
      },
      "source": [
        "df = pd.read_csv(data_path+\"/log.csv\")\n",
        "df.head(20)"
      ],
      "execution_count": null,
      "outputs": [
        {
          "output_type": "execute_result",
          "data": {
            "text/html": [
              "<div>\n",
              "<style scoped>\n",
              "    .dataframe tbody tr th:only-of-type {\n",
              "        vertical-align: middle;\n",
              "    }\n",
              "\n",
              "    .dataframe tbody tr th {\n",
              "        vertical-align: top;\n",
              "    }\n",
              "\n",
              "    .dataframe thead th {\n",
              "        text-align: right;\n",
              "    }\n",
              "</style>\n",
              "<table border=\"1\" class=\"dataframe\">\n",
              "  <thead>\n",
              "    <tr style=\"text-align: right;\">\n",
              "      <th></th>\n",
              "      <th>time</th>\n",
              "      <th>user</th>\n",
              "      <th>video</th>\n",
              "      <th>playback position</th>\n",
              "      <th>paused</th>\n",
              "      <th>volume</th>\n",
              "    </tr>\n",
              "  </thead>\n",
              "  <tbody>\n",
              "    <tr>\n",
              "      <th>0</th>\n",
              "      <td>1469974424</td>\n",
              "      <td>cheryl</td>\n",
              "      <td>intro.html</td>\n",
              "      <td>5</td>\n",
              "      <td>False</td>\n",
              "      <td>10.0</td>\n",
              "    </tr>\n",
              "    <tr>\n",
              "      <th>1</th>\n",
              "      <td>1469974454</td>\n",
              "      <td>cheryl</td>\n",
              "      <td>intro.html</td>\n",
              "      <td>6</td>\n",
              "      <td>NaN</td>\n",
              "      <td>NaN</td>\n",
              "    </tr>\n",
              "    <tr>\n",
              "      <th>2</th>\n",
              "      <td>1469974544</td>\n",
              "      <td>cheryl</td>\n",
              "      <td>intro.html</td>\n",
              "      <td>9</td>\n",
              "      <td>NaN</td>\n",
              "      <td>NaN</td>\n",
              "    </tr>\n",
              "    <tr>\n",
              "      <th>3</th>\n",
              "      <td>1469974574</td>\n",
              "      <td>cheryl</td>\n",
              "      <td>intro.html</td>\n",
              "      <td>10</td>\n",
              "      <td>NaN</td>\n",
              "      <td>NaN</td>\n",
              "    </tr>\n",
              "    <tr>\n",
              "      <th>4</th>\n",
              "      <td>1469977514</td>\n",
              "      <td>bob</td>\n",
              "      <td>intro.html</td>\n",
              "      <td>1</td>\n",
              "      <td>NaN</td>\n",
              "      <td>NaN</td>\n",
              "    </tr>\n",
              "    <tr>\n",
              "      <th>5</th>\n",
              "      <td>1469977544</td>\n",
              "      <td>bob</td>\n",
              "      <td>intro.html</td>\n",
              "      <td>1</td>\n",
              "      <td>NaN</td>\n",
              "      <td>NaN</td>\n",
              "    </tr>\n",
              "    <tr>\n",
              "      <th>6</th>\n",
              "      <td>1469977574</td>\n",
              "      <td>bob</td>\n",
              "      <td>intro.html</td>\n",
              "      <td>1</td>\n",
              "      <td>NaN</td>\n",
              "      <td>NaN</td>\n",
              "    </tr>\n",
              "    <tr>\n",
              "      <th>7</th>\n",
              "      <td>1469977604</td>\n",
              "      <td>bob</td>\n",
              "      <td>intro.html</td>\n",
              "      <td>1</td>\n",
              "      <td>NaN</td>\n",
              "      <td>NaN</td>\n",
              "    </tr>\n",
              "    <tr>\n",
              "      <th>8</th>\n",
              "      <td>1469974604</td>\n",
              "      <td>cheryl</td>\n",
              "      <td>intro.html</td>\n",
              "      <td>11</td>\n",
              "      <td>NaN</td>\n",
              "      <td>NaN</td>\n",
              "    </tr>\n",
              "    <tr>\n",
              "      <th>9</th>\n",
              "      <td>1469974694</td>\n",
              "      <td>cheryl</td>\n",
              "      <td>intro.html</td>\n",
              "      <td>14</td>\n",
              "      <td>NaN</td>\n",
              "      <td>NaN</td>\n",
              "    </tr>\n",
              "    <tr>\n",
              "      <th>10</th>\n",
              "      <td>1469974724</td>\n",
              "      <td>cheryl</td>\n",
              "      <td>intro.html</td>\n",
              "      <td>15</td>\n",
              "      <td>NaN</td>\n",
              "      <td>NaN</td>\n",
              "    </tr>\n",
              "    <tr>\n",
              "      <th>11</th>\n",
              "      <td>1469974454</td>\n",
              "      <td>sue</td>\n",
              "      <td>advanced.html</td>\n",
              "      <td>24</td>\n",
              "      <td>NaN</td>\n",
              "      <td>NaN</td>\n",
              "    </tr>\n",
              "    <tr>\n",
              "      <th>12</th>\n",
              "      <td>1469974524</td>\n",
              "      <td>sue</td>\n",
              "      <td>advanced.html</td>\n",
              "      <td>25</td>\n",
              "      <td>NaN</td>\n",
              "      <td>NaN</td>\n",
              "    </tr>\n",
              "    <tr>\n",
              "      <th>13</th>\n",
              "      <td>1469974424</td>\n",
              "      <td>sue</td>\n",
              "      <td>advanced.html</td>\n",
              "      <td>23</td>\n",
              "      <td>False</td>\n",
              "      <td>10.0</td>\n",
              "    </tr>\n",
              "    <tr>\n",
              "      <th>14</th>\n",
              "      <td>1469974554</td>\n",
              "      <td>sue</td>\n",
              "      <td>advanced.html</td>\n",
              "      <td>26</td>\n",
              "      <td>NaN</td>\n",
              "      <td>NaN</td>\n",
              "    </tr>\n",
              "    <tr>\n",
              "      <th>15</th>\n",
              "      <td>1469974624</td>\n",
              "      <td>sue</td>\n",
              "      <td>advanced.html</td>\n",
              "      <td>27</td>\n",
              "      <td>NaN</td>\n",
              "      <td>NaN</td>\n",
              "    </tr>\n",
              "    <tr>\n",
              "      <th>16</th>\n",
              "      <td>1469974654</td>\n",
              "      <td>sue</td>\n",
              "      <td>advanced.html</td>\n",
              "      <td>28</td>\n",
              "      <td>NaN</td>\n",
              "      <td>5.0</td>\n",
              "    </tr>\n",
              "    <tr>\n",
              "      <th>17</th>\n",
              "      <td>1469974724</td>\n",
              "      <td>sue</td>\n",
              "      <td>advanced.html</td>\n",
              "      <td>29</td>\n",
              "      <td>NaN</td>\n",
              "      <td>NaN</td>\n",
              "    </tr>\n",
              "    <tr>\n",
              "      <th>18</th>\n",
              "      <td>1469974484</td>\n",
              "      <td>cheryl</td>\n",
              "      <td>intro.html</td>\n",
              "      <td>7</td>\n",
              "      <td>NaN</td>\n",
              "      <td>NaN</td>\n",
              "    </tr>\n",
              "    <tr>\n",
              "      <th>19</th>\n",
              "      <td>1469974514</td>\n",
              "      <td>cheryl</td>\n",
              "      <td>intro.html</td>\n",
              "      <td>8</td>\n",
              "      <td>NaN</td>\n",
              "      <td>NaN</td>\n",
              "    </tr>\n",
              "  </tbody>\n",
              "</table>\n",
              "</div>"
            ],
            "text/plain": [
              "          time    user          video  playback position paused  volume\n",
              "0   1469974424  cheryl     intro.html                  5  False    10.0\n",
              "1   1469974454  cheryl     intro.html                  6    NaN     NaN\n",
              "2   1469974544  cheryl     intro.html                  9    NaN     NaN\n",
              "3   1469974574  cheryl     intro.html                 10    NaN     NaN\n",
              "4   1469977514     bob     intro.html                  1    NaN     NaN\n",
              "5   1469977544     bob     intro.html                  1    NaN     NaN\n",
              "6   1469977574     bob     intro.html                  1    NaN     NaN\n",
              "7   1469977604     bob     intro.html                  1    NaN     NaN\n",
              "8   1469974604  cheryl     intro.html                 11    NaN     NaN\n",
              "9   1469974694  cheryl     intro.html                 14    NaN     NaN\n",
              "10  1469974724  cheryl     intro.html                 15    NaN     NaN\n",
              "11  1469974454     sue  advanced.html                 24    NaN     NaN\n",
              "12  1469974524     sue  advanced.html                 25    NaN     NaN\n",
              "13  1469974424     sue  advanced.html                 23  False    10.0\n",
              "14  1469974554     sue  advanced.html                 26    NaN     NaN\n",
              "15  1469974624     sue  advanced.html                 27    NaN     NaN\n",
              "16  1469974654     sue  advanced.html                 28    NaN     5.0\n",
              "17  1469974724     sue  advanced.html                 29    NaN     NaN\n",
              "18  1469974484  cheryl     intro.html                  7    NaN     NaN\n",
              "19  1469974514  cheryl     intro.html                  8    NaN     NaN"
            ]
          },
          "metadata": {
            "tags": []
          },
          "execution_count": 54
        }
      ]
    },
    {
      "cell_type": "code",
      "metadata": {
        "id": "xLImWPVG4Q__",
        "colab": {
          "base_uri": "https://localhost:8080/",
          "height": 700
        },
        "outputId": "a3e2745a-aaca-4244-b03b-bdc0630a69c3"
      },
      "source": [
        "#öncelikle timestamp değerini index yapıyor, sonra indexe göre küçükten büyüğe doğru sıralıyor\n",
        "df = df.set_index('time')\n",
        "df = df.sort_index()\n",
        "df.head(20)"
      ],
      "execution_count": null,
      "outputs": [
        {
          "output_type": "execute_result",
          "data": {
            "text/html": [
              "<div>\n",
              "<style scoped>\n",
              "    .dataframe tbody tr th:only-of-type {\n",
              "        vertical-align: middle;\n",
              "    }\n",
              "\n",
              "    .dataframe tbody tr th {\n",
              "        vertical-align: top;\n",
              "    }\n",
              "\n",
              "    .dataframe thead th {\n",
              "        text-align: right;\n",
              "    }\n",
              "</style>\n",
              "<table border=\"1\" class=\"dataframe\">\n",
              "  <thead>\n",
              "    <tr style=\"text-align: right;\">\n",
              "      <th></th>\n",
              "      <th>user</th>\n",
              "      <th>video</th>\n",
              "      <th>playback position</th>\n",
              "      <th>paused</th>\n",
              "      <th>volume</th>\n",
              "    </tr>\n",
              "    <tr>\n",
              "      <th>time</th>\n",
              "      <th></th>\n",
              "      <th></th>\n",
              "      <th></th>\n",
              "      <th></th>\n",
              "      <th></th>\n",
              "    </tr>\n",
              "  </thead>\n",
              "  <tbody>\n",
              "    <tr>\n",
              "      <th>1469974424</th>\n",
              "      <td>cheryl</td>\n",
              "      <td>intro.html</td>\n",
              "      <td>5</td>\n",
              "      <td>False</td>\n",
              "      <td>10.0</td>\n",
              "    </tr>\n",
              "    <tr>\n",
              "      <th>1469974424</th>\n",
              "      <td>sue</td>\n",
              "      <td>advanced.html</td>\n",
              "      <td>23</td>\n",
              "      <td>False</td>\n",
              "      <td>10.0</td>\n",
              "    </tr>\n",
              "    <tr>\n",
              "      <th>1469974454</th>\n",
              "      <td>cheryl</td>\n",
              "      <td>intro.html</td>\n",
              "      <td>6</td>\n",
              "      <td>NaN</td>\n",
              "      <td>NaN</td>\n",
              "    </tr>\n",
              "    <tr>\n",
              "      <th>1469974454</th>\n",
              "      <td>sue</td>\n",
              "      <td>advanced.html</td>\n",
              "      <td>24</td>\n",
              "      <td>NaN</td>\n",
              "      <td>NaN</td>\n",
              "    </tr>\n",
              "    <tr>\n",
              "      <th>1469974484</th>\n",
              "      <td>cheryl</td>\n",
              "      <td>intro.html</td>\n",
              "      <td>7</td>\n",
              "      <td>NaN</td>\n",
              "      <td>NaN</td>\n",
              "    </tr>\n",
              "    <tr>\n",
              "      <th>1469974514</th>\n",
              "      <td>cheryl</td>\n",
              "      <td>intro.html</td>\n",
              "      <td>8</td>\n",
              "      <td>NaN</td>\n",
              "      <td>NaN</td>\n",
              "    </tr>\n",
              "    <tr>\n",
              "      <th>1469974524</th>\n",
              "      <td>sue</td>\n",
              "      <td>advanced.html</td>\n",
              "      <td>25</td>\n",
              "      <td>NaN</td>\n",
              "      <td>NaN</td>\n",
              "    </tr>\n",
              "    <tr>\n",
              "      <th>1469974544</th>\n",
              "      <td>cheryl</td>\n",
              "      <td>intro.html</td>\n",
              "      <td>9</td>\n",
              "      <td>NaN</td>\n",
              "      <td>NaN</td>\n",
              "    </tr>\n",
              "    <tr>\n",
              "      <th>1469974554</th>\n",
              "      <td>sue</td>\n",
              "      <td>advanced.html</td>\n",
              "      <td>26</td>\n",
              "      <td>NaN</td>\n",
              "      <td>NaN</td>\n",
              "    </tr>\n",
              "    <tr>\n",
              "      <th>1469974574</th>\n",
              "      <td>cheryl</td>\n",
              "      <td>intro.html</td>\n",
              "      <td>10</td>\n",
              "      <td>NaN</td>\n",
              "      <td>NaN</td>\n",
              "    </tr>\n",
              "    <tr>\n",
              "      <th>1469974604</th>\n",
              "      <td>cheryl</td>\n",
              "      <td>intro.html</td>\n",
              "      <td>11</td>\n",
              "      <td>NaN</td>\n",
              "      <td>NaN</td>\n",
              "    </tr>\n",
              "    <tr>\n",
              "      <th>1469974624</th>\n",
              "      <td>sue</td>\n",
              "      <td>advanced.html</td>\n",
              "      <td>27</td>\n",
              "      <td>NaN</td>\n",
              "      <td>NaN</td>\n",
              "    </tr>\n",
              "    <tr>\n",
              "      <th>1469974634</th>\n",
              "      <td>cheryl</td>\n",
              "      <td>intro.html</td>\n",
              "      <td>12</td>\n",
              "      <td>NaN</td>\n",
              "      <td>NaN</td>\n",
              "    </tr>\n",
              "    <tr>\n",
              "      <th>1469974654</th>\n",
              "      <td>sue</td>\n",
              "      <td>advanced.html</td>\n",
              "      <td>28</td>\n",
              "      <td>NaN</td>\n",
              "      <td>5.0</td>\n",
              "    </tr>\n",
              "    <tr>\n",
              "      <th>1469974664</th>\n",
              "      <td>cheryl</td>\n",
              "      <td>intro.html</td>\n",
              "      <td>13</td>\n",
              "      <td>NaN</td>\n",
              "      <td>NaN</td>\n",
              "    </tr>\n",
              "    <tr>\n",
              "      <th>1469974694</th>\n",
              "      <td>cheryl</td>\n",
              "      <td>intro.html</td>\n",
              "      <td>14</td>\n",
              "      <td>NaN</td>\n",
              "      <td>NaN</td>\n",
              "    </tr>\n",
              "    <tr>\n",
              "      <th>1469974724</th>\n",
              "      <td>cheryl</td>\n",
              "      <td>intro.html</td>\n",
              "      <td>15</td>\n",
              "      <td>NaN</td>\n",
              "      <td>NaN</td>\n",
              "    </tr>\n",
              "    <tr>\n",
              "      <th>1469974724</th>\n",
              "      <td>sue</td>\n",
              "      <td>advanced.html</td>\n",
              "      <td>29</td>\n",
              "      <td>NaN</td>\n",
              "      <td>NaN</td>\n",
              "    </tr>\n",
              "    <tr>\n",
              "      <th>1469974754</th>\n",
              "      <td>sue</td>\n",
              "      <td>advanced.html</td>\n",
              "      <td>30</td>\n",
              "      <td>NaN</td>\n",
              "      <td>NaN</td>\n",
              "    </tr>\n",
              "    <tr>\n",
              "      <th>1469974824</th>\n",
              "      <td>sue</td>\n",
              "      <td>advanced.html</td>\n",
              "      <td>31</td>\n",
              "      <td>NaN</td>\n",
              "      <td>NaN</td>\n",
              "    </tr>\n",
              "  </tbody>\n",
              "</table>\n",
              "</div>"
            ],
            "text/plain": [
              "              user          video  playback position paused  volume\n",
              "time                                                               \n",
              "1469974424  cheryl     intro.html                  5  False    10.0\n",
              "1469974424     sue  advanced.html                 23  False    10.0\n",
              "1469974454  cheryl     intro.html                  6    NaN     NaN\n",
              "1469974454     sue  advanced.html                 24    NaN     NaN\n",
              "1469974484  cheryl     intro.html                  7    NaN     NaN\n",
              "1469974514  cheryl     intro.html                  8    NaN     NaN\n",
              "1469974524     sue  advanced.html                 25    NaN     NaN\n",
              "1469974544  cheryl     intro.html                  9    NaN     NaN\n",
              "1469974554     sue  advanced.html                 26    NaN     NaN\n",
              "1469974574  cheryl     intro.html                 10    NaN     NaN\n",
              "1469974604  cheryl     intro.html                 11    NaN     NaN\n",
              "1469974624     sue  advanced.html                 27    NaN     NaN\n",
              "1469974634  cheryl     intro.html                 12    NaN     NaN\n",
              "1469974654     sue  advanced.html                 28    NaN     5.0\n",
              "1469974664  cheryl     intro.html                 13    NaN     NaN\n",
              "1469974694  cheryl     intro.html                 14    NaN     NaN\n",
              "1469974724  cheryl     intro.html                 15    NaN     NaN\n",
              "1469974724     sue  advanced.html                 29    NaN     NaN\n",
              "1469974754     sue  advanced.html                 30    NaN     NaN\n",
              "1469974824     sue  advanced.html                 31    NaN     NaN"
            ]
          },
          "metadata": {
            "tags": []
          },
          "execution_count": 55
        }
      ]
    },
    {
      "cell_type": "code",
      "metadata": {
        "id": "Nw1OL-4S5IkB",
        "colab": {
          "base_uri": "https://localhost:8080/",
          "height": 1000
        },
        "outputId": "2572d3ec-a5d8-4607-8c3c-d430385fcd92"
      },
      "source": [
        "#datayı incelediğimiz zaman index'in unique olmadığını görüyoruz. (çünkü paralel sistemlerden data geliyor)\n",
        "#bu sebeple user'ı da indexe eklemek lazım. bunu yapmak için önce index'ı reset etmeli \n",
        "#sonra yeni index değerlerini tanımlamalıyız\n",
        "\n",
        "df=df.reset_index()\n",
        "df = df.set_index(['time', 'user'])\n",
        "df"
      ],
      "execution_count": null,
      "outputs": [
        {
          "output_type": "execute_result",
          "data": {
            "text/html": [
              "<div>\n",
              "<style scoped>\n",
              "    .dataframe tbody tr th:only-of-type {\n",
              "        vertical-align: middle;\n",
              "    }\n",
              "\n",
              "    .dataframe tbody tr th {\n",
              "        vertical-align: top;\n",
              "    }\n",
              "\n",
              "    .dataframe thead th {\n",
              "        text-align: right;\n",
              "    }\n",
              "</style>\n",
              "<table border=\"1\" class=\"dataframe\">\n",
              "  <thead>\n",
              "    <tr style=\"text-align: right;\">\n",
              "      <th></th>\n",
              "      <th></th>\n",
              "      <th>video</th>\n",
              "      <th>playback position</th>\n",
              "      <th>paused</th>\n",
              "      <th>volume</th>\n",
              "    </tr>\n",
              "    <tr>\n",
              "      <th>time</th>\n",
              "      <th>user</th>\n",
              "      <th></th>\n",
              "      <th></th>\n",
              "      <th></th>\n",
              "      <th></th>\n",
              "    </tr>\n",
              "  </thead>\n",
              "  <tbody>\n",
              "    <tr>\n",
              "      <th rowspan=\"2\" valign=\"top\">1469974424</th>\n",
              "      <th>cheryl</th>\n",
              "      <td>intro.html</td>\n",
              "      <td>5</td>\n",
              "      <td>False</td>\n",
              "      <td>10.0</td>\n",
              "    </tr>\n",
              "    <tr>\n",
              "      <th>sue</th>\n",
              "      <td>advanced.html</td>\n",
              "      <td>23</td>\n",
              "      <td>False</td>\n",
              "      <td>10.0</td>\n",
              "    </tr>\n",
              "    <tr>\n",
              "      <th rowspan=\"2\" valign=\"top\">1469974454</th>\n",
              "      <th>cheryl</th>\n",
              "      <td>intro.html</td>\n",
              "      <td>6</td>\n",
              "      <td>NaN</td>\n",
              "      <td>NaN</td>\n",
              "    </tr>\n",
              "    <tr>\n",
              "      <th>sue</th>\n",
              "      <td>advanced.html</td>\n",
              "      <td>24</td>\n",
              "      <td>NaN</td>\n",
              "      <td>NaN</td>\n",
              "    </tr>\n",
              "    <tr>\n",
              "      <th>1469974484</th>\n",
              "      <th>cheryl</th>\n",
              "      <td>intro.html</td>\n",
              "      <td>7</td>\n",
              "      <td>NaN</td>\n",
              "      <td>NaN</td>\n",
              "    </tr>\n",
              "    <tr>\n",
              "      <th>1469974514</th>\n",
              "      <th>cheryl</th>\n",
              "      <td>intro.html</td>\n",
              "      <td>8</td>\n",
              "      <td>NaN</td>\n",
              "      <td>NaN</td>\n",
              "    </tr>\n",
              "    <tr>\n",
              "      <th>1469974524</th>\n",
              "      <th>sue</th>\n",
              "      <td>advanced.html</td>\n",
              "      <td>25</td>\n",
              "      <td>NaN</td>\n",
              "      <td>NaN</td>\n",
              "    </tr>\n",
              "    <tr>\n",
              "      <th>1469974544</th>\n",
              "      <th>cheryl</th>\n",
              "      <td>intro.html</td>\n",
              "      <td>9</td>\n",
              "      <td>NaN</td>\n",
              "      <td>NaN</td>\n",
              "    </tr>\n",
              "    <tr>\n",
              "      <th>1469974554</th>\n",
              "      <th>sue</th>\n",
              "      <td>advanced.html</td>\n",
              "      <td>26</td>\n",
              "      <td>NaN</td>\n",
              "      <td>NaN</td>\n",
              "    </tr>\n",
              "    <tr>\n",
              "      <th>1469974574</th>\n",
              "      <th>cheryl</th>\n",
              "      <td>intro.html</td>\n",
              "      <td>10</td>\n",
              "      <td>NaN</td>\n",
              "      <td>NaN</td>\n",
              "    </tr>\n",
              "    <tr>\n",
              "      <th>1469974604</th>\n",
              "      <th>cheryl</th>\n",
              "      <td>intro.html</td>\n",
              "      <td>11</td>\n",
              "      <td>NaN</td>\n",
              "      <td>NaN</td>\n",
              "    </tr>\n",
              "    <tr>\n",
              "      <th>1469974624</th>\n",
              "      <th>sue</th>\n",
              "      <td>advanced.html</td>\n",
              "      <td>27</td>\n",
              "      <td>NaN</td>\n",
              "      <td>NaN</td>\n",
              "    </tr>\n",
              "    <tr>\n",
              "      <th>1469974634</th>\n",
              "      <th>cheryl</th>\n",
              "      <td>intro.html</td>\n",
              "      <td>12</td>\n",
              "      <td>NaN</td>\n",
              "      <td>NaN</td>\n",
              "    </tr>\n",
              "    <tr>\n",
              "      <th>1469974654</th>\n",
              "      <th>sue</th>\n",
              "      <td>advanced.html</td>\n",
              "      <td>28</td>\n",
              "      <td>NaN</td>\n",
              "      <td>5.0</td>\n",
              "    </tr>\n",
              "    <tr>\n",
              "      <th>1469974664</th>\n",
              "      <th>cheryl</th>\n",
              "      <td>intro.html</td>\n",
              "      <td>13</td>\n",
              "      <td>NaN</td>\n",
              "      <td>NaN</td>\n",
              "    </tr>\n",
              "    <tr>\n",
              "      <th>1469974694</th>\n",
              "      <th>cheryl</th>\n",
              "      <td>intro.html</td>\n",
              "      <td>14</td>\n",
              "      <td>NaN</td>\n",
              "      <td>NaN</td>\n",
              "    </tr>\n",
              "    <tr>\n",
              "      <th rowspan=\"2\" valign=\"top\">1469974724</th>\n",
              "      <th>cheryl</th>\n",
              "      <td>intro.html</td>\n",
              "      <td>15</td>\n",
              "      <td>NaN</td>\n",
              "      <td>NaN</td>\n",
              "    </tr>\n",
              "    <tr>\n",
              "      <th>sue</th>\n",
              "      <td>advanced.html</td>\n",
              "      <td>29</td>\n",
              "      <td>NaN</td>\n",
              "      <td>NaN</td>\n",
              "    </tr>\n",
              "    <tr>\n",
              "      <th>1469974754</th>\n",
              "      <th>sue</th>\n",
              "      <td>advanced.html</td>\n",
              "      <td>30</td>\n",
              "      <td>NaN</td>\n",
              "      <td>NaN</td>\n",
              "    </tr>\n",
              "    <tr>\n",
              "      <th>1469974824</th>\n",
              "      <th>sue</th>\n",
              "      <td>advanced.html</td>\n",
              "      <td>31</td>\n",
              "      <td>NaN</td>\n",
              "      <td>NaN</td>\n",
              "    </tr>\n",
              "    <tr>\n",
              "      <th>1469974854</th>\n",
              "      <th>sue</th>\n",
              "      <td>advanced.html</td>\n",
              "      <td>32</td>\n",
              "      <td>NaN</td>\n",
              "      <td>NaN</td>\n",
              "    </tr>\n",
              "    <tr>\n",
              "      <th>1469974924</th>\n",
              "      <th>sue</th>\n",
              "      <td>advanced.html</td>\n",
              "      <td>33</td>\n",
              "      <td>NaN</td>\n",
              "      <td>NaN</td>\n",
              "    </tr>\n",
              "    <tr>\n",
              "      <th>1469977424</th>\n",
              "      <th>bob</th>\n",
              "      <td>intro.html</td>\n",
              "      <td>1</td>\n",
              "      <td>True</td>\n",
              "      <td>10.0</td>\n",
              "    </tr>\n",
              "    <tr>\n",
              "      <th>1469977454</th>\n",
              "      <th>bob</th>\n",
              "      <td>intro.html</td>\n",
              "      <td>1</td>\n",
              "      <td>NaN</td>\n",
              "      <td>NaN</td>\n",
              "    </tr>\n",
              "    <tr>\n",
              "      <th>1469977484</th>\n",
              "      <th>bob</th>\n",
              "      <td>intro.html</td>\n",
              "      <td>1</td>\n",
              "      <td>NaN</td>\n",
              "      <td>NaN</td>\n",
              "    </tr>\n",
              "    <tr>\n",
              "      <th>1469977514</th>\n",
              "      <th>bob</th>\n",
              "      <td>intro.html</td>\n",
              "      <td>1</td>\n",
              "      <td>NaN</td>\n",
              "      <td>NaN</td>\n",
              "    </tr>\n",
              "    <tr>\n",
              "      <th>1469977544</th>\n",
              "      <th>bob</th>\n",
              "      <td>intro.html</td>\n",
              "      <td>1</td>\n",
              "      <td>NaN</td>\n",
              "      <td>NaN</td>\n",
              "    </tr>\n",
              "    <tr>\n",
              "      <th>1469977574</th>\n",
              "      <th>bob</th>\n",
              "      <td>intro.html</td>\n",
              "      <td>1</td>\n",
              "      <td>NaN</td>\n",
              "      <td>NaN</td>\n",
              "    </tr>\n",
              "    <tr>\n",
              "      <th>1469977604</th>\n",
              "      <th>bob</th>\n",
              "      <td>intro.html</td>\n",
              "      <td>1</td>\n",
              "      <td>NaN</td>\n",
              "      <td>NaN</td>\n",
              "    </tr>\n",
              "    <tr>\n",
              "      <th>1469977634</th>\n",
              "      <th>bob</th>\n",
              "      <td>intro.html</td>\n",
              "      <td>1</td>\n",
              "      <td>NaN</td>\n",
              "      <td>NaN</td>\n",
              "    </tr>\n",
              "    <tr>\n",
              "      <th>1469977664</th>\n",
              "      <th>bob</th>\n",
              "      <td>intro.html</td>\n",
              "      <td>1</td>\n",
              "      <td>NaN</td>\n",
              "      <td>NaN</td>\n",
              "    </tr>\n",
              "    <tr>\n",
              "      <th>1469977694</th>\n",
              "      <th>bob</th>\n",
              "      <td>intro.html</td>\n",
              "      <td>1</td>\n",
              "      <td>NaN</td>\n",
              "      <td>NaN</td>\n",
              "    </tr>\n",
              "    <tr>\n",
              "      <th>1469977724</th>\n",
              "      <th>bob</th>\n",
              "      <td>intro.html</td>\n",
              "      <td>1</td>\n",
              "      <td>NaN</td>\n",
              "      <td>NaN</td>\n",
              "    </tr>\n",
              "  </tbody>\n",
              "</table>\n",
              "</div>"
            ],
            "text/plain": [
              "                           video  playback position paused  volume\n",
              "time       user                                                   \n",
              "1469974424 cheryl     intro.html                  5  False    10.0\n",
              "           sue     advanced.html                 23  False    10.0\n",
              "1469974454 cheryl     intro.html                  6    NaN     NaN\n",
              "           sue     advanced.html                 24    NaN     NaN\n",
              "1469974484 cheryl     intro.html                  7    NaN     NaN\n",
              "1469974514 cheryl     intro.html                  8    NaN     NaN\n",
              "1469974524 sue     advanced.html                 25    NaN     NaN\n",
              "1469974544 cheryl     intro.html                  9    NaN     NaN\n",
              "1469974554 sue     advanced.html                 26    NaN     NaN\n",
              "1469974574 cheryl     intro.html                 10    NaN     NaN\n",
              "1469974604 cheryl     intro.html                 11    NaN     NaN\n",
              "1469974624 sue     advanced.html                 27    NaN     NaN\n",
              "1469974634 cheryl     intro.html                 12    NaN     NaN\n",
              "1469974654 sue     advanced.html                 28    NaN     5.0\n",
              "1469974664 cheryl     intro.html                 13    NaN     NaN\n",
              "1469974694 cheryl     intro.html                 14    NaN     NaN\n",
              "1469974724 cheryl     intro.html                 15    NaN     NaN\n",
              "           sue     advanced.html                 29    NaN     NaN\n",
              "1469974754 sue     advanced.html                 30    NaN     NaN\n",
              "1469974824 sue     advanced.html                 31    NaN     NaN\n",
              "1469974854 sue     advanced.html                 32    NaN     NaN\n",
              "1469974924 sue     advanced.html                 33    NaN     NaN\n",
              "1469977424 bob        intro.html                  1   True    10.0\n",
              "1469977454 bob        intro.html                  1    NaN     NaN\n",
              "1469977484 bob        intro.html                  1    NaN     NaN\n",
              "1469977514 bob        intro.html                  1    NaN     NaN\n",
              "1469977544 bob        intro.html                  1    NaN     NaN\n",
              "1469977574 bob        intro.html                  1    NaN     NaN\n",
              "1469977604 bob        intro.html                  1    NaN     NaN\n",
              "1469977634 bob        intro.html                  1    NaN     NaN\n",
              "1469977664 bob        intro.html                  1    NaN     NaN\n",
              "1469977694 bob        intro.html                  1    NaN     NaN\n",
              "1469977724 bob        intro.html                  1    NaN     NaN"
            ]
          },
          "metadata": {
            "tags": []
          },
          "execution_count": 56
        }
      ]
    },
    {
      "cell_type": "code",
      "metadata": {
        "id": "MqA_u40K56xs",
        "colab": {
          "base_uri": "https://localhost:8080/",
          "height": 700
        },
        "outputId": "b8c3cc1f-d34e-462b-c245-b754bd43658d"
      },
      "source": [
        "#sonraki null olmayanla doldurur\n",
        "df.fillna(method=\"bfill\").head(20)"
      ],
      "execution_count": null,
      "outputs": [
        {
          "output_type": "execute_result",
          "data": {
            "text/html": [
              "<div>\n",
              "<style scoped>\n",
              "    .dataframe tbody tr th:only-of-type {\n",
              "        vertical-align: middle;\n",
              "    }\n",
              "\n",
              "    .dataframe tbody tr th {\n",
              "        vertical-align: top;\n",
              "    }\n",
              "\n",
              "    .dataframe thead th {\n",
              "        text-align: right;\n",
              "    }\n",
              "</style>\n",
              "<table border=\"1\" class=\"dataframe\">\n",
              "  <thead>\n",
              "    <tr style=\"text-align: right;\">\n",
              "      <th></th>\n",
              "      <th></th>\n",
              "      <th>video</th>\n",
              "      <th>playback position</th>\n",
              "      <th>paused</th>\n",
              "      <th>volume</th>\n",
              "    </tr>\n",
              "    <tr>\n",
              "      <th>time</th>\n",
              "      <th>user</th>\n",
              "      <th></th>\n",
              "      <th></th>\n",
              "      <th></th>\n",
              "      <th></th>\n",
              "    </tr>\n",
              "  </thead>\n",
              "  <tbody>\n",
              "    <tr>\n",
              "      <th rowspan=\"2\" valign=\"top\">1469974424</th>\n",
              "      <th>cheryl</th>\n",
              "      <td>intro.html</td>\n",
              "      <td>5</td>\n",
              "      <td>False</td>\n",
              "      <td>10.0</td>\n",
              "    </tr>\n",
              "    <tr>\n",
              "      <th>sue</th>\n",
              "      <td>advanced.html</td>\n",
              "      <td>23</td>\n",
              "      <td>False</td>\n",
              "      <td>10.0</td>\n",
              "    </tr>\n",
              "    <tr>\n",
              "      <th rowspan=\"2\" valign=\"top\">1469974454</th>\n",
              "      <th>cheryl</th>\n",
              "      <td>intro.html</td>\n",
              "      <td>6</td>\n",
              "      <td>True</td>\n",
              "      <td>5.0</td>\n",
              "    </tr>\n",
              "    <tr>\n",
              "      <th>sue</th>\n",
              "      <td>advanced.html</td>\n",
              "      <td>24</td>\n",
              "      <td>True</td>\n",
              "      <td>5.0</td>\n",
              "    </tr>\n",
              "    <tr>\n",
              "      <th>1469974484</th>\n",
              "      <th>cheryl</th>\n",
              "      <td>intro.html</td>\n",
              "      <td>7</td>\n",
              "      <td>True</td>\n",
              "      <td>5.0</td>\n",
              "    </tr>\n",
              "    <tr>\n",
              "      <th>1469974514</th>\n",
              "      <th>cheryl</th>\n",
              "      <td>intro.html</td>\n",
              "      <td>8</td>\n",
              "      <td>True</td>\n",
              "      <td>5.0</td>\n",
              "    </tr>\n",
              "    <tr>\n",
              "      <th>1469974524</th>\n",
              "      <th>sue</th>\n",
              "      <td>advanced.html</td>\n",
              "      <td>25</td>\n",
              "      <td>True</td>\n",
              "      <td>5.0</td>\n",
              "    </tr>\n",
              "    <tr>\n",
              "      <th>1469974544</th>\n",
              "      <th>cheryl</th>\n",
              "      <td>intro.html</td>\n",
              "      <td>9</td>\n",
              "      <td>True</td>\n",
              "      <td>5.0</td>\n",
              "    </tr>\n",
              "    <tr>\n",
              "      <th>1469974554</th>\n",
              "      <th>sue</th>\n",
              "      <td>advanced.html</td>\n",
              "      <td>26</td>\n",
              "      <td>True</td>\n",
              "      <td>5.0</td>\n",
              "    </tr>\n",
              "    <tr>\n",
              "      <th>1469974574</th>\n",
              "      <th>cheryl</th>\n",
              "      <td>intro.html</td>\n",
              "      <td>10</td>\n",
              "      <td>True</td>\n",
              "      <td>5.0</td>\n",
              "    </tr>\n",
              "    <tr>\n",
              "      <th>1469974604</th>\n",
              "      <th>cheryl</th>\n",
              "      <td>intro.html</td>\n",
              "      <td>11</td>\n",
              "      <td>True</td>\n",
              "      <td>5.0</td>\n",
              "    </tr>\n",
              "    <tr>\n",
              "      <th>1469974624</th>\n",
              "      <th>sue</th>\n",
              "      <td>advanced.html</td>\n",
              "      <td>27</td>\n",
              "      <td>True</td>\n",
              "      <td>5.0</td>\n",
              "    </tr>\n",
              "    <tr>\n",
              "      <th>1469974634</th>\n",
              "      <th>cheryl</th>\n",
              "      <td>intro.html</td>\n",
              "      <td>12</td>\n",
              "      <td>True</td>\n",
              "      <td>5.0</td>\n",
              "    </tr>\n",
              "    <tr>\n",
              "      <th>1469974654</th>\n",
              "      <th>sue</th>\n",
              "      <td>advanced.html</td>\n",
              "      <td>28</td>\n",
              "      <td>True</td>\n",
              "      <td>5.0</td>\n",
              "    </tr>\n",
              "    <tr>\n",
              "      <th>1469974664</th>\n",
              "      <th>cheryl</th>\n",
              "      <td>intro.html</td>\n",
              "      <td>13</td>\n",
              "      <td>True</td>\n",
              "      <td>10.0</td>\n",
              "    </tr>\n",
              "    <tr>\n",
              "      <th>1469974694</th>\n",
              "      <th>cheryl</th>\n",
              "      <td>intro.html</td>\n",
              "      <td>14</td>\n",
              "      <td>True</td>\n",
              "      <td>10.0</td>\n",
              "    </tr>\n",
              "    <tr>\n",
              "      <th rowspan=\"2\" valign=\"top\">1469974724</th>\n",
              "      <th>cheryl</th>\n",
              "      <td>intro.html</td>\n",
              "      <td>15</td>\n",
              "      <td>True</td>\n",
              "      <td>10.0</td>\n",
              "    </tr>\n",
              "    <tr>\n",
              "      <th>sue</th>\n",
              "      <td>advanced.html</td>\n",
              "      <td>29</td>\n",
              "      <td>True</td>\n",
              "      <td>10.0</td>\n",
              "    </tr>\n",
              "    <tr>\n",
              "      <th>1469974754</th>\n",
              "      <th>sue</th>\n",
              "      <td>advanced.html</td>\n",
              "      <td>30</td>\n",
              "      <td>True</td>\n",
              "      <td>10.0</td>\n",
              "    </tr>\n",
              "    <tr>\n",
              "      <th>1469974824</th>\n",
              "      <th>sue</th>\n",
              "      <td>advanced.html</td>\n",
              "      <td>31</td>\n",
              "      <td>True</td>\n",
              "      <td>10.0</td>\n",
              "    </tr>\n",
              "  </tbody>\n",
              "</table>\n",
              "</div>"
            ],
            "text/plain": [
              "                           video  playback position paused  volume\n",
              "time       user                                                   \n",
              "1469974424 cheryl     intro.html                  5  False    10.0\n",
              "           sue     advanced.html                 23  False    10.0\n",
              "1469974454 cheryl     intro.html                  6   True     5.0\n",
              "           sue     advanced.html                 24   True     5.0\n",
              "1469974484 cheryl     intro.html                  7   True     5.0\n",
              "1469974514 cheryl     intro.html                  8   True     5.0\n",
              "1469974524 sue     advanced.html                 25   True     5.0\n",
              "1469974544 cheryl     intro.html                  9   True     5.0\n",
              "1469974554 sue     advanced.html                 26   True     5.0\n",
              "1469974574 cheryl     intro.html                 10   True     5.0\n",
              "1469974604 cheryl     intro.html                 11   True     5.0\n",
              "1469974624 sue     advanced.html                 27   True     5.0\n",
              "1469974634 cheryl     intro.html                 12   True     5.0\n",
              "1469974654 sue     advanced.html                 28   True     5.0\n",
              "1469974664 cheryl     intro.html                 13   True    10.0\n",
              "1469974694 cheryl     intro.html                 14   True    10.0\n",
              "1469974724 cheryl     intro.html                 15   True    10.0\n",
              "           sue     advanced.html                 29   True    10.0\n",
              "1469974754 sue     advanced.html                 30   True    10.0\n",
              "1469974824 sue     advanced.html                 31   True    10.0"
            ]
          },
          "metadata": {
            "tags": []
          },
          "execution_count": 59
        }
      ]
    },
    {
      "cell_type": "code",
      "metadata": {
        "id": "dDaOn1z56vaA",
        "colab": {
          "base_uri": "https://localhost:8080/",
          "height": 700
        },
        "outputId": "1e552106-661d-4e18-b16f-9bba15fa7158"
      },
      "source": [
        "#önceki null olmayanla doldurur\n",
        "df.fillna(method=\"ffill\").head(20)"
      ],
      "execution_count": null,
      "outputs": [
        {
          "output_type": "execute_result",
          "data": {
            "text/html": [
              "<div>\n",
              "<style scoped>\n",
              "    .dataframe tbody tr th:only-of-type {\n",
              "        vertical-align: middle;\n",
              "    }\n",
              "\n",
              "    .dataframe tbody tr th {\n",
              "        vertical-align: top;\n",
              "    }\n",
              "\n",
              "    .dataframe thead th {\n",
              "        text-align: right;\n",
              "    }\n",
              "</style>\n",
              "<table border=\"1\" class=\"dataframe\">\n",
              "  <thead>\n",
              "    <tr style=\"text-align: right;\">\n",
              "      <th></th>\n",
              "      <th></th>\n",
              "      <th>video</th>\n",
              "      <th>playback position</th>\n",
              "      <th>paused</th>\n",
              "      <th>volume</th>\n",
              "    </tr>\n",
              "    <tr>\n",
              "      <th>time</th>\n",
              "      <th>user</th>\n",
              "      <th></th>\n",
              "      <th></th>\n",
              "      <th></th>\n",
              "      <th></th>\n",
              "    </tr>\n",
              "  </thead>\n",
              "  <tbody>\n",
              "    <tr>\n",
              "      <th rowspan=\"2\" valign=\"top\">1469974424</th>\n",
              "      <th>cheryl</th>\n",
              "      <td>intro.html</td>\n",
              "      <td>5</td>\n",
              "      <td>False</td>\n",
              "      <td>10.0</td>\n",
              "    </tr>\n",
              "    <tr>\n",
              "      <th>sue</th>\n",
              "      <td>advanced.html</td>\n",
              "      <td>23</td>\n",
              "      <td>False</td>\n",
              "      <td>10.0</td>\n",
              "    </tr>\n",
              "    <tr>\n",
              "      <th rowspan=\"2\" valign=\"top\">1469974454</th>\n",
              "      <th>cheryl</th>\n",
              "      <td>intro.html</td>\n",
              "      <td>6</td>\n",
              "      <td>False</td>\n",
              "      <td>10.0</td>\n",
              "    </tr>\n",
              "    <tr>\n",
              "      <th>sue</th>\n",
              "      <td>advanced.html</td>\n",
              "      <td>24</td>\n",
              "      <td>False</td>\n",
              "      <td>10.0</td>\n",
              "    </tr>\n",
              "    <tr>\n",
              "      <th>1469974484</th>\n",
              "      <th>cheryl</th>\n",
              "      <td>intro.html</td>\n",
              "      <td>7</td>\n",
              "      <td>False</td>\n",
              "      <td>10.0</td>\n",
              "    </tr>\n",
              "    <tr>\n",
              "      <th>1469974514</th>\n",
              "      <th>cheryl</th>\n",
              "      <td>intro.html</td>\n",
              "      <td>8</td>\n",
              "      <td>False</td>\n",
              "      <td>10.0</td>\n",
              "    </tr>\n",
              "    <tr>\n",
              "      <th>1469974524</th>\n",
              "      <th>sue</th>\n",
              "      <td>advanced.html</td>\n",
              "      <td>25</td>\n",
              "      <td>False</td>\n",
              "      <td>10.0</td>\n",
              "    </tr>\n",
              "    <tr>\n",
              "      <th>1469974544</th>\n",
              "      <th>cheryl</th>\n",
              "      <td>intro.html</td>\n",
              "      <td>9</td>\n",
              "      <td>False</td>\n",
              "      <td>10.0</td>\n",
              "    </tr>\n",
              "    <tr>\n",
              "      <th>1469974554</th>\n",
              "      <th>sue</th>\n",
              "      <td>advanced.html</td>\n",
              "      <td>26</td>\n",
              "      <td>False</td>\n",
              "      <td>10.0</td>\n",
              "    </tr>\n",
              "    <tr>\n",
              "      <th>1469974574</th>\n",
              "      <th>cheryl</th>\n",
              "      <td>intro.html</td>\n",
              "      <td>10</td>\n",
              "      <td>False</td>\n",
              "      <td>10.0</td>\n",
              "    </tr>\n",
              "    <tr>\n",
              "      <th>1469974604</th>\n",
              "      <th>cheryl</th>\n",
              "      <td>intro.html</td>\n",
              "      <td>11</td>\n",
              "      <td>False</td>\n",
              "      <td>10.0</td>\n",
              "    </tr>\n",
              "    <tr>\n",
              "      <th>1469974624</th>\n",
              "      <th>sue</th>\n",
              "      <td>advanced.html</td>\n",
              "      <td>27</td>\n",
              "      <td>False</td>\n",
              "      <td>10.0</td>\n",
              "    </tr>\n",
              "    <tr>\n",
              "      <th>1469974634</th>\n",
              "      <th>cheryl</th>\n",
              "      <td>intro.html</td>\n",
              "      <td>12</td>\n",
              "      <td>False</td>\n",
              "      <td>10.0</td>\n",
              "    </tr>\n",
              "    <tr>\n",
              "      <th>1469974654</th>\n",
              "      <th>sue</th>\n",
              "      <td>advanced.html</td>\n",
              "      <td>28</td>\n",
              "      <td>False</td>\n",
              "      <td>5.0</td>\n",
              "    </tr>\n",
              "    <tr>\n",
              "      <th>1469974664</th>\n",
              "      <th>cheryl</th>\n",
              "      <td>intro.html</td>\n",
              "      <td>13</td>\n",
              "      <td>False</td>\n",
              "      <td>5.0</td>\n",
              "    </tr>\n",
              "    <tr>\n",
              "      <th>1469974694</th>\n",
              "      <th>cheryl</th>\n",
              "      <td>intro.html</td>\n",
              "      <td>14</td>\n",
              "      <td>False</td>\n",
              "      <td>5.0</td>\n",
              "    </tr>\n",
              "    <tr>\n",
              "      <th rowspan=\"2\" valign=\"top\">1469974724</th>\n",
              "      <th>cheryl</th>\n",
              "      <td>intro.html</td>\n",
              "      <td>15</td>\n",
              "      <td>False</td>\n",
              "      <td>5.0</td>\n",
              "    </tr>\n",
              "    <tr>\n",
              "      <th>sue</th>\n",
              "      <td>advanced.html</td>\n",
              "      <td>29</td>\n",
              "      <td>False</td>\n",
              "      <td>5.0</td>\n",
              "    </tr>\n",
              "    <tr>\n",
              "      <th>1469974754</th>\n",
              "      <th>sue</th>\n",
              "      <td>advanced.html</td>\n",
              "      <td>30</td>\n",
              "      <td>False</td>\n",
              "      <td>5.0</td>\n",
              "    </tr>\n",
              "    <tr>\n",
              "      <th>1469974824</th>\n",
              "      <th>sue</th>\n",
              "      <td>advanced.html</td>\n",
              "      <td>31</td>\n",
              "      <td>False</td>\n",
              "      <td>5.0</td>\n",
              "    </tr>\n",
              "  </tbody>\n",
              "</table>\n",
              "</div>"
            ],
            "text/plain": [
              "                           video  playback position  paused  volume\n",
              "time       user                                                    \n",
              "1469974424 cheryl     intro.html                  5   False    10.0\n",
              "           sue     advanced.html                 23   False    10.0\n",
              "1469974454 cheryl     intro.html                  6   False    10.0\n",
              "           sue     advanced.html                 24   False    10.0\n",
              "1469974484 cheryl     intro.html                  7   False    10.0\n",
              "1469974514 cheryl     intro.html                  8   False    10.0\n",
              "1469974524 sue     advanced.html                 25   False    10.0\n",
              "1469974544 cheryl     intro.html                  9   False    10.0\n",
              "1469974554 sue     advanced.html                 26   False    10.0\n",
              "1469974574 cheryl     intro.html                 10   False    10.0\n",
              "1469974604 cheryl     intro.html                 11   False    10.0\n",
              "1469974624 sue     advanced.html                 27   False    10.0\n",
              "1469974634 cheryl     intro.html                 12   False    10.0\n",
              "1469974654 sue     advanced.html                 28   False     5.0\n",
              "1469974664 cheryl     intro.html                 13   False     5.0\n",
              "1469974694 cheryl     intro.html                 14   False     5.0\n",
              "1469974724 cheryl     intro.html                 15   False     5.0\n",
              "           sue     advanced.html                 29   False     5.0\n",
              "1469974754 sue     advanced.html                 30   False     5.0\n",
              "1469974824 sue     advanced.html                 31   False     5.0"
            ]
          },
          "metadata": {
            "tags": []
          },
          "execution_count": 60
        }
      ]
    },
    {
      "cell_type": "code",
      "metadata": {
        "id": "3HgAa9ZY7ViF"
      },
      "source": [
        "# We can also do customized fill-in to replace values with the replace() function. It allows replacement from\n",
        "# several approaches: value-to-value, list, dictionary, regex Let's generate a simple example\n",
        "df = pd.DataFrame({'A': [1, 1, 2, 3, 4],\n",
        "                   'B': [3, 6, 3, 8, 9],\n",
        "                   'C': ['a', 'b', 'c', 'd', 'e']})"
      ],
      "execution_count": null,
      "outputs": []
    },
    {
      "cell_type": "code",
      "metadata": {
        "id": "0gHaw_xu8B_O",
        "colab": {
          "base_uri": "https://localhost:8080/",
          "height": 204
        },
        "outputId": "36c03107-e3ea-4f5e-9641-9b558143065b"
      },
      "source": [
        "df.replace(1, 100)"
      ],
      "execution_count": null,
      "outputs": [
        {
          "output_type": "execute_result",
          "data": {
            "text/html": [
              "<div>\n",
              "<style scoped>\n",
              "    .dataframe tbody tr th:only-of-type {\n",
              "        vertical-align: middle;\n",
              "    }\n",
              "\n",
              "    .dataframe tbody tr th {\n",
              "        vertical-align: top;\n",
              "    }\n",
              "\n",
              "    .dataframe thead th {\n",
              "        text-align: right;\n",
              "    }\n",
              "</style>\n",
              "<table border=\"1\" class=\"dataframe\">\n",
              "  <thead>\n",
              "    <tr style=\"text-align: right;\">\n",
              "      <th></th>\n",
              "      <th>A</th>\n",
              "      <th>B</th>\n",
              "      <th>C</th>\n",
              "    </tr>\n",
              "  </thead>\n",
              "  <tbody>\n",
              "    <tr>\n",
              "      <th>0</th>\n",
              "      <td>100</td>\n",
              "      <td>3</td>\n",
              "      <td>a</td>\n",
              "    </tr>\n",
              "    <tr>\n",
              "      <th>1</th>\n",
              "      <td>100</td>\n",
              "      <td>6</td>\n",
              "      <td>b</td>\n",
              "    </tr>\n",
              "    <tr>\n",
              "      <th>2</th>\n",
              "      <td>2</td>\n",
              "      <td>3</td>\n",
              "      <td>c</td>\n",
              "    </tr>\n",
              "    <tr>\n",
              "      <th>3</th>\n",
              "      <td>3</td>\n",
              "      <td>8</td>\n",
              "      <td>d</td>\n",
              "    </tr>\n",
              "    <tr>\n",
              "      <th>4</th>\n",
              "      <td>4</td>\n",
              "      <td>9</td>\n",
              "      <td>e</td>\n",
              "    </tr>\n",
              "  </tbody>\n",
              "</table>\n",
              "</div>"
            ],
            "text/plain": [
              "     A  B  C\n",
              "0  100  3  a\n",
              "1  100  6  b\n",
              "2    2  3  c\n",
              "3    3  8  d\n",
              "4    4  9  e"
            ]
          },
          "metadata": {
            "tags": []
          },
          "execution_count": 64
        }
      ]
    },
    {
      "cell_type": "code",
      "metadata": {
        "id": "49hLXjbp8EHY",
        "colab": {
          "base_uri": "https://localhost:8080/",
          "height": 204
        },
        "outputId": "74ec6a66-5398-49c6-e4f4-562b63b43eb1"
      },
      "source": [
        "df.replace([1, 3], [100, 300])"
      ],
      "execution_count": null,
      "outputs": [
        {
          "output_type": "execute_result",
          "data": {
            "text/html": [
              "<div>\n",
              "<style scoped>\n",
              "    .dataframe tbody tr th:only-of-type {\n",
              "        vertical-align: middle;\n",
              "    }\n",
              "\n",
              "    .dataframe tbody tr th {\n",
              "        vertical-align: top;\n",
              "    }\n",
              "\n",
              "    .dataframe thead th {\n",
              "        text-align: right;\n",
              "    }\n",
              "</style>\n",
              "<table border=\"1\" class=\"dataframe\">\n",
              "  <thead>\n",
              "    <tr style=\"text-align: right;\">\n",
              "      <th></th>\n",
              "      <th>A</th>\n",
              "      <th>B</th>\n",
              "      <th>C</th>\n",
              "    </tr>\n",
              "  </thead>\n",
              "  <tbody>\n",
              "    <tr>\n",
              "      <th>0</th>\n",
              "      <td>100</td>\n",
              "      <td>300</td>\n",
              "      <td>a</td>\n",
              "    </tr>\n",
              "    <tr>\n",
              "      <th>1</th>\n",
              "      <td>100</td>\n",
              "      <td>6</td>\n",
              "      <td>b</td>\n",
              "    </tr>\n",
              "    <tr>\n",
              "      <th>2</th>\n",
              "      <td>2</td>\n",
              "      <td>300</td>\n",
              "      <td>c</td>\n",
              "    </tr>\n",
              "    <tr>\n",
              "      <th>3</th>\n",
              "      <td>300</td>\n",
              "      <td>8</td>\n",
              "      <td>d</td>\n",
              "    </tr>\n",
              "    <tr>\n",
              "      <th>4</th>\n",
              "      <td>4</td>\n",
              "      <td>9</td>\n",
              "      <td>e</td>\n",
              "    </tr>\n",
              "  </tbody>\n",
              "</table>\n",
              "</div>"
            ],
            "text/plain": [
              "     A    B  C\n",
              "0  100  300  a\n",
              "1  100    6  b\n",
              "2    2  300  c\n",
              "3  300    8  d\n",
              "4    4    9  e"
            ]
          },
          "metadata": {
            "tags": []
          },
          "execution_count": 65
        }
      ]
    },
    {
      "cell_type": "markdown",
      "metadata": {
        "id": "WC6DXph7xCcL"
      },
      "source": [
        "### PD TO DATE TIME\n",
        "\n",
        "bu fonksiyonla pjyton eğer datetime'a çevrilebilecek bir değer bulursa çeviriyoruz. "
      ]
    },
    {
      "cell_type": "code",
      "metadata": {
        "id": "Sp9uqj1B8GFO"
      },
      "source": [
        "#df[\"Born\"]=pd.to_datetime(df[\"Born\"])\n",
        "#df[\"Born\"].head()"
      ],
      "execution_count": null,
      "outputs": []
    },
    {
      "cell_type": "markdown",
      "metadata": {
        "id": "RyHhovue4AAq"
      },
      "source": [
        "### MERGE DATAFRAME"
      ]
    },
    {
      "cell_type": "markdown",
      "metadata": {
        "id": "bQnDdFA77akN"
      },
      "source": [
        "#### BY INDEX"
      ]
    },
    {
      "cell_type": "code",
      "metadata": {
        "colab": {
          "base_uri": "https://localhost:8080/"
        },
        "id": "88fiHsCG3_Oo",
        "outputId": "94fb5bea-5962-4803-c9a2-13809131f105"
      },
      "source": [
        "# With that background, let's see an example of how we would do this in pandas, where we would use the merge\n",
        "# function.\n",
        "import pandas as pd\n",
        "\n",
        "# First we create two DataFrames, staff and students.\n",
        "staff_df = pd.DataFrame([{'Name': 'Kelly', 'Role': 'Director of HR'},\n",
        "                         {'Name': 'Sally', 'Role': 'Course liasion'},\n",
        "                         {'Name': 'James', 'Role': 'Grader'}])\n",
        "# And lets index these staff by name\n",
        "staff_df = staff_df.set_index('Name')\n",
        "# Now we'll create a student dataframe\n",
        "student_df = pd.DataFrame([{'Name': 'James', 'School': 'Business'},\n",
        "                           {'Name': 'Mike', 'School': 'Law'},\n",
        "                           {'Name': 'Sally', 'School': 'Engineering'}])\n",
        "# And we'll index this by name too\n",
        "student_df = student_df.set_index('Name')\n",
        "\n",
        "# And lets just print out the dataframes\n",
        "print(staff_df.head())\n",
        "print(student_df.head())"
      ],
      "execution_count": null,
      "outputs": [
        {
          "output_type": "stream",
          "text": [
            "                 Role\n",
            "Name                 \n",
            "Kelly  Director of HR\n",
            "Sally  Course liasion\n",
            "James          Grader\n",
            "            School\n",
            "Name              \n",
            "James     Business\n",
            "Mike           Law\n",
            "Sally  Engineering\n"
          ],
          "name": "stdout"
        }
      ]
    },
    {
      "cell_type": "code",
      "metadata": {
        "colab": {
          "base_uri": "https://localhost:8080/",
          "height": 173
        },
        "id": "n4z5CzQD4Kwc",
        "outputId": "53e84642-b4a3-43f2-a1dd-7a9f5284013f"
      },
      "source": [
        "staff_df"
      ],
      "execution_count": null,
      "outputs": [
        {
          "output_type": "execute_result",
          "data": {
            "text/html": [
              "<div>\n",
              "<style scoped>\n",
              "    .dataframe tbody tr th:only-of-type {\n",
              "        vertical-align: middle;\n",
              "    }\n",
              "\n",
              "    .dataframe tbody tr th {\n",
              "        vertical-align: top;\n",
              "    }\n",
              "\n",
              "    .dataframe thead th {\n",
              "        text-align: right;\n",
              "    }\n",
              "</style>\n",
              "<table border=\"1\" class=\"dataframe\">\n",
              "  <thead>\n",
              "    <tr style=\"text-align: right;\">\n",
              "      <th></th>\n",
              "      <th>Role</th>\n",
              "    </tr>\n",
              "    <tr>\n",
              "      <th>Name</th>\n",
              "      <th></th>\n",
              "    </tr>\n",
              "  </thead>\n",
              "  <tbody>\n",
              "    <tr>\n",
              "      <th>Kelly</th>\n",
              "      <td>Director of HR</td>\n",
              "    </tr>\n",
              "    <tr>\n",
              "      <th>Sally</th>\n",
              "      <td>Course liasion</td>\n",
              "    </tr>\n",
              "    <tr>\n",
              "      <th>James</th>\n",
              "      <td>Grader</td>\n",
              "    </tr>\n",
              "  </tbody>\n",
              "</table>\n",
              "</div>"
            ],
            "text/plain": [
              "                 Role\n",
              "Name                 \n",
              "Kelly  Director of HR\n",
              "Sally  Course liasion\n",
              "James          Grader"
            ]
          },
          "metadata": {
            "tags": []
          },
          "execution_count": 21
        }
      ]
    },
    {
      "cell_type": "code",
      "metadata": {
        "colab": {
          "base_uri": "https://localhost:8080/",
          "height": 173
        },
        "id": "KBeUtWCy4VAP",
        "outputId": "0b1af2c2-3a42-4f66-936d-c3a298544c07"
      },
      "source": [
        "student_df"
      ],
      "execution_count": null,
      "outputs": [
        {
          "output_type": "execute_result",
          "data": {
            "text/html": [
              "<div>\n",
              "<style scoped>\n",
              "    .dataframe tbody tr th:only-of-type {\n",
              "        vertical-align: middle;\n",
              "    }\n",
              "\n",
              "    .dataframe tbody tr th {\n",
              "        vertical-align: top;\n",
              "    }\n",
              "\n",
              "    .dataframe thead th {\n",
              "        text-align: right;\n",
              "    }\n",
              "</style>\n",
              "<table border=\"1\" class=\"dataframe\">\n",
              "  <thead>\n",
              "    <tr style=\"text-align: right;\">\n",
              "      <th></th>\n",
              "      <th>School</th>\n",
              "    </tr>\n",
              "    <tr>\n",
              "      <th>Name</th>\n",
              "      <th></th>\n",
              "    </tr>\n",
              "  </thead>\n",
              "  <tbody>\n",
              "    <tr>\n",
              "      <th>James</th>\n",
              "      <td>Business</td>\n",
              "    </tr>\n",
              "    <tr>\n",
              "      <th>Mike</th>\n",
              "      <td>Law</td>\n",
              "    </tr>\n",
              "    <tr>\n",
              "      <th>Sally</th>\n",
              "      <td>Engineering</td>\n",
              "    </tr>\n",
              "  </tbody>\n",
              "</table>\n",
              "</div>"
            ],
            "text/plain": [
              "            School\n",
              "Name              \n",
              "James     Business\n",
              "Mike           Law\n",
              "Sally  Engineering"
            ]
          },
          "metadata": {
            "tags": []
          },
          "execution_count": 22
        }
      ]
    },
    {
      "cell_type": "code",
      "metadata": {
        "colab": {
          "base_uri": "https://localhost:8080/",
          "height": 204
        },
        "id": "ufVEoSbI4W4_",
        "outputId": "af3fef98-5619-4eba-e93b-f0e7fef55648"
      },
      "source": [
        "#OUTER\n",
        "pd.merge(staff_df, student_df, how='outer', left_index=True, right_index=True)"
      ],
      "execution_count": null,
      "outputs": [
        {
          "output_type": "execute_result",
          "data": {
            "text/html": [
              "<div>\n",
              "<style scoped>\n",
              "    .dataframe tbody tr th:only-of-type {\n",
              "        vertical-align: middle;\n",
              "    }\n",
              "\n",
              "    .dataframe tbody tr th {\n",
              "        vertical-align: top;\n",
              "    }\n",
              "\n",
              "    .dataframe thead th {\n",
              "        text-align: right;\n",
              "    }\n",
              "</style>\n",
              "<table border=\"1\" class=\"dataframe\">\n",
              "  <thead>\n",
              "    <tr style=\"text-align: right;\">\n",
              "      <th></th>\n",
              "      <th>Role</th>\n",
              "      <th>School</th>\n",
              "    </tr>\n",
              "    <tr>\n",
              "      <th>Name</th>\n",
              "      <th></th>\n",
              "      <th></th>\n",
              "    </tr>\n",
              "  </thead>\n",
              "  <tbody>\n",
              "    <tr>\n",
              "      <th>James</th>\n",
              "      <td>Grader</td>\n",
              "      <td>Business</td>\n",
              "    </tr>\n",
              "    <tr>\n",
              "      <th>Kelly</th>\n",
              "      <td>Director of HR</td>\n",
              "      <td>NaN</td>\n",
              "    </tr>\n",
              "    <tr>\n",
              "      <th>Mike</th>\n",
              "      <td>NaN</td>\n",
              "      <td>Law</td>\n",
              "    </tr>\n",
              "    <tr>\n",
              "      <th>Sally</th>\n",
              "      <td>Course liasion</td>\n",
              "      <td>Engineering</td>\n",
              "    </tr>\n",
              "  </tbody>\n",
              "</table>\n",
              "</div>"
            ],
            "text/plain": [
              "                 Role       School\n",
              "Name                              \n",
              "James          Grader     Business\n",
              "Kelly  Director of HR          NaN\n",
              "Mike              NaN          Law\n",
              "Sally  Course liasion  Engineering"
            ]
          },
          "metadata": {
            "tags": []
          },
          "execution_count": 23
        }
      ]
    },
    {
      "cell_type": "code",
      "metadata": {
        "id": "IsSaQnz54hSl"
      },
      "source": [
        "#INNER\n",
        "pd.merge(staff_df, student_df, how='inner', left_index=True, right_index=True)"
      ],
      "execution_count": null,
      "outputs": []
    },
    {
      "cell_type": "code",
      "metadata": {
        "colab": {
          "base_uri": "https://localhost:8080/",
          "height": 173
        },
        "id": "Yv2jfmEE7pyn",
        "outputId": "8fe563b3-3dc6-48e3-f22b-8a00f6c8cfbf"
      },
      "source": [
        "pd.merge(staff_df,student_df,how=\"left\",left_index=True,right_index=True)"
      ],
      "execution_count": null,
      "outputs": [
        {
          "output_type": "execute_result",
          "data": {
            "text/html": [
              "<div>\n",
              "<style scoped>\n",
              "    .dataframe tbody tr th:only-of-type {\n",
              "        vertical-align: middle;\n",
              "    }\n",
              "\n",
              "    .dataframe tbody tr th {\n",
              "        vertical-align: top;\n",
              "    }\n",
              "\n",
              "    .dataframe thead th {\n",
              "        text-align: right;\n",
              "    }\n",
              "</style>\n",
              "<table border=\"1\" class=\"dataframe\">\n",
              "  <thead>\n",
              "    <tr style=\"text-align: right;\">\n",
              "      <th></th>\n",
              "      <th>Role</th>\n",
              "      <th>School</th>\n",
              "    </tr>\n",
              "    <tr>\n",
              "      <th>Name</th>\n",
              "      <th></th>\n",
              "      <th></th>\n",
              "    </tr>\n",
              "  </thead>\n",
              "  <tbody>\n",
              "    <tr>\n",
              "      <th>Kelly</th>\n",
              "      <td>Director of HR</td>\n",
              "      <td>NaN</td>\n",
              "    </tr>\n",
              "    <tr>\n",
              "      <th>Sally</th>\n",
              "      <td>Course liasion</td>\n",
              "      <td>Engineering</td>\n",
              "    </tr>\n",
              "    <tr>\n",
              "      <th>James</th>\n",
              "      <td>Grader</td>\n",
              "      <td>Business</td>\n",
              "    </tr>\n",
              "  </tbody>\n",
              "</table>\n",
              "</div>"
            ],
            "text/plain": [
              "                 Role       School\n",
              "Name                              \n",
              "Kelly  Director of HR          NaN\n",
              "Sally  Course liasion  Engineering\n",
              "James          Grader     Business"
            ]
          },
          "metadata": {
            "tags": []
          },
          "execution_count": 25
        }
      ]
    },
    {
      "cell_type": "markdown",
      "metadata": {
        "id": "KJJ_9lGX8AI2"
      },
      "source": [
        "#### BY COLUMN"
      ]
    },
    {
      "cell_type": "code",
      "metadata": {
        "colab": {
          "base_uri": "https://localhost:8080/",
          "height": 142
        },
        "id": "9yr-qxI3754r",
        "outputId": "861095dd-09cb-42f8-b0e4-73283aaf3792"
      },
      "source": [
        "staff_df.reset_index(inplace=True)\n",
        "staff_df"
      ],
      "execution_count": null,
      "outputs": [
        {
          "output_type": "execute_result",
          "data": {
            "text/html": [
              "<div>\n",
              "<style scoped>\n",
              "    .dataframe tbody tr th:only-of-type {\n",
              "        vertical-align: middle;\n",
              "    }\n",
              "\n",
              "    .dataframe tbody tr th {\n",
              "        vertical-align: top;\n",
              "    }\n",
              "\n",
              "    .dataframe thead th {\n",
              "        text-align: right;\n",
              "    }\n",
              "</style>\n",
              "<table border=\"1\" class=\"dataframe\">\n",
              "  <thead>\n",
              "    <tr style=\"text-align: right;\">\n",
              "      <th></th>\n",
              "      <th>Name</th>\n",
              "      <th>Role</th>\n",
              "    </tr>\n",
              "  </thead>\n",
              "  <tbody>\n",
              "    <tr>\n",
              "      <th>0</th>\n",
              "      <td>Kelly</td>\n",
              "      <td>Director of HR</td>\n",
              "    </tr>\n",
              "    <tr>\n",
              "      <th>1</th>\n",
              "      <td>Sally</td>\n",
              "      <td>Course liasion</td>\n",
              "    </tr>\n",
              "    <tr>\n",
              "      <th>2</th>\n",
              "      <td>James</td>\n",
              "      <td>Grader</td>\n",
              "    </tr>\n",
              "  </tbody>\n",
              "</table>\n",
              "</div>"
            ],
            "text/plain": [
              "    Name            Role\n",
              "0  Kelly  Director of HR\n",
              "1  Sally  Course liasion\n",
              "2  James          Grader"
            ]
          },
          "metadata": {
            "tags": []
          },
          "execution_count": 38
        }
      ]
    },
    {
      "cell_type": "code",
      "metadata": {
        "colab": {
          "base_uri": "https://localhost:8080/",
          "height": 142
        },
        "id": "JRFyofZ_8JUs",
        "outputId": "447fd4a5-cb1a-4b52-e084-28401caf2728"
      },
      "source": [
        "student_df.reset_index(inplace=True)\n",
        "student_df"
      ],
      "execution_count": null,
      "outputs": [
        {
          "output_type": "execute_result",
          "data": {
            "text/html": [
              "<div>\n",
              "<style scoped>\n",
              "    .dataframe tbody tr th:only-of-type {\n",
              "        vertical-align: middle;\n",
              "    }\n",
              "\n",
              "    .dataframe tbody tr th {\n",
              "        vertical-align: top;\n",
              "    }\n",
              "\n",
              "    .dataframe thead th {\n",
              "        text-align: right;\n",
              "    }\n",
              "</style>\n",
              "<table border=\"1\" class=\"dataframe\">\n",
              "  <thead>\n",
              "    <tr style=\"text-align: right;\">\n",
              "      <th></th>\n",
              "      <th>Name</th>\n",
              "      <th>School</th>\n",
              "    </tr>\n",
              "  </thead>\n",
              "  <tbody>\n",
              "    <tr>\n",
              "      <th>0</th>\n",
              "      <td>James</td>\n",
              "      <td>Business</td>\n",
              "    </tr>\n",
              "    <tr>\n",
              "      <th>1</th>\n",
              "      <td>Mike</td>\n",
              "      <td>Law</td>\n",
              "    </tr>\n",
              "    <tr>\n",
              "      <th>2</th>\n",
              "      <td>Sally</td>\n",
              "      <td>Engineering</td>\n",
              "    </tr>\n",
              "  </tbody>\n",
              "</table>\n",
              "</div>"
            ],
            "text/plain": [
              "    Name       School\n",
              "0  James     Business\n",
              "1   Mike          Law\n",
              "2  Sally  Engineering"
            ]
          },
          "metadata": {
            "tags": []
          },
          "execution_count": 32
        }
      ]
    },
    {
      "cell_type": "code",
      "metadata": {
        "colab": {
          "base_uri": "https://localhost:8080/",
          "height": 111
        },
        "id": "-1gfJxcq8NBx",
        "outputId": "c6c09953-db2c-4225-d0ad-400d967de7a2"
      },
      "source": [
        "pd.merge(staff_df,student_df,how=\"inner\",left_on=\"Name\",right_on=\"Name\")"
      ],
      "execution_count": null,
      "outputs": [
        {
          "output_type": "execute_result",
          "data": {
            "text/html": [
              "<div>\n",
              "<style scoped>\n",
              "    .dataframe tbody tr th:only-of-type {\n",
              "        vertical-align: middle;\n",
              "    }\n",
              "\n",
              "    .dataframe tbody tr th {\n",
              "        vertical-align: top;\n",
              "    }\n",
              "\n",
              "    .dataframe thead th {\n",
              "        text-align: right;\n",
              "    }\n",
              "</style>\n",
              "<table border=\"1\" class=\"dataframe\">\n",
              "  <thead>\n",
              "    <tr style=\"text-align: right;\">\n",
              "      <th></th>\n",
              "      <th>Name</th>\n",
              "      <th>Role</th>\n",
              "      <th>School</th>\n",
              "    </tr>\n",
              "  </thead>\n",
              "  <tbody>\n",
              "    <tr>\n",
              "      <th>0</th>\n",
              "      <td>Sally</td>\n",
              "      <td>Course liasion</td>\n",
              "      <td>Engineering</td>\n",
              "    </tr>\n",
              "    <tr>\n",
              "      <th>1</th>\n",
              "      <td>James</td>\n",
              "      <td>Grader</td>\n",
              "      <td>Business</td>\n",
              "    </tr>\n",
              "  </tbody>\n",
              "</table>\n",
              "</div>"
            ],
            "text/plain": [
              "    Name            Role       School\n",
              "0  Sally  Course liasion  Engineering\n",
              "1  James          Grader     Business"
            ]
          },
          "metadata": {
            "tags": []
          },
          "execution_count": 40
        }
      ]
    },
    {
      "cell_type": "code",
      "metadata": {
        "id": "lTEDSzYf9Y-E"
      },
      "source": [
        "#iki kolonlu da join yapılabilir\n",
        "#pd.merge(staff_df, student_df, how='inner', on=['First Name','Last Name'])"
      ],
      "execution_count": null,
      "outputs": []
    },
    {
      "cell_type": "code",
      "metadata": {
        "id": "ei1F386J-Nis"
      },
      "source": [
        "%%capture\n",
        "pd.merge(staff_df,student_df,how=\"inner\",left_on=\"Name\",right_on=\"Name\")"
      ],
      "execution_count": null,
      "outputs": []
    },
    {
      "cell_type": "markdown",
      "metadata": {
        "id": "p1VUN4n0__UI"
      },
      "source": [
        "### CONCAT"
      ]
    },
    {
      "cell_type": "code",
      "metadata": {
        "id": "OdHOhlNm-Xj3"
      },
      "source": [
        "data_path='gdrive/My Drive/ds/data/trial'\n",
        "df = pd.read_csv(data_path+'/Admission_Predict.csv')"
      ],
      "execution_count": null,
      "outputs": []
    },
    {
      "cell_type": "code",
      "metadata": {
        "colab": {
          "base_uri": "https://localhost:8080/"
        },
        "id": "mYVZkgN1Ab8W",
        "outputId": "0a582b54-e9f7-47b7-c184-5d0080440d7e"
      },
      "source": [
        "df_1=df.iloc[0:100,:]\n",
        "df_1.shape"
      ],
      "execution_count": null,
      "outputs": [
        {
          "output_type": "execute_result",
          "data": {
            "text/plain": [
              "(100, 9)"
            ]
          },
          "metadata": {
            "tags": []
          },
          "execution_count": 52
        }
      ]
    },
    {
      "cell_type": "code",
      "metadata": {
        "colab": {
          "base_uri": "https://localhost:8080/"
        },
        "id": "B8xaVuz6AfBL",
        "outputId": "b4ea7fdf-d55a-4053-cb6c-1e4fc65838c7"
      },
      "source": [
        "df_2=df.iloc[100:200,:]\n",
        "df_2.shape"
      ],
      "execution_count": null,
      "outputs": [
        {
          "output_type": "execute_result",
          "data": {
            "text/plain": [
              "(100, 9)"
            ]
          },
          "metadata": {
            "tags": []
          },
          "execution_count": 53
        }
      ]
    },
    {
      "cell_type": "code",
      "metadata": {
        "colab": {
          "base_uri": "https://localhost:8080/"
        },
        "id": "x33NI8rsAyN9",
        "outputId": "a63bf24d-f45a-499d-d8b1-5d8d4e439945"
      },
      "source": [
        "df_3=df.iloc[200:300,:]\n",
        "df_3.shape"
      ],
      "execution_count": null,
      "outputs": [
        {
          "output_type": "execute_result",
          "data": {
            "text/plain": [
              "(100, 9)"
            ]
          },
          "metadata": {
            "tags": []
          },
          "execution_count": 55
        }
      ]
    },
    {
      "cell_type": "code",
      "metadata": {
        "colab": {
          "base_uri": "https://localhost:8080/",
          "height": 419
        },
        "id": "B6NChOqXA3P8",
        "outputId": "9df49b9d-3381-46ad-aaa0-ddac3b6eeff8"
      },
      "source": [
        "pd.concat([df_1,df_2,df_3])"
      ],
      "execution_count": null,
      "outputs": [
        {
          "output_type": "execute_result",
          "data": {
            "text/html": [
              "<div>\n",
              "<style scoped>\n",
              "    .dataframe tbody tr th:only-of-type {\n",
              "        vertical-align: middle;\n",
              "    }\n",
              "\n",
              "    .dataframe tbody tr th {\n",
              "        vertical-align: top;\n",
              "    }\n",
              "\n",
              "    .dataframe thead th {\n",
              "        text-align: right;\n",
              "    }\n",
              "</style>\n",
              "<table border=\"1\" class=\"dataframe\">\n",
              "  <thead>\n",
              "    <tr style=\"text-align: right;\">\n",
              "      <th></th>\n",
              "      <th>Serial No.</th>\n",
              "      <th>GRE Score</th>\n",
              "      <th>TOEFL Score</th>\n",
              "      <th>University Rating</th>\n",
              "      <th>SOP</th>\n",
              "      <th>LOR</th>\n",
              "      <th>CGPA</th>\n",
              "      <th>Research</th>\n",
              "      <th>Chance of Admit</th>\n",
              "    </tr>\n",
              "  </thead>\n",
              "  <tbody>\n",
              "    <tr>\n",
              "      <th>0</th>\n",
              "      <td>1</td>\n",
              "      <td>337</td>\n",
              "      <td>118</td>\n",
              "      <td>4</td>\n",
              "      <td>4.5</td>\n",
              "      <td>4.5</td>\n",
              "      <td>9.65</td>\n",
              "      <td>1</td>\n",
              "      <td>0.92</td>\n",
              "    </tr>\n",
              "    <tr>\n",
              "      <th>1</th>\n",
              "      <td>2</td>\n",
              "      <td>324</td>\n",
              "      <td>107</td>\n",
              "      <td>4</td>\n",
              "      <td>4.0</td>\n",
              "      <td>4.5</td>\n",
              "      <td>8.87</td>\n",
              "      <td>1</td>\n",
              "      <td>0.76</td>\n",
              "    </tr>\n",
              "    <tr>\n",
              "      <th>2</th>\n",
              "      <td>3</td>\n",
              "      <td>316</td>\n",
              "      <td>104</td>\n",
              "      <td>3</td>\n",
              "      <td>3.0</td>\n",
              "      <td>3.5</td>\n",
              "      <td>8.00</td>\n",
              "      <td>1</td>\n",
              "      <td>0.72</td>\n",
              "    </tr>\n",
              "    <tr>\n",
              "      <th>3</th>\n",
              "      <td>4</td>\n",
              "      <td>322</td>\n",
              "      <td>110</td>\n",
              "      <td>3</td>\n",
              "      <td>3.5</td>\n",
              "      <td>2.5</td>\n",
              "      <td>8.67</td>\n",
              "      <td>1</td>\n",
              "      <td>0.80</td>\n",
              "    </tr>\n",
              "    <tr>\n",
              "      <th>4</th>\n",
              "      <td>5</td>\n",
              "      <td>314</td>\n",
              "      <td>103</td>\n",
              "      <td>2</td>\n",
              "      <td>2.0</td>\n",
              "      <td>3.0</td>\n",
              "      <td>8.21</td>\n",
              "      <td>0</td>\n",
              "      <td>0.65</td>\n",
              "    </tr>\n",
              "    <tr>\n",
              "      <th>...</th>\n",
              "      <td>...</td>\n",
              "      <td>...</td>\n",
              "      <td>...</td>\n",
              "      <td>...</td>\n",
              "      <td>...</td>\n",
              "      <td>...</td>\n",
              "      <td>...</td>\n",
              "      <td>...</td>\n",
              "      <td>...</td>\n",
              "    </tr>\n",
              "    <tr>\n",
              "      <th>295</th>\n",
              "      <td>296</td>\n",
              "      <td>317</td>\n",
              "      <td>100</td>\n",
              "      <td>2</td>\n",
              "      <td>3.0</td>\n",
              "      <td>2.5</td>\n",
              "      <td>8.57</td>\n",
              "      <td>0</td>\n",
              "      <td>0.68</td>\n",
              "    </tr>\n",
              "    <tr>\n",
              "      <th>296</th>\n",
              "      <td>297</td>\n",
              "      <td>310</td>\n",
              "      <td>107</td>\n",
              "      <td>3</td>\n",
              "      <td>3.5</td>\n",
              "      <td>3.5</td>\n",
              "      <td>8.67</td>\n",
              "      <td>0</td>\n",
              "      <td>0.76</td>\n",
              "    </tr>\n",
              "    <tr>\n",
              "      <th>297</th>\n",
              "      <td>298</td>\n",
              "      <td>320</td>\n",
              "      <td>120</td>\n",
              "      <td>3</td>\n",
              "      <td>4.0</td>\n",
              "      <td>4.5</td>\n",
              "      <td>9.11</td>\n",
              "      <td>0</td>\n",
              "      <td>0.86</td>\n",
              "    </tr>\n",
              "    <tr>\n",
              "      <th>298</th>\n",
              "      <td>299</td>\n",
              "      <td>330</td>\n",
              "      <td>114</td>\n",
              "      <td>3</td>\n",
              "      <td>4.5</td>\n",
              "      <td>4.5</td>\n",
              "      <td>9.24</td>\n",
              "      <td>1</td>\n",
              "      <td>0.90</td>\n",
              "    </tr>\n",
              "    <tr>\n",
              "      <th>299</th>\n",
              "      <td>300</td>\n",
              "      <td>305</td>\n",
              "      <td>112</td>\n",
              "      <td>3</td>\n",
              "      <td>3.0</td>\n",
              "      <td>3.5</td>\n",
              "      <td>8.65</td>\n",
              "      <td>0</td>\n",
              "      <td>0.71</td>\n",
              "    </tr>\n",
              "  </tbody>\n",
              "</table>\n",
              "<p>300 rows × 9 columns</p>\n",
              "</div>"
            ],
            "text/plain": [
              "     Serial No.  GRE Score  TOEFL Score  ...  CGPA  Research  Chance of Admit \n",
              "0             1        337          118  ...  9.65         1              0.92\n",
              "1             2        324          107  ...  8.87         1              0.76\n",
              "2             3        316          104  ...  8.00         1              0.72\n",
              "3             4        322          110  ...  8.67         1              0.80\n",
              "4             5        314          103  ...  8.21         0              0.65\n",
              "..          ...        ...          ...  ...   ...       ...               ...\n",
              "295         296        317          100  ...  8.57         0              0.68\n",
              "296         297        310          107  ...  8.67         0              0.76\n",
              "297         298        320          120  ...  9.11         0              0.86\n",
              "298         299        330          114  ...  9.24         1              0.90\n",
              "299         300        305          112  ...  8.65         0              0.71\n",
              "\n",
              "[300 rows x 9 columns]"
            ]
          },
          "metadata": {
            "tags": []
          },
          "execution_count": 57
        }
      ]
    },
    {
      "cell_type": "code",
      "metadata": {
        "id": "gUIEofmMBgBk"
      },
      "source": [
        "frames=[df_1,df_2,df_3]"
      ],
      "execution_count": null,
      "outputs": []
    },
    {
      "cell_type": "code",
      "metadata": {
        "colab": {
          "base_uri": "https://localhost:8080/",
          "height": 419
        },
        "id": "WieVzg8eBppS",
        "outputId": "2951f1e8-ccff-428d-ced4-81a5618099e3"
      },
      "source": [
        "pd.concat(frames)"
      ],
      "execution_count": null,
      "outputs": [
        {
          "output_type": "execute_result",
          "data": {
            "text/html": [
              "<div>\n",
              "<style scoped>\n",
              "    .dataframe tbody tr th:only-of-type {\n",
              "        vertical-align: middle;\n",
              "    }\n",
              "\n",
              "    .dataframe tbody tr th {\n",
              "        vertical-align: top;\n",
              "    }\n",
              "\n",
              "    .dataframe thead th {\n",
              "        text-align: right;\n",
              "    }\n",
              "</style>\n",
              "<table border=\"1\" class=\"dataframe\">\n",
              "  <thead>\n",
              "    <tr style=\"text-align: right;\">\n",
              "      <th></th>\n",
              "      <th>Serial No.</th>\n",
              "      <th>GRE Score</th>\n",
              "      <th>TOEFL Score</th>\n",
              "      <th>University Rating</th>\n",
              "      <th>SOP</th>\n",
              "      <th>LOR</th>\n",
              "      <th>CGPA</th>\n",
              "      <th>Research</th>\n",
              "      <th>Chance of Admit</th>\n",
              "    </tr>\n",
              "  </thead>\n",
              "  <tbody>\n",
              "    <tr>\n",
              "      <th>0</th>\n",
              "      <td>1</td>\n",
              "      <td>337</td>\n",
              "      <td>118</td>\n",
              "      <td>4</td>\n",
              "      <td>4.5</td>\n",
              "      <td>4.5</td>\n",
              "      <td>9.65</td>\n",
              "      <td>1</td>\n",
              "      <td>0.92</td>\n",
              "    </tr>\n",
              "    <tr>\n",
              "      <th>1</th>\n",
              "      <td>2</td>\n",
              "      <td>324</td>\n",
              "      <td>107</td>\n",
              "      <td>4</td>\n",
              "      <td>4.0</td>\n",
              "      <td>4.5</td>\n",
              "      <td>8.87</td>\n",
              "      <td>1</td>\n",
              "      <td>0.76</td>\n",
              "    </tr>\n",
              "    <tr>\n",
              "      <th>2</th>\n",
              "      <td>3</td>\n",
              "      <td>316</td>\n",
              "      <td>104</td>\n",
              "      <td>3</td>\n",
              "      <td>3.0</td>\n",
              "      <td>3.5</td>\n",
              "      <td>8.00</td>\n",
              "      <td>1</td>\n",
              "      <td>0.72</td>\n",
              "    </tr>\n",
              "    <tr>\n",
              "      <th>3</th>\n",
              "      <td>4</td>\n",
              "      <td>322</td>\n",
              "      <td>110</td>\n",
              "      <td>3</td>\n",
              "      <td>3.5</td>\n",
              "      <td>2.5</td>\n",
              "      <td>8.67</td>\n",
              "      <td>1</td>\n",
              "      <td>0.80</td>\n",
              "    </tr>\n",
              "    <tr>\n",
              "      <th>4</th>\n",
              "      <td>5</td>\n",
              "      <td>314</td>\n",
              "      <td>103</td>\n",
              "      <td>2</td>\n",
              "      <td>2.0</td>\n",
              "      <td>3.0</td>\n",
              "      <td>8.21</td>\n",
              "      <td>0</td>\n",
              "      <td>0.65</td>\n",
              "    </tr>\n",
              "    <tr>\n",
              "      <th>...</th>\n",
              "      <td>...</td>\n",
              "      <td>...</td>\n",
              "      <td>...</td>\n",
              "      <td>...</td>\n",
              "      <td>...</td>\n",
              "      <td>...</td>\n",
              "      <td>...</td>\n",
              "      <td>...</td>\n",
              "      <td>...</td>\n",
              "    </tr>\n",
              "    <tr>\n",
              "      <th>295</th>\n",
              "      <td>296</td>\n",
              "      <td>317</td>\n",
              "      <td>100</td>\n",
              "      <td>2</td>\n",
              "      <td>3.0</td>\n",
              "      <td>2.5</td>\n",
              "      <td>8.57</td>\n",
              "      <td>0</td>\n",
              "      <td>0.68</td>\n",
              "    </tr>\n",
              "    <tr>\n",
              "      <th>296</th>\n",
              "      <td>297</td>\n",
              "      <td>310</td>\n",
              "      <td>107</td>\n",
              "      <td>3</td>\n",
              "      <td>3.5</td>\n",
              "      <td>3.5</td>\n",
              "      <td>8.67</td>\n",
              "      <td>0</td>\n",
              "      <td>0.76</td>\n",
              "    </tr>\n",
              "    <tr>\n",
              "      <th>297</th>\n",
              "      <td>298</td>\n",
              "      <td>320</td>\n",
              "      <td>120</td>\n",
              "      <td>3</td>\n",
              "      <td>4.0</td>\n",
              "      <td>4.5</td>\n",
              "      <td>9.11</td>\n",
              "      <td>0</td>\n",
              "      <td>0.86</td>\n",
              "    </tr>\n",
              "    <tr>\n",
              "      <th>298</th>\n",
              "      <td>299</td>\n",
              "      <td>330</td>\n",
              "      <td>114</td>\n",
              "      <td>3</td>\n",
              "      <td>4.5</td>\n",
              "      <td>4.5</td>\n",
              "      <td>9.24</td>\n",
              "      <td>1</td>\n",
              "      <td>0.90</td>\n",
              "    </tr>\n",
              "    <tr>\n",
              "      <th>299</th>\n",
              "      <td>300</td>\n",
              "      <td>305</td>\n",
              "      <td>112</td>\n",
              "      <td>3</td>\n",
              "      <td>3.0</td>\n",
              "      <td>3.5</td>\n",
              "      <td>8.65</td>\n",
              "      <td>0</td>\n",
              "      <td>0.71</td>\n",
              "    </tr>\n",
              "  </tbody>\n",
              "</table>\n",
              "<p>300 rows × 9 columns</p>\n",
              "</div>"
            ],
            "text/plain": [
              "     Serial No.  GRE Score  TOEFL Score  ...  CGPA  Research  Chance of Admit \n",
              "0             1        337          118  ...  9.65         1              0.92\n",
              "1             2        324          107  ...  8.87         1              0.76\n",
              "2             3        316          104  ...  8.00         1              0.72\n",
              "3             4        322          110  ...  8.67         1              0.80\n",
              "4             5        314          103  ...  8.21         0              0.65\n",
              "..          ...        ...          ...  ...   ...       ...               ...\n",
              "295         296        317          100  ...  8.57         0              0.68\n",
              "296         297        310          107  ...  8.67         0              0.76\n",
              "297         298        320          120  ...  9.11         0              0.86\n",
              "298         299        330          114  ...  9.24         1              0.90\n",
              "299         300        305          112  ...  8.65         0              0.71\n",
              "\n",
              "[300 rows x 9 columns]"
            ]
          },
          "metadata": {
            "tags": []
          },
          "execution_count": 59
        }
      ]
    },
    {
      "cell_type": "code",
      "metadata": {
        "colab": {
          "base_uri": "https://localhost:8080/",
          "height": 419
        },
        "id": "XnoRP-roBrKu",
        "outputId": "4344aba2-0093-4413-f3d0-9b08dc5a94f1"
      },
      "source": [
        "pd.concat(frames,keys=[\"first\",\"second\",\"third\"])"
      ],
      "execution_count": null,
      "outputs": [
        {
          "output_type": "execute_result",
          "data": {
            "text/html": [
              "<div>\n",
              "<style scoped>\n",
              "    .dataframe tbody tr th:only-of-type {\n",
              "        vertical-align: middle;\n",
              "    }\n",
              "\n",
              "    .dataframe tbody tr th {\n",
              "        vertical-align: top;\n",
              "    }\n",
              "\n",
              "    .dataframe thead th {\n",
              "        text-align: right;\n",
              "    }\n",
              "</style>\n",
              "<table border=\"1\" class=\"dataframe\">\n",
              "  <thead>\n",
              "    <tr style=\"text-align: right;\">\n",
              "      <th></th>\n",
              "      <th></th>\n",
              "      <th>Serial No.</th>\n",
              "      <th>GRE Score</th>\n",
              "      <th>TOEFL Score</th>\n",
              "      <th>University Rating</th>\n",
              "      <th>SOP</th>\n",
              "      <th>LOR</th>\n",
              "      <th>CGPA</th>\n",
              "      <th>Research</th>\n",
              "      <th>Chance of Admit</th>\n",
              "    </tr>\n",
              "  </thead>\n",
              "  <tbody>\n",
              "    <tr>\n",
              "      <th rowspan=\"5\" valign=\"top\">first</th>\n",
              "      <th>0</th>\n",
              "      <td>1</td>\n",
              "      <td>337</td>\n",
              "      <td>118</td>\n",
              "      <td>4</td>\n",
              "      <td>4.5</td>\n",
              "      <td>4.5</td>\n",
              "      <td>9.65</td>\n",
              "      <td>1</td>\n",
              "      <td>0.92</td>\n",
              "    </tr>\n",
              "    <tr>\n",
              "      <th>1</th>\n",
              "      <td>2</td>\n",
              "      <td>324</td>\n",
              "      <td>107</td>\n",
              "      <td>4</td>\n",
              "      <td>4.0</td>\n",
              "      <td>4.5</td>\n",
              "      <td>8.87</td>\n",
              "      <td>1</td>\n",
              "      <td>0.76</td>\n",
              "    </tr>\n",
              "    <tr>\n",
              "      <th>2</th>\n",
              "      <td>3</td>\n",
              "      <td>316</td>\n",
              "      <td>104</td>\n",
              "      <td>3</td>\n",
              "      <td>3.0</td>\n",
              "      <td>3.5</td>\n",
              "      <td>8.00</td>\n",
              "      <td>1</td>\n",
              "      <td>0.72</td>\n",
              "    </tr>\n",
              "    <tr>\n",
              "      <th>3</th>\n",
              "      <td>4</td>\n",
              "      <td>322</td>\n",
              "      <td>110</td>\n",
              "      <td>3</td>\n",
              "      <td>3.5</td>\n",
              "      <td>2.5</td>\n",
              "      <td>8.67</td>\n",
              "      <td>1</td>\n",
              "      <td>0.80</td>\n",
              "    </tr>\n",
              "    <tr>\n",
              "      <th>4</th>\n",
              "      <td>5</td>\n",
              "      <td>314</td>\n",
              "      <td>103</td>\n",
              "      <td>2</td>\n",
              "      <td>2.0</td>\n",
              "      <td>3.0</td>\n",
              "      <td>8.21</td>\n",
              "      <td>0</td>\n",
              "      <td>0.65</td>\n",
              "    </tr>\n",
              "    <tr>\n",
              "      <th>...</th>\n",
              "      <th>...</th>\n",
              "      <td>...</td>\n",
              "      <td>...</td>\n",
              "      <td>...</td>\n",
              "      <td>...</td>\n",
              "      <td>...</td>\n",
              "      <td>...</td>\n",
              "      <td>...</td>\n",
              "      <td>...</td>\n",
              "      <td>...</td>\n",
              "    </tr>\n",
              "    <tr>\n",
              "      <th rowspan=\"5\" valign=\"top\">third</th>\n",
              "      <th>295</th>\n",
              "      <td>296</td>\n",
              "      <td>317</td>\n",
              "      <td>100</td>\n",
              "      <td>2</td>\n",
              "      <td>3.0</td>\n",
              "      <td>2.5</td>\n",
              "      <td>8.57</td>\n",
              "      <td>0</td>\n",
              "      <td>0.68</td>\n",
              "    </tr>\n",
              "    <tr>\n",
              "      <th>296</th>\n",
              "      <td>297</td>\n",
              "      <td>310</td>\n",
              "      <td>107</td>\n",
              "      <td>3</td>\n",
              "      <td>3.5</td>\n",
              "      <td>3.5</td>\n",
              "      <td>8.67</td>\n",
              "      <td>0</td>\n",
              "      <td>0.76</td>\n",
              "    </tr>\n",
              "    <tr>\n",
              "      <th>297</th>\n",
              "      <td>298</td>\n",
              "      <td>320</td>\n",
              "      <td>120</td>\n",
              "      <td>3</td>\n",
              "      <td>4.0</td>\n",
              "      <td>4.5</td>\n",
              "      <td>9.11</td>\n",
              "      <td>0</td>\n",
              "      <td>0.86</td>\n",
              "    </tr>\n",
              "    <tr>\n",
              "      <th>298</th>\n",
              "      <td>299</td>\n",
              "      <td>330</td>\n",
              "      <td>114</td>\n",
              "      <td>3</td>\n",
              "      <td>4.5</td>\n",
              "      <td>4.5</td>\n",
              "      <td>9.24</td>\n",
              "      <td>1</td>\n",
              "      <td>0.90</td>\n",
              "    </tr>\n",
              "    <tr>\n",
              "      <th>299</th>\n",
              "      <td>300</td>\n",
              "      <td>305</td>\n",
              "      <td>112</td>\n",
              "      <td>3</td>\n",
              "      <td>3.0</td>\n",
              "      <td>3.5</td>\n",
              "      <td>8.65</td>\n",
              "      <td>0</td>\n",
              "      <td>0.71</td>\n",
              "    </tr>\n",
              "  </tbody>\n",
              "</table>\n",
              "<p>300 rows × 9 columns</p>\n",
              "</div>"
            ],
            "text/plain": [
              "           Serial No.  GRE Score  TOEFL Score  ...  CGPA  Research  Chance of Admit \n",
              "first 0             1        337          118  ...  9.65         1              0.92\n",
              "      1             2        324          107  ...  8.87         1              0.76\n",
              "      2             3        316          104  ...  8.00         1              0.72\n",
              "      3             4        322          110  ...  8.67         1              0.80\n",
              "      4             5        314          103  ...  8.21         0              0.65\n",
              "...               ...        ...          ...  ...   ...       ...               ...\n",
              "third 295         296        317          100  ...  8.57         0              0.68\n",
              "      296         297        310          107  ...  8.67         0              0.76\n",
              "      297         298        320          120  ...  9.11         0              0.86\n",
              "      298         299        330          114  ...  9.24         1              0.90\n",
              "      299         300        305          112  ...  8.65         0              0.71\n",
              "\n",
              "[300 rows x 9 columns]"
            ]
          },
          "metadata": {
            "tags": []
          },
          "execution_count": 60
        }
      ]
    },
    {
      "cell_type": "code",
      "metadata": {
        "id": "6Hh_mDHIB0Ta"
      },
      "source": [
        ""
      ],
      "execution_count": null,
      "outputs": []
    }
  ]
}